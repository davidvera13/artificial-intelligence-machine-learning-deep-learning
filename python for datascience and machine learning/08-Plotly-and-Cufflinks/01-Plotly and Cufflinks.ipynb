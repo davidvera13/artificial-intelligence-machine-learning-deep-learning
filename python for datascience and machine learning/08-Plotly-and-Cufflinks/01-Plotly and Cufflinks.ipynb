{
 "cells": [
  {
   "cell_type": "markdown",
   "metadata": {},
   "source": [
    "# Plotly and Cufflinks"
   ]
  },
  {
   "cell_type": "markdown",
   "metadata": {},
   "source": [
    "Plotly is a library that allows you to create interactive plots that you can use in dashboards or websites (you can save them as html files or static images).\n",
    "\n",
    "## Installation\n",
    "\n",
    "In order for this all to work, you'll need to install plotly and cufflinks to call plots directly off of a pandas dataframe. These libraries are not currently available through **conda** but are available through **pip**. Install the libraries at your command line/terminal using:\n",
    "\n",
    "    pip install plotly\n",
    "    pip install cufflinks\n",
    "\n",
    "    conda install -c plotly plotly=4.8.1\n",
    "\n",
    "** NOTE: Make sure you only have one installation of Python on your computer when you do this, otherwise the installation may not work. **\n",
    "\n",
    "## Imports and Set-up"
   ]
  },
  {
   "cell_type": "code",
   "execution_count": 1,
   "metadata": {},
   "outputs": [],
   "source": [
    "import pandas as pd\n",
    "import numpy as np\n",
    "# import chart_studio.plotly as py\n",
    "\n",
    "\n",
    "%matplotlib inline"
   ]
  },
  {
   "cell_type": "code",
   "execution_count": 2,
   "metadata": {},
   "outputs": [
    {
     "name": "stdout",
     "output_type": "stream",
     "text": [
      "4.8.1\n"
     ]
    }
   ],
   "source": [
    "from plotly import __version__\n",
    "from plotly.offline import download_plotlyjs, init_notebook_mode, plot, iplot\n",
    "\n",
    "print(__version__) # requires version >= 1.9.0"
   ]
  },
  {
   "cell_type": "code",
   "execution_count": 3,
   "metadata": {},
   "outputs": [],
   "source": [
    "import cufflinks as cf"
   ]
  },
  {
   "cell_type": "code",
   "execution_count": 4,
   "metadata": {},
   "outputs": [
    {
     "data": {
      "text/html": [
       "        <script type=\"text/javascript\">\n",
       "        window.PlotlyConfig = {MathJaxConfig: 'local'};\n",
       "        if (window.MathJax) {MathJax.Hub.Config({SVG: {font: \"STIX-Web\"}});}\n",
       "        if (typeof require !== 'undefined') {\n",
       "        require.undef(\"plotly\");\n",
       "        requirejs.config({\n",
       "            paths: {\n",
       "                'plotly': ['https://cdn.plot.ly/plotly-latest.min']\n",
       "            }\n",
       "        });\n",
       "        require(['plotly'], function(Plotly) {\n",
       "            window._Plotly = Plotly;\n",
       "        });\n",
       "        }\n",
       "        </script>\n",
       "        "
      ]
     },
     "metadata": {},
     "output_type": "display_data"
    }
   ],
   "source": [
    "# For Notebooks\n",
    "init_notebook_mode(connected=True)"
   ]
  },
  {
   "cell_type": "code",
   "execution_count": 5,
   "metadata": {},
   "outputs": [
    {
     "data": {
      "text/html": [
       "        <script type=\"text/javascript\">\n",
       "        window.PlotlyConfig = {MathJaxConfig: 'local'};\n",
       "        if (window.MathJax) {MathJax.Hub.Config({SVG: {font: \"STIX-Web\"}});}\n",
       "        if (typeof require !== 'undefined') {\n",
       "        require.undef(\"plotly\");\n",
       "        requirejs.config({\n",
       "            paths: {\n",
       "                'plotly': ['https://cdn.plot.ly/plotly-latest.min']\n",
       "            }\n",
       "        });\n",
       "        require(['plotly'], function(Plotly) {\n",
       "            window._Plotly = Plotly;\n",
       "        });\n",
       "        }\n",
       "        </script>\n",
       "        "
      ]
     },
     "metadata": {},
     "output_type": "display_data"
    }
   ],
   "source": [
    "# For offline use\n",
    "cf.go_offline()"
   ]
  },
  {
   "cell_type": "markdown",
   "metadata": {},
   "source": [
    "### Fake Data"
   ]
  },
  {
   "cell_type": "code",
   "execution_count": 6,
   "metadata": {},
   "outputs": [],
   "source": [
    "df = pd.DataFrame(np.random.randn(100,4),columns='A B C D'.split())"
   ]
  },
  {
   "cell_type": "code",
   "execution_count": 7,
   "metadata": {},
   "outputs": [
    {
     "data": {
      "text/html": [
       "<div>\n",
       "<style scoped>\n",
       "    .dataframe tbody tr th:only-of-type {\n",
       "        vertical-align: middle;\n",
       "    }\n",
       "\n",
       "    .dataframe tbody tr th {\n",
       "        vertical-align: top;\n",
       "    }\n",
       "\n",
       "    .dataframe thead th {\n",
       "        text-align: right;\n",
       "    }\n",
       "</style>\n",
       "<table border=\"1\" class=\"dataframe\">\n",
       "  <thead>\n",
       "    <tr style=\"text-align: right;\">\n",
       "      <th></th>\n",
       "      <th>A</th>\n",
       "      <th>B</th>\n",
       "      <th>C</th>\n",
       "      <th>D</th>\n",
       "    </tr>\n",
       "  </thead>\n",
       "  <tbody>\n",
       "    <tr>\n",
       "      <th>0</th>\n",
       "      <td>0.392572</td>\n",
       "      <td>-0.185629</td>\n",
       "      <td>0.284417</td>\n",
       "      <td>-0.694851</td>\n",
       "    </tr>\n",
       "    <tr>\n",
       "      <th>1</th>\n",
       "      <td>1.372423</td>\n",
       "      <td>0.281495</td>\n",
       "      <td>1.686125</td>\n",
       "      <td>-0.666643</td>\n",
       "    </tr>\n",
       "    <tr>\n",
       "      <th>2</th>\n",
       "      <td>2.242610</td>\n",
       "      <td>-0.561150</td>\n",
       "      <td>0.564932</td>\n",
       "      <td>0.109772</td>\n",
       "    </tr>\n",
       "    <tr>\n",
       "      <th>3</th>\n",
       "      <td>-0.858206</td>\n",
       "      <td>-0.402446</td>\n",
       "      <td>-0.006992</td>\n",
       "      <td>-0.345071</td>\n",
       "    </tr>\n",
       "    <tr>\n",
       "      <th>4</th>\n",
       "      <td>0.760825</td>\n",
       "      <td>-0.506748</td>\n",
       "      <td>0.695010</td>\n",
       "      <td>0.564474</td>\n",
       "    </tr>\n",
       "  </tbody>\n",
       "</table>\n",
       "</div>"
      ],
      "text/plain": [
       "          A         B         C         D\n",
       "0  0.392572 -0.185629  0.284417 -0.694851\n",
       "1  1.372423  0.281495  1.686125 -0.666643\n",
       "2  2.242610 -0.561150  0.564932  0.109772\n",
       "3 -0.858206 -0.402446 -0.006992 -0.345071\n",
       "4  0.760825 -0.506748  0.695010  0.564474"
      ]
     },
     "execution_count": 7,
     "metadata": {},
     "output_type": "execute_result"
    }
   ],
   "source": [
    "df.head()"
   ]
  },
  {
   "cell_type": "code",
   "execution_count": 8,
   "metadata": {},
   "outputs": [],
   "source": [
    "df2 = pd.DataFrame({'Category':['A','B','C'],'Values':[32,43,50]})"
   ]
  },
  {
   "cell_type": "code",
   "execution_count": 9,
   "metadata": {},
   "outputs": [
    {
     "data": {
      "text/html": [
       "<div>\n",
       "<style scoped>\n",
       "    .dataframe tbody tr th:only-of-type {\n",
       "        vertical-align: middle;\n",
       "    }\n",
       "\n",
       "    .dataframe tbody tr th {\n",
       "        vertical-align: top;\n",
       "    }\n",
       "\n",
       "    .dataframe thead th {\n",
       "        text-align: right;\n",
       "    }\n",
       "</style>\n",
       "<table border=\"1\" class=\"dataframe\">\n",
       "  <thead>\n",
       "    <tr style=\"text-align: right;\">\n",
       "      <th></th>\n",
       "      <th>Category</th>\n",
       "      <th>Values</th>\n",
       "    </tr>\n",
       "  </thead>\n",
       "  <tbody>\n",
       "    <tr>\n",
       "      <th>0</th>\n",
       "      <td>A</td>\n",
       "      <td>32</td>\n",
       "    </tr>\n",
       "    <tr>\n",
       "      <th>1</th>\n",
       "      <td>B</td>\n",
       "      <td>43</td>\n",
       "    </tr>\n",
       "    <tr>\n",
       "      <th>2</th>\n",
       "      <td>C</td>\n",
       "      <td>50</td>\n",
       "    </tr>\n",
       "  </tbody>\n",
       "</table>\n",
       "</div>"
      ],
      "text/plain": [
       "  Category  Values\n",
       "0        A      32\n",
       "1        B      43\n",
       "2        C      50"
      ]
     },
     "execution_count": 9,
     "metadata": {},
     "output_type": "execute_result"
    }
   ],
   "source": [
    "df2.head()"
   ]
  },
  {
   "cell_type": "markdown",
   "metadata": {},
   "source": [
    "## Using Cufflinks and iplot()\n",
    "\n",
    "* scatter\n",
    "* bar\n",
    "* box\n",
    "* spread\n",
    "* ratio\n",
    "* heatmap\n",
    "* surface\n",
    "* histogram\n",
    "* bubble"
   ]
  },
  {
   "cell_type": "code",
   "execution_count": 10,
   "metadata": {},
   "outputs": [
    {
     "data": {
      "text/plain": [
       "<matplotlib.axes._subplots.AxesSubplot at 0x15c89224c48>"
      ]
     },
     "execution_count": 10,
     "metadata": {},
     "output_type": "execute_result"
    },
    {
     "data": {
      "image/png": "[encoded data removed]",
      "text/plain": [
       "<Figure size 432x288 with 1 Axes>"
      ]
     },
     "metadata": {
      "needs_background": "light"
     },
     "output_type": "display_data"
    }
   ],
   "source": [
    "df.plot()"
   ]
  },
  {
   "cell_type": "code",
   "execution_count": 11,
   "metadata": {},
   "outputs": [
    {
     "data": {
      "application/vnd.plotly.v1+json": {
       "config": {
        "linkText": "Export to plot.ly",
        "plotlyServerURL": "https://plot.ly",
        "showLink": true
       },
       "data": [
        {
         "line": {
          "color": "rgba(255, 153, 51, 1.0)",
          "dash": "solid",
          "shape": "linear",
          "width": 1.3
         },
         "mode": "lines",
         "name": "A",
         "text": "",
         "type": "scatter",
         "x": [
          0,
          1,
          2,
          3,
          4,
          5,
          6,
          7,
          8,
          9,
          10,
          11,
          12,
          13,
          14,
          15,
          16,
          17,
          18,
          19,
          20,
          21,
          22,
          23,
          24,
          25,
          26,
          27,
          28,
          29,
          30,
          31,
          32,
          33,
          34,
          35,
          36,
          37,
          38,
          39,
          40,
          41,
          42,
          43,
          44,
          45,
          46,
          47,
          48,
          49,
          50,
          51,
          52,
          53,
          54,
          55,
          56,
          57,
          58,
          59,
          60,
          61,
          62,
          63,
          64,
          65,
          66,
          67,
          68,
          69,
          70,
          71,
          72,
          73,
          74,
          75,
          76,
          77,
          78,
          79,
          80,
          81,
          82,
          83,
          84,
          85,
          86,
          87,
          88,
          89,
          90,
          91,
          92,
          93,
          94,
          95,
          96,
          97,
          98,
          99
         ],
         "y": [
          0.3925721259516482,
          1.372423172955678,
          2.242609686488439,
          -0.8582063908771425,
          0.7608248424673095,
          0.7000004474958651,
          -2.012133152037724,
          0.9326208404062066,
          -0.659318333188724,
          1.6928610483674762,
          -0.6871886678918286,
          -0.35039380953159355,
          -0.42079236277313725,
          0.8690052189226001,
          -0.576444210165041,
          0.21995333800259842,
          -0.4444106568943757,
          -1.1440185333618915,
          -1.6578956613807303,
          -0.4101416114246453,
          -0.8519320305097161,
          1.2103242834430672,
          0.32015253922147136,
          -0.10035894535953092,
          -0.8488192702393195,
          -0.5572712613655367,
          -1.0688607093730706,
          -0.42181977168796303,
          0.12733568405289733,
          -1.0665476173525776,
          0.9261690103955689,
          -1.9549129649944113,
          -1.0277111422245617,
          -0.38799086170382646,
          1.1509943645776262,
          -1.745769144522121,
          1.2130978831137753,
          -0.6425110489904321,
          -0.57978668657439,
          1.0712439163287628,
          -0.9234875765962591,
          2.961687683445264,
          -0.8009271101769784,
          -0.6562531660019234,
          -0.27821128532982536,
          -1.2066325053881286,
          3.292598801986526,
          -1.543892912424364,
          0.5426822404287032,
          0.6393413189471646,
          -0.429902886768494,
          -0.9816502324772437,
          0.04303598600358611,
          -1.167434040446578,
          0.7324805559746674,
          0.8864020652679193,
          0.5228613497547522,
          -1.1582437180761456,
          0.8668597258010465,
          -1.124040455883926,
          1.8000496709282203,
          0.8645540802609497,
          -1.1773722266718076,
          -0.13804095883041229,
          -0.6407571208877594,
          -0.4281134664922928,
          -1.0138183021796128,
          -1.3585492226847056,
          -0.858301495895222,
          -0.08680224327455878,
          -0.9429499025251274,
          -0.516543913855966,
          -1.9085819167197682,
          -0.3047314446803455,
          -0.8469563304785783,
          1.6986622415450738,
          0.4788801048455923,
          0.8165342542226821,
          0.2712567992995717,
          -1.7066836444868176,
          -0.41177484570153433,
          3.4776607657004988,
          -2.834396666032772,
          -0.7774122936937027,
          1.7045043869532526,
          -0.06080095132088235,
          -0.76980795302438,
          -1.0415010013073016,
          0.5224033425902554,
          0.8532714130883641,
          0.5484720112680194,
          0.3391173259213127,
          -1.5739514633185079,
          0.5619600984821377,
          -0.5983771760743023,
          1.1075742347923272,
          -1.6666578332055928,
          -0.3778299507535159,
          -0.6830647528616767,
          0.41404579007455566
         ]
        },
        {
         "line": {
          "color": "rgba(55, 128, 191, 1.0)",
          "dash": "solid",
          "shape": "linear",
          "width": 1.3
         },
         "mode": "lines",
         "name": "B",
         "text": "",
         "type": "scatter",
         "x": [
          0,
          1,
          2,
          3,
          4,
          5,
          6,
          7,
          8,
          9,
          10,
          11,
          12,
          13,
          14,
          15,
          16,
          17,
          18,
          19,
          20,
          21,
          22,
          23,
          24,
          25,
          26,
          27,
          28,
          29,
          30,
          31,
          32,
          33,
          34,
          35,
          36,
          37,
          38,
          39,
          40,
          41,
          42,
          43,
          44,
          45,
          46,
          47,
          48,
          49,
          50,
          51,
          52,
          53,
          54,
          55,
          56,
          57,
          58,
          59,
          60,
          61,
          62,
          63,
          64,
          65,
          66,
          67,
          68,
          69,
          70,
          71,
          72,
          73,
          74,
          75,
          76,
          77,
          78,
          79,
          80,
          81,
          82,
          83,
          84,
          85,
          86,
          87,
          88,
          89,
          90,
          91,
          92,
          93,
          94,
          95,
          96,
          97,
          98,
          99
         ],
         "y": [
          -0.18562897664789632,
          0.2814946331226841,
          -0.5611496729894913,
          -0.4024455177000891,
          -0.5067484326841816,
          -0.5046831255213409,
          0.3071138555381204,
          0.5235719311401476,
          0.1689123266002498,
          -0.648541330346596,
          -0.2781926966218052,
          0.5674683584811326,
          0.46108742396861463,
          0.4081857886915297,
          0.8856809194878353,
          0.8230987593991649,
          -0.39330647758921633,
          0.3233245409289331,
          -0.6207219618976456,
          -2.398805095729414,
          1.1216956439427725,
          -0.5863344522457911,
          0.5607494682257044,
          0.10914101529479345,
          -0.10621089901970976,
          -0.4309016156343589,
          -0.41156421677297167,
          -0.11563017368980043,
          -2.036410216502865,
          -0.3110822648687047,
          0.4256721368775975,
          -0.7804317607711396,
          1.3742457362160845,
          1.5447331731436296,
          -0.7250748089914916,
          0.24929992571674361,
          -1.7794793815328092,
          0.24138473009400277,
          -1.2034168942707761,
          1.0414639210199483,
          -0.5670377462359961,
          -0.21270823704091296,
          -0.685999635317336,
          1.1247530050048336,
          1.188669271627665,
          -1.8444053144861277,
          -0.48683583832976574,
          -1.4150671526928436,
          -0.7958340475909478,
          0.08001675426748367,
          -0.7821642717145418,
          -0.5779608466326287,
          0.7616839022768124,
          0.5873755367983575,
          0.7997869163737407,
          0.9558533340809422,
          -0.9061367977781155,
          -0.43578105334829365,
          -0.21657032067850326,
          -0.7972237736675932,
          0.5467520310235533,
          -0.05996238706349433,
          -1.3103756836643208,
          -1.2984105754608068,
          -1.08278714497136,
          -0.067375476395044,
          -0.2012741546557389,
          0.7301998783153228,
          0.7860790647665244,
          1.2748168237130528,
          -0.15838584047247817,
          -0.7367956174793401,
          0.17381865974815355,
          -0.608882127348547,
          0.019790573117705768,
          -0.5581866426850328,
          0.37207449041564766,
          2.433253765776426,
          -0.2519215314634941,
          0.7858365678345681,
          0.5594533930884258,
          0.21976613500776326,
          -0.6254685895049678,
          -0.6561891284929092,
          2.1213683420326332,
          0.12457784109751802,
          -0.14382087113095818,
          0.4394487501767444,
          -0.744337348321256,
          -0.3777265856290238,
          0.8070672733664923,
          -0.24328759151350107,
          -1.7140416474135354,
          -1.5670830508801825,
          1.8234229094828922,
          0.5031344290993308,
          -1.366297613187657,
          1.0133773132755128,
          -0.28092282255864715,
          -0.16105588035881507
         ]
        },
        {
         "line": {
          "color": "rgba(50, 171, 96, 1.0)",
          "dash": "solid",
          "shape": "linear",
          "width": 1.3
         },
         "mode": "lines",
         "name": "C",
         "text": "",
         "type": "scatter",
         "x": [
          0,
          1,
          2,
          3,
          4,
          5,
          6,
          7,
          8,
          9,
          10,
          11,
          12,
          13,
          14,
          15,
          16,
          17,
          18,
          19,
          20,
          21,
          22,
          23,
          24,
          25,
          26,
          27,
          28,
          29,
          30,
          31,
          32,
          33,
          34,
          35,
          36,
          37,
          38,
          39,
          40,
          41,
          42,
          43,
          44,
          45,
          46,
          47,
          48,
          49,
          50,
          51,
          52,
          53,
          54,
          55,
          56,
          57,
          58,
          59,
          60,
          61,
          62,
          63,
          64,
          65,
          66,
          67,
          68,
          69,
          70,
          71,
          72,
          73,
          74,
          75,
          76,
          77,
          78,
          79,
          80,
          81,
          82,
          83,
          84,
          85,
          86,
          87,
          88,
          89,
          90,
          91,
          92,
          93,
          94,
          95,
          96,
          97,
          98,
          99
         ],
         "y": [
          0.28441655846283115,
          1.6861245389387827,
          0.5649320226659227,
          -0.006992281741640265,
          0.6950104350820111,
          -2.782161294185466,
          -1.3929262166412348,
          1.1466427563740487,
          -0.1262468085370894,
          0.027610312707100796,
          2.0993419772076924,
          0.5464592496207633,
          -0.9650485066377515,
          0.350095797866304,
          0.4464205586893242,
          0.32543348059825544,
          0.24250264612773229,
          0.8134327473763154,
          -1.9221574660590977,
          -0.8515636634477415,
          -0.8859644188452906,
          1.5164945643863925,
          1.3057008239245025,
          -0.5341448824517766,
          1.2114568933445147,
          1.4805686765043942,
          -0.9903060622368212,
          -0.7111921334234341,
          -0.7705832241561541,
          0.1807635333209304,
          1.3867801276386518,
          1.2096172921326662,
          0.41417152434287813,
          -0.0754038199458381,
          -1.3353939930941396,
          0.7450243963561473,
          0.364376944348029,
          -0.46849590462886515,
          0.13246878845688012,
          0.9382466543882401,
          0.9631623571438938,
          0.8678278660229487,
          -0.5112000717690514,
          -0.10330510133411867,
          -0.34431945483637544,
          0.4260507406404684,
          1.0057291196151519,
          1.0365172878615823,
          -0.8291370209200336,
          0.4377030649632805,
          0.7017745010682606,
          -0.7673762052874429,
          -1.5952663531267484,
          -0.6793902349244565,
          0.9382454148586494,
          -1.0031684970768282,
          -0.12622705458301473,
          -0.1028625649307537,
          0.45233888419194995,
          -0.008531419431794739,
          -1.2938012749019887,
          -0.37763963492557423,
          -0.5552276038742345,
          -0.43686967873256866,
          2.5023643713562427,
          0.6273843535101066,
          -0.6921376835637734,
          0.7657233099148385,
          -0.5140437049580203,
          -0.14935928451238165,
          -1.4178162750954013,
          -0.911541945468432,
          -2.2484151726652053,
          -0.3272244929529284,
          -0.06031464011966538,
          -1.2198525633118895,
          -0.9665382189960053,
          -0.8030204857611252,
          0.09008886334577865,
          -1.5179371449807757,
          -0.7898385578973032,
          -0.0758686468454915,
          -0.49709787644938114,
          -0.7393226842199646,
          1.1175234017610933,
          0.25092684424139433,
          -0.4132636485268327,
          0.16020492569879421,
          -0.626302528337445,
          0.23902815107320322,
          0.5733871642928374,
          -1.3476994945261318,
          0.017341930072027993,
          0.32956392990260047,
          1.7254936465727004,
          0.0815643997667831,
          0.5266073855612576,
          0.40311575029138064,
          1.6872933351292154,
          -0.0014924123917553528
         ]
        },
        {
         "line": {
          "color": "rgba(128, 0, 128, 1.0)",
          "dash": "solid",
          "shape": "linear",
          "width": 1.3
         },
         "mode": "lines",
         "name": "D",
         "text": "",
         "type": "scatter",
         "x": [
          0,
          1,
          2,
          3,
          4,
          5,
          6,
          7,
          8,
          9,
          10,
          11,
          12,
          13,
          14,
          15,
          16,
          17,
          18,
          19,
          20,
          21,
          22,
          23,
          24,
          25,
          26,
          27,
          28,
          29,
          30,
          31,
          32,
          33,
          34,
          35,
          36,
          37,
          38,
          39,
          40,
          41,
          42,
          43,
          44,
          45,
          46,
          47,
          48,
          49,
          50,
          51,
          52,
          53,
          54,
          55,
          56,
          57,
          58,
          59,
          60,
          61,
          62,
          63,
          64,
          65,
          66,
          67,
          68,
          69,
          70,
          71,
          72,
          73,
          74,
          75,
          76,
          77,
          78,
          79,
          80,
          81,
          82,
          83,
          84,
          85,
          86,
          87,
          88,
          89,
          90,
          91,
          92,
          93,
          94,
          95,
          96,
          97,
          98,
          99
         ],
         "y": [
          -0.6948506396980108,
          -0.6666428538904786,
          0.10977248148330632,
          -0.34507063852421277,
          0.5644738826580985,
          0.23698645675986882,
          -0.27566335461447067,
          0.9984136711746818,
          -0.35453953436057145,
          -0.7590677342876666,
          1.0954715281036402,
          0.4432431120527865,
          -1.2507109626191366,
          0.9712441680171693,
          0.013203357152381795,
          0.18807930342327556,
          -2.4244030669480163,
          0.19642096604822498,
          0.4644164832119015,
          1.2589962842989606,
          -0.47824746769953363,
          0.4744862784598353,
          1.3118766204574364,
          -0.8680136931356329,
          -0.10129756529911702,
          0.4689138437974007,
          -1.5339069602700537,
          -0.10846820881083391,
          0.6908985750185441,
          0.18350135082338448,
          -0.5914853780307834,
          -0.9537198471375213,
          0.5703344039692307,
          1.429865002978377,
          0.5519913738620827,
          0.993412636271246,
          0.034469811988359855,
          -0.7472496880871153,
          1.4996124512981646,
          -0.4946386379145436,
          1.0399840670841098,
          0.12271290218834982,
          0.03910713883627607,
          1.5392891439270928,
          -0.5321486686255733,
          -0.7709776809477752,
          0.4228444336143023,
          0.4702867223000906,
          0.4682790545334142,
          -0.318220551982597,
          -0.638691919721894,
          0.1338412858354175,
          -0.8153205614533109,
          0.3567584183573207,
          0.1176061105063393,
          0.4441722883986997,
          1.000172564994546,
          1.2737790335626429,
          -1.0390421978667987,
          -1.2390043917953708,
          0.4672069481240647,
          1.7014753136623637,
          -0.5279990223802564,
          -0.39162490382241943,
          -0.23550259779516858,
          0.2913840379119788,
          -0.23528362452735238,
          0.41712929386903885,
          -0.8393462438785326,
          0.45414655173794455,
          0.3295495327747455,
          -0.4178229756531817,
          -0.7185662761449305,
          0.2547080145281705,
          -0.7800799954343723,
          1.6208908197100877,
          -0.12472366532659815,
          1.3768125427026123,
          0.025633067041241596,
          1.2014509834321612,
          0.5597559903640666,
          0.20773867581652714,
          -0.6946381185103704,
          0.3079191077548796,
          -0.3308755186198372,
          -0.14041599548525413,
          -1.8625381720460532,
          0.9997300943289195,
          0.7919825195272278,
          -0.554200154872438,
          0.30411179171190633,
          -0.2637799068113172,
          -1.105590430637276,
          -0.29296374986869805,
          0.7171759251788568,
          1.0201142495169346,
          -0.7232117317655378,
          1.2180757428969105,
          -0.4587277173521224,
          0.7357053360469868
         ]
        }
       ],
       "layout": {
        "legend": {
         "bgcolor": "#F5F6F9",
         "font": {
          "color": "#4D5663"
         }
        },
        "paper_bgcolor": "#F5F6F9",
        "plot_bgcolor": "#F5F6F9",
        "template": {
         "data": {
          "bar": [
           {
            "error_x": {
             "color": "#2a3f5f"
            },
            "error_y": {
             "color": "#2a3f5f"
            },
            "marker": {
             "line": {
              "color": "#E5ECF6",
              "width": 0.5
             }
            },
            "type": "bar"
           }
          ],
          "barpolar": [
           {
            "marker": {
             "line": {
              "color": "#E5ECF6",
              "width": 0.5
             }
            },
            "type": "barpolar"
           }
          ],
          "carpet": [
           {
            "aaxis": {
             "endlinecolor": "#2a3f5f",
             "gridcolor": "white",
             "linecolor": "white",
             "minorgridcolor": "white",
             "startlinecolor": "#2a3f5f"
            },
            "baxis": {
             "endlinecolor": "#2a3f5f",
             "gridcolor": "white",
             "linecolor": "white",
             "minorgridcolor": "white",
             "startlinecolor": "#2a3f5f"
            },
            "type": "carpet"
           }
          ],
          "choropleth": [
           {
            "colorbar": {
             "outlinewidth": 0,
             "ticks": ""
            },
            "type": "choropleth"
           }
          ],
          "contour": [
           {
            "colorbar": {
             "outlinewidth": 0,
             "ticks": ""
            },
            "colorscale": [
             [
              0,
              "#0d0887"
             ],
             [
              0.1111111111111111,
              "#46039f"
             ],
             [
              0.2222222222222222,
              "#7201a8"
             ],
             [
              0.3333333333333333,
              "#9c179e"
             ],
             [
              0.4444444444444444,
              "#bd3786"
             ],
             [
              0.5555555555555556,
              "#d8576b"
             ],
             [
              0.6666666666666666,
              "#ed7953"
             ],
             [
              0.7777777777777778,
              "#fb9f3a"
             ],
             [
              0.8888888888888888,
              "#fdca26"
             ],
             [
              1,
              "#f0f921"
             ]
            ],
            "type": "contour"
           }
          ],
          "contourcarpet": [
           {
            "colorbar": {
             "outlinewidth": 0,
             "ticks": ""
            },
            "type": "contourcarpet"
           }
          ],
          "heatmap": [
           {
            "colorbar": {
             "outlinewidth": 0,
             "ticks": ""
            },
            "colorscale": [
             [
              0,
              "#0d0887"
             ],
             [
              0.1111111111111111,
              "#46039f"
             ],
             [
              0.2222222222222222,
              "#7201a8"
             ],
             [
              0.3333333333333333,
              "#9c179e"
             ],
             [
              0.4444444444444444,
              "#bd3786"
             ],
             [
              0.5555555555555556,
              "#d8576b"
             ],
             [
              0.6666666666666666,
              "#ed7953"
             ],
             [
              0.7777777777777778,
              "#fb9f3a"
             ],
             [
              0.8888888888888888,
              "#fdca26"
             ],
             [
              1,
              "#f0f921"
             ]
            ],
            "type": "heatmap"
           }
          ],
          "heatmapgl": [
           {
            "colorbar": {
             "outlinewidth": 0,
             "ticks": ""
            },
            "colorscale": [
             [
              0,
              "#0d0887"
             ],
             [
              0.1111111111111111,
              "#46039f"
             ],
             [
              0.2222222222222222,
              "#7201a8"
             ],
             [
              0.3333333333333333,
              "#9c179e"
             ],
             [
              0.4444444444444444,
              "#bd3786"
             ],
             [
              0.5555555555555556,
              "#d8576b"
             ],
             [
              0.6666666666666666,
              "#ed7953"
             ],
             [
              0.7777777777777778,
              "#fb9f3a"
             ],
             [
              0.8888888888888888,
              "#fdca26"
             ],
             [
              1,
              "#f0f921"
             ]
            ],
            "type": "heatmapgl"
           }
          ],
          "histogram": [
           {
            "marker": {
             "colorbar": {
              "outlinewidth": 0,
              "ticks": ""
             }
            },
            "type": "histogram"
           }
          ],
          "histogram2d": [
           {
            "colorbar": {
             "outlinewidth": 0,
             "ticks": ""
            },
            "colorscale": [
             [
              0,
              "#0d0887"
             ],
             [
              0.1111111111111111,
              "#46039f"
             ],
             [
              0.2222222222222222,
              "#7201a8"
             ],
             [
              0.3333333333333333,
              "#9c179e"
             ],
             [
              0.4444444444444444,
              "#bd3786"
             ],
             [
              0.5555555555555556,
              "#d8576b"
             ],
             [
              0.6666666666666666,
              "#ed7953"
             ],
             [
              0.7777777777777778,
              "#fb9f3a"
             ],
             [
              0.8888888888888888,
              "#fdca26"
             ],
             [
              1,
              "#f0f921"
             ]
            ],
            "type": "histogram2d"
           }
          ],
          "histogram2dcontour": [
           {
            "colorbar": {
             "outlinewidth": 0,
             "ticks": ""
            },
            "colorscale": [
             [
              0,
              "#0d0887"
             ],
             [
              0.1111111111111111,
              "#46039f"
             ],
             [
              0.2222222222222222,
              "#7201a8"
             ],
             [
              0.3333333333333333,
              "#9c179e"
             ],
             [
              0.4444444444444444,
              "#bd3786"
             ],
             [
              0.5555555555555556,
              "#d8576b"
             ],
             [
              0.6666666666666666,
              "#ed7953"
             ],
             [
              0.7777777777777778,
              "#fb9f3a"
             ],
             [
              0.8888888888888888,
              "#fdca26"
             ],
             [
              1,
              "#f0f921"
             ]
            ],
            "type": "histogram2dcontour"
           }
          ],
          "mesh3d": [
           {
            "colorbar": {
             "outlinewidth": 0,
             "ticks": ""
            },
            "type": "mesh3d"
           }
          ],
          "parcoords": [
           {
            "line": {
             "colorbar": {
              "outlinewidth": 0,
              "ticks": ""
             }
            },
            "type": "parcoords"
           }
          ],
          "pie": [
           {
            "automargin": true,
            "type": "pie"
           }
          ],
          "scatter": [
           {
            "marker": {
             "colorbar": {
              "outlinewidth": 0,
              "ticks": ""
             }
            },
            "type": "scatter"
           }
          ],
          "scatter3d": [
           {
            "line": {
             "colorbar": {
              "outlinewidth": 0,
              "ticks": ""
             }
            },
            "marker": {
             "colorbar": {
              "outlinewidth": 0,
              "ticks": ""
             }
            },
            "type": "scatter3d"
           }
          ],
          "scattercarpet": [
           {
            "marker": {
             "colorbar": {
              "outlinewidth": 0,
              "ticks": ""
             }
            },
            "type": "scattercarpet"
           }
          ],
          "scattergeo": [
           {
            "marker": {
             "colorbar": {
              "outlinewidth": 0,
              "ticks": ""
             }
            },
            "type": "scattergeo"
           }
          ],
          "scattergl": [
           {
            "marker": {
             "colorbar": {
              "outlinewidth": 0,
              "ticks": ""
             }
            },
            "type": "scattergl"
           }
          ],
          "scattermapbox": [
           {
            "marker": {
             "colorbar": {
              "outlinewidth": 0,
              "ticks": ""
             }
            },
            "type": "scattermapbox"
           }
          ],
          "scatterpolar": [
           {
            "marker": {
             "colorbar": {
              "outlinewidth": 0,
              "ticks": ""
             }
            },
            "type": "scatterpolar"
           }
          ],
          "scatterpolargl": [
           {
            "marker": {
             "colorbar": {
              "outlinewidth": 0,
              "ticks": ""
             }
            },
            "type": "scatterpolargl"
           }
          ],
          "scatterternary": [
           {
            "marker": {
             "colorbar": {
              "outlinewidth": 0,
              "ticks": ""
             }
            },
            "type": "scatterternary"
           }
          ],
          "surface": [
           {
            "colorbar": {
             "outlinewidth": 0,
             "ticks": ""
            },
            "colorscale": [
             [
              0,
              "#0d0887"
             ],
             [
              0.1111111111111111,
              "#46039f"
             ],
             [
              0.2222222222222222,
              "#7201a8"
             ],
             [
              0.3333333333333333,
              "#9c179e"
             ],
             [
              0.4444444444444444,
              "#bd3786"
             ],
             [
              0.5555555555555556,
              "#d8576b"
             ],
             [
              0.6666666666666666,
              "#ed7953"
             ],
             [
              0.7777777777777778,
              "#fb9f3a"
             ],
             [
              0.8888888888888888,
              "#fdca26"
             ],
             [
              1,
              "#f0f921"
             ]
            ],
            "type": "surface"
           }
          ],
          "table": [
           {
            "cells": {
             "fill": {
              "color": "#EBF0F8"
             },
             "line": {
              "color": "white"
             }
            },
            "header": {
             "fill": {
              "color": "#C8D4E3"
             },
             "line": {
              "color": "white"
             }
            },
            "type": "table"
           }
          ]
         },
         "layout": {
          "annotationdefaults": {
           "arrowcolor": "#2a3f5f",
           "arrowhead": 0,
           "arrowwidth": 1
          },
          "coloraxis": {
           "colorbar": {
            "outlinewidth": 0,
            "ticks": ""
           }
          },
          "colorscale": {
           "diverging": [
            [
             0,
             "#8e0152"
            ],
            [
             0.1,
             "#c51b7d"
            ],
            [
             0.2,
             "#de77ae"
            ],
            [
             0.3,
             "#f1b6da"
            ],
            [
             0.4,
             "#fde0ef"
            ],
            [
             0.5,
             "#f7f7f7"
            ],
            [
             0.6,
             "#e6f5d0"
            ],
            [
             0.7,
             "#b8e186"
            ],
            [
             0.8,
             "#7fbc41"
            ],
            [
             0.9,
             "#4d9221"
            ],
            [
             1,
             "#276419"
            ]
           ],
           "sequential": [
            [
             0,
             "#0d0887"
            ],
            [
             0.1111111111111111,
             "#46039f"
            ],
            [
             0.2222222222222222,
             "#7201a8"
            ],
            [
             0.3333333333333333,
             "#9c179e"
            ],
            [
             0.4444444444444444,
             "#bd3786"
            ],
            [
             0.5555555555555556,
             "#d8576b"
            ],
            [
             0.6666666666666666,
             "#ed7953"
            ],
            [
             0.7777777777777778,
             "#fb9f3a"
            ],
            [
             0.8888888888888888,
             "#fdca26"
            ],
            [
             1,
             "#f0f921"
            ]
           ],
           "sequentialminus": [
            [
             0,
             "#0d0887"
            ],
            [
             0.1111111111111111,
             "#46039f"
            ],
            [
             0.2222222222222222,
             "#7201a8"
            ],
            [
             0.3333333333333333,
             "#9c179e"
            ],
            [
             0.4444444444444444,
             "#bd3786"
            ],
            [
             0.5555555555555556,
             "#d8576b"
            ],
            [
             0.6666666666666666,
             "#ed7953"
            ],
            [
             0.7777777777777778,
             "#fb9f3a"
            ],
            [
             0.8888888888888888,
             "#fdca26"
            ],
            [
             1,
             "#f0f921"
            ]
           ]
          },
          "colorway": [
           "#636efa",
           "#EF553B",
           "#00cc96",
           "#ab63fa",
           "#FFA15A",
           "#19d3f3",
           "#FF6692",
           "#B6E880",
           "#FF97FF",
           "#FECB52"
          ],
          "font": {
           "color": "#2a3f5f"
          },
          "geo": {
           "bgcolor": "white",
           "lakecolor": "white",
           "landcolor": "#E5ECF6",
           "showlakes": true,
           "showland": true,
           "subunitcolor": "white"
          },
          "hoverlabel": {
           "align": "left"
          },
          "hovermode": "closest",
          "mapbox": {
           "style": "light"
          },
          "paper_bgcolor": "white",
          "plot_bgcolor": "#E5ECF6",
          "polar": {
           "angularaxis": {
            "gridcolor": "white",
            "linecolor": "white",
            "ticks": ""
           },
           "bgcolor": "#E5ECF6",
           "radialaxis": {
            "gridcolor": "white",
            "linecolor": "white",
            "ticks": ""
           }
          },
          "scene": {
           "xaxis": {
            "backgroundcolor": "#E5ECF6",
            "gridcolor": "white",
            "gridwidth": 2,
            "linecolor": "white",
            "showbackground": true,
            "ticks": "",
            "zerolinecolor": "white"
           },
           "yaxis": {
            "backgroundcolor": "#E5ECF6",
            "gridcolor": "white",
            "gridwidth": 2,
            "linecolor": "white",
            "showbackground": true,
            "ticks": "",
            "zerolinecolor": "white"
           },
           "zaxis": {
            "backgroundcolor": "#E5ECF6",
            "gridcolor": "white",
            "gridwidth": 2,
            "linecolor": "white",
            "showbackground": true,
            "ticks": "",
            "zerolinecolor": "white"
           }
          },
          "shapedefaults": {
           "line": {
            "color": "#2a3f5f"
           }
          },
          "ternary": {
           "aaxis": {
            "gridcolor": "white",
            "linecolor": "white",
            "ticks": ""
           },
           "baxis": {
            "gridcolor": "white",
            "linecolor": "white",
            "ticks": ""
           },
           "bgcolor": "#E5ECF6",
           "caxis": {
            "gridcolor": "white",
            "linecolor": "white",
            "ticks": ""
           }
          },
          "title": {
           "x": 0.05
          },
          "xaxis": {
           "automargin": true,
           "gridcolor": "white",
           "linecolor": "white",
           "ticks": "",
           "title": {
            "standoff": 15
           },
           "zerolinecolor": "white",
           "zerolinewidth": 2
          },
          "yaxis": {
           "automargin": true,
           "gridcolor": "white",
           "linecolor": "white",
           "ticks": "",
           "title": {
            "standoff": 15
           },
           "zerolinecolor": "white",
           "zerolinewidth": 2
          }
         }
        },
        "title": {
         "font": {
          "color": "#4D5663"
         }
        },
        "xaxis": {
         "gridcolor": "#E1E5ED",
         "showgrid": true,
         "tickfont": {
          "color": "#4D5663"
         },
         "title": {
          "font": {
           "color": "#4D5663"
          },
          "text": ""
         },
         "zerolinecolor": "#E1E5ED"
        },
        "yaxis": {
         "gridcolor": "#E1E5ED",
         "showgrid": true,
         "tickfont": {
          "color": "#4D5663"
         },
         "title": {
          "font": {
           "color": "#4D5663"
          },
          "text": ""
         },
         "zerolinecolor": "#E1E5ED"
        }
       }
      },
      "text/html": [
       "<div>\n",
       "        \n",
       "        \n",
       "            <div id=\"47a550c3-c3ed-4318-b1ac-24df4fc1cb22\" class=\"plotly-graph-div\" style=\"height:525px; width:100%;\"></div>\n",
       "            <script type=\"text/javascript\">\n",
       "                require([\"plotly\"], function(Plotly) {\n",
       "                    window.PLOTLYENV=window.PLOTLYENV || {};\n",
       "                    window.PLOTLYENV.BASE_URL='https://plot.ly';\n",
       "                    \n",
       "                if (document.getElementById(\"47a550c3-c3ed-4318-b1ac-24df4fc1cb22\")) {\n",
       "                    Plotly.newPlot(\n",
       "                        '47a550c3-c3ed-4318-b1ac-24df4fc1cb22',\n",
       "                        [{\"line\": {\"color\": \"rgba(255, 153, 51, 1.0)\", \"dash\": \"solid\", \"shape\": \"linear\", \"width\": 1.3}, \"mode\": \"lines\", \"name\": \"A\", \"text\": \"\", \"type\": \"scatter\", \"x\": [0, 1, 2, 3, 4, 5, 6, 7, 8, 9, 10, 11, 12, 13, 14, 15, 16, 17, 18, 19, 20, 21, 22, 23, 24, 25, 26, 27, 28, 29, 30, 31, 32, 33, 34, 35, 36, 37, 38, 39, 40, 41, 42, 43, 44, 45, 46, 47, 48, 49, 50, 51, 52, 53, 54, 55, 56, 57, 58, 59, 60, 61, 62, 63, 64, 65, 66, 67, 68, 69, 70, 71, 72, 73, 74, 75, 76, 77, 78, 79, 80, 81, 82, 83, 84, 85, 86, 87, 88, 89, 90, 91, 92, 93, 94, 95, 96, 97, 98, 99], \"y\": [0.3925721259516482, 1.372423172955678, 2.242609686488439, -0.8582063908771425, 0.7608248424673095, 0.7000004474958651, -2.012133152037724, 0.9326208404062066, -0.659318333188724, 1.6928610483674762, -0.6871886678918286, -0.35039380953159355, -0.42079236277313725, 0.8690052189226001, -0.576444210165041, 0.21995333800259842, -0.4444106568943757, -1.1440185333618915, -1.6578956613807303, -0.4101416114246453, -0.8519320305097161, 1.2103242834430672, 0.32015253922147136, -0.10035894535953092, -0.8488192702393195, -0.5572712613655367, -1.0688607093730706, -0.42181977168796303, 0.12733568405289733, -1.0665476173525776, 0.9261690103955689, -1.9549129649944113, -1.0277111422245617, -0.38799086170382646, 1.1509943645776262, -1.745769144522121, 1.2130978831137753, -0.6425110489904321, -0.57978668657439, 1.0712439163287628, -0.9234875765962591, 2.961687683445264, -0.8009271101769784, -0.6562531660019234, -0.27821128532982536, -1.2066325053881286, 3.292598801986526, -1.543892912424364, 0.5426822404287032, 0.6393413189471646, -0.429902886768494, -0.9816502324772437, 0.04303598600358611, -1.167434040446578, 0.7324805559746674, 0.8864020652679193, 0.5228613497547522, -1.1582437180761456, 0.8668597258010465, -1.124040455883926, 1.8000496709282203, 0.8645540802609497, -1.1773722266718076, -0.13804095883041229, -0.6407571208877594, -0.4281134664922928, -1.0138183021796128, -1.3585492226847056, -0.858301495895222, -0.08680224327455878, -0.9429499025251274, -0.516543913855966, -1.9085819167197682, -0.3047314446803455, -0.8469563304785783, 1.6986622415450738, 0.4788801048455923, 0.8165342542226821, 0.2712567992995717, -1.7066836444868176, -0.41177484570153433, 3.4776607657004988, -2.834396666032772, -0.7774122936937027, 1.7045043869532526, -0.06080095132088235, -0.76980795302438, -1.0415010013073016, 0.5224033425902554, 0.8532714130883641, 0.5484720112680194, 0.3391173259213127, -1.5739514633185079, 0.5619600984821377, -0.5983771760743023, 1.1075742347923272, -1.6666578332055928, -0.3778299507535159, -0.6830647528616767, 0.41404579007455566]}, {\"line\": {\"color\": \"rgba(55, 128, 191, 1.0)\", \"dash\": \"solid\", \"shape\": \"linear\", \"width\": 1.3}, \"mode\": \"lines\", \"name\": \"B\", \"text\": \"\", \"type\": \"scatter\", \"x\": [0, 1, 2, 3, 4, 5, 6, 7, 8, 9, 10, 11, 12, 13, 14, 15, 16, 17, 18, 19, 20, 21, 22, 23, 24, 25, 26, 27, 28, 29, 30, 31, 32, 33, 34, 35, 36, 37, 38, 39, 40, 41, 42, 43, 44, 45, 46, 47, 48, 49, 50, 51, 52, 53, 54, 55, 56, 57, 58, 59, 60, 61, 62, 63, 64, 65, 66, 67, 68, 69, 70, 71, 72, 73, 74, 75, 76, 77, 78, 79, 80, 81, 82, 83, 84, 85, 86, 87, 88, 89, 90, 91, 92, 93, 94, 95, 96, 97, 98, 99], \"y\": [-0.18562897664789632, 0.2814946331226841, -0.5611496729894913, -0.4024455177000891, -0.5067484326841816, -0.5046831255213409, 0.3071138555381204, 0.5235719311401476, 0.1689123266002498, -0.648541330346596, -0.2781926966218052, 0.5674683584811326, 0.46108742396861463, 0.4081857886915297, 0.8856809194878353, 0.8230987593991649, -0.39330647758921633, 0.3233245409289331, -0.6207219618976456, -2.398805095729414, 1.1216956439427725, -0.5863344522457911, 0.5607494682257044, 0.10914101529479345, -0.10621089901970976, -0.4309016156343589, -0.41156421677297167, -0.11563017368980043, -2.036410216502865, -0.3110822648687047, 0.4256721368775975, -0.7804317607711396, 1.3742457362160845, 1.5447331731436296, -0.7250748089914916, 0.24929992571674361, -1.7794793815328092, 0.24138473009400277, -1.2034168942707761, 1.0414639210199483, -0.5670377462359961, -0.21270823704091296, -0.685999635317336, 1.1247530050048336, 1.188669271627665, -1.8444053144861277, -0.48683583832976574, -1.4150671526928436, -0.7958340475909478, 0.08001675426748367, -0.7821642717145418, -0.5779608466326287, 0.7616839022768124, 0.5873755367983575, 0.7997869163737407, 0.9558533340809422, -0.9061367977781155, -0.43578105334829365, -0.21657032067850326, -0.7972237736675932, 0.5467520310235533, -0.05996238706349433, -1.3103756836643208, -1.2984105754608068, -1.08278714497136, -0.067375476395044, -0.2012741546557389, 0.7301998783153228, 0.7860790647665244, 1.2748168237130528, -0.15838584047247817, -0.7367956174793401, 0.17381865974815355, -0.608882127348547, 0.019790573117705768, -0.5581866426850328, 0.37207449041564766, 2.433253765776426, -0.2519215314634941, 0.7858365678345681, 0.5594533930884258, 0.21976613500776326, -0.6254685895049678, -0.6561891284929092, 2.1213683420326332, 0.12457784109751802, -0.14382087113095818, 0.4394487501767444, -0.744337348321256, -0.3777265856290238, 0.8070672733664923, -0.24328759151350107, -1.7140416474135354, -1.5670830508801825, 1.8234229094828922, 0.5031344290993308, -1.366297613187657, 1.0133773132755128, -0.28092282255864715, -0.16105588035881507]}, {\"line\": {\"color\": \"rgba(50, 171, 96, 1.0)\", \"dash\": \"solid\", \"shape\": \"linear\", \"width\": 1.3}, \"mode\": \"lines\", \"name\": \"C\", \"text\": \"\", \"type\": \"scatter\", \"x\": [0, 1, 2, 3, 4, 5, 6, 7, 8, 9, 10, 11, 12, 13, 14, 15, 16, 17, 18, 19, 20, 21, 22, 23, 24, 25, 26, 27, 28, 29, 30, 31, 32, 33, 34, 35, 36, 37, 38, 39, 40, 41, 42, 43, 44, 45, 46, 47, 48, 49, 50, 51, 52, 53, 54, 55, 56, 57, 58, 59, 60, 61, 62, 63, 64, 65, 66, 67, 68, 69, 70, 71, 72, 73, 74, 75, 76, 77, 78, 79, 80, 81, 82, 83, 84, 85, 86, 87, 88, 89, 90, 91, 92, 93, 94, 95, 96, 97, 98, 99], \"y\": [0.28441655846283115, 1.6861245389387827, 0.5649320226659227, -0.006992281741640265, 0.6950104350820111, -2.782161294185466, -1.3929262166412348, 1.1466427563740487, -0.1262468085370894, 0.027610312707100796, 2.0993419772076924, 0.5464592496207633, -0.9650485066377515, 0.350095797866304, 0.4464205586893242, 0.32543348059825544, 0.24250264612773229, 0.8134327473763154, -1.9221574660590977, -0.8515636634477415, -0.8859644188452906, 1.5164945643863925, 1.3057008239245025, -0.5341448824517766, 1.2114568933445147, 1.4805686765043942, -0.9903060622368212, -0.7111921334234341, -0.7705832241561541, 0.1807635333209304, 1.3867801276386518, 1.2096172921326662, 0.41417152434287813, -0.0754038199458381, -1.3353939930941396, 0.7450243963561473, 0.364376944348029, -0.46849590462886515, 0.13246878845688012, 0.9382466543882401, 0.9631623571438938, 0.8678278660229487, -0.5112000717690514, -0.10330510133411867, -0.34431945483637544, 0.4260507406404684, 1.0057291196151519, 1.0365172878615823, -0.8291370209200336, 0.4377030649632805, 0.7017745010682606, -0.7673762052874429, -1.5952663531267484, -0.6793902349244565, 0.9382454148586494, -1.0031684970768282, -0.12622705458301473, -0.1028625649307537, 0.45233888419194995, -0.008531419431794739, -1.2938012749019887, -0.37763963492557423, -0.5552276038742345, -0.43686967873256866, 2.5023643713562427, 0.6273843535101066, -0.6921376835637734, 0.7657233099148385, -0.5140437049580203, -0.14935928451238165, -1.4178162750954013, -0.911541945468432, -2.2484151726652053, -0.3272244929529284, -0.06031464011966538, -1.2198525633118895, -0.9665382189960053, -0.8030204857611252, 0.09008886334577865, -1.5179371449807757, -0.7898385578973032, -0.0758686468454915, -0.49709787644938114, -0.7393226842199646, 1.1175234017610933, 0.25092684424139433, -0.4132636485268327, 0.16020492569879421, -0.626302528337445, 0.23902815107320322, 0.5733871642928374, -1.3476994945261318, 0.017341930072027993, 0.32956392990260047, 1.7254936465727004, 0.0815643997667831, 0.5266073855612576, 0.40311575029138064, 1.6872933351292154, -0.0014924123917553528]}, {\"line\": {\"color\": \"rgba(128, 0, 128, 1.0)\", \"dash\": \"solid\", \"shape\": \"linear\", \"width\": 1.3}, \"mode\": \"lines\", \"name\": \"D\", \"text\": \"\", \"type\": \"scatter\", \"x\": [0, 1, 2, 3, 4, 5, 6, 7, 8, 9, 10, 11, 12, 13, 14, 15, 16, 17, 18, 19, 20, 21, 22, 23, 24, 25, 26, 27, 28, 29, 30, 31, 32, 33, 34, 35, 36, 37, 38, 39, 40, 41, 42, 43, 44, 45, 46, 47, 48, 49, 50, 51, 52, 53, 54, 55, 56, 57, 58, 59, 60, 61, 62, 63, 64, 65, 66, 67, 68, 69, 70, 71, 72, 73, 74, 75, 76, 77, 78, 79, 80, 81, 82, 83, 84, 85, 86, 87, 88, 89, 90, 91, 92, 93, 94, 95, 96, 97, 98, 99], \"y\": [-0.6948506396980108, -0.6666428538904786, 0.10977248148330632, -0.34507063852421277, 0.5644738826580985, 0.23698645675986882, -0.27566335461447067, 0.9984136711746818, -0.35453953436057145, -0.7590677342876666, 1.0954715281036402, 0.4432431120527865, -1.2507109626191366, 0.9712441680171693, 0.013203357152381795, 0.18807930342327556, -2.4244030669480163, 0.19642096604822498, 0.4644164832119015, 1.2589962842989606, -0.47824746769953363, 0.4744862784598353, 1.3118766204574364, -0.8680136931356329, -0.10129756529911702, 0.4689138437974007, -1.5339069602700537, -0.10846820881083391, 0.6908985750185441, 0.18350135082338448, -0.5914853780307834, -0.9537198471375213, 0.5703344039692307, 1.429865002978377, 0.5519913738620827, 0.993412636271246, 0.034469811988359855, -0.7472496880871153, 1.4996124512981646, -0.4946386379145436, 1.0399840670841098, 0.12271290218834982, 0.03910713883627607, 1.5392891439270928, -0.5321486686255733, -0.7709776809477752, 0.4228444336143023, 0.4702867223000906, 0.4682790545334142, -0.318220551982597, -0.638691919721894, 0.1338412858354175, -0.8153205614533109, 0.3567584183573207, 0.1176061105063393, 0.4441722883986997, 1.000172564994546, 1.2737790335626429, -1.0390421978667987, -1.2390043917953708, 0.4672069481240647, 1.7014753136623637, -0.5279990223802564, -0.39162490382241943, -0.23550259779516858, 0.2913840379119788, -0.23528362452735238, 0.41712929386903885, -0.8393462438785326, 0.45414655173794455, 0.3295495327747455, -0.4178229756531817, -0.7185662761449305, 0.2547080145281705, -0.7800799954343723, 1.6208908197100877, -0.12472366532659815, 1.3768125427026123, 0.025633067041241596, 1.2014509834321612, 0.5597559903640666, 0.20773867581652714, -0.6946381185103704, 0.3079191077548796, -0.3308755186198372, -0.14041599548525413, -1.8625381720460532, 0.9997300943289195, 0.7919825195272278, -0.554200154872438, 0.30411179171190633, -0.2637799068113172, -1.105590430637276, -0.29296374986869805, 0.7171759251788568, 1.0201142495169346, -0.7232117317655378, 1.2180757428969105, -0.4587277173521224, 0.7357053360469868]}],\n",
       "                        {\"legend\": {\"bgcolor\": \"#F5F6F9\", \"font\": {\"color\": \"#4D5663\"}}, \"paper_bgcolor\": \"#F5F6F9\", \"plot_bgcolor\": \"#F5F6F9\", \"template\": {\"data\": {\"bar\": [{\"error_x\": {\"color\": \"#2a3f5f\"}, \"error_y\": {\"color\": \"#2a3f5f\"}, \"marker\": {\"line\": {\"color\": \"#E5ECF6\", \"width\": 0.5}}, \"type\": \"bar\"}], \"barpolar\": [{\"marker\": {\"line\": {\"color\": \"#E5ECF6\", \"width\": 0.5}}, \"type\": \"barpolar\"}], \"carpet\": [{\"aaxis\": {\"endlinecolor\": \"#2a3f5f\", \"gridcolor\": \"white\", \"linecolor\": \"white\", \"minorgridcolor\": \"white\", \"startlinecolor\": \"#2a3f5f\"}, \"baxis\": {\"endlinecolor\": \"#2a3f5f\", \"gridcolor\": \"white\", \"linecolor\": \"white\", \"minorgridcolor\": \"white\", \"startlinecolor\": \"#2a3f5f\"}, \"type\": \"carpet\"}], \"choropleth\": [{\"colorbar\": {\"outlinewidth\": 0, \"ticks\": \"\"}, \"type\": \"choropleth\"}], \"contour\": [{\"colorbar\": {\"outlinewidth\": 0, \"ticks\": \"\"}, \"colorscale\": [[0.0, \"#0d0887\"], [0.1111111111111111, \"#46039f\"], [0.2222222222222222, \"#7201a8\"], [0.3333333333333333, \"#9c179e\"], [0.4444444444444444, \"#bd3786\"], [0.5555555555555556, \"#d8576b\"], [0.6666666666666666, \"#ed7953\"], [0.7777777777777778, \"#fb9f3a\"], [0.8888888888888888, \"#fdca26\"], [1.0, \"#f0f921\"]], \"type\": \"contour\"}], \"contourcarpet\": [{\"colorbar\": {\"outlinewidth\": 0, \"ticks\": \"\"}, \"type\": \"contourcarpet\"}], \"heatmap\": [{\"colorbar\": {\"outlinewidth\": 0, \"ticks\": \"\"}, \"colorscale\": [[0.0, \"#0d0887\"], [0.1111111111111111, \"#46039f\"], [0.2222222222222222, \"#7201a8\"], [0.3333333333333333, \"#9c179e\"], [0.4444444444444444, \"#bd3786\"], [0.5555555555555556, \"#d8576b\"], [0.6666666666666666, \"#ed7953\"], [0.7777777777777778, \"#fb9f3a\"], [0.8888888888888888, \"#fdca26\"], [1.0, \"#f0f921\"]], \"type\": \"heatmap\"}], \"heatmapgl\": [{\"colorbar\": {\"outlinewidth\": 0, \"ticks\": \"\"}, \"colorscale\": [[0.0, \"#0d0887\"], [0.1111111111111111, \"#46039f\"], [0.2222222222222222, \"#7201a8\"], [0.3333333333333333, \"#9c179e\"], [0.4444444444444444, \"#bd3786\"], [0.5555555555555556, \"#d8576b\"], [0.6666666666666666, \"#ed7953\"], [0.7777777777777778, \"#fb9f3a\"], [0.8888888888888888, \"#fdca26\"], [1.0, \"#f0f921\"]], \"type\": \"heatmapgl\"}], \"histogram\": [{\"marker\": {\"colorbar\": {\"outlinewidth\": 0, \"ticks\": \"\"}}, \"type\": \"histogram\"}], \"histogram2d\": [{\"colorbar\": {\"outlinewidth\": 0, \"ticks\": \"\"}, \"colorscale\": [[0.0, \"#0d0887\"], [0.1111111111111111, \"#46039f\"], [0.2222222222222222, \"#7201a8\"], [0.3333333333333333, \"#9c179e\"], [0.4444444444444444, \"#bd3786\"], [0.5555555555555556, \"#d8576b\"], [0.6666666666666666, \"#ed7953\"], [0.7777777777777778, \"#fb9f3a\"], [0.8888888888888888, \"#fdca26\"], [1.0, \"#f0f921\"]], \"type\": \"histogram2d\"}], \"histogram2dcontour\": [{\"colorbar\": {\"outlinewidth\": 0, \"ticks\": \"\"}, \"colorscale\": [[0.0, \"#0d0887\"], [0.1111111111111111, \"#46039f\"], [0.2222222222222222, \"#7201a8\"], [0.3333333333333333, \"#9c179e\"], [0.4444444444444444, \"#bd3786\"], [0.5555555555555556, \"#d8576b\"], [0.6666666666666666, \"#ed7953\"], [0.7777777777777778, \"#fb9f3a\"], [0.8888888888888888, \"#fdca26\"], [1.0, \"#f0f921\"]], \"type\": \"histogram2dcontour\"}], \"mesh3d\": [{\"colorbar\": {\"outlinewidth\": 0, \"ticks\": \"\"}, \"type\": \"mesh3d\"}], \"parcoords\": [{\"line\": {\"colorbar\": {\"outlinewidth\": 0, \"ticks\": \"\"}}, \"type\": \"parcoords\"}], \"pie\": [{\"automargin\": true, \"type\": \"pie\"}], \"scatter\": [{\"marker\": {\"colorbar\": {\"outlinewidth\": 0, \"ticks\": \"\"}}, \"type\": \"scatter\"}], \"scatter3d\": [{\"line\": {\"colorbar\": {\"outlinewidth\": 0, \"ticks\": \"\"}}, \"marker\": {\"colorbar\": {\"outlinewidth\": 0, \"ticks\": \"\"}}, \"type\": \"scatter3d\"}], \"scattercarpet\": [{\"marker\": {\"colorbar\": {\"outlinewidth\": 0, \"ticks\": \"\"}}, \"type\": \"scattercarpet\"}], \"scattergeo\": [{\"marker\": {\"colorbar\": {\"outlinewidth\": 0, \"ticks\": \"\"}}, \"type\": \"scattergeo\"}], \"scattergl\": [{\"marker\": {\"colorbar\": {\"outlinewidth\": 0, \"ticks\": \"\"}}, \"type\": \"scattergl\"}], \"scattermapbox\": [{\"marker\": {\"colorbar\": {\"outlinewidth\": 0, \"ticks\": \"\"}}, \"type\": \"scattermapbox\"}], \"scatterpolar\": [{\"marker\": {\"colorbar\": {\"outlinewidth\": 0, \"ticks\": \"\"}}, \"type\": \"scatterpolar\"}], \"scatterpolargl\": [{\"marker\": {\"colorbar\": {\"outlinewidth\": 0, \"ticks\": \"\"}}, \"type\": \"scatterpolargl\"}], \"scatterternary\": [{\"marker\": {\"colorbar\": {\"outlinewidth\": 0, \"ticks\": \"\"}}, \"type\": \"scatterternary\"}], \"surface\": [{\"colorbar\": {\"outlinewidth\": 0, \"ticks\": \"\"}, \"colorscale\": [[0.0, \"#0d0887\"], [0.1111111111111111, \"#46039f\"], [0.2222222222222222, \"#7201a8\"], [0.3333333333333333, \"#9c179e\"], [0.4444444444444444, \"#bd3786\"], [0.5555555555555556, \"#d8576b\"], [0.6666666666666666, \"#ed7953\"], [0.7777777777777778, \"#fb9f3a\"], [0.8888888888888888, \"#fdca26\"], [1.0, \"#f0f921\"]], \"type\": \"surface\"}], \"table\": [{\"cells\": {\"fill\": {\"color\": \"#EBF0F8\"}, \"line\": {\"color\": \"white\"}}, \"header\": {\"fill\": {\"color\": \"#C8D4E3\"}, \"line\": {\"color\": \"white\"}}, \"type\": \"table\"}]}, \"layout\": {\"annotationdefaults\": {\"arrowcolor\": \"#2a3f5f\", \"arrowhead\": 0, \"arrowwidth\": 1}, \"coloraxis\": {\"colorbar\": {\"outlinewidth\": 0, \"ticks\": \"\"}}, \"colorscale\": {\"diverging\": [[0, \"#8e0152\"], [0.1, \"#c51b7d\"], [0.2, \"#de77ae\"], [0.3, \"#f1b6da\"], [0.4, \"#fde0ef\"], [0.5, \"#f7f7f7\"], [0.6, \"#e6f5d0\"], [0.7, \"#b8e186\"], [0.8, \"#7fbc41\"], [0.9, \"#4d9221\"], [1, \"#276419\"]], \"sequential\": [[0.0, \"#0d0887\"], [0.1111111111111111, \"#46039f\"], [0.2222222222222222, \"#7201a8\"], [0.3333333333333333, \"#9c179e\"], [0.4444444444444444, \"#bd3786\"], [0.5555555555555556, \"#d8576b\"], [0.6666666666666666, \"#ed7953\"], [0.7777777777777778, \"#fb9f3a\"], [0.8888888888888888, \"#fdca26\"], [1.0, \"#f0f921\"]], \"sequentialminus\": [[0.0, \"#0d0887\"], [0.1111111111111111, \"#46039f\"], [0.2222222222222222, \"#7201a8\"], [0.3333333333333333, \"#9c179e\"], [0.4444444444444444, \"#bd3786\"], [0.5555555555555556, \"#d8576b\"], [0.6666666666666666, \"#ed7953\"], [0.7777777777777778, \"#fb9f3a\"], [0.8888888888888888, \"#fdca26\"], [1.0, \"#f0f921\"]]}, \"colorway\": [\"#636efa\", \"#EF553B\", \"#00cc96\", \"#ab63fa\", \"#FFA15A\", \"#19d3f3\", \"#FF6692\", \"#B6E880\", \"#FF97FF\", \"#FECB52\"], \"font\": {\"color\": \"#2a3f5f\"}, \"geo\": {\"bgcolor\": \"white\", \"lakecolor\": \"white\", \"landcolor\": \"#E5ECF6\", \"showlakes\": true, \"showland\": true, \"subunitcolor\": \"white\"}, \"hoverlabel\": {\"align\": \"left\"}, \"hovermode\": \"closest\", \"mapbox\": {\"style\": \"light\"}, \"paper_bgcolor\": \"white\", \"plot_bgcolor\": \"#E5ECF6\", \"polar\": {\"angularaxis\": {\"gridcolor\": \"white\", \"linecolor\": \"white\", \"ticks\": \"\"}, \"bgcolor\": \"#E5ECF6\", \"radialaxis\": {\"gridcolor\": \"white\", \"linecolor\": \"white\", \"ticks\": \"\"}}, \"scene\": {\"xaxis\": {\"backgroundcolor\": \"#E5ECF6\", \"gridcolor\": \"white\", \"gridwidth\": 2, \"linecolor\": \"white\", \"showbackground\": true, \"ticks\": \"\", \"zerolinecolor\": \"white\"}, \"yaxis\": {\"backgroundcolor\": \"#E5ECF6\", \"gridcolor\": \"white\", \"gridwidth\": 2, \"linecolor\": \"white\", \"showbackground\": true, \"ticks\": \"\", \"zerolinecolor\": \"white\"}, \"zaxis\": {\"backgroundcolor\": \"#E5ECF6\", \"gridcolor\": \"white\", \"gridwidth\": 2, \"linecolor\": \"white\", \"showbackground\": true, \"ticks\": \"\", \"zerolinecolor\": \"white\"}}, \"shapedefaults\": {\"line\": {\"color\": \"#2a3f5f\"}}, \"ternary\": {\"aaxis\": {\"gridcolor\": \"white\", \"linecolor\": \"white\", \"ticks\": \"\"}, \"baxis\": {\"gridcolor\": \"white\", \"linecolor\": \"white\", \"ticks\": \"\"}, \"bgcolor\": \"#E5ECF6\", \"caxis\": {\"gridcolor\": \"white\", \"linecolor\": \"white\", \"ticks\": \"\"}}, \"title\": {\"x\": 0.05}, \"xaxis\": {\"automargin\": true, \"gridcolor\": \"white\", \"linecolor\": \"white\", \"ticks\": \"\", \"title\": {\"standoff\": 15}, \"zerolinecolor\": \"white\", \"zerolinewidth\": 2}, \"yaxis\": {\"automargin\": true, \"gridcolor\": \"white\", \"linecolor\": \"white\", \"ticks\": \"\", \"title\": {\"standoff\": 15}, \"zerolinecolor\": \"white\", \"zerolinewidth\": 2}}}, \"title\": {\"font\": {\"color\": \"#4D5663\"}}, \"xaxis\": {\"gridcolor\": \"#E1E5ED\", \"showgrid\": true, \"tickfont\": {\"color\": \"#4D5663\"}, \"title\": {\"font\": {\"color\": \"#4D5663\"}, \"text\": \"\"}, \"zerolinecolor\": \"#E1E5ED\"}, \"yaxis\": {\"gridcolor\": \"#E1E5ED\", \"showgrid\": true, \"tickfont\": {\"color\": \"#4D5663\"}, \"title\": {\"font\": {\"color\": \"#4D5663\"}, \"text\": \"\"}, \"zerolinecolor\": \"#E1E5ED\"}},\n",
       "                        {\"showLink\": true, \"linkText\": \"Export to plot.ly\", \"plotlyServerURL\": \"https://plot.ly\", \"responsive\": true}\n",
       "                    ).then(function(){\n",
       "                            \n",
       "var gd = document.getElementById('47a550c3-c3ed-4318-b1ac-24df4fc1cb22');\n",
       "var x = new MutationObserver(function (mutations, observer) {{\n",
       "        var display = window.getComputedStyle(gd).display;\n",
       "        if (!display || display === 'none') {{\n",
       "            console.log([gd, 'removed!']);\n",
       "            Plotly.purge(gd);\n",
       "            observer.disconnect();\n",
       "        }}\n",
       "}});\n",
       "\n",
       "// Listen for the removal of the full notebook cells\n",
       "var notebookContainer = gd.closest('#notebook-container');\n",
       "if (notebookContainer) {{\n",
       "    x.observe(notebookContainer, {childList: true});\n",
       "}}\n",
       "\n",
       "// Listen for the clearing of the current output cell\n",
       "var outputEl = gd.closest('.output');\n",
       "if (outputEl) {{\n",
       "    x.observe(outputEl, {childList: true});\n",
       "}}\n",
       "\n",
       "                        })\n",
       "                };\n",
       "                });\n",
       "            </script>\n",
       "        </div>"
      ]
     },
     "metadata": {},
     "output_type": "display_data"
    }
   ],
   "source": [
    "df.iplot()"
   ]
  },
  {
   "cell_type": "markdown",
   "metadata": {},
   "source": [
    "## Scatter"
   ]
  },
  {
   "cell_type": "code",
   "execution_count": 12,
   "metadata": {},
   "outputs": [
    {
     "data": {
      "application/vnd.plotly.v1+json": {
       "config": {
        "linkText": "Export to plot.ly",
        "plotlyServerURL": "https://plot.ly",
        "showLink": true
       },
       "data": [
        {
         "line": {
          "color": "rgba(255, 153, 51, 1.0)",
          "dash": "solid",
          "shape": "linear",
          "width": 1.3
         },
         "marker": {
          "size": 15,
          "symbol": "circle"
         },
         "mode": "markers",
         "name": "B",
         "text": "",
         "type": "scatter",
         "x": [
          0.3925721259516482,
          1.372423172955678,
          2.242609686488439,
          -0.8582063908771425,
          0.7608248424673095,
          0.7000004474958651,
          -2.012133152037724,
          0.9326208404062066,
          -0.659318333188724,
          1.6928610483674762,
          -0.6871886678918286,
          -0.35039380953159355,
          -0.42079236277313725,
          0.8690052189226001,
          -0.576444210165041,
          0.21995333800259842,
          -0.4444106568943757,
          -1.1440185333618915,
          -1.6578956613807303,
          -0.4101416114246453,
          -0.8519320305097161,
          1.2103242834430672,
          0.32015253922147136,
          -0.10035894535953092,
          -0.8488192702393195,
          -0.5572712613655367,
          -1.0688607093730706,
          -0.42181977168796303,
          0.12733568405289733,
          -1.0665476173525776,
          0.9261690103955689,
          -1.9549129649944113,
          -1.0277111422245617,
          -0.38799086170382646,
          1.1509943645776262,
          -1.745769144522121,
          1.2130978831137753,
          -0.6425110489904321,
          -0.57978668657439,
          1.0712439163287628,
          -0.9234875765962591,
          2.961687683445264,
          -0.8009271101769784,
          -0.6562531660019234,
          -0.27821128532982536,
          -1.2066325053881286,
          3.292598801986526,
          -1.543892912424364,
          0.5426822404287032,
          0.6393413189471646,
          -0.429902886768494,
          -0.9816502324772437,
          0.04303598600358611,
          -1.167434040446578,
          0.7324805559746674,
          0.8864020652679193,
          0.5228613497547522,
          -1.1582437180761456,
          0.8668597258010465,
          -1.124040455883926,
          1.8000496709282203,
          0.8645540802609497,
          -1.1773722266718076,
          -0.13804095883041229,
          -0.6407571208877594,
          -0.4281134664922928,
          -1.0138183021796128,
          -1.3585492226847056,
          -0.858301495895222,
          -0.08680224327455878,
          -0.9429499025251274,
          -0.516543913855966,
          -1.9085819167197682,
          -0.3047314446803455,
          -0.8469563304785783,
          1.6986622415450738,
          0.4788801048455923,
          0.8165342542226821,
          0.2712567992995717,
          -1.7066836444868176,
          -0.41177484570153433,
          3.4776607657004988,
          -2.834396666032772,
          -0.7774122936937027,
          1.7045043869532526,
          -0.06080095132088235,
          -0.76980795302438,
          -1.0415010013073016,
          0.5224033425902554,
          0.8532714130883641,
          0.5484720112680194,
          0.3391173259213127,
          -1.5739514633185079,
          0.5619600984821377,
          -0.5983771760743023,
          1.1075742347923272,
          -1.6666578332055928,
          -0.3778299507535159,
          -0.6830647528616767,
          0.41404579007455566
         ],
         "y": [
          -0.18562897664789632,
          0.2814946331226841,
          -0.5611496729894913,
          -0.4024455177000891,
          -0.5067484326841816,
          -0.5046831255213409,
          0.3071138555381204,
          0.5235719311401476,
          0.1689123266002498,
          -0.648541330346596,
          -0.2781926966218052,
          0.5674683584811326,
          0.46108742396861463,
          0.4081857886915297,
          0.8856809194878353,
          0.8230987593991649,
          -0.39330647758921633,
          0.3233245409289331,
          -0.6207219618976456,
          -2.398805095729414,
          1.1216956439427725,
          -0.5863344522457911,
          0.5607494682257044,
          0.10914101529479345,
          -0.10621089901970976,
          -0.4309016156343589,
          -0.41156421677297167,
          -0.11563017368980043,
          -2.036410216502865,
          -0.3110822648687047,
          0.4256721368775975,
          -0.7804317607711396,
          1.3742457362160845,
          1.5447331731436296,
          -0.7250748089914916,
          0.24929992571674361,
          -1.7794793815328092,
          0.24138473009400277,
          -1.2034168942707761,
          1.0414639210199483,
          -0.5670377462359961,
          -0.21270823704091296,
          -0.685999635317336,
          1.1247530050048336,
          1.188669271627665,
          -1.8444053144861277,
          -0.48683583832976574,
          -1.4150671526928436,
          -0.7958340475909478,
          0.08001675426748367,
          -0.7821642717145418,
          -0.5779608466326287,
          0.7616839022768124,
          0.5873755367983575,
          0.7997869163737407,
          0.9558533340809422,
          -0.9061367977781155,
          -0.43578105334829365,
          -0.21657032067850326,
          -0.7972237736675932,
          0.5467520310235533,
          -0.05996238706349433,
          -1.3103756836643208,
          -1.2984105754608068,
          -1.08278714497136,
          -0.067375476395044,
          -0.2012741546557389,
          0.7301998783153228,
          0.7860790647665244,
          1.2748168237130528,
          -0.15838584047247817,
          -0.7367956174793401,
          0.17381865974815355,
          -0.608882127348547,
          0.019790573117705768,
          -0.5581866426850328,
          0.37207449041564766,
          2.433253765776426,
          -0.2519215314634941,
          0.7858365678345681,
          0.5594533930884258,
          0.21976613500776326,
          -0.6254685895049678,
          -0.6561891284929092,
          2.1213683420326332,
          0.12457784109751802,
          -0.14382087113095818,
          0.4394487501767444,
          -0.744337348321256,
          -0.3777265856290238,
          0.8070672733664923,
          -0.24328759151350107,
          -1.7140416474135354,
          -1.5670830508801825,
          1.8234229094828922,
          0.5031344290993308,
          -1.366297613187657,
          1.0133773132755128,
          -0.28092282255864715,
          -0.16105588035881507
         ]
        }
       ],
       "layout": {
        "legend": {
         "bgcolor": "#F5F6F9",
         "font": {
          "color": "#4D5663"
         }
        },
        "paper_bgcolor": "#F5F6F9",
        "plot_bgcolor": "#F5F6F9",
        "template": {
         "data": {
          "bar": [
           {
            "error_x": {
             "color": "#2a3f5f"
            },
            "error_y": {
             "color": "#2a3f5f"
            },
            "marker": {
             "line": {
              "color": "#E5ECF6",
              "width": 0.5
             }
            },
            "type": "bar"
           }
          ],
          "barpolar": [
           {
            "marker": {
             "line": {
              "color": "#E5ECF6",
              "width": 0.5
             }
            },
            "type": "barpolar"
           }
          ],
          "carpet": [
           {
            "aaxis": {
             "endlinecolor": "#2a3f5f",
             "gridcolor": "white",
             "linecolor": "white",
             "minorgridcolor": "white",
             "startlinecolor": "#2a3f5f"
            },
            "baxis": {
             "endlinecolor": "#2a3f5f",
             "gridcolor": "white",
             "linecolor": "white",
             "minorgridcolor": "white",
             "startlinecolor": "#2a3f5f"
            },
            "type": "carpet"
           }
          ],
          "choropleth": [
           {
            "colorbar": {
             "outlinewidth": 0,
             "ticks": ""
            },
            "type": "choropleth"
           }
          ],
          "contour": [
           {
            "colorbar": {
             "outlinewidth": 0,
             "ticks": ""
            },
            "colorscale": [
             [
              0,
              "#0d0887"
             ],
             [
              0.1111111111111111,
              "#46039f"
             ],
             [
              0.2222222222222222,
              "#7201a8"
             ],
             [
              0.3333333333333333,
              "#9c179e"
             ],
             [
              0.4444444444444444,
              "#bd3786"
             ],
             [
              0.5555555555555556,
              "#d8576b"
             ],
             [
              0.6666666666666666,
              "#ed7953"
             ],
             [
              0.7777777777777778,
              "#fb9f3a"
             ],
             [
              0.8888888888888888,
              "#fdca26"
             ],
             [
              1,
              "#f0f921"
             ]
            ],
            "type": "contour"
           }
          ],
          "contourcarpet": [
           {
            "colorbar": {
             "outlinewidth": 0,
             "ticks": ""
            },
            "type": "contourcarpet"
           }
          ],
          "heatmap": [
           {
            "colorbar": {
             "outlinewidth": 0,
             "ticks": ""
            },
            "colorscale": [
             [
              0,
              "#0d0887"
             ],
             [
              0.1111111111111111,
              "#46039f"
             ],
             [
              0.2222222222222222,
              "#7201a8"
             ],
             [
              0.3333333333333333,
              "#9c179e"
             ],
             [
              0.4444444444444444,
              "#bd3786"
             ],
             [
              0.5555555555555556,
              "#d8576b"
             ],
             [
              0.6666666666666666,
              "#ed7953"
             ],
             [
              0.7777777777777778,
              "#fb9f3a"
             ],
             [
              0.8888888888888888,
              "#fdca26"
             ],
             [
              1,
              "#f0f921"
             ]
            ],
            "type": "heatmap"
           }
          ],
          "heatmapgl": [
           {
            "colorbar": {
             "outlinewidth": 0,
             "ticks": ""
            },
            "colorscale": [
             [
              0,
              "#0d0887"
             ],
             [
              0.1111111111111111,
              "#46039f"
             ],
             [
              0.2222222222222222,
              "#7201a8"
             ],
             [
              0.3333333333333333,
              "#9c179e"
             ],
             [
              0.4444444444444444,
              "#bd3786"
             ],
             [
              0.5555555555555556,
              "#d8576b"
             ],
             [
              0.6666666666666666,
              "#ed7953"
             ],
             [
              0.7777777777777778,
              "#fb9f3a"
             ],
             [
              0.8888888888888888,
              "#fdca26"
             ],
             [
              1,
              "#f0f921"
             ]
            ],
            "type": "heatmapgl"
           }
          ],
          "histogram": [
           {
            "marker": {
             "colorbar": {
              "outlinewidth": 0,
              "ticks": ""
             }
            },
            "type": "histogram"
           }
          ],
          "histogram2d": [
           {
            "colorbar": {
             "outlinewidth": 0,
             "ticks": ""
            },
            "colorscale": [
             [
              0,
              "#0d0887"
             ],
             [
              0.1111111111111111,
              "#46039f"
             ],
             [
              0.2222222222222222,
              "#7201a8"
             ],
             [
              0.3333333333333333,
              "#9c179e"
             ],
             [
              0.4444444444444444,
              "#bd3786"
             ],
             [
              0.5555555555555556,
              "#d8576b"
             ],
             [
              0.6666666666666666,
              "#ed7953"
             ],
             [
              0.7777777777777778,
              "#fb9f3a"
             ],
             [
              0.8888888888888888,
              "#fdca26"
             ],
             [
              1,
              "#f0f921"
             ]
            ],
            "type": "histogram2d"
           }
          ],
          "histogram2dcontour": [
           {
            "colorbar": {
             "outlinewidth": 0,
             "ticks": ""
            },
            "colorscale": [
             [
              0,
              "#0d0887"
             ],
             [
              0.1111111111111111,
              "#46039f"
             ],
             [
              0.2222222222222222,
              "#7201a8"
             ],
             [
              0.3333333333333333,
              "#9c179e"
             ],
             [
              0.4444444444444444,
              "#bd3786"
             ],
             [
              0.5555555555555556,
              "#d8576b"
             ],
             [
              0.6666666666666666,
              "#ed7953"
             ],
             [
              0.7777777777777778,
              "#fb9f3a"
             ],
             [
              0.8888888888888888,
              "#fdca26"
             ],
             [
              1,
              "#f0f921"
             ]
            ],
            "type": "histogram2dcontour"
           }
          ],
          "mesh3d": [
           {
            "colorbar": {
             "outlinewidth": 0,
             "ticks": ""
            },
            "type": "mesh3d"
           }
          ],
          "parcoords": [
           {
            "line": {
             "colorbar": {
              "outlinewidth": 0,
              "ticks": ""
             }
            },
            "type": "parcoords"
           }
          ],
          "pie": [
           {
            "automargin": true,
            "type": "pie"
           }
          ],
          "scatter": [
           {
            "marker": {
             "colorbar": {
              "outlinewidth": 0,
              "ticks": ""
             }
            },
            "type": "scatter"
           }
          ],
          "scatter3d": [
           {
            "line": {
             "colorbar": {
              "outlinewidth": 0,
              "ticks": ""
             }
            },
            "marker": {
             "colorbar": {
              "outlinewidth": 0,
              "ticks": ""
             }
            },
            "type": "scatter3d"
           }
          ],
          "scattercarpet": [
           {
            "marker": {
             "colorbar": {
              "outlinewidth": 0,
              "ticks": ""
             }
            },
            "type": "scattercarpet"
           }
          ],
          "scattergeo": [
           {
            "marker": {
             "colorbar": {
              "outlinewidth": 0,
              "ticks": ""
             }
            },
            "type": "scattergeo"
           }
          ],
          "scattergl": [
           {
            "marker": {
             "colorbar": {
              "outlinewidth": 0,
              "ticks": ""
             }
            },
            "type": "scattergl"
           }
          ],
          "scattermapbox": [
           {
            "marker": {
             "colorbar": {
              "outlinewidth": 0,
              "ticks": ""
             }
            },
            "type": "scattermapbox"
           }
          ],
          "scatterpolar": [
           {
            "marker": {
             "colorbar": {
              "outlinewidth": 0,
              "ticks": ""
             }
            },
            "type": "scatterpolar"
           }
          ],
          "scatterpolargl": [
           {
            "marker": {
             "colorbar": {
              "outlinewidth": 0,
              "ticks": ""
             }
            },
            "type": "scatterpolargl"
           }
          ],
          "scatterternary": [
           {
            "marker": {
             "colorbar": {
              "outlinewidth": 0,
              "ticks": ""
             }
            },
            "type": "scatterternary"
           }
          ],
          "surface": [
           {
            "colorbar": {
             "outlinewidth": 0,
             "ticks": ""
            },
            "colorscale": [
             [
              0,
              "#0d0887"
             ],
             [
              0.1111111111111111,
              "#46039f"
             ],
             [
              0.2222222222222222,
              "#7201a8"
             ],
             [
              0.3333333333333333,
              "#9c179e"
             ],
             [
              0.4444444444444444,
              "#bd3786"
             ],
             [
              0.5555555555555556,
              "#d8576b"
             ],
             [
              0.6666666666666666,
              "#ed7953"
             ],
             [
              0.7777777777777778,
              "#fb9f3a"
             ],
             [
              0.8888888888888888,
              "#fdca26"
             ],
             [
              1,
              "#f0f921"
             ]
            ],
            "type": "surface"
           }
          ],
          "table": [
           {
            "cells": {
             "fill": {
              "color": "#EBF0F8"
             },
             "line": {
              "color": "white"
             }
            },
            "header": {
             "fill": {
              "color": "#C8D4E3"
             },
             "line": {
              "color": "white"
             }
            },
            "type": "table"
           }
          ]
         },
         "layout": {
          "annotationdefaults": {
           "arrowcolor": "#2a3f5f",
           "arrowhead": 0,
           "arrowwidth": 1
          },
          "coloraxis": {
           "colorbar": {
            "outlinewidth": 0,
            "ticks": ""
           }
          },
          "colorscale": {
           "diverging": [
            [
             0,
             "#8e0152"
            ],
            [
             0.1,
             "#c51b7d"
            ],
            [
             0.2,
             "#de77ae"
            ],
            [
             0.3,
             "#f1b6da"
            ],
            [
             0.4,
             "#fde0ef"
            ],
            [
             0.5,
             "#f7f7f7"
            ],
            [
             0.6,
             "#e6f5d0"
            ],
            [
             0.7,
             "#b8e186"
            ],
            [
             0.8,
             "#7fbc41"
            ],
            [
             0.9,
             "#4d9221"
            ],
            [
             1,
             "#276419"
            ]
           ],
           "sequential": [
            [
             0,
             "#0d0887"
            ],
            [
             0.1111111111111111,
             "#46039f"
            ],
            [
             0.2222222222222222,
             "#7201a8"
            ],
            [
             0.3333333333333333,
             "#9c179e"
            ],
            [
             0.4444444444444444,
             "#bd3786"
            ],
            [
             0.5555555555555556,
             "#d8576b"
            ],
            [
             0.6666666666666666,
             "#ed7953"
            ],
            [
             0.7777777777777778,
             "#fb9f3a"
            ],
            [
             0.8888888888888888,
             "#fdca26"
            ],
            [
             1,
             "#f0f921"
            ]
           ],
           "sequentialminus": [
            [
             0,
             "#0d0887"
            ],
            [
             0.1111111111111111,
             "#46039f"
            ],
            [
             0.2222222222222222,
             "#7201a8"
            ],
            [
             0.3333333333333333,
             "#9c179e"
            ],
            [
             0.4444444444444444,
             "#bd3786"
            ],
            [
             0.5555555555555556,
             "#d8576b"
            ],
            [
             0.6666666666666666,
             "#ed7953"
            ],
            [
             0.7777777777777778,
             "#fb9f3a"
            ],
            [
             0.8888888888888888,
             "#fdca26"
            ],
            [
             1,
             "#f0f921"
            ]
           ]
          },
          "colorway": [
           "#636efa",
           "#EF553B",
           "#00cc96",
           "#ab63fa",
           "#FFA15A",
           "#19d3f3",
           "#FF6692",
           "#B6E880",
           "#FF97FF",
           "#FECB52"
          ],
          "font": {
           "color": "#2a3f5f"
          },
          "geo": {
           "bgcolor": "white",
           "lakecolor": "white",
           "landcolor": "#E5ECF6",
           "showlakes": true,
           "showland": true,
           "subunitcolor": "white"
          },
          "hoverlabel": {
           "align": "left"
          },
          "hovermode": "closest",
          "mapbox": {
           "style": "light"
          },
          "paper_bgcolor": "white",
          "plot_bgcolor": "#E5ECF6",
          "polar": {
           "angularaxis": {
            "gridcolor": "white",
            "linecolor": "white",
            "ticks": ""
           },
           "bgcolor": "#E5ECF6",
           "radialaxis": {
            "gridcolor": "white",
            "linecolor": "white",
            "ticks": ""
           }
          },
          "scene": {
           "xaxis": {
            "backgroundcolor": "#E5ECF6",
            "gridcolor": "white",
            "gridwidth": 2,
            "linecolor": "white",
            "showbackground": true,
            "ticks": "",
            "zerolinecolor": "white"
           },
           "yaxis": {
            "backgroundcolor": "#E5ECF6",
            "gridcolor": "white",
            "gridwidth": 2,
            "linecolor": "white",
            "showbackground": true,
            "ticks": "",
            "zerolinecolor": "white"
           },
           "zaxis": {
            "backgroundcolor": "#E5ECF6",
            "gridcolor": "white",
            "gridwidth": 2,
            "linecolor": "white",
            "showbackground": true,
            "ticks": "",
            "zerolinecolor": "white"
           }
          },
          "shapedefaults": {
           "line": {
            "color": "#2a3f5f"
           }
          },
          "ternary": {
           "aaxis": {
            "gridcolor": "white",
            "linecolor": "white",
            "ticks": ""
           },
           "baxis": {
            "gridcolor": "white",
            "linecolor": "white",
            "ticks": ""
           },
           "bgcolor": "#E5ECF6",
           "caxis": {
            "gridcolor": "white",
            "linecolor": "white",
            "ticks": ""
           }
          },
          "title": {
           "x": 0.05
          },
          "xaxis": {
           "automargin": true,
           "gridcolor": "white",
           "linecolor": "white",
           "ticks": "",
           "title": {
            "standoff": 15
           },
           "zerolinecolor": "white",
           "zerolinewidth": 2
          },
          "yaxis": {
           "automargin": true,
           "gridcolor": "white",
           "linecolor": "white",
           "ticks": "",
           "title": {
            "standoff": 15
           },
           "zerolinecolor": "white",
           "zerolinewidth": 2
          }
         }
        },
        "title": {
         "font": {
          "color": "#4D5663"
         }
        },
        "xaxis": {
         "gridcolor": "#E1E5ED",
         "showgrid": true,
         "tickfont": {
          "color": "#4D5663"
         },
         "title": {
          "font": {
           "color": "#4D5663"
          },
          "text": ""
         },
         "zerolinecolor": "#E1E5ED"
        },
        "yaxis": {
         "gridcolor": "#E1E5ED",
         "showgrid": true,
         "tickfont": {
          "color": "#4D5663"
         },
         "title": {
          "font": {
           "color": "#4D5663"
          },
          "text": ""
         },
         "zerolinecolor": "#E1E5ED"
        }
       }
      },
      "text/html": [
       "<div>\n",
       "        \n",
       "        \n",
       "            <div id=\"eaee2312-1887-4f31-b72a-9accca50d9b3\" class=\"plotly-graph-div\" style=\"height:525px; width:100%;\"></div>\n",
       "            <script type=\"text/javascript\">\n",
       "                require([\"plotly\"], function(Plotly) {\n",
       "                    window.PLOTLYENV=window.PLOTLYENV || {};\n",
       "                    window.PLOTLYENV.BASE_URL='https://plot.ly';\n",
       "                    \n",
       "                if (document.getElementById(\"eaee2312-1887-4f31-b72a-9accca50d9b3\")) {\n",
       "                    Plotly.newPlot(\n",
       "                        'eaee2312-1887-4f31-b72a-9accca50d9b3',\n",
       "                        [{\"line\": {\"color\": \"rgba(255, 153, 51, 1.0)\", \"dash\": \"solid\", \"shape\": \"linear\", \"width\": 1.3}, \"marker\": {\"size\": 15, \"symbol\": \"circle\"}, \"mode\": \"markers\", \"name\": \"B\", \"text\": \"\", \"type\": \"scatter\", \"x\": [0.3925721259516482, 1.372423172955678, 2.242609686488439, -0.8582063908771425, 0.7608248424673095, 0.7000004474958651, -2.012133152037724, 0.9326208404062066, -0.659318333188724, 1.6928610483674762, -0.6871886678918286, -0.35039380953159355, -0.42079236277313725, 0.8690052189226001, -0.576444210165041, 0.21995333800259842, -0.4444106568943757, -1.1440185333618915, -1.6578956613807303, -0.4101416114246453, -0.8519320305097161, 1.2103242834430672, 0.32015253922147136, -0.10035894535953092, -0.8488192702393195, -0.5572712613655367, -1.0688607093730706, -0.42181977168796303, 0.12733568405289733, -1.0665476173525776, 0.9261690103955689, -1.9549129649944113, -1.0277111422245617, -0.38799086170382646, 1.1509943645776262, -1.745769144522121, 1.2130978831137753, -0.6425110489904321, -0.57978668657439, 1.0712439163287628, -0.9234875765962591, 2.961687683445264, -0.8009271101769784, -0.6562531660019234, -0.27821128532982536, -1.2066325053881286, 3.292598801986526, -1.543892912424364, 0.5426822404287032, 0.6393413189471646, -0.429902886768494, -0.9816502324772437, 0.04303598600358611, -1.167434040446578, 0.7324805559746674, 0.8864020652679193, 0.5228613497547522, -1.1582437180761456, 0.8668597258010465, -1.124040455883926, 1.8000496709282203, 0.8645540802609497, -1.1773722266718076, -0.13804095883041229, -0.6407571208877594, -0.4281134664922928, -1.0138183021796128, -1.3585492226847056, -0.858301495895222, -0.08680224327455878, -0.9429499025251274, -0.516543913855966, -1.9085819167197682, -0.3047314446803455, -0.8469563304785783, 1.6986622415450738, 0.4788801048455923, 0.8165342542226821, 0.2712567992995717, -1.7066836444868176, -0.41177484570153433, 3.4776607657004988, -2.834396666032772, -0.7774122936937027, 1.7045043869532526, -0.06080095132088235, -0.76980795302438, -1.0415010013073016, 0.5224033425902554, 0.8532714130883641, 0.5484720112680194, 0.3391173259213127, -1.5739514633185079, 0.5619600984821377, -0.5983771760743023, 1.1075742347923272, -1.6666578332055928, -0.3778299507535159, -0.6830647528616767, 0.41404579007455566], \"y\": [-0.18562897664789632, 0.2814946331226841, -0.5611496729894913, -0.4024455177000891, -0.5067484326841816, -0.5046831255213409, 0.3071138555381204, 0.5235719311401476, 0.1689123266002498, -0.648541330346596, -0.2781926966218052, 0.5674683584811326, 0.46108742396861463, 0.4081857886915297, 0.8856809194878353, 0.8230987593991649, -0.39330647758921633, 0.3233245409289331, -0.6207219618976456, -2.398805095729414, 1.1216956439427725, -0.5863344522457911, 0.5607494682257044, 0.10914101529479345, -0.10621089901970976, -0.4309016156343589, -0.41156421677297167, -0.11563017368980043, -2.036410216502865, -0.3110822648687047, 0.4256721368775975, -0.7804317607711396, 1.3742457362160845, 1.5447331731436296, -0.7250748089914916, 0.24929992571674361, -1.7794793815328092, 0.24138473009400277, -1.2034168942707761, 1.0414639210199483, -0.5670377462359961, -0.21270823704091296, -0.685999635317336, 1.1247530050048336, 1.188669271627665, -1.8444053144861277, -0.48683583832976574, -1.4150671526928436, -0.7958340475909478, 0.08001675426748367, -0.7821642717145418, -0.5779608466326287, 0.7616839022768124, 0.5873755367983575, 0.7997869163737407, 0.9558533340809422, -0.9061367977781155, -0.43578105334829365, -0.21657032067850326, -0.7972237736675932, 0.5467520310235533, -0.05996238706349433, -1.3103756836643208, -1.2984105754608068, -1.08278714497136, -0.067375476395044, -0.2012741546557389, 0.7301998783153228, 0.7860790647665244, 1.2748168237130528, -0.15838584047247817, -0.7367956174793401, 0.17381865974815355, -0.608882127348547, 0.019790573117705768, -0.5581866426850328, 0.37207449041564766, 2.433253765776426, -0.2519215314634941, 0.7858365678345681, 0.5594533930884258, 0.21976613500776326, -0.6254685895049678, -0.6561891284929092, 2.1213683420326332, 0.12457784109751802, -0.14382087113095818, 0.4394487501767444, -0.744337348321256, -0.3777265856290238, 0.8070672733664923, -0.24328759151350107, -1.7140416474135354, -1.5670830508801825, 1.8234229094828922, 0.5031344290993308, -1.366297613187657, 1.0133773132755128, -0.28092282255864715, -0.16105588035881507]}],\n",
       "                        {\"legend\": {\"bgcolor\": \"#F5F6F9\", \"font\": {\"color\": \"#4D5663\"}}, \"paper_bgcolor\": \"#F5F6F9\", \"plot_bgcolor\": \"#F5F6F9\", \"template\": {\"data\": {\"bar\": [{\"error_x\": {\"color\": \"#2a3f5f\"}, \"error_y\": {\"color\": \"#2a3f5f\"}, \"marker\": {\"line\": {\"color\": \"#E5ECF6\", \"width\": 0.5}}, \"type\": \"bar\"}], \"barpolar\": [{\"marker\": {\"line\": {\"color\": \"#E5ECF6\", \"width\": 0.5}}, \"type\": \"barpolar\"}], \"carpet\": [{\"aaxis\": {\"endlinecolor\": \"#2a3f5f\", \"gridcolor\": \"white\", \"linecolor\": \"white\", \"minorgridcolor\": \"white\", \"startlinecolor\": \"#2a3f5f\"}, \"baxis\": {\"endlinecolor\": \"#2a3f5f\", \"gridcolor\": \"white\", \"linecolor\": \"white\", \"minorgridcolor\": \"white\", \"startlinecolor\": \"#2a3f5f\"}, \"type\": \"carpet\"}], \"choropleth\": [{\"colorbar\": {\"outlinewidth\": 0, \"ticks\": \"\"}, \"type\": \"choropleth\"}], \"contour\": [{\"colorbar\": {\"outlinewidth\": 0, \"ticks\": \"\"}, \"colorscale\": [[0.0, \"#0d0887\"], [0.1111111111111111, \"#46039f\"], [0.2222222222222222, \"#7201a8\"], [0.3333333333333333, \"#9c179e\"], [0.4444444444444444, \"#bd3786\"], [0.5555555555555556, \"#d8576b\"], [0.6666666666666666, \"#ed7953\"], [0.7777777777777778, \"#fb9f3a\"], [0.8888888888888888, \"#fdca26\"], [1.0, \"#f0f921\"]], \"type\": \"contour\"}], \"contourcarpet\": [{\"colorbar\": {\"outlinewidth\": 0, \"ticks\": \"\"}, \"type\": \"contourcarpet\"}], \"heatmap\": [{\"colorbar\": {\"outlinewidth\": 0, \"ticks\": \"\"}, \"colorscale\": [[0.0, \"#0d0887\"], [0.1111111111111111, \"#46039f\"], [0.2222222222222222, \"#7201a8\"], [0.3333333333333333, \"#9c179e\"], [0.4444444444444444, \"#bd3786\"], [0.5555555555555556, \"#d8576b\"], [0.6666666666666666, \"#ed7953\"], [0.7777777777777778, \"#fb9f3a\"], [0.8888888888888888, \"#fdca26\"], [1.0, \"#f0f921\"]], \"type\": \"heatmap\"}], \"heatmapgl\": [{\"colorbar\": {\"outlinewidth\": 0, \"ticks\": \"\"}, \"colorscale\": [[0.0, \"#0d0887\"], [0.1111111111111111, \"#46039f\"], [0.2222222222222222, \"#7201a8\"], [0.3333333333333333, \"#9c179e\"], [0.4444444444444444, \"#bd3786\"], [0.5555555555555556, \"#d8576b\"], [0.6666666666666666, \"#ed7953\"], [0.7777777777777778, \"#fb9f3a\"], [0.8888888888888888, \"#fdca26\"], [1.0, \"#f0f921\"]], \"type\": \"heatmapgl\"}], \"histogram\": [{\"marker\": {\"colorbar\": {\"outlinewidth\": 0, \"ticks\": \"\"}}, \"type\": \"histogram\"}], \"histogram2d\": [{\"colorbar\": {\"outlinewidth\": 0, \"ticks\": \"\"}, \"colorscale\": [[0.0, \"#0d0887\"], [0.1111111111111111, \"#46039f\"], [0.2222222222222222, \"#7201a8\"], [0.3333333333333333, \"#9c179e\"], [0.4444444444444444, \"#bd3786\"], [0.5555555555555556, \"#d8576b\"], [0.6666666666666666, \"#ed7953\"], [0.7777777777777778, \"#fb9f3a\"], [0.8888888888888888, \"#fdca26\"], [1.0, \"#f0f921\"]], \"type\": \"histogram2d\"}], \"histogram2dcontour\": [{\"colorbar\": {\"outlinewidth\": 0, \"ticks\": \"\"}, \"colorscale\": [[0.0, \"#0d0887\"], [0.1111111111111111, \"#46039f\"], [0.2222222222222222, \"#7201a8\"], [0.3333333333333333, \"#9c179e\"], [0.4444444444444444, \"#bd3786\"], [0.5555555555555556, \"#d8576b\"], [0.6666666666666666, \"#ed7953\"], [0.7777777777777778, \"#fb9f3a\"], [0.8888888888888888, \"#fdca26\"], [1.0, \"#f0f921\"]], \"type\": \"histogram2dcontour\"}], \"mesh3d\": [{\"colorbar\": {\"outlinewidth\": 0, \"ticks\": \"\"}, \"type\": \"mesh3d\"}], \"parcoords\": [{\"line\": {\"colorbar\": {\"outlinewidth\": 0, \"ticks\": \"\"}}, \"type\": \"parcoords\"}], \"pie\": [{\"automargin\": true, \"type\": \"pie\"}], \"scatter\": [{\"marker\": {\"colorbar\": {\"outlinewidth\": 0, \"ticks\": \"\"}}, \"type\": \"scatter\"}], \"scatter3d\": [{\"line\": {\"colorbar\": {\"outlinewidth\": 0, \"ticks\": \"\"}}, \"marker\": {\"colorbar\": {\"outlinewidth\": 0, \"ticks\": \"\"}}, \"type\": \"scatter3d\"}], \"scattercarpet\": [{\"marker\": {\"colorbar\": {\"outlinewidth\": 0, \"ticks\": \"\"}}, \"type\": \"scattercarpet\"}], \"scattergeo\": [{\"marker\": {\"colorbar\": {\"outlinewidth\": 0, \"ticks\": \"\"}}, \"type\": \"scattergeo\"}], \"scattergl\": [{\"marker\": {\"colorbar\": {\"outlinewidth\": 0, \"ticks\": \"\"}}, \"type\": \"scattergl\"}], \"scattermapbox\": [{\"marker\": {\"colorbar\": {\"outlinewidth\": 0, \"ticks\": \"\"}}, \"type\": \"scattermapbox\"}], \"scatterpolar\": [{\"marker\": {\"colorbar\": {\"outlinewidth\": 0, \"ticks\": \"\"}}, \"type\": \"scatterpolar\"}], \"scatterpolargl\": [{\"marker\": {\"colorbar\": {\"outlinewidth\": 0, \"ticks\": \"\"}}, \"type\": \"scatterpolargl\"}], \"scatterternary\": [{\"marker\": {\"colorbar\": {\"outlinewidth\": 0, \"ticks\": \"\"}}, \"type\": \"scatterternary\"}], \"surface\": [{\"colorbar\": {\"outlinewidth\": 0, \"ticks\": \"\"}, \"colorscale\": [[0.0, \"#0d0887\"], [0.1111111111111111, \"#46039f\"], [0.2222222222222222, \"#7201a8\"], [0.3333333333333333, \"#9c179e\"], [0.4444444444444444, \"#bd3786\"], [0.5555555555555556, \"#d8576b\"], [0.6666666666666666, \"#ed7953\"], [0.7777777777777778, \"#fb9f3a\"], [0.8888888888888888, \"#fdca26\"], [1.0, \"#f0f921\"]], \"type\": \"surface\"}], \"table\": [{\"cells\": {\"fill\": {\"color\": \"#EBF0F8\"}, \"line\": {\"color\": \"white\"}}, \"header\": {\"fill\": {\"color\": \"#C8D4E3\"}, \"line\": {\"color\": \"white\"}}, \"type\": \"table\"}]}, \"layout\": {\"annotationdefaults\": {\"arrowcolor\": \"#2a3f5f\", \"arrowhead\": 0, \"arrowwidth\": 1}, \"coloraxis\": {\"colorbar\": {\"outlinewidth\": 0, \"ticks\": \"\"}}, \"colorscale\": {\"diverging\": [[0, \"#8e0152\"], [0.1, \"#c51b7d\"], [0.2, \"#de77ae\"], [0.3, \"#f1b6da\"], [0.4, \"#fde0ef\"], [0.5, \"#f7f7f7\"], [0.6, \"#e6f5d0\"], [0.7, \"#b8e186\"], [0.8, \"#7fbc41\"], [0.9, \"#4d9221\"], [1, \"#276419\"]], \"sequential\": [[0.0, \"#0d0887\"], [0.1111111111111111, \"#46039f\"], [0.2222222222222222, \"#7201a8\"], [0.3333333333333333, \"#9c179e\"], [0.4444444444444444, \"#bd3786\"], [0.5555555555555556, \"#d8576b\"], [0.6666666666666666, \"#ed7953\"], [0.7777777777777778, \"#fb9f3a\"], [0.8888888888888888, \"#fdca26\"], [1.0, \"#f0f921\"]], \"sequentialminus\": [[0.0, \"#0d0887\"], [0.1111111111111111, \"#46039f\"], [0.2222222222222222, \"#7201a8\"], [0.3333333333333333, \"#9c179e\"], [0.4444444444444444, \"#bd3786\"], [0.5555555555555556, \"#d8576b\"], [0.6666666666666666, \"#ed7953\"], [0.7777777777777778, \"#fb9f3a\"], [0.8888888888888888, \"#fdca26\"], [1.0, \"#f0f921\"]]}, \"colorway\": [\"#636efa\", \"#EF553B\", \"#00cc96\", \"#ab63fa\", \"#FFA15A\", \"#19d3f3\", \"#FF6692\", \"#B6E880\", \"#FF97FF\", \"#FECB52\"], \"font\": {\"color\": \"#2a3f5f\"}, \"geo\": {\"bgcolor\": \"white\", \"lakecolor\": \"white\", \"landcolor\": \"#E5ECF6\", \"showlakes\": true, \"showland\": true, \"subunitcolor\": \"white\"}, \"hoverlabel\": {\"align\": \"left\"}, \"hovermode\": \"closest\", \"mapbox\": {\"style\": \"light\"}, \"paper_bgcolor\": \"white\", \"plot_bgcolor\": \"#E5ECF6\", \"polar\": {\"angularaxis\": {\"gridcolor\": \"white\", \"linecolor\": \"white\", \"ticks\": \"\"}, \"bgcolor\": \"#E5ECF6\", \"radialaxis\": {\"gridcolor\": \"white\", \"linecolor\": \"white\", \"ticks\": \"\"}}, \"scene\": {\"xaxis\": {\"backgroundcolor\": \"#E5ECF6\", \"gridcolor\": \"white\", \"gridwidth\": 2, \"linecolor\": \"white\", \"showbackground\": true, \"ticks\": \"\", \"zerolinecolor\": \"white\"}, \"yaxis\": {\"backgroundcolor\": \"#E5ECF6\", \"gridcolor\": \"white\", \"gridwidth\": 2, \"linecolor\": \"white\", \"showbackground\": true, \"ticks\": \"\", \"zerolinecolor\": \"white\"}, \"zaxis\": {\"backgroundcolor\": \"#E5ECF6\", \"gridcolor\": \"white\", \"gridwidth\": 2, \"linecolor\": \"white\", \"showbackground\": true, \"ticks\": \"\", \"zerolinecolor\": \"white\"}}, \"shapedefaults\": {\"line\": {\"color\": \"#2a3f5f\"}}, \"ternary\": {\"aaxis\": {\"gridcolor\": \"white\", \"linecolor\": \"white\", \"ticks\": \"\"}, \"baxis\": {\"gridcolor\": \"white\", \"linecolor\": \"white\", \"ticks\": \"\"}, \"bgcolor\": \"#E5ECF6\", \"caxis\": {\"gridcolor\": \"white\", \"linecolor\": \"white\", \"ticks\": \"\"}}, \"title\": {\"x\": 0.05}, \"xaxis\": {\"automargin\": true, \"gridcolor\": \"white\", \"linecolor\": \"white\", \"ticks\": \"\", \"title\": {\"standoff\": 15}, \"zerolinecolor\": \"white\", \"zerolinewidth\": 2}, \"yaxis\": {\"automargin\": true, \"gridcolor\": \"white\", \"linecolor\": \"white\", \"ticks\": \"\", \"title\": {\"standoff\": 15}, \"zerolinecolor\": \"white\", \"zerolinewidth\": 2}}}, \"title\": {\"font\": {\"color\": \"#4D5663\"}}, \"xaxis\": {\"gridcolor\": \"#E1E5ED\", \"showgrid\": true, \"tickfont\": {\"color\": \"#4D5663\"}, \"title\": {\"font\": {\"color\": \"#4D5663\"}, \"text\": \"\"}, \"zerolinecolor\": \"#E1E5ED\"}, \"yaxis\": {\"gridcolor\": \"#E1E5ED\", \"showgrid\": true, \"tickfont\": {\"color\": \"#4D5663\"}, \"title\": {\"font\": {\"color\": \"#4D5663\"}, \"text\": \"\"}, \"zerolinecolor\": \"#E1E5ED\"}},\n",
       "                        {\"showLink\": true, \"linkText\": \"Export to plot.ly\", \"plotlyServerURL\": \"https://plot.ly\", \"responsive\": true}\n",
       "                    ).then(function(){\n",
       "                            \n",
       "var gd = document.getElementById('eaee2312-1887-4f31-b72a-9accca50d9b3');\n",
       "var x = new MutationObserver(function (mutations, observer) {{\n",
       "        var display = window.getComputedStyle(gd).display;\n",
       "        if (!display || display === 'none') {{\n",
       "            console.log([gd, 'removed!']);\n",
       "            Plotly.purge(gd);\n",
       "            observer.disconnect();\n",
       "        }}\n",
       "}});\n",
       "\n",
       "// Listen for the removal of the full notebook cells\n",
       "var notebookContainer = gd.closest('#notebook-container');\n",
       "if (notebookContainer) {{\n",
       "    x.observe(notebookContainer, {childList: true});\n",
       "}}\n",
       "\n",
       "// Listen for the clearing of the current output cell\n",
       "var outputEl = gd.closest('.output');\n",
       "if (outputEl) {{\n",
       "    x.observe(outputEl, {childList: true});\n",
       "}}\n",
       "\n",
       "                        })\n",
       "                };\n",
       "                });\n",
       "            </script>\n",
       "        </div>"
      ]
     },
     "metadata": {},
     "output_type": "display_data"
    }
   ],
   "source": [
    "df.iplot(kind='scatter',x='A',y='B',mode='markers',size=15)"
   ]
  },
  {
   "cell_type": "markdown",
   "metadata": {},
   "source": [
    "## Bar Plots"
   ]
  },
  {
   "cell_type": "code",
   "execution_count": 13,
   "metadata": {},
   "outputs": [
    {
     "data": {
      "application/vnd.plotly.v1+json": {
       "config": {
        "linkText": "Export to plot.ly",
        "plotlyServerURL": "https://plot.ly",
        "showLink": true
       },
       "data": [
        {
         "marker": {
          "color": "rgba(255, 153, 51, 0.6)",
          "line": {
           "color": "rgba(255, 153, 51, 1.0)",
           "width": 1
          }
         },
         "name": "Values",
         "orientation": "v",
         "text": "",
         "type": "bar",
         "x": [
          "A",
          "B",
          "C"
         ],
         "y": [
          32,
          43,
          50
         ]
        }
       ],
       "layout": {
        "legend": {
         "bgcolor": "#F5F6F9",
         "font": {
          "color": "#4D5663"
         }
        },
        "paper_bgcolor": "#F5F6F9",
        "plot_bgcolor": "#F5F6F9",
        "template": {
         "data": {
          "bar": [
           {
            "error_x": {
             "color": "#2a3f5f"
            },
            "error_y": {
             "color": "#2a3f5f"
            },
            "marker": {
             "line": {
              "color": "#E5ECF6",
              "width": 0.5
             }
            },
            "type": "bar"
           }
          ],
          "barpolar": [
           {
            "marker": {
             "line": {
              "color": "#E5ECF6",
              "width": 0.5
             }
            },
            "type": "barpolar"
           }
          ],
          "carpet": [
           {
            "aaxis": {
             "endlinecolor": "#2a3f5f",
             "gridcolor": "white",
             "linecolor": "white",
             "minorgridcolor": "white",
             "startlinecolor": "#2a3f5f"
            },
            "baxis": {
             "endlinecolor": "#2a3f5f",
             "gridcolor": "white",
             "linecolor": "white",
             "minorgridcolor": "white",
             "startlinecolor": "#2a3f5f"
            },
            "type": "carpet"
           }
          ],
          "choropleth": [
           {
            "colorbar": {
             "outlinewidth": 0,
             "ticks": ""
            },
            "type": "choropleth"
           }
          ],
          "contour": [
           {
            "colorbar": {
             "outlinewidth": 0,
             "ticks": ""
            },
            "colorscale": [
             [
              0,
              "#0d0887"
             ],
             [
              0.1111111111111111,
              "#46039f"
             ],
             [
              0.2222222222222222,
              "#7201a8"
             ],
             [
              0.3333333333333333,
              "#9c179e"
             ],
             [
              0.4444444444444444,
              "#bd3786"
             ],
             [
              0.5555555555555556,
              "#d8576b"
             ],
             [
              0.6666666666666666,
              "#ed7953"
             ],
             [
              0.7777777777777778,
              "#fb9f3a"
             ],
             [
              0.8888888888888888,
              "#fdca26"
             ],
             [
              1,
              "#f0f921"
             ]
            ],
            "type": "contour"
           }
          ],
          "contourcarpet": [
           {
            "colorbar": {
             "outlinewidth": 0,
             "ticks": ""
            },
            "type": "contourcarpet"
           }
          ],
          "heatmap": [
           {
            "colorbar": {
             "outlinewidth": 0,
             "ticks": ""
            },
            "colorscale": [
             [
              0,
              "#0d0887"
             ],
             [
              0.1111111111111111,
              "#46039f"
             ],
             [
              0.2222222222222222,
              "#7201a8"
             ],
             [
              0.3333333333333333,
              "#9c179e"
             ],
             [
              0.4444444444444444,
              "#bd3786"
             ],
             [
              0.5555555555555556,
              "#d8576b"
             ],
             [
              0.6666666666666666,
              "#ed7953"
             ],
             [
              0.7777777777777778,
              "#fb9f3a"
             ],
             [
              0.8888888888888888,
              "#fdca26"
             ],
             [
              1,
              "#f0f921"
             ]
            ],
            "type": "heatmap"
           }
          ],
          "heatmapgl": [
           {
            "colorbar": {
             "outlinewidth": 0,
             "ticks": ""
            },
            "colorscale": [
             [
              0,
              "#0d0887"
             ],
             [
              0.1111111111111111,
              "#46039f"
             ],
             [
              0.2222222222222222,
              "#7201a8"
             ],
             [
              0.3333333333333333,
              "#9c179e"
             ],
             [
              0.4444444444444444,
              "#bd3786"
             ],
             [
              0.5555555555555556,
              "#d8576b"
             ],
             [
              0.6666666666666666,
              "#ed7953"
             ],
             [
              0.7777777777777778,
              "#fb9f3a"
             ],
             [
              0.8888888888888888,
              "#fdca26"
             ],
             [
              1,
              "#f0f921"
             ]
            ],
            "type": "heatmapgl"
           }
          ],
          "histogram": [
           {
            "marker": {
             "colorbar": {
              "outlinewidth": 0,
              "ticks": ""
             }
            },
            "type": "histogram"
           }
          ],
          "histogram2d": [
           {
            "colorbar": {
             "outlinewidth": 0,
             "ticks": ""
            },
            "colorscale": [
             [
              0,
              "#0d0887"
             ],
             [
              0.1111111111111111,
              "#46039f"
             ],
             [
              0.2222222222222222,
              "#7201a8"
             ],
             [
              0.3333333333333333,
              "#9c179e"
             ],
             [
              0.4444444444444444,
              "#bd3786"
             ],
             [
              0.5555555555555556,
              "#d8576b"
             ],
             [
              0.6666666666666666,
              "#ed7953"
             ],
             [
              0.7777777777777778,
              "#fb9f3a"
             ],
             [
              0.8888888888888888,
              "#fdca26"
             ],
             [
              1,
              "#f0f921"
             ]
            ],
            "type": "histogram2d"
           }
          ],
          "histogram2dcontour": [
           {
            "colorbar": {
             "outlinewidth": 0,
             "ticks": ""
            },
            "colorscale": [
             [
              0,
              "#0d0887"
             ],
             [
              0.1111111111111111,
              "#46039f"
             ],
             [
              0.2222222222222222,
              "#7201a8"
             ],
             [
              0.3333333333333333,
              "#9c179e"
             ],
             [
              0.4444444444444444,
              "#bd3786"
             ],
             [
              0.5555555555555556,
              "#d8576b"
             ],
             [
              0.6666666666666666,
              "#ed7953"
             ],
             [
              0.7777777777777778,
              "#fb9f3a"
             ],
             [
              0.8888888888888888,
              "#fdca26"
             ],
             [
              1,
              "#f0f921"
             ]
            ],
            "type": "histogram2dcontour"
           }
          ],
          "mesh3d": [
           {
            "colorbar": {
             "outlinewidth": 0,
             "ticks": ""
            },
            "type": "mesh3d"
           }
          ],
          "parcoords": [
           {
            "line": {
             "colorbar": {
              "outlinewidth": 0,
              "ticks": ""
             }
            },
            "type": "parcoords"
           }
          ],
          "pie": [
           {
            "automargin": true,
            "type": "pie"
           }
          ],
          "scatter": [
           {
            "marker": {
             "colorbar": {
              "outlinewidth": 0,
              "ticks": ""
             }
            },
            "type": "scatter"
           }
          ],
          "scatter3d": [
           {
            "line": {
             "colorbar": {
              "outlinewidth": 0,
              "ticks": ""
             }
            },
            "marker": {
             "colorbar": {
              "outlinewidth": 0,
              "ticks": ""
             }
            },
            "type": "scatter3d"
           }
          ],
          "scattercarpet": [
           {
            "marker": {
             "colorbar": {
              "outlinewidth": 0,
              "ticks": ""
             }
            },
            "type": "scattercarpet"
           }
          ],
          "scattergeo": [
           {
            "marker": {
             "colorbar": {
              "outlinewidth": 0,
              "ticks": ""
             }
            },
            "type": "scattergeo"
           }
          ],
          "scattergl": [
           {
            "marker": {
             "colorbar": {
              "outlinewidth": 0,
              "ticks": ""
             }
            },
            "type": "scattergl"
           }
          ],
          "scattermapbox": [
           {
            "marker": {
             "colorbar": {
              "outlinewidth": 0,
              "ticks": ""
             }
            },
            "type": "scattermapbox"
           }
          ],
          "scatterpolar": [
           {
            "marker": {
             "colorbar": {
              "outlinewidth": 0,
              "ticks": ""
             }
            },
            "type": "scatterpolar"
           }
          ],
          "scatterpolargl": [
           {
            "marker": {
             "colorbar": {
              "outlinewidth": 0,
              "ticks": ""
             }
            },
            "type": "scatterpolargl"
           }
          ],
          "scatterternary": [
           {
            "marker": {
             "colorbar": {
              "outlinewidth": 0,
              "ticks": ""
             }
            },
            "type": "scatterternary"
           }
          ],
          "surface": [
           {
            "colorbar": {
             "outlinewidth": 0,
             "ticks": ""
            },
            "colorscale": [
             [
              0,
              "#0d0887"
             ],
             [
              0.1111111111111111,
              "#46039f"
             ],
             [
              0.2222222222222222,
              "#7201a8"
             ],
             [
              0.3333333333333333,
              "#9c179e"
             ],
             [
              0.4444444444444444,
              "#bd3786"
             ],
             [
              0.5555555555555556,
              "#d8576b"
             ],
             [
              0.6666666666666666,
              "#ed7953"
             ],
             [
              0.7777777777777778,
              "#fb9f3a"
             ],
             [
              0.8888888888888888,
              "#fdca26"
             ],
             [
              1,
              "#f0f921"
             ]
            ],
            "type": "surface"
           }
          ],
          "table": [
           {
            "cells": {
             "fill": {
              "color": "#EBF0F8"
             },
             "line": {
              "color": "white"
             }
            },
            "header": {
             "fill": {
              "color": "#C8D4E3"
             },
             "line": {
              "color": "white"
             }
            },
            "type": "table"
           }
          ]
         },
         "layout": {
          "annotationdefaults": {
           "arrowcolor": "#2a3f5f",
           "arrowhead": 0,
           "arrowwidth": 1
          },
          "coloraxis": {
           "colorbar": {
            "outlinewidth": 0,
            "ticks": ""
           }
          },
          "colorscale": {
           "diverging": [
            [
             0,
             "#8e0152"
            ],
            [
             0.1,
             "#c51b7d"
            ],
            [
             0.2,
             "#de77ae"
            ],
            [
             0.3,
             "#f1b6da"
            ],
            [
             0.4,
             "#fde0ef"
            ],
            [
             0.5,
             "#f7f7f7"
            ],
            [
             0.6,
             "#e6f5d0"
            ],
            [
             0.7,
             "#b8e186"
            ],
            [
             0.8,
             "#7fbc41"
            ],
            [
             0.9,
             "#4d9221"
            ],
            [
             1,
             "#276419"
            ]
           ],
           "sequential": [
            [
             0,
             "#0d0887"
            ],
            [
             0.1111111111111111,
             "#46039f"
            ],
            [
             0.2222222222222222,
             "#7201a8"
            ],
            [
             0.3333333333333333,
             "#9c179e"
            ],
            [
             0.4444444444444444,
             "#bd3786"
            ],
            [
             0.5555555555555556,
             "#d8576b"
            ],
            [
             0.6666666666666666,
             "#ed7953"
            ],
            [
             0.7777777777777778,
             "#fb9f3a"
            ],
            [
             0.8888888888888888,
             "#fdca26"
            ],
            [
             1,
             "#f0f921"
            ]
           ],
           "sequentialminus": [
            [
             0,
             "#0d0887"
            ],
            [
             0.1111111111111111,
             "#46039f"
            ],
            [
             0.2222222222222222,
             "#7201a8"
            ],
            [
             0.3333333333333333,
             "#9c179e"
            ],
            [
             0.4444444444444444,
             "#bd3786"
            ],
            [
             0.5555555555555556,
             "#d8576b"
            ],
            [
             0.6666666666666666,
             "#ed7953"
            ],
            [
             0.7777777777777778,
             "#fb9f3a"
            ],
            [
             0.8888888888888888,
             "#fdca26"
            ],
            [
             1,
             "#f0f921"
            ]
           ]
          },
          "colorway": [
           "#636efa",
           "#EF553B",
           "#00cc96",
           "#ab63fa",
           "#FFA15A",
           "#19d3f3",
           "#FF6692",
           "#B6E880",
           "#FF97FF",
           "#FECB52"
          ],
          "font": {
           "color": "#2a3f5f"
          },
          "geo": {
           "bgcolor": "white",
           "lakecolor": "white",
           "landcolor": "#E5ECF6",
           "showlakes": true,
           "showland": true,
           "subunitcolor": "white"
          },
          "hoverlabel": {
           "align": "left"
          },
          "hovermode": "closest",
          "mapbox": {
           "style": "light"
          },
          "paper_bgcolor": "white",
          "plot_bgcolor": "#E5ECF6",
          "polar": {
           "angularaxis": {
            "gridcolor": "white",
            "linecolor": "white",
            "ticks": ""
           },
           "bgcolor": "#E5ECF6",
           "radialaxis": {
            "gridcolor": "white",
            "linecolor": "white",
            "ticks": ""
           }
          },
          "scene": {
           "xaxis": {
            "backgroundcolor": "#E5ECF6",
            "gridcolor": "white",
            "gridwidth": 2,
            "linecolor": "white",
            "showbackground": true,
            "ticks": "",
            "zerolinecolor": "white"
           },
           "yaxis": {
            "backgroundcolor": "#E5ECF6",
            "gridcolor": "white",
            "gridwidth": 2,
            "linecolor": "white",
            "showbackground": true,
            "ticks": "",
            "zerolinecolor": "white"
           },
           "zaxis": {
            "backgroundcolor": "#E5ECF6",
            "gridcolor": "white",
            "gridwidth": 2,
            "linecolor": "white",
            "showbackground": true,
            "ticks": "",
            "zerolinecolor": "white"
           }
          },
          "shapedefaults": {
           "line": {
            "color": "#2a3f5f"
           }
          },
          "ternary": {
           "aaxis": {
            "gridcolor": "white",
            "linecolor": "white",
            "ticks": ""
           },
           "baxis": {
            "gridcolor": "white",
            "linecolor": "white",
            "ticks": ""
           },
           "bgcolor": "#E5ECF6",
           "caxis": {
            "gridcolor": "white",
            "linecolor": "white",
            "ticks": ""
           }
          },
          "title": {
           "x": 0.05
          },
          "xaxis": {
           "automargin": true,
           "gridcolor": "white",
           "linecolor": "white",
           "ticks": "",
           "title": {
            "standoff": 15
           },
           "zerolinecolor": "white",
           "zerolinewidth": 2
          },
          "yaxis": {
           "automargin": true,
           "gridcolor": "white",
           "linecolor": "white",
           "ticks": "",
           "title": {
            "standoff": 15
           },
           "zerolinecolor": "white",
           "zerolinewidth": 2
          }
         }
        },
        "title": {
         "font": {
          "color": "#4D5663"
         }
        },
        "xaxis": {
         "gridcolor": "#E1E5ED",
         "showgrid": true,
         "tickfont": {
          "color": "#4D5663"
         },
         "title": {
          "font": {
           "color": "#4D5663"
          },
          "text": ""
         },
         "zerolinecolor": "#E1E5ED"
        },
        "yaxis": {
         "gridcolor": "#E1E5ED",
         "showgrid": true,
         "tickfont": {
          "color": "#4D5663"
         },
         "title": {
          "font": {
           "color": "#4D5663"
          },
          "text": ""
         },
         "zerolinecolor": "#E1E5ED"
        }
       }
      },
      "text/html": [
       "<div>\n",
       "        \n",
       "        \n",
       "            <div id=\"ecc7da84-1672-4df8-93f2-258e8aae07a0\" class=\"plotly-graph-div\" style=\"height:525px; width:100%;\"></div>\n",
       "            <script type=\"text/javascript\">\n",
       "                require([\"plotly\"], function(Plotly) {\n",
       "                    window.PLOTLYENV=window.PLOTLYENV || {};\n",
       "                    window.PLOTLYENV.BASE_URL='https://plot.ly';\n",
       "                    \n",
       "                if (document.getElementById(\"ecc7da84-1672-4df8-93f2-258e8aae07a0\")) {\n",
       "                    Plotly.newPlot(\n",
       "                        'ecc7da84-1672-4df8-93f2-258e8aae07a0',\n",
       "                        [{\"marker\": {\"color\": \"rgba(255, 153, 51, 0.6)\", \"line\": {\"color\": \"rgba(255, 153, 51, 1.0)\", \"width\": 1}}, \"name\": \"Values\", \"orientation\": \"v\", \"text\": \"\", \"type\": \"bar\", \"x\": [\"A\", \"B\", \"C\"], \"y\": [32, 43, 50]}],\n",
       "                        {\"legend\": {\"bgcolor\": \"#F5F6F9\", \"font\": {\"color\": \"#4D5663\"}}, \"paper_bgcolor\": \"#F5F6F9\", \"plot_bgcolor\": \"#F5F6F9\", \"template\": {\"data\": {\"bar\": [{\"error_x\": {\"color\": \"#2a3f5f\"}, \"error_y\": {\"color\": \"#2a3f5f\"}, \"marker\": {\"line\": {\"color\": \"#E5ECF6\", \"width\": 0.5}}, \"type\": \"bar\"}], \"barpolar\": [{\"marker\": {\"line\": {\"color\": \"#E5ECF6\", \"width\": 0.5}}, \"type\": \"barpolar\"}], \"carpet\": [{\"aaxis\": {\"endlinecolor\": \"#2a3f5f\", \"gridcolor\": \"white\", \"linecolor\": \"white\", \"minorgridcolor\": \"white\", \"startlinecolor\": \"#2a3f5f\"}, \"baxis\": {\"endlinecolor\": \"#2a3f5f\", \"gridcolor\": \"white\", \"linecolor\": \"white\", \"minorgridcolor\": \"white\", \"startlinecolor\": \"#2a3f5f\"}, \"type\": \"carpet\"}], \"choropleth\": [{\"colorbar\": {\"outlinewidth\": 0, \"ticks\": \"\"}, \"type\": \"choropleth\"}], \"contour\": [{\"colorbar\": {\"outlinewidth\": 0, \"ticks\": \"\"}, \"colorscale\": [[0.0, \"#0d0887\"], [0.1111111111111111, \"#46039f\"], [0.2222222222222222, \"#7201a8\"], [0.3333333333333333, \"#9c179e\"], [0.4444444444444444, \"#bd3786\"], [0.5555555555555556, \"#d8576b\"], [0.6666666666666666, \"#ed7953\"], [0.7777777777777778, \"#fb9f3a\"], [0.8888888888888888, \"#fdca26\"], [1.0, \"#f0f921\"]], \"type\": \"contour\"}], \"contourcarpet\": [{\"colorbar\": {\"outlinewidth\": 0, \"ticks\": \"\"}, \"type\": \"contourcarpet\"}], \"heatmap\": [{\"colorbar\": {\"outlinewidth\": 0, \"ticks\": \"\"}, \"colorscale\": [[0.0, \"#0d0887\"], [0.1111111111111111, \"#46039f\"], [0.2222222222222222, \"#7201a8\"], [0.3333333333333333, \"#9c179e\"], [0.4444444444444444, \"#bd3786\"], [0.5555555555555556, \"#d8576b\"], [0.6666666666666666, \"#ed7953\"], [0.7777777777777778, \"#fb9f3a\"], [0.8888888888888888, \"#fdca26\"], [1.0, \"#f0f921\"]], \"type\": \"heatmap\"}], \"heatmapgl\": [{\"colorbar\": {\"outlinewidth\": 0, \"ticks\": \"\"}, \"colorscale\": [[0.0, \"#0d0887\"], [0.1111111111111111, \"#46039f\"], [0.2222222222222222, \"#7201a8\"], [0.3333333333333333, \"#9c179e\"], [0.4444444444444444, \"#bd3786\"], [0.5555555555555556, \"#d8576b\"], [0.6666666666666666, \"#ed7953\"], [0.7777777777777778, \"#fb9f3a\"], [0.8888888888888888, \"#fdca26\"], [1.0, \"#f0f921\"]], \"type\": \"heatmapgl\"}], \"histogram\": [{\"marker\": {\"colorbar\": {\"outlinewidth\": 0, \"ticks\": \"\"}}, \"type\": \"histogram\"}], \"histogram2d\": [{\"colorbar\": {\"outlinewidth\": 0, \"ticks\": \"\"}, \"colorscale\": [[0.0, \"#0d0887\"], [0.1111111111111111, \"#46039f\"], [0.2222222222222222, \"#7201a8\"], [0.3333333333333333, \"#9c179e\"], [0.4444444444444444, \"#bd3786\"], [0.5555555555555556, \"#d8576b\"], [0.6666666666666666, \"#ed7953\"], [0.7777777777777778, \"#fb9f3a\"], [0.8888888888888888, \"#fdca26\"], [1.0, \"#f0f921\"]], \"type\": \"histogram2d\"}], \"histogram2dcontour\": [{\"colorbar\": {\"outlinewidth\": 0, \"ticks\": \"\"}, \"colorscale\": [[0.0, \"#0d0887\"], [0.1111111111111111, \"#46039f\"], [0.2222222222222222, \"#7201a8\"], [0.3333333333333333, \"#9c179e\"], [0.4444444444444444, \"#bd3786\"], [0.5555555555555556, \"#d8576b\"], [0.6666666666666666, \"#ed7953\"], [0.7777777777777778, \"#fb9f3a\"], [0.8888888888888888, \"#fdca26\"], [1.0, \"#f0f921\"]], \"type\": \"histogram2dcontour\"}], \"mesh3d\": [{\"colorbar\": {\"outlinewidth\": 0, \"ticks\": \"\"}, \"type\": \"mesh3d\"}], \"parcoords\": [{\"line\": {\"colorbar\": {\"outlinewidth\": 0, \"ticks\": \"\"}}, \"type\": \"parcoords\"}], \"pie\": [{\"automargin\": true, \"type\": \"pie\"}], \"scatter\": [{\"marker\": {\"colorbar\": {\"outlinewidth\": 0, \"ticks\": \"\"}}, \"type\": \"scatter\"}], \"scatter3d\": [{\"line\": {\"colorbar\": {\"outlinewidth\": 0, \"ticks\": \"\"}}, \"marker\": {\"colorbar\": {\"outlinewidth\": 0, \"ticks\": \"\"}}, \"type\": \"scatter3d\"}], \"scattercarpet\": [{\"marker\": {\"colorbar\": {\"outlinewidth\": 0, \"ticks\": \"\"}}, \"type\": \"scattercarpet\"}], \"scattergeo\": [{\"marker\": {\"colorbar\": {\"outlinewidth\": 0, \"ticks\": \"\"}}, \"type\": \"scattergeo\"}], \"scattergl\": [{\"marker\": {\"colorbar\": {\"outlinewidth\": 0, \"ticks\": \"\"}}, \"type\": \"scattergl\"}], \"scattermapbox\": [{\"marker\": {\"colorbar\": {\"outlinewidth\": 0, \"ticks\": \"\"}}, \"type\": \"scattermapbox\"}], \"scatterpolar\": [{\"marker\": {\"colorbar\": {\"outlinewidth\": 0, \"ticks\": \"\"}}, \"type\": \"scatterpolar\"}], \"scatterpolargl\": [{\"marker\": {\"colorbar\": {\"outlinewidth\": 0, \"ticks\": \"\"}}, \"type\": \"scatterpolargl\"}], \"scatterternary\": [{\"marker\": {\"colorbar\": {\"outlinewidth\": 0, \"ticks\": \"\"}}, \"type\": \"scatterternary\"}], \"surface\": [{\"colorbar\": {\"outlinewidth\": 0, \"ticks\": \"\"}, \"colorscale\": [[0.0, \"#0d0887\"], [0.1111111111111111, \"#46039f\"], [0.2222222222222222, \"#7201a8\"], [0.3333333333333333, \"#9c179e\"], [0.4444444444444444, \"#bd3786\"], [0.5555555555555556, \"#d8576b\"], [0.6666666666666666, \"#ed7953\"], [0.7777777777777778, \"#fb9f3a\"], [0.8888888888888888, \"#fdca26\"], [1.0, \"#f0f921\"]], \"type\": \"surface\"}], \"table\": [{\"cells\": {\"fill\": {\"color\": \"#EBF0F8\"}, \"line\": {\"color\": \"white\"}}, \"header\": {\"fill\": {\"color\": \"#C8D4E3\"}, \"line\": {\"color\": \"white\"}}, \"type\": \"table\"}]}, \"layout\": {\"annotationdefaults\": {\"arrowcolor\": \"#2a3f5f\", \"arrowhead\": 0, \"arrowwidth\": 1}, \"coloraxis\": {\"colorbar\": {\"outlinewidth\": 0, \"ticks\": \"\"}}, \"colorscale\": {\"diverging\": [[0, \"#8e0152\"], [0.1, \"#c51b7d\"], [0.2, \"#de77ae\"], [0.3, \"#f1b6da\"], [0.4, \"#fde0ef\"], [0.5, \"#f7f7f7\"], [0.6, \"#e6f5d0\"], [0.7, \"#b8e186\"], [0.8, \"#7fbc41\"], [0.9, \"#4d9221\"], [1, \"#276419\"]], \"sequential\": [[0.0, \"#0d0887\"], [0.1111111111111111, \"#46039f\"], [0.2222222222222222, \"#7201a8\"], [0.3333333333333333, \"#9c179e\"], [0.4444444444444444, \"#bd3786\"], [0.5555555555555556, \"#d8576b\"], [0.6666666666666666, \"#ed7953\"], [0.7777777777777778, \"#fb9f3a\"], [0.8888888888888888, \"#fdca26\"], [1.0, \"#f0f921\"]], \"sequentialminus\": [[0.0, \"#0d0887\"], [0.1111111111111111, \"#46039f\"], [0.2222222222222222, \"#7201a8\"], [0.3333333333333333, \"#9c179e\"], [0.4444444444444444, \"#bd3786\"], [0.5555555555555556, \"#d8576b\"], [0.6666666666666666, \"#ed7953\"], [0.7777777777777778, \"#fb9f3a\"], [0.8888888888888888, \"#fdca26\"], [1.0, \"#f0f921\"]]}, \"colorway\": [\"#636efa\", \"#EF553B\", \"#00cc96\", \"#ab63fa\", \"#FFA15A\", \"#19d3f3\", \"#FF6692\", \"#B6E880\", \"#FF97FF\", \"#FECB52\"], \"font\": {\"color\": \"#2a3f5f\"}, \"geo\": {\"bgcolor\": \"white\", \"lakecolor\": \"white\", \"landcolor\": \"#E5ECF6\", \"showlakes\": true, \"showland\": true, \"subunitcolor\": \"white\"}, \"hoverlabel\": {\"align\": \"left\"}, \"hovermode\": \"closest\", \"mapbox\": {\"style\": \"light\"}, \"paper_bgcolor\": \"white\", \"plot_bgcolor\": \"#E5ECF6\", \"polar\": {\"angularaxis\": {\"gridcolor\": \"white\", \"linecolor\": \"white\", \"ticks\": \"\"}, \"bgcolor\": \"#E5ECF6\", \"radialaxis\": {\"gridcolor\": \"white\", \"linecolor\": \"white\", \"ticks\": \"\"}}, \"scene\": {\"xaxis\": {\"backgroundcolor\": \"#E5ECF6\", \"gridcolor\": \"white\", \"gridwidth\": 2, \"linecolor\": \"white\", \"showbackground\": true, \"ticks\": \"\", \"zerolinecolor\": \"white\"}, \"yaxis\": {\"backgroundcolor\": \"#E5ECF6\", \"gridcolor\": \"white\", \"gridwidth\": 2, \"linecolor\": \"white\", \"showbackground\": true, \"ticks\": \"\", \"zerolinecolor\": \"white\"}, \"zaxis\": {\"backgroundcolor\": \"#E5ECF6\", \"gridcolor\": \"white\", \"gridwidth\": 2, \"linecolor\": \"white\", \"showbackground\": true, \"ticks\": \"\", \"zerolinecolor\": \"white\"}}, \"shapedefaults\": {\"line\": {\"color\": \"#2a3f5f\"}}, \"ternary\": {\"aaxis\": {\"gridcolor\": \"white\", \"linecolor\": \"white\", \"ticks\": \"\"}, \"baxis\": {\"gridcolor\": \"white\", \"linecolor\": \"white\", \"ticks\": \"\"}, \"bgcolor\": \"#E5ECF6\", \"caxis\": {\"gridcolor\": \"white\", \"linecolor\": \"white\", \"ticks\": \"\"}}, \"title\": {\"x\": 0.05}, \"xaxis\": {\"automargin\": true, \"gridcolor\": \"white\", \"linecolor\": \"white\", \"ticks\": \"\", \"title\": {\"standoff\": 15}, \"zerolinecolor\": \"white\", \"zerolinewidth\": 2}, \"yaxis\": {\"automargin\": true, \"gridcolor\": \"white\", \"linecolor\": \"white\", \"ticks\": \"\", \"title\": {\"standoff\": 15}, \"zerolinecolor\": \"white\", \"zerolinewidth\": 2}}}, \"title\": {\"font\": {\"color\": \"#4D5663\"}}, \"xaxis\": {\"gridcolor\": \"#E1E5ED\", \"showgrid\": true, \"tickfont\": {\"color\": \"#4D5663\"}, \"title\": {\"font\": {\"color\": \"#4D5663\"}, \"text\": \"\"}, \"zerolinecolor\": \"#E1E5ED\"}, \"yaxis\": {\"gridcolor\": \"#E1E5ED\", \"showgrid\": true, \"tickfont\": {\"color\": \"#4D5663\"}, \"title\": {\"font\": {\"color\": \"#4D5663\"}, \"text\": \"\"}, \"zerolinecolor\": \"#E1E5ED\"}},\n",
       "                        {\"showLink\": true, \"linkText\": \"Export to plot.ly\", \"plotlyServerURL\": \"https://plot.ly\", \"responsive\": true}\n",
       "                    ).then(function(){\n",
       "                            \n",
       "var gd = document.getElementById('ecc7da84-1672-4df8-93f2-258e8aae07a0');\n",
       "var x = new MutationObserver(function (mutations, observer) {{\n",
       "        var display = window.getComputedStyle(gd).display;\n",
       "        if (!display || display === 'none') {{\n",
       "            console.log([gd, 'removed!']);\n",
       "            Plotly.purge(gd);\n",
       "            observer.disconnect();\n",
       "        }}\n",
       "}});\n",
       "\n",
       "// Listen for the removal of the full notebook cells\n",
       "var notebookContainer = gd.closest('#notebook-container');\n",
       "if (notebookContainer) {{\n",
       "    x.observe(notebookContainer, {childList: true});\n",
       "}}\n",
       "\n",
       "// Listen for the clearing of the current output cell\n",
       "var outputEl = gd.closest('.output');\n",
       "if (outputEl) {{\n",
       "    x.observe(outputEl, {childList: true});\n",
       "}}\n",
       "\n",
       "                        })\n",
       "                };\n",
       "                });\n",
       "            </script>\n",
       "        </div>"
      ]
     },
     "metadata": {},
     "output_type": "display_data"
    }
   ],
   "source": [
    "df2.iplot(kind='bar',x='Category',y='Values')"
   ]
  },
  {
   "cell_type": "code",
   "execution_count": 14,
   "metadata": {},
   "outputs": [
    {
     "data": {
      "application/vnd.plotly.v1+json": {
       "config": {
        "linkText": "Export to plot.ly",
        "plotlyServerURL": "https://plot.ly",
        "showLink": true
       },
       "data": [
        {
         "marker": {
          "color": "rgba(255, 153, 51, 0.6)",
          "line": {
           "color": "rgba(255, 153, 51, 1.0)",
           "width": 1
          }
         },
         "name": "None",
         "orientation": "v",
         "text": "",
         "type": "bar",
         "x": [
          "A",
          "B",
          "C",
          "D"
         ],
         "y": [
          100,
          100,
          100,
          100
         ]
        }
       ],
       "layout": {
        "legend": {
         "bgcolor": "#F5F6F9",
         "font": {
          "color": "#4D5663"
         }
        },
        "paper_bgcolor": "#F5F6F9",
        "plot_bgcolor": "#F5F6F9",
        "template": {
         "data": {
          "bar": [
           {
            "error_x": {
             "color": "#2a3f5f"
            },
            "error_y": {
             "color": "#2a3f5f"
            },
            "marker": {
             "line": {
              "color": "#E5ECF6",
              "width": 0.5
             }
            },
            "type": "bar"
           }
          ],
          "barpolar": [
           {
            "marker": {
             "line": {
              "color": "#E5ECF6",
              "width": 0.5
             }
            },
            "type": "barpolar"
           }
          ],
          "carpet": [
           {
            "aaxis": {
             "endlinecolor": "#2a3f5f",
             "gridcolor": "white",
             "linecolor": "white",
             "minorgridcolor": "white",
             "startlinecolor": "#2a3f5f"
            },
            "baxis": {
             "endlinecolor": "#2a3f5f",
             "gridcolor": "white",
             "linecolor": "white",
             "minorgridcolor": "white",
             "startlinecolor": "#2a3f5f"
            },
            "type": "carpet"
           }
          ],
          "choropleth": [
           {
            "colorbar": {
             "outlinewidth": 0,
             "ticks": ""
            },
            "type": "choropleth"
           }
          ],
          "contour": [
           {
            "colorbar": {
             "outlinewidth": 0,
             "ticks": ""
            },
            "colorscale": [
             [
              0,
              "#0d0887"
             ],
             [
              0.1111111111111111,
              "#46039f"
             ],
             [
              0.2222222222222222,
              "#7201a8"
             ],
             [
              0.3333333333333333,
              "#9c179e"
             ],
             [
              0.4444444444444444,
              "#bd3786"
             ],
             [
              0.5555555555555556,
              "#d8576b"
             ],
             [
              0.6666666666666666,
              "#ed7953"
             ],
             [
              0.7777777777777778,
              "#fb9f3a"
             ],
             [
              0.8888888888888888,
              "#fdca26"
             ],
             [
              1,
              "#f0f921"
             ]
            ],
            "type": "contour"
           }
          ],
          "contourcarpet": [
           {
            "colorbar": {
             "outlinewidth": 0,
             "ticks": ""
            },
            "type": "contourcarpet"
           }
          ],
          "heatmap": [
           {
            "colorbar": {
             "outlinewidth": 0,
             "ticks": ""
            },
            "colorscale": [
             [
              0,
              "#0d0887"
             ],
             [
              0.1111111111111111,
              "#46039f"
             ],
             [
              0.2222222222222222,
              "#7201a8"
             ],
             [
              0.3333333333333333,
              "#9c179e"
             ],
             [
              0.4444444444444444,
              "#bd3786"
             ],
             [
              0.5555555555555556,
              "#d8576b"
             ],
             [
              0.6666666666666666,
              "#ed7953"
             ],
             [
              0.7777777777777778,
              "#fb9f3a"
             ],
             [
              0.8888888888888888,
              "#fdca26"
             ],
             [
              1,
              "#f0f921"
             ]
            ],
            "type": "heatmap"
           }
          ],
          "heatmapgl": [
           {
            "colorbar": {
             "outlinewidth": 0,
             "ticks": ""
            },
            "colorscale": [
             [
              0,
              "#0d0887"
             ],
             [
              0.1111111111111111,
              "#46039f"
             ],
             [
              0.2222222222222222,
              "#7201a8"
             ],
             [
              0.3333333333333333,
              "#9c179e"
             ],
             [
              0.4444444444444444,
              "#bd3786"
             ],
             [
              0.5555555555555556,
              "#d8576b"
             ],
             [
              0.6666666666666666,
              "#ed7953"
             ],
             [
              0.7777777777777778,
              "#fb9f3a"
             ],
             [
              0.8888888888888888,
              "#fdca26"
             ],
             [
              1,
              "#f0f921"
             ]
            ],
            "type": "heatmapgl"
           }
          ],
          "histogram": [
           {
            "marker": {
             "colorbar": {
              "outlinewidth": 0,
              "ticks": ""
             }
            },
            "type": "histogram"
           }
          ],
          "histogram2d": [
           {
            "colorbar": {
             "outlinewidth": 0,
             "ticks": ""
            },
            "colorscale": [
             [
              0,
              "#0d0887"
             ],
             [
              0.1111111111111111,
              "#46039f"
             ],
             [
              0.2222222222222222,
              "#7201a8"
             ],
             [
              0.3333333333333333,
              "#9c179e"
             ],
             [
              0.4444444444444444,
              "#bd3786"
             ],
             [
              0.5555555555555556,
              "#d8576b"
             ],
             [
              0.6666666666666666,
              "#ed7953"
             ],
             [
              0.7777777777777778,
              "#fb9f3a"
             ],
             [
              0.8888888888888888,
              "#fdca26"
             ],
             [
              1,
              "#f0f921"
             ]
            ],
            "type": "histogram2d"
           }
          ],
          "histogram2dcontour": [
           {
            "colorbar": {
             "outlinewidth": 0,
             "ticks": ""
            },
            "colorscale": [
             [
              0,
              "#0d0887"
             ],
             [
              0.1111111111111111,
              "#46039f"
             ],
             [
              0.2222222222222222,
              "#7201a8"
             ],
             [
              0.3333333333333333,
              "#9c179e"
             ],
             [
              0.4444444444444444,
              "#bd3786"
             ],
             [
              0.5555555555555556,
              "#d8576b"
             ],
             [
              0.6666666666666666,
              "#ed7953"
             ],
             [
              0.7777777777777778,
              "#fb9f3a"
             ],
             [
              0.8888888888888888,
              "#fdca26"
             ],
             [
              1,
              "#f0f921"
             ]
            ],
            "type": "histogram2dcontour"
           }
          ],
          "mesh3d": [
           {
            "colorbar": {
             "outlinewidth": 0,
             "ticks": ""
            },
            "type": "mesh3d"
           }
          ],
          "parcoords": [
           {
            "line": {
             "colorbar": {
              "outlinewidth": 0,
              "ticks": ""
             }
            },
            "type": "parcoords"
           }
          ],
          "pie": [
           {
            "automargin": true,
            "type": "pie"
           }
          ],
          "scatter": [
           {
            "marker": {
             "colorbar": {
              "outlinewidth": 0,
              "ticks": ""
             }
            },
            "type": "scatter"
           }
          ],
          "scatter3d": [
           {
            "line": {
             "colorbar": {
              "outlinewidth": 0,
              "ticks": ""
             }
            },
            "marker": {
             "colorbar": {
              "outlinewidth": 0,
              "ticks": ""
             }
            },
            "type": "scatter3d"
           }
          ],
          "scattercarpet": [
           {
            "marker": {
             "colorbar": {
              "outlinewidth": 0,
              "ticks": ""
             }
            },
            "type": "scattercarpet"
           }
          ],
          "scattergeo": [
           {
            "marker": {
             "colorbar": {
              "outlinewidth": 0,
              "ticks": ""
             }
            },
            "type": "scattergeo"
           }
          ],
          "scattergl": [
           {
            "marker": {
             "colorbar": {
              "outlinewidth": 0,
              "ticks": ""
             }
            },
            "type": "scattergl"
           }
          ],
          "scattermapbox": [
           {
            "marker": {
             "colorbar": {
              "outlinewidth": 0,
              "ticks": ""
             }
            },
            "type": "scattermapbox"
           }
          ],
          "scatterpolar": [
           {
            "marker": {
             "colorbar": {
              "outlinewidth": 0,
              "ticks": ""
             }
            },
            "type": "scatterpolar"
           }
          ],
          "scatterpolargl": [
           {
            "marker": {
             "colorbar": {
              "outlinewidth": 0,
              "ticks": ""
             }
            },
            "type": "scatterpolargl"
           }
          ],
          "scatterternary": [
           {
            "marker": {
             "colorbar": {
              "outlinewidth": 0,
              "ticks": ""
             }
            },
            "type": "scatterternary"
           }
          ],
          "surface": [
           {
            "colorbar": {
             "outlinewidth": 0,
             "ticks": ""
            },
            "colorscale": [
             [
              0,
              "#0d0887"
             ],
             [
              0.1111111111111111,
              "#46039f"
             ],
             [
              0.2222222222222222,
              "#7201a8"
             ],
             [
              0.3333333333333333,
              "#9c179e"
             ],
             [
              0.4444444444444444,
              "#bd3786"
             ],
             [
              0.5555555555555556,
              "#d8576b"
             ],
             [
              0.6666666666666666,
              "#ed7953"
             ],
             [
              0.7777777777777778,
              "#fb9f3a"
             ],
             [
              0.8888888888888888,
              "#fdca26"
             ],
             [
              1,
              "#f0f921"
             ]
            ],
            "type": "surface"
           }
          ],
          "table": [
           {
            "cells": {
             "fill": {
              "color": "#EBF0F8"
             },
             "line": {
              "color": "white"
             }
            },
            "header": {
             "fill": {
              "color": "#C8D4E3"
             },
             "line": {
              "color": "white"
             }
            },
            "type": "table"
           }
          ]
         },
         "layout": {
          "annotationdefaults": {
           "arrowcolor": "#2a3f5f",
           "arrowhead": 0,
           "arrowwidth": 1
          },
          "coloraxis": {
           "colorbar": {
            "outlinewidth": 0,
            "ticks": ""
           }
          },
          "colorscale": {
           "diverging": [
            [
             0,
             "#8e0152"
            ],
            [
             0.1,
             "#c51b7d"
            ],
            [
             0.2,
             "#de77ae"
            ],
            [
             0.3,
             "#f1b6da"
            ],
            [
             0.4,
             "#fde0ef"
            ],
            [
             0.5,
             "#f7f7f7"
            ],
            [
             0.6,
             "#e6f5d0"
            ],
            [
             0.7,
             "#b8e186"
            ],
            [
             0.8,
             "#7fbc41"
            ],
            [
             0.9,
             "#4d9221"
            ],
            [
             1,
             "#276419"
            ]
           ],
           "sequential": [
            [
             0,
             "#0d0887"
            ],
            [
             0.1111111111111111,
             "#46039f"
            ],
            [
             0.2222222222222222,
             "#7201a8"
            ],
            [
             0.3333333333333333,
             "#9c179e"
            ],
            [
             0.4444444444444444,
             "#bd3786"
            ],
            [
             0.5555555555555556,
             "#d8576b"
            ],
            [
             0.6666666666666666,
             "#ed7953"
            ],
            [
             0.7777777777777778,
             "#fb9f3a"
            ],
            [
             0.8888888888888888,
             "#fdca26"
            ],
            [
             1,
             "#f0f921"
            ]
           ],
           "sequentialminus": [
            [
             0,
             "#0d0887"
            ],
            [
             0.1111111111111111,
             "#46039f"
            ],
            [
             0.2222222222222222,
             "#7201a8"
            ],
            [
             0.3333333333333333,
             "#9c179e"
            ],
            [
             0.4444444444444444,
             "#bd3786"
            ],
            [
             0.5555555555555556,
             "#d8576b"
            ],
            [
             0.6666666666666666,
             "#ed7953"
            ],
            [
             0.7777777777777778,
             "#fb9f3a"
            ],
            [
             0.8888888888888888,
             "#fdca26"
            ],
            [
             1,
             "#f0f921"
            ]
           ]
          },
          "colorway": [
           "#636efa",
           "#EF553B",
           "#00cc96",
           "#ab63fa",
           "#FFA15A",
           "#19d3f3",
           "#FF6692",
           "#B6E880",
           "#FF97FF",
           "#FECB52"
          ],
          "font": {
           "color": "#2a3f5f"
          },
          "geo": {
           "bgcolor": "white",
           "lakecolor": "white",
           "landcolor": "#E5ECF6",
           "showlakes": true,
           "showland": true,
           "subunitcolor": "white"
          },
          "hoverlabel": {
           "align": "left"
          },
          "hovermode": "closest",
          "mapbox": {
           "style": "light"
          },
          "paper_bgcolor": "white",
          "plot_bgcolor": "#E5ECF6",
          "polar": {
           "angularaxis": {
            "gridcolor": "white",
            "linecolor": "white",
            "ticks": ""
           },
           "bgcolor": "#E5ECF6",
           "radialaxis": {
            "gridcolor": "white",
            "linecolor": "white",
            "ticks": ""
           }
          },
          "scene": {
           "xaxis": {
            "backgroundcolor": "#E5ECF6",
            "gridcolor": "white",
            "gridwidth": 2,
            "linecolor": "white",
            "showbackground": true,
            "ticks": "",
            "zerolinecolor": "white"
           },
           "yaxis": {
            "backgroundcolor": "#E5ECF6",
            "gridcolor": "white",
            "gridwidth": 2,
            "linecolor": "white",
            "showbackground": true,
            "ticks": "",
            "zerolinecolor": "white"
           },
           "zaxis": {
            "backgroundcolor": "#E5ECF6",
            "gridcolor": "white",
            "gridwidth": 2,
            "linecolor": "white",
            "showbackground": true,
            "ticks": "",
            "zerolinecolor": "white"
           }
          },
          "shapedefaults": {
           "line": {
            "color": "#2a3f5f"
           }
          },
          "ternary": {
           "aaxis": {
            "gridcolor": "white",
            "linecolor": "white",
            "ticks": ""
           },
           "baxis": {
            "gridcolor": "white",
            "linecolor": "white",
            "ticks": ""
           },
           "bgcolor": "#E5ECF6",
           "caxis": {
            "gridcolor": "white",
            "linecolor": "white",
            "ticks": ""
           }
          },
          "title": {
           "x": 0.05
          },
          "xaxis": {
           "automargin": true,
           "gridcolor": "white",
           "linecolor": "white",
           "ticks": "",
           "title": {
            "standoff": 15
           },
           "zerolinecolor": "white",
           "zerolinewidth": 2
          },
          "yaxis": {
           "automargin": true,
           "gridcolor": "white",
           "linecolor": "white",
           "ticks": "",
           "title": {
            "standoff": 15
           },
           "zerolinecolor": "white",
           "zerolinewidth": 2
          }
         }
        },
        "title": {
         "font": {
          "color": "#4D5663"
         }
        },
        "xaxis": {
         "gridcolor": "#E1E5ED",
         "showgrid": true,
         "tickfont": {
          "color": "#4D5663"
         },
         "title": {
          "font": {
           "color": "#4D5663"
          },
          "text": ""
         },
         "zerolinecolor": "#E1E5ED"
        },
        "yaxis": {
         "gridcolor": "#E1E5ED",
         "showgrid": true,
         "tickfont": {
          "color": "#4D5663"
         },
         "title": {
          "font": {
           "color": "#4D5663"
          },
          "text": ""
         },
         "zerolinecolor": "#E1E5ED"
        }
       }
      },
      "text/html": [
       "<div>\n",
       "        \n",
       "        \n",
       "            <div id=\"65b031e0-e81e-40c6-bb98-15cdc288666c\" class=\"plotly-graph-div\" style=\"height:525px; width:100%;\"></div>\n",
       "            <script type=\"text/javascript\">\n",
       "                require([\"plotly\"], function(Plotly) {\n",
       "                    window.PLOTLYENV=window.PLOTLYENV || {};\n",
       "                    window.PLOTLYENV.BASE_URL='https://plot.ly';\n",
       "                    \n",
       "                if (document.getElementById(\"65b031e0-e81e-40c6-bb98-15cdc288666c\")) {\n",
       "                    Plotly.newPlot(\n",
       "                        '65b031e0-e81e-40c6-bb98-15cdc288666c',\n",
       "                        [{\"marker\": {\"color\": \"rgba(255, 153, 51, 0.6)\", \"line\": {\"color\": \"rgba(255, 153, 51, 1.0)\", \"width\": 1}}, \"name\": \"None\", \"orientation\": \"v\", \"text\": \"\", \"type\": \"bar\", \"x\": [\"A\", \"B\", \"C\", \"D\"], \"y\": [100, 100, 100, 100]}],\n",
       "                        {\"legend\": {\"bgcolor\": \"#F5F6F9\", \"font\": {\"color\": \"#4D5663\"}}, \"paper_bgcolor\": \"#F5F6F9\", \"plot_bgcolor\": \"#F5F6F9\", \"template\": {\"data\": {\"bar\": [{\"error_x\": {\"color\": \"#2a3f5f\"}, \"error_y\": {\"color\": \"#2a3f5f\"}, \"marker\": {\"line\": {\"color\": \"#E5ECF6\", \"width\": 0.5}}, \"type\": \"bar\"}], \"barpolar\": [{\"marker\": {\"line\": {\"color\": \"#E5ECF6\", \"width\": 0.5}}, \"type\": \"barpolar\"}], \"carpet\": [{\"aaxis\": {\"endlinecolor\": \"#2a3f5f\", \"gridcolor\": \"white\", \"linecolor\": \"white\", \"minorgridcolor\": \"white\", \"startlinecolor\": \"#2a3f5f\"}, \"baxis\": {\"endlinecolor\": \"#2a3f5f\", \"gridcolor\": \"white\", \"linecolor\": \"white\", \"minorgridcolor\": \"white\", \"startlinecolor\": \"#2a3f5f\"}, \"type\": \"carpet\"}], \"choropleth\": [{\"colorbar\": {\"outlinewidth\": 0, \"ticks\": \"\"}, \"type\": \"choropleth\"}], \"contour\": [{\"colorbar\": {\"outlinewidth\": 0, \"ticks\": \"\"}, \"colorscale\": [[0.0, \"#0d0887\"], [0.1111111111111111, \"#46039f\"], [0.2222222222222222, \"#7201a8\"], [0.3333333333333333, \"#9c179e\"], [0.4444444444444444, \"#bd3786\"], [0.5555555555555556, \"#d8576b\"], [0.6666666666666666, \"#ed7953\"], [0.7777777777777778, \"#fb9f3a\"], [0.8888888888888888, \"#fdca26\"], [1.0, \"#f0f921\"]], \"type\": \"contour\"}], \"contourcarpet\": [{\"colorbar\": {\"outlinewidth\": 0, \"ticks\": \"\"}, \"type\": \"contourcarpet\"}], \"heatmap\": [{\"colorbar\": {\"outlinewidth\": 0, \"ticks\": \"\"}, \"colorscale\": [[0.0, \"#0d0887\"], [0.1111111111111111, \"#46039f\"], [0.2222222222222222, \"#7201a8\"], [0.3333333333333333, \"#9c179e\"], [0.4444444444444444, \"#bd3786\"], [0.5555555555555556, \"#d8576b\"], [0.6666666666666666, \"#ed7953\"], [0.7777777777777778, \"#fb9f3a\"], [0.8888888888888888, \"#fdca26\"], [1.0, \"#f0f921\"]], \"type\": \"heatmap\"}], \"heatmapgl\": [{\"colorbar\": {\"outlinewidth\": 0, \"ticks\": \"\"}, \"colorscale\": [[0.0, \"#0d0887\"], [0.1111111111111111, \"#46039f\"], [0.2222222222222222, \"#7201a8\"], [0.3333333333333333, \"#9c179e\"], [0.4444444444444444, \"#bd3786\"], [0.5555555555555556, \"#d8576b\"], [0.6666666666666666, \"#ed7953\"], [0.7777777777777778, \"#fb9f3a\"], [0.8888888888888888, \"#fdca26\"], [1.0, \"#f0f921\"]], \"type\": \"heatmapgl\"}], \"histogram\": [{\"marker\": {\"colorbar\": {\"outlinewidth\": 0, \"ticks\": \"\"}}, \"type\": \"histogram\"}], \"histogram2d\": [{\"colorbar\": {\"outlinewidth\": 0, \"ticks\": \"\"}, \"colorscale\": [[0.0, \"#0d0887\"], [0.1111111111111111, \"#46039f\"], [0.2222222222222222, \"#7201a8\"], [0.3333333333333333, \"#9c179e\"], [0.4444444444444444, \"#bd3786\"], [0.5555555555555556, \"#d8576b\"], [0.6666666666666666, \"#ed7953\"], [0.7777777777777778, \"#fb9f3a\"], [0.8888888888888888, \"#fdca26\"], [1.0, \"#f0f921\"]], \"type\": \"histogram2d\"}], \"histogram2dcontour\": [{\"colorbar\": {\"outlinewidth\": 0, \"ticks\": \"\"}, \"colorscale\": [[0.0, \"#0d0887\"], [0.1111111111111111, \"#46039f\"], [0.2222222222222222, \"#7201a8\"], [0.3333333333333333, \"#9c179e\"], [0.4444444444444444, \"#bd3786\"], [0.5555555555555556, \"#d8576b\"], [0.6666666666666666, \"#ed7953\"], [0.7777777777777778, \"#fb9f3a\"], [0.8888888888888888, \"#fdca26\"], [1.0, \"#f0f921\"]], \"type\": \"histogram2dcontour\"}], \"mesh3d\": [{\"colorbar\": {\"outlinewidth\": 0, \"ticks\": \"\"}, \"type\": \"mesh3d\"}], \"parcoords\": [{\"line\": {\"colorbar\": {\"outlinewidth\": 0, \"ticks\": \"\"}}, \"type\": \"parcoords\"}], \"pie\": [{\"automargin\": true, \"type\": \"pie\"}], \"scatter\": [{\"marker\": {\"colorbar\": {\"outlinewidth\": 0, \"ticks\": \"\"}}, \"type\": \"scatter\"}], \"scatter3d\": [{\"line\": {\"colorbar\": {\"outlinewidth\": 0, \"ticks\": \"\"}}, \"marker\": {\"colorbar\": {\"outlinewidth\": 0, \"ticks\": \"\"}}, \"type\": \"scatter3d\"}], \"scattercarpet\": [{\"marker\": {\"colorbar\": {\"outlinewidth\": 0, \"ticks\": \"\"}}, \"type\": \"scattercarpet\"}], \"scattergeo\": [{\"marker\": {\"colorbar\": {\"outlinewidth\": 0, \"ticks\": \"\"}}, \"type\": \"scattergeo\"}], \"scattergl\": [{\"marker\": {\"colorbar\": {\"outlinewidth\": 0, \"ticks\": \"\"}}, \"type\": \"scattergl\"}], \"scattermapbox\": [{\"marker\": {\"colorbar\": {\"outlinewidth\": 0, \"ticks\": \"\"}}, \"type\": \"scattermapbox\"}], \"scatterpolar\": [{\"marker\": {\"colorbar\": {\"outlinewidth\": 0, \"ticks\": \"\"}}, \"type\": \"scatterpolar\"}], \"scatterpolargl\": [{\"marker\": {\"colorbar\": {\"outlinewidth\": 0, \"ticks\": \"\"}}, \"type\": \"scatterpolargl\"}], \"scatterternary\": [{\"marker\": {\"colorbar\": {\"outlinewidth\": 0, \"ticks\": \"\"}}, \"type\": \"scatterternary\"}], \"surface\": [{\"colorbar\": {\"outlinewidth\": 0, \"ticks\": \"\"}, \"colorscale\": [[0.0, \"#0d0887\"], [0.1111111111111111, \"#46039f\"], [0.2222222222222222, \"#7201a8\"], [0.3333333333333333, \"#9c179e\"], [0.4444444444444444, \"#bd3786\"], [0.5555555555555556, \"#d8576b\"], [0.6666666666666666, \"#ed7953\"], [0.7777777777777778, \"#fb9f3a\"], [0.8888888888888888, \"#fdca26\"], [1.0, \"#f0f921\"]], \"type\": \"surface\"}], \"table\": [{\"cells\": {\"fill\": {\"color\": \"#EBF0F8\"}, \"line\": {\"color\": \"white\"}}, \"header\": {\"fill\": {\"color\": \"#C8D4E3\"}, \"line\": {\"color\": \"white\"}}, \"type\": \"table\"}]}, \"layout\": {\"annotationdefaults\": {\"arrowcolor\": \"#2a3f5f\", \"arrowhead\": 0, \"arrowwidth\": 1}, \"coloraxis\": {\"colorbar\": {\"outlinewidth\": 0, \"ticks\": \"\"}}, \"colorscale\": {\"diverging\": [[0, \"#8e0152\"], [0.1, \"#c51b7d\"], [0.2, \"#de77ae\"], [0.3, \"#f1b6da\"], [0.4, \"#fde0ef\"], [0.5, \"#f7f7f7\"], [0.6, \"#e6f5d0\"], [0.7, \"#b8e186\"], [0.8, \"#7fbc41\"], [0.9, \"#4d9221\"], [1, \"#276419\"]], \"sequential\": [[0.0, \"#0d0887\"], [0.1111111111111111, \"#46039f\"], [0.2222222222222222, \"#7201a8\"], [0.3333333333333333, \"#9c179e\"], [0.4444444444444444, \"#bd3786\"], [0.5555555555555556, \"#d8576b\"], [0.6666666666666666, \"#ed7953\"], [0.7777777777777778, \"#fb9f3a\"], [0.8888888888888888, \"#fdca26\"], [1.0, \"#f0f921\"]], \"sequentialminus\": [[0.0, \"#0d0887\"], [0.1111111111111111, \"#46039f\"], [0.2222222222222222, \"#7201a8\"], [0.3333333333333333, \"#9c179e\"], [0.4444444444444444, \"#bd3786\"], [0.5555555555555556, \"#d8576b\"], [0.6666666666666666, \"#ed7953\"], [0.7777777777777778, \"#fb9f3a\"], [0.8888888888888888, \"#fdca26\"], [1.0, \"#f0f921\"]]}, \"colorway\": [\"#636efa\", \"#EF553B\", \"#00cc96\", \"#ab63fa\", \"#FFA15A\", \"#19d3f3\", \"#FF6692\", \"#B6E880\", \"#FF97FF\", \"#FECB52\"], \"font\": {\"color\": \"#2a3f5f\"}, \"geo\": {\"bgcolor\": \"white\", \"lakecolor\": \"white\", \"landcolor\": \"#E5ECF6\", \"showlakes\": true, \"showland\": true, \"subunitcolor\": \"white\"}, \"hoverlabel\": {\"align\": \"left\"}, \"hovermode\": \"closest\", \"mapbox\": {\"style\": \"light\"}, \"paper_bgcolor\": \"white\", \"plot_bgcolor\": \"#E5ECF6\", \"polar\": {\"angularaxis\": {\"gridcolor\": \"white\", \"linecolor\": \"white\", \"ticks\": \"\"}, \"bgcolor\": \"#E5ECF6\", \"radialaxis\": {\"gridcolor\": \"white\", \"linecolor\": \"white\", \"ticks\": \"\"}}, \"scene\": {\"xaxis\": {\"backgroundcolor\": \"#E5ECF6\", \"gridcolor\": \"white\", \"gridwidth\": 2, \"linecolor\": \"white\", \"showbackground\": true, \"ticks\": \"\", \"zerolinecolor\": \"white\"}, \"yaxis\": {\"backgroundcolor\": \"#E5ECF6\", \"gridcolor\": \"white\", \"gridwidth\": 2, \"linecolor\": \"white\", \"showbackground\": true, \"ticks\": \"\", \"zerolinecolor\": \"white\"}, \"zaxis\": {\"backgroundcolor\": \"#E5ECF6\", \"gridcolor\": \"white\", \"gridwidth\": 2, \"linecolor\": \"white\", \"showbackground\": true, \"ticks\": \"\", \"zerolinecolor\": \"white\"}}, \"shapedefaults\": {\"line\": {\"color\": \"#2a3f5f\"}}, \"ternary\": {\"aaxis\": {\"gridcolor\": \"white\", \"linecolor\": \"white\", \"ticks\": \"\"}, \"baxis\": {\"gridcolor\": \"white\", \"linecolor\": \"white\", \"ticks\": \"\"}, \"bgcolor\": \"#E5ECF6\", \"caxis\": {\"gridcolor\": \"white\", \"linecolor\": \"white\", \"ticks\": \"\"}}, \"title\": {\"x\": 0.05}, \"xaxis\": {\"automargin\": true, \"gridcolor\": \"white\", \"linecolor\": \"white\", \"ticks\": \"\", \"title\": {\"standoff\": 15}, \"zerolinecolor\": \"white\", \"zerolinewidth\": 2}, \"yaxis\": {\"automargin\": true, \"gridcolor\": \"white\", \"linecolor\": \"white\", \"ticks\": \"\", \"title\": {\"standoff\": 15}, \"zerolinecolor\": \"white\", \"zerolinewidth\": 2}}}, \"title\": {\"font\": {\"color\": \"#4D5663\"}}, \"xaxis\": {\"gridcolor\": \"#E1E5ED\", \"showgrid\": true, \"tickfont\": {\"color\": \"#4D5663\"}, \"title\": {\"font\": {\"color\": \"#4D5663\"}, \"text\": \"\"}, \"zerolinecolor\": \"#E1E5ED\"}, \"yaxis\": {\"gridcolor\": \"#E1E5ED\", \"showgrid\": true, \"tickfont\": {\"color\": \"#4D5663\"}, \"title\": {\"font\": {\"color\": \"#4D5663\"}, \"text\": \"\"}, \"zerolinecolor\": \"#E1E5ED\"}},\n",
       "                        {\"showLink\": true, \"linkText\": \"Export to plot.ly\", \"plotlyServerURL\": \"https://plot.ly\", \"responsive\": true}\n",
       "                    ).then(function(){\n",
       "                            \n",
       "var gd = document.getElementById('65b031e0-e81e-40c6-bb98-15cdc288666c');\n",
       "var x = new MutationObserver(function (mutations, observer) {{\n",
       "        var display = window.getComputedStyle(gd).display;\n",
       "        if (!display || display === 'none') {{\n",
       "            console.log([gd, 'removed!']);\n",
       "            Plotly.purge(gd);\n",
       "            observer.disconnect();\n",
       "        }}\n",
       "}});\n",
       "\n",
       "// Listen for the removal of the full notebook cells\n",
       "var notebookContainer = gd.closest('#notebook-container');\n",
       "if (notebookContainer) {{\n",
       "    x.observe(notebookContainer, {childList: true});\n",
       "}}\n",
       "\n",
       "// Listen for the clearing of the current output cell\n",
       "var outputEl = gd.closest('.output');\n",
       "if (outputEl) {{\n",
       "    x.observe(outputEl, {childList: true});\n",
       "}}\n",
       "\n",
       "                        })\n",
       "                };\n",
       "                });\n",
       "            </script>\n",
       "        </div>"
      ]
     },
     "metadata": {},
     "output_type": "display_data"
    }
   ],
   "source": [
    "df.count().iplot(kind='bar')"
   ]
  },
  {
   "cell_type": "markdown",
   "metadata": {},
   "source": [
    "## Boxplots"
   ]
  },
  {
   "cell_type": "code",
   "execution_count": 15,
   "metadata": {},
   "outputs": [
    {
     "data": {
      "application/vnd.plotly.v1+json": {
       "config": {
        "linkText": "Export to plot.ly",
        "plotlyServerURL": "https://plot.ly",
        "showLink": true
       },
       "data": [
        {
         "boxpoints": false,
         "line": {
          "width": 1.3
         },
         "marker": {
          "color": "rgba(255, 153, 51, 1.0)"
         },
         "name": "A",
         "orientation": "v",
         "type": "box",
         "y": [
          0.3925721259516482,
          1.372423172955678,
          2.242609686488439,
          -0.8582063908771425,
          0.7608248424673095,
          0.7000004474958651,
          -2.012133152037724,
          0.9326208404062066,
          -0.659318333188724,
          1.6928610483674762,
          -0.6871886678918286,
          -0.35039380953159355,
          -0.42079236277313725,
          0.8690052189226001,
          -0.576444210165041,
          0.21995333800259842,
          -0.4444106568943757,
          -1.1440185333618915,
          -1.6578956613807303,
          -0.4101416114246453,
          -0.8519320305097161,
          1.2103242834430672,
          0.32015253922147136,
          -0.10035894535953092,
          -0.8488192702393195,
          -0.5572712613655367,
          -1.0688607093730706,
          -0.42181977168796303,
          0.12733568405289733,
          -1.0665476173525776,
          0.9261690103955689,
          -1.9549129649944113,
          -1.0277111422245617,
          -0.38799086170382646,
          1.1509943645776262,
          -1.745769144522121,
          1.2130978831137753,
          -0.6425110489904321,
          -0.57978668657439,
          1.0712439163287628,
          -0.9234875765962591,
          2.961687683445264,
          -0.8009271101769784,
          -0.6562531660019234,
          -0.27821128532982536,
          -1.2066325053881286,
          3.292598801986526,
          -1.543892912424364,
          0.5426822404287032,
          0.6393413189471646,
          -0.429902886768494,
          -0.9816502324772437,
          0.04303598600358611,
          -1.167434040446578,
          0.7324805559746674,
          0.8864020652679193,
          0.5228613497547522,
          -1.1582437180761456,
          0.8668597258010465,
          -1.124040455883926,
          1.8000496709282203,
          0.8645540802609497,
          -1.1773722266718076,
          -0.13804095883041229,
          -0.6407571208877594,
          -0.4281134664922928,
          -1.0138183021796128,
          -1.3585492226847056,
          -0.858301495895222,
          -0.08680224327455878,
          -0.9429499025251274,
          -0.516543913855966,
          -1.9085819167197682,
          -0.3047314446803455,
          -0.8469563304785783,
          1.6986622415450738,
          0.4788801048455923,
          0.8165342542226821,
          0.2712567992995717,
          -1.7066836444868176,
          -0.41177484570153433,
          3.4776607657004988,
          -2.834396666032772,
          -0.7774122936937027,
          1.7045043869532526,
          -0.06080095132088235,
          -0.76980795302438,
          -1.0415010013073016,
          0.5224033425902554,
          0.8532714130883641,
          0.5484720112680194,
          0.3391173259213127,
          -1.5739514633185079,
          0.5619600984821377,
          -0.5983771760743023,
          1.1075742347923272,
          -1.6666578332055928,
          -0.3778299507535159,
          -0.6830647528616767,
          0.41404579007455566
         ]
        },
        {
         "boxpoints": false,
         "line": {
          "width": 1.3
         },
         "marker": {
          "color": "rgba(55, 128, 191, 1.0)"
         },
         "name": "B",
         "orientation": "v",
         "type": "box",
         "y": [
          -0.18562897664789632,
          0.2814946331226841,
          -0.5611496729894913,
          -0.4024455177000891,
          -0.5067484326841816,
          -0.5046831255213409,
          0.3071138555381204,
          0.5235719311401476,
          0.1689123266002498,
          -0.648541330346596,
          -0.2781926966218052,
          0.5674683584811326,
          0.46108742396861463,
          0.4081857886915297,
          0.8856809194878353,
          0.8230987593991649,
          -0.39330647758921633,
          0.3233245409289331,
          -0.6207219618976456,
          -2.398805095729414,
          1.1216956439427725,
          -0.5863344522457911,
          0.5607494682257044,
          0.10914101529479345,
          -0.10621089901970976,
          -0.4309016156343589,
          -0.41156421677297167,
          -0.11563017368980043,
          -2.036410216502865,
          -0.3110822648687047,
          0.4256721368775975,
          -0.7804317607711396,
          1.3742457362160845,
          1.5447331731436296,
          -0.7250748089914916,
          0.24929992571674361,
          -1.7794793815328092,
          0.24138473009400277,
          -1.2034168942707761,
          1.0414639210199483,
          -0.5670377462359961,
          -0.21270823704091296,
          -0.685999635317336,
          1.1247530050048336,
          1.188669271627665,
          -1.8444053144861277,
          -0.48683583832976574,
          -1.4150671526928436,
          -0.7958340475909478,
          0.08001675426748367,
          -0.7821642717145418,
          -0.5779608466326287,
          0.7616839022768124,
          0.5873755367983575,
          0.7997869163737407,
          0.9558533340809422,
          -0.9061367977781155,
          -0.43578105334829365,
          -0.21657032067850326,
          -0.7972237736675932,
          0.5467520310235533,
          -0.05996238706349433,
          -1.3103756836643208,
          -1.2984105754608068,
          -1.08278714497136,
          -0.067375476395044,
          -0.2012741546557389,
          0.7301998783153228,
          0.7860790647665244,
          1.2748168237130528,
          -0.15838584047247817,
          -0.7367956174793401,
          0.17381865974815355,
          -0.608882127348547,
          0.019790573117705768,
          -0.5581866426850328,
          0.37207449041564766,
          2.433253765776426,
          -0.2519215314634941,
          0.7858365678345681,
          0.5594533930884258,
          0.21976613500776326,
          -0.6254685895049678,
          -0.6561891284929092,
          2.1213683420326332,
          0.12457784109751802,
          -0.14382087113095818,
          0.4394487501767444,
          -0.744337348321256,
          -0.3777265856290238,
          0.8070672733664923,
          -0.24328759151350107,
          -1.7140416474135354,
          -1.5670830508801825,
          1.8234229094828922,
          0.5031344290993308,
          -1.366297613187657,
          1.0133773132755128,
          -0.28092282255864715,
          -0.16105588035881507
         ]
        },
        {
         "boxpoints": false,
         "line": {
          "width": 1.3
         },
         "marker": {
          "color": "rgba(50, 171, 96, 1.0)"
         },
         "name": "C",
         "orientation": "v",
         "type": "box",
         "y": [
          0.28441655846283115,
          1.6861245389387827,
          0.5649320226659227,
          -0.006992281741640265,
          0.6950104350820111,
          -2.782161294185466,
          -1.3929262166412348,
          1.1466427563740487,
          -0.1262468085370894,
          0.027610312707100796,
          2.0993419772076924,
          0.5464592496207633,
          -0.9650485066377515,
          0.350095797866304,
          0.4464205586893242,
          0.32543348059825544,
          0.24250264612773229,
          0.8134327473763154,
          -1.9221574660590977,
          -0.8515636634477415,
          -0.8859644188452906,
          1.5164945643863925,
          1.3057008239245025,
          -0.5341448824517766,
          1.2114568933445147,
          1.4805686765043942,
          -0.9903060622368212,
          -0.7111921334234341,
          -0.7705832241561541,
          0.1807635333209304,
          1.3867801276386518,
          1.2096172921326662,
          0.41417152434287813,
          -0.0754038199458381,
          -1.3353939930941396,
          0.7450243963561473,
          0.364376944348029,
          -0.46849590462886515,
          0.13246878845688012,
          0.9382466543882401,
          0.9631623571438938,
          0.8678278660229487,
          -0.5112000717690514,
          -0.10330510133411867,
          -0.34431945483637544,
          0.4260507406404684,
          1.0057291196151519,
          1.0365172878615823,
          -0.8291370209200336,
          0.4377030649632805,
          0.7017745010682606,
          -0.7673762052874429,
          -1.5952663531267484,
          -0.6793902349244565,
          0.9382454148586494,
          -1.0031684970768282,
          -0.12622705458301473,
          -0.1028625649307537,
          0.45233888419194995,
          -0.008531419431794739,
          -1.2938012749019887,
          -0.37763963492557423,
          -0.5552276038742345,
          -0.43686967873256866,
          2.5023643713562427,
          0.6273843535101066,
          -0.6921376835637734,
          0.7657233099148385,
          -0.5140437049580203,
          -0.14935928451238165,
          -1.4178162750954013,
          -0.911541945468432,
          -2.2484151726652053,
          -0.3272244929529284,
          -0.06031464011966538,
          -1.2198525633118895,
          -0.9665382189960053,
          -0.8030204857611252,
          0.09008886334577865,
          -1.5179371449807757,
          -0.7898385578973032,
          -0.0758686468454915,
          -0.49709787644938114,
          -0.7393226842199646,
          1.1175234017610933,
          0.25092684424139433,
          -0.4132636485268327,
          0.16020492569879421,
          -0.626302528337445,
          0.23902815107320322,
          0.5733871642928374,
          -1.3476994945261318,
          0.017341930072027993,
          0.32956392990260047,
          1.7254936465727004,
          0.0815643997667831,
          0.5266073855612576,
          0.40311575029138064,
          1.6872933351292154,
          -0.0014924123917553528
         ]
        },
        {
         "boxpoints": false,
         "line": {
          "width": 1.3
         },
         "marker": {
          "color": "rgba(128, 0, 128, 1.0)"
         },
         "name": "D",
         "orientation": "v",
         "type": "box",
         "y": [
          -0.6948506396980108,
          -0.6666428538904786,
          0.10977248148330632,
          -0.34507063852421277,
          0.5644738826580985,
          0.23698645675986882,
          -0.27566335461447067,
          0.9984136711746818,
          -0.35453953436057145,
          -0.7590677342876666,
          1.0954715281036402,
          0.4432431120527865,
          -1.2507109626191366,
          0.9712441680171693,
          0.013203357152381795,
          0.18807930342327556,
          -2.4244030669480163,
          0.19642096604822498,
          0.4644164832119015,
          1.2589962842989606,
          -0.47824746769953363,
          0.4744862784598353,
          1.3118766204574364,
          -0.8680136931356329,
          -0.10129756529911702,
          0.4689138437974007,
          -1.5339069602700537,
          -0.10846820881083391,
          0.6908985750185441,
          0.18350135082338448,
          -0.5914853780307834,
          -0.9537198471375213,
          0.5703344039692307,
          1.429865002978377,
          0.5519913738620827,
          0.993412636271246,
          0.034469811988359855,
          -0.7472496880871153,
          1.4996124512981646,
          -0.4946386379145436,
          1.0399840670841098,
          0.12271290218834982,
          0.03910713883627607,
          1.5392891439270928,
          -0.5321486686255733,
          -0.7709776809477752,
          0.4228444336143023,
          0.4702867223000906,
          0.4682790545334142,
          -0.318220551982597,
          -0.638691919721894,
          0.1338412858354175,
          -0.8153205614533109,
          0.3567584183573207,
          0.1176061105063393,
          0.4441722883986997,
          1.000172564994546,
          1.2737790335626429,
          -1.0390421978667987,
          -1.2390043917953708,
          0.4672069481240647,
          1.7014753136623637,
          -0.5279990223802564,
          -0.39162490382241943,
          -0.23550259779516858,
          0.2913840379119788,
          -0.23528362452735238,
          0.41712929386903885,
          -0.8393462438785326,
          0.45414655173794455,
          0.3295495327747455,
          -0.4178229756531817,
          -0.7185662761449305,
          0.2547080145281705,
          -0.7800799954343723,
          1.6208908197100877,
          -0.12472366532659815,
          1.3768125427026123,
          0.025633067041241596,
          1.2014509834321612,
          0.5597559903640666,
          0.20773867581652714,
          -0.6946381185103704,
          0.3079191077548796,
          -0.3308755186198372,
          -0.14041599548525413,
          -1.8625381720460532,
          0.9997300943289195,
          0.7919825195272278,
          -0.554200154872438,
          0.30411179171190633,
          -0.2637799068113172,
          -1.105590430637276,
          -0.29296374986869805,
          0.7171759251788568,
          1.0201142495169346,
          -0.7232117317655378,
          1.2180757428969105,
          -0.4587277173521224,
          0.7357053360469868
         ]
        }
       ],
       "layout": {
        "legend": {
         "bgcolor": "#F5F6F9",
         "font": {
          "color": "#4D5663"
         }
        },
        "paper_bgcolor": "#F5F6F9",
        "plot_bgcolor": "#F5F6F9",
        "template": {
         "data": {
          "bar": [
           {
            "error_x": {
             "color": "#2a3f5f"
            },
            "error_y": {
             "color": "#2a3f5f"
            },
            "marker": {
             "line": {
              "color": "#E5ECF6",
              "width": 0.5
             }
            },
            "type": "bar"
           }
          ],
          "barpolar": [
           {
            "marker": {
             "line": {
              "color": "#E5ECF6",
              "width": 0.5
             }
            },
            "type": "barpolar"
           }
          ],
          "carpet": [
           {
            "aaxis": {
             "endlinecolor": "#2a3f5f",
             "gridcolor": "white",
             "linecolor": "white",
             "minorgridcolor": "white",
             "startlinecolor": "#2a3f5f"
            },
            "baxis": {
             "endlinecolor": "#2a3f5f",
             "gridcolor": "white",
             "linecolor": "white",
             "minorgridcolor": "white",
             "startlinecolor": "#2a3f5f"
            },
            "type": "carpet"
           }
          ],
          "choropleth": [
           {
            "colorbar": {
             "outlinewidth": 0,
             "ticks": ""
            },
            "type": "choropleth"
           }
          ],
          "contour": [
           {
            "colorbar": {
             "outlinewidth": 0,
             "ticks": ""
            },
            "colorscale": [
             [
              0,
              "#0d0887"
             ],
             [
              0.1111111111111111,
              "#46039f"
             ],
             [
              0.2222222222222222,
              "#7201a8"
             ],
             [
              0.3333333333333333,
              "#9c179e"
             ],
             [
              0.4444444444444444,
              "#bd3786"
             ],
             [
              0.5555555555555556,
              "#d8576b"
             ],
             [
              0.6666666666666666,
              "#ed7953"
             ],
             [
              0.7777777777777778,
              "#fb9f3a"
             ],
             [
              0.8888888888888888,
              "#fdca26"
             ],
             [
              1,
              "#f0f921"
             ]
            ],
            "type": "contour"
           }
          ],
          "contourcarpet": [
           {
            "colorbar": {
             "outlinewidth": 0,
             "ticks": ""
            },
            "type": "contourcarpet"
           }
          ],
          "heatmap": [
           {
            "colorbar": {
             "outlinewidth": 0,
             "ticks": ""
            },
            "colorscale": [
             [
              0,
              "#0d0887"
             ],
             [
              0.1111111111111111,
              "#46039f"
             ],
             [
              0.2222222222222222,
              "#7201a8"
             ],
             [
              0.3333333333333333,
              "#9c179e"
             ],
             [
              0.4444444444444444,
              "#bd3786"
             ],
             [
              0.5555555555555556,
              "#d8576b"
             ],
             [
              0.6666666666666666,
              "#ed7953"
             ],
             [
              0.7777777777777778,
              "#fb9f3a"
             ],
             [
              0.8888888888888888,
              "#fdca26"
             ],
             [
              1,
              "#f0f921"
             ]
            ],
            "type": "heatmap"
           }
          ],
          "heatmapgl": [
           {
            "colorbar": {
             "outlinewidth": 0,
             "ticks": ""
            },
            "colorscale": [
             [
              0,
              "#0d0887"
             ],
             [
              0.1111111111111111,
              "#46039f"
             ],
             [
              0.2222222222222222,
              "#7201a8"
             ],
             [
              0.3333333333333333,
              "#9c179e"
             ],
             [
              0.4444444444444444,
              "#bd3786"
             ],
             [
              0.5555555555555556,
              "#d8576b"
             ],
             [
              0.6666666666666666,
              "#ed7953"
             ],
             [
              0.7777777777777778,
              "#fb9f3a"
             ],
             [
              0.8888888888888888,
              "#fdca26"
             ],
             [
              1,
              "#f0f921"
             ]
            ],
            "type": "heatmapgl"
           }
          ],
          "histogram": [
           {
            "marker": {
             "colorbar": {
              "outlinewidth": 0,
              "ticks": ""
             }
            },
            "type": "histogram"
           }
          ],
          "histogram2d": [
           {
            "colorbar": {
             "outlinewidth": 0,
             "ticks": ""
            },
            "colorscale": [
             [
              0,
              "#0d0887"
             ],
             [
              0.1111111111111111,
              "#46039f"
             ],
             [
              0.2222222222222222,
              "#7201a8"
             ],
             [
              0.3333333333333333,
              "#9c179e"
             ],
             [
              0.4444444444444444,
              "#bd3786"
             ],
             [
              0.5555555555555556,
              "#d8576b"
             ],
             [
              0.6666666666666666,
              "#ed7953"
             ],
             [
              0.7777777777777778,
              "#fb9f3a"
             ],
             [
              0.8888888888888888,
              "#fdca26"
             ],
             [
              1,
              "#f0f921"
             ]
            ],
            "type": "histogram2d"
           }
          ],
          "histogram2dcontour": [
           {
            "colorbar": {
             "outlinewidth": 0,
             "ticks": ""
            },
            "colorscale": [
             [
              0,
              "#0d0887"
             ],
             [
              0.1111111111111111,
              "#46039f"
             ],
             [
              0.2222222222222222,
              "#7201a8"
             ],
             [
              0.3333333333333333,
              "#9c179e"
             ],
             [
              0.4444444444444444,
              "#bd3786"
             ],
             [
              0.5555555555555556,
              "#d8576b"
             ],
             [
              0.6666666666666666,
              "#ed7953"
             ],
             [
              0.7777777777777778,
              "#fb9f3a"
             ],
             [
              0.8888888888888888,
              "#fdca26"
             ],
             [
              1,
              "#f0f921"
             ]
            ],
            "type": "histogram2dcontour"
           }
          ],
          "mesh3d": [
           {
            "colorbar": {
             "outlinewidth": 0,
             "ticks": ""
            },
            "type": "mesh3d"
           }
          ],
          "parcoords": [
           {
            "line": {
             "colorbar": {
              "outlinewidth": 0,
              "ticks": ""
             }
            },
            "type": "parcoords"
           }
          ],
          "pie": [
           {
            "automargin": true,
            "type": "pie"
           }
          ],
          "scatter": [
           {
            "marker": {
             "colorbar": {
              "outlinewidth": 0,
              "ticks": ""
             }
            },
            "type": "scatter"
           }
          ],
          "scatter3d": [
           {
            "line": {
             "colorbar": {
              "outlinewidth": 0,
              "ticks": ""
             }
            },
            "marker": {
             "colorbar": {
              "outlinewidth": 0,
              "ticks": ""
             }
            },
            "type": "scatter3d"
           }
          ],
          "scattercarpet": [
           {
            "marker": {
             "colorbar": {
              "outlinewidth": 0,
              "ticks": ""
             }
            },
            "type": "scattercarpet"
           }
          ],
          "scattergeo": [
           {
            "marker": {
             "colorbar": {
              "outlinewidth": 0,
              "ticks": ""
             }
            },
            "type": "scattergeo"
           }
          ],
          "scattergl": [
           {
            "marker": {
             "colorbar": {
              "outlinewidth": 0,
              "ticks": ""
             }
            },
            "type": "scattergl"
           }
          ],
          "scattermapbox": [
           {
            "marker": {
             "colorbar": {
              "outlinewidth": 0,
              "ticks": ""
             }
            },
            "type": "scattermapbox"
           }
          ],
          "scatterpolar": [
           {
            "marker": {
             "colorbar": {
              "outlinewidth": 0,
              "ticks": ""
             }
            },
            "type": "scatterpolar"
           }
          ],
          "scatterpolargl": [
           {
            "marker": {
             "colorbar": {
              "outlinewidth": 0,
              "ticks": ""
             }
            },
            "type": "scatterpolargl"
           }
          ],
          "scatterternary": [
           {
            "marker": {
             "colorbar": {
              "outlinewidth": 0,
              "ticks": ""
             }
            },
            "type": "scatterternary"
           }
          ],
          "surface": [
           {
            "colorbar": {
             "outlinewidth": 0,
             "ticks": ""
            },
            "colorscale": [
             [
              0,
              "#0d0887"
             ],
             [
              0.1111111111111111,
              "#46039f"
             ],
             [
              0.2222222222222222,
              "#7201a8"
             ],
             [
              0.3333333333333333,
              "#9c179e"
             ],
             [
              0.4444444444444444,
              "#bd3786"
             ],
             [
              0.5555555555555556,
              "#d8576b"
             ],
             [
              0.6666666666666666,
              "#ed7953"
             ],
             [
              0.7777777777777778,
              "#fb9f3a"
             ],
             [
              0.8888888888888888,
              "#fdca26"
             ],
             [
              1,
              "#f0f921"
             ]
            ],
            "type": "surface"
           }
          ],
          "table": [
           {
            "cells": {
             "fill": {
              "color": "#EBF0F8"
             },
             "line": {
              "color": "white"
             }
            },
            "header": {
             "fill": {
              "color": "#C8D4E3"
             },
             "line": {
              "color": "white"
             }
            },
            "type": "table"
           }
          ]
         },
         "layout": {
          "annotationdefaults": {
           "arrowcolor": "#2a3f5f",
           "arrowhead": 0,
           "arrowwidth": 1
          },
          "coloraxis": {
           "colorbar": {
            "outlinewidth": 0,
            "ticks": ""
           }
          },
          "colorscale": {
           "diverging": [
            [
             0,
             "#8e0152"
            ],
            [
             0.1,
             "#c51b7d"
            ],
            [
             0.2,
             "#de77ae"
            ],
            [
             0.3,
             "#f1b6da"
            ],
            [
             0.4,
             "#fde0ef"
            ],
            [
             0.5,
             "#f7f7f7"
            ],
            [
             0.6,
             "#e6f5d0"
            ],
            [
             0.7,
             "#b8e186"
            ],
            [
             0.8,
             "#7fbc41"
            ],
            [
             0.9,
             "#4d9221"
            ],
            [
             1,
             "#276419"
            ]
           ],
           "sequential": [
            [
             0,
             "#0d0887"
            ],
            [
             0.1111111111111111,
             "#46039f"
            ],
            [
             0.2222222222222222,
             "#7201a8"
            ],
            [
             0.3333333333333333,
             "#9c179e"
            ],
            [
             0.4444444444444444,
             "#bd3786"
            ],
            [
             0.5555555555555556,
             "#d8576b"
            ],
            [
             0.6666666666666666,
             "#ed7953"
            ],
            [
             0.7777777777777778,
             "#fb9f3a"
            ],
            [
             0.8888888888888888,
             "#fdca26"
            ],
            [
             1,
             "#f0f921"
            ]
           ],
           "sequentialminus": [
            [
             0,
             "#0d0887"
            ],
            [
             0.1111111111111111,
             "#46039f"
            ],
            [
             0.2222222222222222,
             "#7201a8"
            ],
            [
             0.3333333333333333,
             "#9c179e"
            ],
            [
             0.4444444444444444,
             "#bd3786"
            ],
            [
             0.5555555555555556,
             "#d8576b"
            ],
            [
             0.6666666666666666,
             "#ed7953"
            ],
            [
             0.7777777777777778,
             "#fb9f3a"
            ],
            [
             0.8888888888888888,
             "#fdca26"
            ],
            [
             1,
             "#f0f921"
            ]
           ]
          },
          "colorway": [
           "#636efa",
           "#EF553B",
           "#00cc96",
           "#ab63fa",
           "#FFA15A",
           "#19d3f3",
           "#FF6692",
           "#B6E880",
           "#FF97FF",
           "#FECB52"
          ],
          "font": {
           "color": "#2a3f5f"
          },
          "geo": {
           "bgcolor": "white",
           "lakecolor": "white",
           "landcolor": "#E5ECF6",
           "showlakes": true,
           "showland": true,
           "subunitcolor": "white"
          },
          "hoverlabel": {
           "align": "left"
          },
          "hovermode": "closest",
          "mapbox": {
           "style": "light"
          },
          "paper_bgcolor": "white",
          "plot_bgcolor": "#E5ECF6",
          "polar": {
           "angularaxis": {
            "gridcolor": "white",
            "linecolor": "white",
            "ticks": ""
           },
           "bgcolor": "#E5ECF6",
           "radialaxis": {
            "gridcolor": "white",
            "linecolor": "white",
            "ticks": ""
           }
          },
          "scene": {
           "xaxis": {
            "backgroundcolor": "#E5ECF6",
            "gridcolor": "white",
            "gridwidth": 2,
            "linecolor": "white",
            "showbackground": true,
            "ticks": "",
            "zerolinecolor": "white"
           },
           "yaxis": {
            "backgroundcolor": "#E5ECF6",
            "gridcolor": "white",
            "gridwidth": 2,
            "linecolor": "white",
            "showbackground": true,
            "ticks": "",
            "zerolinecolor": "white"
           },
           "zaxis": {
            "backgroundcolor": "#E5ECF6",
            "gridcolor": "white",
            "gridwidth": 2,
            "linecolor": "white",
            "showbackground": true,
            "ticks": "",
            "zerolinecolor": "white"
           }
          },
          "shapedefaults": {
           "line": {
            "color": "#2a3f5f"
           }
          },
          "ternary": {
           "aaxis": {
            "gridcolor": "white",
            "linecolor": "white",
            "ticks": ""
           },
           "baxis": {
            "gridcolor": "white",
            "linecolor": "white",
            "ticks": ""
           },
           "bgcolor": "#E5ECF6",
           "caxis": {
            "gridcolor": "white",
            "linecolor": "white",
            "ticks": ""
           }
          },
          "title": {
           "x": 0.05
          },
          "xaxis": {
           "automargin": true,
           "gridcolor": "white",
           "linecolor": "white",
           "ticks": "",
           "title": {
            "standoff": 15
           },
           "zerolinecolor": "white",
           "zerolinewidth": 2
          },
          "yaxis": {
           "automargin": true,
           "gridcolor": "white",
           "linecolor": "white",
           "ticks": "",
           "title": {
            "standoff": 15
           },
           "zerolinecolor": "white",
           "zerolinewidth": 2
          }
         }
        },
        "title": {
         "font": {
          "color": "#4D5663"
         }
        },
        "xaxis": {
         "gridcolor": "#E1E5ED",
         "showgrid": true,
         "tickfont": {
          "color": "#4D5663"
         },
         "title": {
          "font": {
           "color": "#4D5663"
          },
          "text": ""
         },
         "zerolinecolor": "#E1E5ED"
        },
        "yaxis": {
         "gridcolor": "#E1E5ED",
         "showgrid": true,
         "tickfont": {
          "color": "#4D5663"
         },
         "title": {
          "font": {
           "color": "#4D5663"
          },
          "text": ""
         },
         "zerolinecolor": "#E1E5ED"
        }
       }
      },
      "text/html": [
       "<div>\n",
       "        \n",
       "        \n",
       "            <div id=\"18a909d8-0c01-4fa9-94b2-14d14e17d787\" class=\"plotly-graph-div\" style=\"height:525px; width:100%;\"></div>\n",
       "            <script type=\"text/javascript\">\n",
       "                require([\"plotly\"], function(Plotly) {\n",
       "                    window.PLOTLYENV=window.PLOTLYENV || {};\n",
       "                    window.PLOTLYENV.BASE_URL='https://plot.ly';\n",
       "                    \n",
       "                if (document.getElementById(\"18a909d8-0c01-4fa9-94b2-14d14e17d787\")) {\n",
       "                    Plotly.newPlot(\n",
       "                        '18a909d8-0c01-4fa9-94b2-14d14e17d787',\n",
       "                        [{\"boxpoints\": false, \"line\": {\"width\": 1.3}, \"marker\": {\"color\": \"rgba(255, 153, 51, 1.0)\"}, \"name\": \"A\", \"orientation\": \"v\", \"type\": \"box\", \"y\": [0.3925721259516482, 1.372423172955678, 2.242609686488439, -0.8582063908771425, 0.7608248424673095, 0.7000004474958651, -2.012133152037724, 0.9326208404062066, -0.659318333188724, 1.6928610483674762, -0.6871886678918286, -0.35039380953159355, -0.42079236277313725, 0.8690052189226001, -0.576444210165041, 0.21995333800259842, -0.4444106568943757, -1.1440185333618915, -1.6578956613807303, -0.4101416114246453, -0.8519320305097161, 1.2103242834430672, 0.32015253922147136, -0.10035894535953092, -0.8488192702393195, -0.5572712613655367, -1.0688607093730706, -0.42181977168796303, 0.12733568405289733, -1.0665476173525776, 0.9261690103955689, -1.9549129649944113, -1.0277111422245617, -0.38799086170382646, 1.1509943645776262, -1.745769144522121, 1.2130978831137753, -0.6425110489904321, -0.57978668657439, 1.0712439163287628, -0.9234875765962591, 2.961687683445264, -0.8009271101769784, -0.6562531660019234, -0.27821128532982536, -1.2066325053881286, 3.292598801986526, -1.543892912424364, 0.5426822404287032, 0.6393413189471646, -0.429902886768494, -0.9816502324772437, 0.04303598600358611, -1.167434040446578, 0.7324805559746674, 0.8864020652679193, 0.5228613497547522, -1.1582437180761456, 0.8668597258010465, -1.124040455883926, 1.8000496709282203, 0.8645540802609497, -1.1773722266718076, -0.13804095883041229, -0.6407571208877594, -0.4281134664922928, -1.0138183021796128, -1.3585492226847056, -0.858301495895222, -0.08680224327455878, -0.9429499025251274, -0.516543913855966, -1.9085819167197682, -0.3047314446803455, -0.8469563304785783, 1.6986622415450738, 0.4788801048455923, 0.8165342542226821, 0.2712567992995717, -1.7066836444868176, -0.41177484570153433, 3.4776607657004988, -2.834396666032772, -0.7774122936937027, 1.7045043869532526, -0.06080095132088235, -0.76980795302438, -1.0415010013073016, 0.5224033425902554, 0.8532714130883641, 0.5484720112680194, 0.3391173259213127, -1.5739514633185079, 0.5619600984821377, -0.5983771760743023, 1.1075742347923272, -1.6666578332055928, -0.3778299507535159, -0.6830647528616767, 0.41404579007455566]}, {\"boxpoints\": false, \"line\": {\"width\": 1.3}, \"marker\": {\"color\": \"rgba(55, 128, 191, 1.0)\"}, \"name\": \"B\", \"orientation\": \"v\", \"type\": \"box\", \"y\": [-0.18562897664789632, 0.2814946331226841, -0.5611496729894913, -0.4024455177000891, -0.5067484326841816, -0.5046831255213409, 0.3071138555381204, 0.5235719311401476, 0.1689123266002498, -0.648541330346596, -0.2781926966218052, 0.5674683584811326, 0.46108742396861463, 0.4081857886915297, 0.8856809194878353, 0.8230987593991649, -0.39330647758921633, 0.3233245409289331, -0.6207219618976456, -2.398805095729414, 1.1216956439427725, -0.5863344522457911, 0.5607494682257044, 0.10914101529479345, -0.10621089901970976, -0.4309016156343589, -0.41156421677297167, -0.11563017368980043, -2.036410216502865, -0.3110822648687047, 0.4256721368775975, -0.7804317607711396, 1.3742457362160845, 1.5447331731436296, -0.7250748089914916, 0.24929992571674361, -1.7794793815328092, 0.24138473009400277, -1.2034168942707761, 1.0414639210199483, -0.5670377462359961, -0.21270823704091296, -0.685999635317336, 1.1247530050048336, 1.188669271627665, -1.8444053144861277, -0.48683583832976574, -1.4150671526928436, -0.7958340475909478, 0.08001675426748367, -0.7821642717145418, -0.5779608466326287, 0.7616839022768124, 0.5873755367983575, 0.7997869163737407, 0.9558533340809422, -0.9061367977781155, -0.43578105334829365, -0.21657032067850326, -0.7972237736675932, 0.5467520310235533, -0.05996238706349433, -1.3103756836643208, -1.2984105754608068, -1.08278714497136, -0.067375476395044, -0.2012741546557389, 0.7301998783153228, 0.7860790647665244, 1.2748168237130528, -0.15838584047247817, -0.7367956174793401, 0.17381865974815355, -0.608882127348547, 0.019790573117705768, -0.5581866426850328, 0.37207449041564766, 2.433253765776426, -0.2519215314634941, 0.7858365678345681, 0.5594533930884258, 0.21976613500776326, -0.6254685895049678, -0.6561891284929092, 2.1213683420326332, 0.12457784109751802, -0.14382087113095818, 0.4394487501767444, -0.744337348321256, -0.3777265856290238, 0.8070672733664923, -0.24328759151350107, -1.7140416474135354, -1.5670830508801825, 1.8234229094828922, 0.5031344290993308, -1.366297613187657, 1.0133773132755128, -0.28092282255864715, -0.16105588035881507]}, {\"boxpoints\": false, \"line\": {\"width\": 1.3}, \"marker\": {\"color\": \"rgba(50, 171, 96, 1.0)\"}, \"name\": \"C\", \"orientation\": \"v\", \"type\": \"box\", \"y\": [0.28441655846283115, 1.6861245389387827, 0.5649320226659227, -0.006992281741640265, 0.6950104350820111, -2.782161294185466, -1.3929262166412348, 1.1466427563740487, -0.1262468085370894, 0.027610312707100796, 2.0993419772076924, 0.5464592496207633, -0.9650485066377515, 0.350095797866304, 0.4464205586893242, 0.32543348059825544, 0.24250264612773229, 0.8134327473763154, -1.9221574660590977, -0.8515636634477415, -0.8859644188452906, 1.5164945643863925, 1.3057008239245025, -0.5341448824517766, 1.2114568933445147, 1.4805686765043942, -0.9903060622368212, -0.7111921334234341, -0.7705832241561541, 0.1807635333209304, 1.3867801276386518, 1.2096172921326662, 0.41417152434287813, -0.0754038199458381, -1.3353939930941396, 0.7450243963561473, 0.364376944348029, -0.46849590462886515, 0.13246878845688012, 0.9382466543882401, 0.9631623571438938, 0.8678278660229487, -0.5112000717690514, -0.10330510133411867, -0.34431945483637544, 0.4260507406404684, 1.0057291196151519, 1.0365172878615823, -0.8291370209200336, 0.4377030649632805, 0.7017745010682606, -0.7673762052874429, -1.5952663531267484, -0.6793902349244565, 0.9382454148586494, -1.0031684970768282, -0.12622705458301473, -0.1028625649307537, 0.45233888419194995, -0.008531419431794739, -1.2938012749019887, -0.37763963492557423, -0.5552276038742345, -0.43686967873256866, 2.5023643713562427, 0.6273843535101066, -0.6921376835637734, 0.7657233099148385, -0.5140437049580203, -0.14935928451238165, -1.4178162750954013, -0.911541945468432, -2.2484151726652053, -0.3272244929529284, -0.06031464011966538, -1.2198525633118895, -0.9665382189960053, -0.8030204857611252, 0.09008886334577865, -1.5179371449807757, -0.7898385578973032, -0.0758686468454915, -0.49709787644938114, -0.7393226842199646, 1.1175234017610933, 0.25092684424139433, -0.4132636485268327, 0.16020492569879421, -0.626302528337445, 0.23902815107320322, 0.5733871642928374, -1.3476994945261318, 0.017341930072027993, 0.32956392990260047, 1.7254936465727004, 0.0815643997667831, 0.5266073855612576, 0.40311575029138064, 1.6872933351292154, -0.0014924123917553528]}, {\"boxpoints\": false, \"line\": {\"width\": 1.3}, \"marker\": {\"color\": \"rgba(128, 0, 128, 1.0)\"}, \"name\": \"D\", \"orientation\": \"v\", \"type\": \"box\", \"y\": [-0.6948506396980108, -0.6666428538904786, 0.10977248148330632, -0.34507063852421277, 0.5644738826580985, 0.23698645675986882, -0.27566335461447067, 0.9984136711746818, -0.35453953436057145, -0.7590677342876666, 1.0954715281036402, 0.4432431120527865, -1.2507109626191366, 0.9712441680171693, 0.013203357152381795, 0.18807930342327556, -2.4244030669480163, 0.19642096604822498, 0.4644164832119015, 1.2589962842989606, -0.47824746769953363, 0.4744862784598353, 1.3118766204574364, -0.8680136931356329, -0.10129756529911702, 0.4689138437974007, -1.5339069602700537, -0.10846820881083391, 0.6908985750185441, 0.18350135082338448, -0.5914853780307834, -0.9537198471375213, 0.5703344039692307, 1.429865002978377, 0.5519913738620827, 0.993412636271246, 0.034469811988359855, -0.7472496880871153, 1.4996124512981646, -0.4946386379145436, 1.0399840670841098, 0.12271290218834982, 0.03910713883627607, 1.5392891439270928, -0.5321486686255733, -0.7709776809477752, 0.4228444336143023, 0.4702867223000906, 0.4682790545334142, -0.318220551982597, -0.638691919721894, 0.1338412858354175, -0.8153205614533109, 0.3567584183573207, 0.1176061105063393, 0.4441722883986997, 1.000172564994546, 1.2737790335626429, -1.0390421978667987, -1.2390043917953708, 0.4672069481240647, 1.7014753136623637, -0.5279990223802564, -0.39162490382241943, -0.23550259779516858, 0.2913840379119788, -0.23528362452735238, 0.41712929386903885, -0.8393462438785326, 0.45414655173794455, 0.3295495327747455, -0.4178229756531817, -0.7185662761449305, 0.2547080145281705, -0.7800799954343723, 1.6208908197100877, -0.12472366532659815, 1.3768125427026123, 0.025633067041241596, 1.2014509834321612, 0.5597559903640666, 0.20773867581652714, -0.6946381185103704, 0.3079191077548796, -0.3308755186198372, -0.14041599548525413, -1.8625381720460532, 0.9997300943289195, 0.7919825195272278, -0.554200154872438, 0.30411179171190633, -0.2637799068113172, -1.105590430637276, -0.29296374986869805, 0.7171759251788568, 1.0201142495169346, -0.7232117317655378, 1.2180757428969105, -0.4587277173521224, 0.7357053360469868]}],\n",
       "                        {\"legend\": {\"bgcolor\": \"#F5F6F9\", \"font\": {\"color\": \"#4D5663\"}}, \"paper_bgcolor\": \"#F5F6F9\", \"plot_bgcolor\": \"#F5F6F9\", \"template\": {\"data\": {\"bar\": [{\"error_x\": {\"color\": \"#2a3f5f\"}, \"error_y\": {\"color\": \"#2a3f5f\"}, \"marker\": {\"line\": {\"color\": \"#E5ECF6\", \"width\": 0.5}}, \"type\": \"bar\"}], \"barpolar\": [{\"marker\": {\"line\": {\"color\": \"#E5ECF6\", \"width\": 0.5}}, \"type\": \"barpolar\"}], \"carpet\": [{\"aaxis\": {\"endlinecolor\": \"#2a3f5f\", \"gridcolor\": \"white\", \"linecolor\": \"white\", \"minorgridcolor\": \"white\", \"startlinecolor\": \"#2a3f5f\"}, \"baxis\": {\"endlinecolor\": \"#2a3f5f\", \"gridcolor\": \"white\", \"linecolor\": \"white\", \"minorgridcolor\": \"white\", \"startlinecolor\": \"#2a3f5f\"}, \"type\": \"carpet\"}], \"choropleth\": [{\"colorbar\": {\"outlinewidth\": 0, \"ticks\": \"\"}, \"type\": \"choropleth\"}], \"contour\": [{\"colorbar\": {\"outlinewidth\": 0, \"ticks\": \"\"}, \"colorscale\": [[0.0, \"#0d0887\"], [0.1111111111111111, \"#46039f\"], [0.2222222222222222, \"#7201a8\"], [0.3333333333333333, \"#9c179e\"], [0.4444444444444444, \"#bd3786\"], [0.5555555555555556, \"#d8576b\"], [0.6666666666666666, \"#ed7953\"], [0.7777777777777778, \"#fb9f3a\"], [0.8888888888888888, \"#fdca26\"], [1.0, \"#f0f921\"]], \"type\": \"contour\"}], \"contourcarpet\": [{\"colorbar\": {\"outlinewidth\": 0, \"ticks\": \"\"}, \"type\": \"contourcarpet\"}], \"heatmap\": [{\"colorbar\": {\"outlinewidth\": 0, \"ticks\": \"\"}, \"colorscale\": [[0.0, \"#0d0887\"], [0.1111111111111111, \"#46039f\"], [0.2222222222222222, \"#7201a8\"], [0.3333333333333333, \"#9c179e\"], [0.4444444444444444, \"#bd3786\"], [0.5555555555555556, \"#d8576b\"], [0.6666666666666666, \"#ed7953\"], [0.7777777777777778, \"#fb9f3a\"], [0.8888888888888888, \"#fdca26\"], [1.0, \"#f0f921\"]], \"type\": \"heatmap\"}], \"heatmapgl\": [{\"colorbar\": {\"outlinewidth\": 0, \"ticks\": \"\"}, \"colorscale\": [[0.0, \"#0d0887\"], [0.1111111111111111, \"#46039f\"], [0.2222222222222222, \"#7201a8\"], [0.3333333333333333, \"#9c179e\"], [0.4444444444444444, \"#bd3786\"], [0.5555555555555556, \"#d8576b\"], [0.6666666666666666, \"#ed7953\"], [0.7777777777777778, \"#fb9f3a\"], [0.8888888888888888, \"#fdca26\"], [1.0, \"#f0f921\"]], \"type\": \"heatmapgl\"}], \"histogram\": [{\"marker\": {\"colorbar\": {\"outlinewidth\": 0, \"ticks\": \"\"}}, \"type\": \"histogram\"}], \"histogram2d\": [{\"colorbar\": {\"outlinewidth\": 0, \"ticks\": \"\"}, \"colorscale\": [[0.0, \"#0d0887\"], [0.1111111111111111, \"#46039f\"], [0.2222222222222222, \"#7201a8\"], [0.3333333333333333, \"#9c179e\"], [0.4444444444444444, \"#bd3786\"], [0.5555555555555556, \"#d8576b\"], [0.6666666666666666, \"#ed7953\"], [0.7777777777777778, \"#fb9f3a\"], [0.8888888888888888, \"#fdca26\"], [1.0, \"#f0f921\"]], \"type\": \"histogram2d\"}], \"histogram2dcontour\": [{\"colorbar\": {\"outlinewidth\": 0, \"ticks\": \"\"}, \"colorscale\": [[0.0, \"#0d0887\"], [0.1111111111111111, \"#46039f\"], [0.2222222222222222, \"#7201a8\"], [0.3333333333333333, \"#9c179e\"], [0.4444444444444444, \"#bd3786\"], [0.5555555555555556, \"#d8576b\"], [0.6666666666666666, \"#ed7953\"], [0.7777777777777778, \"#fb9f3a\"], [0.8888888888888888, \"#fdca26\"], [1.0, \"#f0f921\"]], \"type\": \"histogram2dcontour\"}], \"mesh3d\": [{\"colorbar\": {\"outlinewidth\": 0, \"ticks\": \"\"}, \"type\": \"mesh3d\"}], \"parcoords\": [{\"line\": {\"colorbar\": {\"outlinewidth\": 0, \"ticks\": \"\"}}, \"type\": \"parcoords\"}], \"pie\": [{\"automargin\": true, \"type\": \"pie\"}], \"scatter\": [{\"marker\": {\"colorbar\": {\"outlinewidth\": 0, \"ticks\": \"\"}}, \"type\": \"scatter\"}], \"scatter3d\": [{\"line\": {\"colorbar\": {\"outlinewidth\": 0, \"ticks\": \"\"}}, \"marker\": {\"colorbar\": {\"outlinewidth\": 0, \"ticks\": \"\"}}, \"type\": \"scatter3d\"}], \"scattercarpet\": [{\"marker\": {\"colorbar\": {\"outlinewidth\": 0, \"ticks\": \"\"}}, \"type\": \"scattercarpet\"}], \"scattergeo\": [{\"marker\": {\"colorbar\": {\"outlinewidth\": 0, \"ticks\": \"\"}}, \"type\": \"scattergeo\"}], \"scattergl\": [{\"marker\": {\"colorbar\": {\"outlinewidth\": 0, \"ticks\": \"\"}}, \"type\": \"scattergl\"}], \"scattermapbox\": [{\"marker\": {\"colorbar\": {\"outlinewidth\": 0, \"ticks\": \"\"}}, \"type\": \"scattermapbox\"}], \"scatterpolar\": [{\"marker\": {\"colorbar\": {\"outlinewidth\": 0, \"ticks\": \"\"}}, \"type\": \"scatterpolar\"}], \"scatterpolargl\": [{\"marker\": {\"colorbar\": {\"outlinewidth\": 0, \"ticks\": \"\"}}, \"type\": \"scatterpolargl\"}], \"scatterternary\": [{\"marker\": {\"colorbar\": {\"outlinewidth\": 0, \"ticks\": \"\"}}, \"type\": \"scatterternary\"}], \"surface\": [{\"colorbar\": {\"outlinewidth\": 0, \"ticks\": \"\"}, \"colorscale\": [[0.0, \"#0d0887\"], [0.1111111111111111, \"#46039f\"], [0.2222222222222222, \"#7201a8\"], [0.3333333333333333, \"#9c179e\"], [0.4444444444444444, \"#bd3786\"], [0.5555555555555556, \"#d8576b\"], [0.6666666666666666, \"#ed7953\"], [0.7777777777777778, \"#fb9f3a\"], [0.8888888888888888, \"#fdca26\"], [1.0, \"#f0f921\"]], \"type\": \"surface\"}], \"table\": [{\"cells\": {\"fill\": {\"color\": \"#EBF0F8\"}, \"line\": {\"color\": \"white\"}}, \"header\": {\"fill\": {\"color\": \"#C8D4E3\"}, \"line\": {\"color\": \"white\"}}, \"type\": \"table\"}]}, \"layout\": {\"annotationdefaults\": {\"arrowcolor\": \"#2a3f5f\", \"arrowhead\": 0, \"arrowwidth\": 1}, \"coloraxis\": {\"colorbar\": {\"outlinewidth\": 0, \"ticks\": \"\"}}, \"colorscale\": {\"diverging\": [[0, \"#8e0152\"], [0.1, \"#c51b7d\"], [0.2, \"#de77ae\"], [0.3, \"#f1b6da\"], [0.4, \"#fde0ef\"], [0.5, \"#f7f7f7\"], [0.6, \"#e6f5d0\"], [0.7, \"#b8e186\"], [0.8, \"#7fbc41\"], [0.9, \"#4d9221\"], [1, \"#276419\"]], \"sequential\": [[0.0, \"#0d0887\"], [0.1111111111111111, \"#46039f\"], [0.2222222222222222, \"#7201a8\"], [0.3333333333333333, \"#9c179e\"], [0.4444444444444444, \"#bd3786\"], [0.5555555555555556, \"#d8576b\"], [0.6666666666666666, \"#ed7953\"], [0.7777777777777778, \"#fb9f3a\"], [0.8888888888888888, \"#fdca26\"], [1.0, \"#f0f921\"]], \"sequentialminus\": [[0.0, \"#0d0887\"], [0.1111111111111111, \"#46039f\"], [0.2222222222222222, \"#7201a8\"], [0.3333333333333333, \"#9c179e\"], [0.4444444444444444, \"#bd3786\"], [0.5555555555555556, \"#d8576b\"], [0.6666666666666666, \"#ed7953\"], [0.7777777777777778, \"#fb9f3a\"], [0.8888888888888888, \"#fdca26\"], [1.0, \"#f0f921\"]]}, \"colorway\": [\"#636efa\", \"#EF553B\", \"#00cc96\", \"#ab63fa\", \"#FFA15A\", \"#19d3f3\", \"#FF6692\", \"#B6E880\", \"#FF97FF\", \"#FECB52\"], \"font\": {\"color\": \"#2a3f5f\"}, \"geo\": {\"bgcolor\": \"white\", \"lakecolor\": \"white\", \"landcolor\": \"#E5ECF6\", \"showlakes\": true, \"showland\": true, \"subunitcolor\": \"white\"}, \"hoverlabel\": {\"align\": \"left\"}, \"hovermode\": \"closest\", \"mapbox\": {\"style\": \"light\"}, \"paper_bgcolor\": \"white\", \"plot_bgcolor\": \"#E5ECF6\", \"polar\": {\"angularaxis\": {\"gridcolor\": \"white\", \"linecolor\": \"white\", \"ticks\": \"\"}, \"bgcolor\": \"#E5ECF6\", \"radialaxis\": {\"gridcolor\": \"white\", \"linecolor\": \"white\", \"ticks\": \"\"}}, \"scene\": {\"xaxis\": {\"backgroundcolor\": \"#E5ECF6\", \"gridcolor\": \"white\", \"gridwidth\": 2, \"linecolor\": \"white\", \"showbackground\": true, \"ticks\": \"\", \"zerolinecolor\": \"white\"}, \"yaxis\": {\"backgroundcolor\": \"#E5ECF6\", \"gridcolor\": \"white\", \"gridwidth\": 2, \"linecolor\": \"white\", \"showbackground\": true, \"ticks\": \"\", \"zerolinecolor\": \"white\"}, \"zaxis\": {\"backgroundcolor\": \"#E5ECF6\", \"gridcolor\": \"white\", \"gridwidth\": 2, \"linecolor\": \"white\", \"showbackground\": true, \"ticks\": \"\", \"zerolinecolor\": \"white\"}}, \"shapedefaults\": {\"line\": {\"color\": \"#2a3f5f\"}}, \"ternary\": {\"aaxis\": {\"gridcolor\": \"white\", \"linecolor\": \"white\", \"ticks\": \"\"}, \"baxis\": {\"gridcolor\": \"white\", \"linecolor\": \"white\", \"ticks\": \"\"}, \"bgcolor\": \"#E5ECF6\", \"caxis\": {\"gridcolor\": \"white\", \"linecolor\": \"white\", \"ticks\": \"\"}}, \"title\": {\"x\": 0.05}, \"xaxis\": {\"automargin\": true, \"gridcolor\": \"white\", \"linecolor\": \"white\", \"ticks\": \"\", \"title\": {\"standoff\": 15}, \"zerolinecolor\": \"white\", \"zerolinewidth\": 2}, \"yaxis\": {\"automargin\": true, \"gridcolor\": \"white\", \"linecolor\": \"white\", \"ticks\": \"\", \"title\": {\"standoff\": 15}, \"zerolinecolor\": \"white\", \"zerolinewidth\": 2}}}, \"title\": {\"font\": {\"color\": \"#4D5663\"}}, \"xaxis\": {\"gridcolor\": \"#E1E5ED\", \"showgrid\": true, \"tickfont\": {\"color\": \"#4D5663\"}, \"title\": {\"font\": {\"color\": \"#4D5663\"}, \"text\": \"\"}, \"zerolinecolor\": \"#E1E5ED\"}, \"yaxis\": {\"gridcolor\": \"#E1E5ED\", \"showgrid\": true, \"tickfont\": {\"color\": \"#4D5663\"}, \"title\": {\"font\": {\"color\": \"#4D5663\"}, \"text\": \"\"}, \"zerolinecolor\": \"#E1E5ED\"}},\n",
       "                        {\"showLink\": true, \"linkText\": \"Export to plot.ly\", \"plotlyServerURL\": \"https://plot.ly\", \"responsive\": true}\n",
       "                    ).then(function(){\n",
       "                            \n",
       "var gd = document.getElementById('18a909d8-0c01-4fa9-94b2-14d14e17d787');\n",
       "var x = new MutationObserver(function (mutations, observer) {{\n",
       "        var display = window.getComputedStyle(gd).display;\n",
       "        if (!display || display === 'none') {{\n",
       "            console.log([gd, 'removed!']);\n",
       "            Plotly.purge(gd);\n",
       "            observer.disconnect();\n",
       "        }}\n",
       "}});\n",
       "\n",
       "// Listen for the removal of the full notebook cells\n",
       "var notebookContainer = gd.closest('#notebook-container');\n",
       "if (notebookContainer) {{\n",
       "    x.observe(notebookContainer, {childList: true});\n",
       "}}\n",
       "\n",
       "// Listen for the clearing of the current output cell\n",
       "var outputEl = gd.closest('.output');\n",
       "if (outputEl) {{\n",
       "    x.observe(outputEl, {childList: true});\n",
       "}}\n",
       "\n",
       "                        })\n",
       "                };\n",
       "                });\n",
       "            </script>\n",
       "        </div>"
      ]
     },
     "metadata": {},
     "output_type": "display_data"
    }
   ],
   "source": [
    "df.iplot(kind='box')"
   ]
  },
  {
   "cell_type": "markdown",
   "metadata": {},
   "source": [
    "## 3d Surface"
   ]
  },
  {
   "cell_type": "code",
   "execution_count": 16,
   "metadata": {},
   "outputs": [
    {
     "data": {
      "application/vnd.plotly.v1+json": {
       "config": {
        "linkText": "Export to plot.ly",
        "plotlyServerURL": "https://plot.ly",
        "showLink": true
       },
       "data": [
        {
         "colorscale": [
          [
           0,
           "rgb(165,0,38)"
          ],
          [
           0.1,
           "rgb(215,48,39)"
          ],
          [
           0.2,
           "rgb(244,109,67)"
          ],
          [
           0.3,
           "rgb(253,174,97)"
          ],
          [
           0.4,
           "rgb(254,224,144)"
          ],
          [
           0.5,
           "rgb(255,255,191)"
          ],
          [
           0.6,
           "rgb(224,243,248)"
          ],
          [
           0.7,
           "rgb(171,217,233)"
          ],
          [
           0.8,
           "rgb(116,173,209)"
          ],
          [
           0.9,
           "rgb(69,117,180)"
          ],
          [
           1,
           "rgb(49,54,149)"
          ]
         ],
         "type": "surface",
         "x": [
          0,
          1,
          2,
          3,
          4
         ],
         "y": [
          "x",
          "y",
          "z"
         ],
         "z": [
          [
           1,
           2,
           3,
           4,
           5
          ],
          [
           10,
           20,
           30,
           20,
           10
          ],
          [
           5,
           4,
           3,
           2,
           1
          ]
         ]
        }
       ],
       "layout": {
        "legend": {
         "bgcolor": "#F5F6F9",
         "font": {
          "color": "#4D5663"
         }
        },
        "paper_bgcolor": "#F5F6F9",
        "plot_bgcolor": "#F5F6F9",
        "template": {
         "data": {
          "bar": [
           {
            "error_x": {
             "color": "#2a3f5f"
            },
            "error_y": {
             "color": "#2a3f5f"
            },
            "marker": {
             "line": {
              "color": "#E5ECF6",
              "width": 0.5
             }
            },
            "type": "bar"
           }
          ],
          "barpolar": [
           {
            "marker": {
             "line": {
              "color": "#E5ECF6",
              "width": 0.5
             }
            },
            "type": "barpolar"
           }
          ],
          "carpet": [
           {
            "aaxis": {
             "endlinecolor": "#2a3f5f",
             "gridcolor": "white",
             "linecolor": "white",
             "minorgridcolor": "white",
             "startlinecolor": "#2a3f5f"
            },
            "baxis": {
             "endlinecolor": "#2a3f5f",
             "gridcolor": "white",
             "linecolor": "white",
             "minorgridcolor": "white",
             "startlinecolor": "#2a3f5f"
            },
            "type": "carpet"
           }
          ],
          "choropleth": [
           {
            "colorbar": {
             "outlinewidth": 0,
             "ticks": ""
            },
            "type": "choropleth"
           }
          ],
          "contour": [
           {
            "colorbar": {
             "outlinewidth": 0,
             "ticks": ""
            },
            "colorscale": [
             [
              0,
              "#0d0887"
             ],
             [
              0.1111111111111111,
              "#46039f"
             ],
             [
              0.2222222222222222,
              "#7201a8"
             ],
             [
              0.3333333333333333,
              "#9c179e"
             ],
             [
              0.4444444444444444,
              "#bd3786"
             ],
             [
              0.5555555555555556,
              "#d8576b"
             ],
             [
              0.6666666666666666,
              "#ed7953"
             ],
             [
              0.7777777777777778,
              "#fb9f3a"
             ],
             [
              0.8888888888888888,
              "#fdca26"
             ],
             [
              1,
              "#f0f921"
             ]
            ],
            "type": "contour"
           }
          ],
          "contourcarpet": [
           {
            "colorbar": {
             "outlinewidth": 0,
             "ticks": ""
            },
            "type": "contourcarpet"
           }
          ],
          "heatmap": [
           {
            "colorbar": {
             "outlinewidth": 0,
             "ticks": ""
            },
            "colorscale": [
             [
              0,
              "#0d0887"
             ],
             [
              0.1111111111111111,
              "#46039f"
             ],
             [
              0.2222222222222222,
              "#7201a8"
             ],
             [
              0.3333333333333333,
              "#9c179e"
             ],
             [
              0.4444444444444444,
              "#bd3786"
             ],
             [
              0.5555555555555556,
              "#d8576b"
             ],
             [
              0.6666666666666666,
              "#ed7953"
             ],
             [
              0.7777777777777778,
              "#fb9f3a"
             ],
             [
              0.8888888888888888,
              "#fdca26"
             ],
             [
              1,
              "#f0f921"
             ]
            ],
            "type": "heatmap"
           }
          ],
          "heatmapgl": [
           {
            "colorbar": {
             "outlinewidth": 0,
             "ticks": ""
            },
            "colorscale": [
             [
              0,
              "#0d0887"
             ],
             [
              0.1111111111111111,
              "#46039f"
             ],
             [
              0.2222222222222222,
              "#7201a8"
             ],
             [
              0.3333333333333333,
              "#9c179e"
             ],
             [
              0.4444444444444444,
              "#bd3786"
             ],
             [
              0.5555555555555556,
              "#d8576b"
             ],
             [
              0.6666666666666666,
              "#ed7953"
             ],
             [
              0.7777777777777778,
              "#fb9f3a"
             ],
             [
              0.8888888888888888,
              "#fdca26"
             ],
             [
              1,
              "#f0f921"
             ]
            ],
            "type": "heatmapgl"
           }
          ],
          "histogram": [
           {
            "marker": {
             "colorbar": {
              "outlinewidth": 0,
              "ticks": ""
             }
            },
            "type": "histogram"
           }
          ],
          "histogram2d": [
           {
            "colorbar": {
             "outlinewidth": 0,
             "ticks": ""
            },
            "colorscale": [
             [
              0,
              "#0d0887"
             ],
             [
              0.1111111111111111,
              "#46039f"
             ],
             [
              0.2222222222222222,
              "#7201a8"
             ],
             [
              0.3333333333333333,
              "#9c179e"
             ],
             [
              0.4444444444444444,
              "#bd3786"
             ],
             [
              0.5555555555555556,
              "#d8576b"
             ],
             [
              0.6666666666666666,
              "#ed7953"
             ],
             [
              0.7777777777777778,
              "#fb9f3a"
             ],
             [
              0.8888888888888888,
              "#fdca26"
             ],
             [
              1,
              "#f0f921"
             ]
            ],
            "type": "histogram2d"
           }
          ],
          "histogram2dcontour": [
           {
            "colorbar": {
             "outlinewidth": 0,
             "ticks": ""
            },
            "colorscale": [
             [
              0,
              "#0d0887"
             ],
             [
              0.1111111111111111,
              "#46039f"
             ],
             [
              0.2222222222222222,
              "#7201a8"
             ],
             [
              0.3333333333333333,
              "#9c179e"
             ],
             [
              0.4444444444444444,
              "#bd3786"
             ],
             [
              0.5555555555555556,
              "#d8576b"
             ],
             [
              0.6666666666666666,
              "#ed7953"
             ],
             [
              0.7777777777777778,
              "#fb9f3a"
             ],
             [
              0.8888888888888888,
              "#fdca26"
             ],
             [
              1,
              "#f0f921"
             ]
            ],
            "type": "histogram2dcontour"
           }
          ],
          "mesh3d": [
           {
            "colorbar": {
             "outlinewidth": 0,
             "ticks": ""
            },
            "type": "mesh3d"
           }
          ],
          "parcoords": [
           {
            "line": {
             "colorbar": {
              "outlinewidth": 0,
              "ticks": ""
             }
            },
            "type": "parcoords"
           }
          ],
          "pie": [
           {
            "automargin": true,
            "type": "pie"
           }
          ],
          "scatter": [
           {
            "marker": {
             "colorbar": {
              "outlinewidth": 0,
              "ticks": ""
             }
            },
            "type": "scatter"
           }
          ],
          "scatter3d": [
           {
            "line": {
             "colorbar": {
              "outlinewidth": 0,
              "ticks": ""
             }
            },
            "marker": {
             "colorbar": {
              "outlinewidth": 0,
              "ticks": ""
             }
            },
            "type": "scatter3d"
           }
          ],
          "scattercarpet": [
           {
            "marker": {
             "colorbar": {
              "outlinewidth": 0,
              "ticks": ""
             }
            },
            "type": "scattercarpet"
           }
          ],
          "scattergeo": [
           {
            "marker": {
             "colorbar": {
              "outlinewidth": 0,
              "ticks": ""
             }
            },
            "type": "scattergeo"
           }
          ],
          "scattergl": [
           {
            "marker": {
             "colorbar": {
              "outlinewidth": 0,
              "ticks": ""
             }
            },
            "type": "scattergl"
           }
          ],
          "scattermapbox": [
           {
            "marker": {
             "colorbar": {
              "outlinewidth": 0,
              "ticks": ""
             }
            },
            "type": "scattermapbox"
           }
          ],
          "scatterpolar": [
           {
            "marker": {
             "colorbar": {
              "outlinewidth": 0,
              "ticks": ""
             }
            },
            "type": "scatterpolar"
           }
          ],
          "scatterpolargl": [
           {
            "marker": {
             "colorbar": {
              "outlinewidth": 0,
              "ticks": ""
             }
            },
            "type": "scatterpolargl"
           }
          ],
          "scatterternary": [
           {
            "marker": {
             "colorbar": {
              "outlinewidth": 0,
              "ticks": ""
             }
            },
            "type": "scatterternary"
           }
          ],
          "surface": [
           {
            "colorbar": {
             "outlinewidth": 0,
             "ticks": ""
            },
            "colorscale": [
             [
              0,
              "#0d0887"
             ],
             [
              0.1111111111111111,
              "#46039f"
             ],
             [
              0.2222222222222222,
              "#7201a8"
             ],
             [
              0.3333333333333333,
              "#9c179e"
             ],
             [
              0.4444444444444444,
              "#bd3786"
             ],
             [
              0.5555555555555556,
              "#d8576b"
             ],
             [
              0.6666666666666666,
              "#ed7953"
             ],
             [
              0.7777777777777778,
              "#fb9f3a"
             ],
             [
              0.8888888888888888,
              "#fdca26"
             ],
             [
              1,
              "#f0f921"
             ]
            ],
            "type": "surface"
           }
          ],
          "table": [
           {
            "cells": {
             "fill": {
              "color": "#EBF0F8"
             },
             "line": {
              "color": "white"
             }
            },
            "header": {
             "fill": {
              "color": "#C8D4E3"
             },
             "line": {
              "color": "white"
             }
            },
            "type": "table"
           }
          ]
         },
         "layout": {
          "annotationdefaults": {
           "arrowcolor": "#2a3f5f",
           "arrowhead": 0,
           "arrowwidth": 1
          },
          "coloraxis": {
           "colorbar": {
            "outlinewidth": 0,
            "ticks": ""
           }
          },
          "colorscale": {
           "diverging": [
            [
             0,
             "#8e0152"
            ],
            [
             0.1,
             "#c51b7d"
            ],
            [
             0.2,
             "#de77ae"
            ],
            [
             0.3,
             "#f1b6da"
            ],
            [
             0.4,
             "#fde0ef"
            ],
            [
             0.5,
             "#f7f7f7"
            ],
            [
             0.6,
             "#e6f5d0"
            ],
            [
             0.7,
             "#b8e186"
            ],
            [
             0.8,
             "#7fbc41"
            ],
            [
             0.9,
             "#4d9221"
            ],
            [
             1,
             "#276419"
            ]
           ],
           "sequential": [
            [
             0,
             "#0d0887"
            ],
            [
             0.1111111111111111,
             "#46039f"
            ],
            [
             0.2222222222222222,
             "#7201a8"
            ],
            [
             0.3333333333333333,
             "#9c179e"
            ],
            [
             0.4444444444444444,
             "#bd3786"
            ],
            [
             0.5555555555555556,
             "#d8576b"
            ],
            [
             0.6666666666666666,
             "#ed7953"
            ],
            [
             0.7777777777777778,
             "#fb9f3a"
            ],
            [
             0.8888888888888888,
             "#fdca26"
            ],
            [
             1,
             "#f0f921"
            ]
           ],
           "sequentialminus": [
            [
             0,
             "#0d0887"
            ],
            [
             0.1111111111111111,
             "#46039f"
            ],
            [
             0.2222222222222222,
             "#7201a8"
            ],
            [
             0.3333333333333333,
             "#9c179e"
            ],
            [
             0.4444444444444444,
             "#bd3786"
            ],
            [
             0.5555555555555556,
             "#d8576b"
            ],
            [
             0.6666666666666666,
             "#ed7953"
            ],
            [
             0.7777777777777778,
             "#fb9f3a"
            ],
            [
             0.8888888888888888,
             "#fdca26"
            ],
            [
             1,
             "#f0f921"
            ]
           ]
          },
          "colorway": [
           "#636efa",
           "#EF553B",
           "#00cc96",
           "#ab63fa",
           "#FFA15A",
           "#19d3f3",
           "#FF6692",
           "#B6E880",
           "#FF97FF",
           "#FECB52"
          ],
          "font": {
           "color": "#2a3f5f"
          },
          "geo": {
           "bgcolor": "white",
           "lakecolor": "white",
           "landcolor": "#E5ECF6",
           "showlakes": true,
           "showland": true,
           "subunitcolor": "white"
          },
          "hoverlabel": {
           "align": "left"
          },
          "hovermode": "closest",
          "mapbox": {
           "style": "light"
          },
          "paper_bgcolor": "white",
          "plot_bgcolor": "#E5ECF6",
          "polar": {
           "angularaxis": {
            "gridcolor": "white",
            "linecolor": "white",
            "ticks": ""
           },
           "bgcolor": "#E5ECF6",
           "radialaxis": {
            "gridcolor": "white",
            "linecolor": "white",
            "ticks": ""
           }
          },
          "scene": {
           "xaxis": {
            "backgroundcolor": "#E5ECF6",
            "gridcolor": "white",
            "gridwidth": 2,
            "linecolor": "white",
            "showbackground": true,
            "ticks": "",
            "zerolinecolor": "white"
           },
           "yaxis": {
            "backgroundcolor": "#E5ECF6",
            "gridcolor": "white",
            "gridwidth": 2,
            "linecolor": "white",
            "showbackground": true,
            "ticks": "",
            "zerolinecolor": "white"
           },
           "zaxis": {
            "backgroundcolor": "#E5ECF6",
            "gridcolor": "white",
            "gridwidth": 2,
            "linecolor": "white",
            "showbackground": true,
            "ticks": "",
            "zerolinecolor": "white"
           }
          },
          "shapedefaults": {
           "line": {
            "color": "#2a3f5f"
           }
          },
          "ternary": {
           "aaxis": {
            "gridcolor": "white",
            "linecolor": "white",
            "ticks": ""
           },
           "baxis": {
            "gridcolor": "white",
            "linecolor": "white",
            "ticks": ""
           },
           "bgcolor": "#E5ECF6",
           "caxis": {
            "gridcolor": "white",
            "linecolor": "white",
            "ticks": ""
           }
          },
          "title": {
           "x": 0.05
          },
          "xaxis": {
           "automargin": true,
           "gridcolor": "white",
           "linecolor": "white",
           "ticks": "",
           "title": {
            "standoff": 15
           },
           "zerolinecolor": "white",
           "zerolinewidth": 2
          },
          "yaxis": {
           "automargin": true,
           "gridcolor": "white",
           "linecolor": "white",
           "ticks": "",
           "title": {
            "standoff": 15
           },
           "zerolinecolor": "white",
           "zerolinewidth": 2
          }
         }
        },
        "title": {
         "font": {
          "color": "#4D5663"
         }
        },
        "xaxis": {
         "gridcolor": "#E1E5ED",
         "showgrid": true,
         "tickfont": {
          "color": "#4D5663"
         },
         "title": {
          "font": {
           "color": "#4D5663"
          },
          "text": ""
         },
         "zerolinecolor": "#E1E5ED"
        },
        "yaxis": {
         "gridcolor": "#E1E5ED",
         "showgrid": true,
         "tickfont": {
          "color": "#4D5663"
         },
         "title": {
          "font": {
           "color": "#4D5663"
          },
          "text": ""
         },
         "zerolinecolor": "#E1E5ED"
        }
       }
      },
      "text/html": [
       "<div>\n",
       "        \n",
       "        \n",
       "            <div id=\"705df93c-8521-4867-a83e-dd88ca1f4201\" class=\"plotly-graph-div\" style=\"height:525px; width:100%;\"></div>\n",
       "            <script type=\"text/javascript\">\n",
       "                require([\"plotly\"], function(Plotly) {\n",
       "                    window.PLOTLYENV=window.PLOTLYENV || {};\n",
       "                    window.PLOTLYENV.BASE_URL='https://plot.ly';\n",
       "                    \n",
       "                if (document.getElementById(\"705df93c-8521-4867-a83e-dd88ca1f4201\")) {\n",
       "                    Plotly.newPlot(\n",
       "                        '705df93c-8521-4867-a83e-dd88ca1f4201',\n",
       "                        [{\"colorscale\": [[0.0, \"rgb(165,0,38)\"], [0.1, \"rgb(215,48,39)\"], [0.2, \"rgb(244,109,67)\"], [0.3, \"rgb(253,174,97)\"], [0.4, \"rgb(254,224,144)\"], [0.5, \"rgb(255,255,191)\"], [0.6, \"rgb(224,243,248)\"], [0.7, \"rgb(171,217,233)\"], [0.8, \"rgb(116,173,209)\"], [0.9, \"rgb(69,117,180)\"], [1.0, \"rgb(49,54,149)\"]], \"type\": \"surface\", \"x\": [0, 1, 2, 3, 4], \"y\": [\"x\", \"y\", \"z\"], \"z\": [[1, 2, 3, 4, 5], [10, 20, 30, 20, 10], [5, 4, 3, 2, 1]]}],\n",
       "                        {\"legend\": {\"bgcolor\": \"#F5F6F9\", \"font\": {\"color\": \"#4D5663\"}}, \"paper_bgcolor\": \"#F5F6F9\", \"plot_bgcolor\": \"#F5F6F9\", \"template\": {\"data\": {\"bar\": [{\"error_x\": {\"color\": \"#2a3f5f\"}, \"error_y\": {\"color\": \"#2a3f5f\"}, \"marker\": {\"line\": {\"color\": \"#E5ECF6\", \"width\": 0.5}}, \"type\": \"bar\"}], \"barpolar\": [{\"marker\": {\"line\": {\"color\": \"#E5ECF6\", \"width\": 0.5}}, \"type\": \"barpolar\"}], \"carpet\": [{\"aaxis\": {\"endlinecolor\": \"#2a3f5f\", \"gridcolor\": \"white\", \"linecolor\": \"white\", \"minorgridcolor\": \"white\", \"startlinecolor\": \"#2a3f5f\"}, \"baxis\": {\"endlinecolor\": \"#2a3f5f\", \"gridcolor\": \"white\", \"linecolor\": \"white\", \"minorgridcolor\": \"white\", \"startlinecolor\": \"#2a3f5f\"}, \"type\": \"carpet\"}], \"choropleth\": [{\"colorbar\": {\"outlinewidth\": 0, \"ticks\": \"\"}, \"type\": \"choropleth\"}], \"contour\": [{\"colorbar\": {\"outlinewidth\": 0, \"ticks\": \"\"}, \"colorscale\": [[0.0, \"#0d0887\"], [0.1111111111111111, \"#46039f\"], [0.2222222222222222, \"#7201a8\"], [0.3333333333333333, \"#9c179e\"], [0.4444444444444444, \"#bd3786\"], [0.5555555555555556, \"#d8576b\"], [0.6666666666666666, \"#ed7953\"], [0.7777777777777778, \"#fb9f3a\"], [0.8888888888888888, \"#fdca26\"], [1.0, \"#f0f921\"]], \"type\": \"contour\"}], \"contourcarpet\": [{\"colorbar\": {\"outlinewidth\": 0, \"ticks\": \"\"}, \"type\": \"contourcarpet\"}], \"heatmap\": [{\"colorbar\": {\"outlinewidth\": 0, \"ticks\": \"\"}, \"colorscale\": [[0.0, \"#0d0887\"], [0.1111111111111111, \"#46039f\"], [0.2222222222222222, \"#7201a8\"], [0.3333333333333333, \"#9c179e\"], [0.4444444444444444, \"#bd3786\"], [0.5555555555555556, \"#d8576b\"], [0.6666666666666666, \"#ed7953\"], [0.7777777777777778, \"#fb9f3a\"], [0.8888888888888888, \"#fdca26\"], [1.0, \"#f0f921\"]], \"type\": \"heatmap\"}], \"heatmapgl\": [{\"colorbar\": {\"outlinewidth\": 0, \"ticks\": \"\"}, \"colorscale\": [[0.0, \"#0d0887\"], [0.1111111111111111, \"#46039f\"], [0.2222222222222222, \"#7201a8\"], [0.3333333333333333, \"#9c179e\"], [0.4444444444444444, \"#bd3786\"], [0.5555555555555556, \"#d8576b\"], [0.6666666666666666, \"#ed7953\"], [0.7777777777777778, \"#fb9f3a\"], [0.8888888888888888, \"#fdca26\"], [1.0, \"#f0f921\"]], \"type\": \"heatmapgl\"}], \"histogram\": [{\"marker\": {\"colorbar\": {\"outlinewidth\": 0, \"ticks\": \"\"}}, \"type\": \"histogram\"}], \"histogram2d\": [{\"colorbar\": {\"outlinewidth\": 0, \"ticks\": \"\"}, \"colorscale\": [[0.0, \"#0d0887\"], [0.1111111111111111, \"#46039f\"], [0.2222222222222222, \"#7201a8\"], [0.3333333333333333, \"#9c179e\"], [0.4444444444444444, \"#bd3786\"], [0.5555555555555556, \"#d8576b\"], [0.6666666666666666, \"#ed7953\"], [0.7777777777777778, \"#fb9f3a\"], [0.8888888888888888, \"#fdca26\"], [1.0, \"#f0f921\"]], \"type\": \"histogram2d\"}], \"histogram2dcontour\": [{\"colorbar\": {\"outlinewidth\": 0, \"ticks\": \"\"}, \"colorscale\": [[0.0, \"#0d0887\"], [0.1111111111111111, \"#46039f\"], [0.2222222222222222, \"#7201a8\"], [0.3333333333333333, \"#9c179e\"], [0.4444444444444444, \"#bd3786\"], [0.5555555555555556, \"#d8576b\"], [0.6666666666666666, \"#ed7953\"], [0.7777777777777778, \"#fb9f3a\"], [0.8888888888888888, \"#fdca26\"], [1.0, \"#f0f921\"]], \"type\": \"histogram2dcontour\"}], \"mesh3d\": [{\"colorbar\": {\"outlinewidth\": 0, \"ticks\": \"\"}, \"type\": \"mesh3d\"}], \"parcoords\": [{\"line\": {\"colorbar\": {\"outlinewidth\": 0, \"ticks\": \"\"}}, \"type\": \"parcoords\"}], \"pie\": [{\"automargin\": true, \"type\": \"pie\"}], \"scatter\": [{\"marker\": {\"colorbar\": {\"outlinewidth\": 0, \"ticks\": \"\"}}, \"type\": \"scatter\"}], \"scatter3d\": [{\"line\": {\"colorbar\": {\"outlinewidth\": 0, \"ticks\": \"\"}}, \"marker\": {\"colorbar\": {\"outlinewidth\": 0, \"ticks\": \"\"}}, \"type\": \"scatter3d\"}], \"scattercarpet\": [{\"marker\": {\"colorbar\": {\"outlinewidth\": 0, \"ticks\": \"\"}}, \"type\": \"scattercarpet\"}], \"scattergeo\": [{\"marker\": {\"colorbar\": {\"outlinewidth\": 0, \"ticks\": \"\"}}, \"type\": \"scattergeo\"}], \"scattergl\": [{\"marker\": {\"colorbar\": {\"outlinewidth\": 0, \"ticks\": \"\"}}, \"type\": \"scattergl\"}], \"scattermapbox\": [{\"marker\": {\"colorbar\": {\"outlinewidth\": 0, \"ticks\": \"\"}}, \"type\": \"scattermapbox\"}], \"scatterpolar\": [{\"marker\": {\"colorbar\": {\"outlinewidth\": 0, \"ticks\": \"\"}}, \"type\": \"scatterpolar\"}], \"scatterpolargl\": [{\"marker\": {\"colorbar\": {\"outlinewidth\": 0, \"ticks\": \"\"}}, \"type\": \"scatterpolargl\"}], \"scatterternary\": [{\"marker\": {\"colorbar\": {\"outlinewidth\": 0, \"ticks\": \"\"}}, \"type\": \"scatterternary\"}], \"surface\": [{\"colorbar\": {\"outlinewidth\": 0, \"ticks\": \"\"}, \"colorscale\": [[0.0, \"#0d0887\"], [0.1111111111111111, \"#46039f\"], [0.2222222222222222, \"#7201a8\"], [0.3333333333333333, \"#9c179e\"], [0.4444444444444444, \"#bd3786\"], [0.5555555555555556, \"#d8576b\"], [0.6666666666666666, \"#ed7953\"], [0.7777777777777778, \"#fb9f3a\"], [0.8888888888888888, \"#fdca26\"], [1.0, \"#f0f921\"]], \"type\": \"surface\"}], \"table\": [{\"cells\": {\"fill\": {\"color\": \"#EBF0F8\"}, \"line\": {\"color\": \"white\"}}, \"header\": {\"fill\": {\"color\": \"#C8D4E3\"}, \"line\": {\"color\": \"white\"}}, \"type\": \"table\"}]}, \"layout\": {\"annotationdefaults\": {\"arrowcolor\": \"#2a3f5f\", \"arrowhead\": 0, \"arrowwidth\": 1}, \"coloraxis\": {\"colorbar\": {\"outlinewidth\": 0, \"ticks\": \"\"}}, \"colorscale\": {\"diverging\": [[0, \"#8e0152\"], [0.1, \"#c51b7d\"], [0.2, \"#de77ae\"], [0.3, \"#f1b6da\"], [0.4, \"#fde0ef\"], [0.5, \"#f7f7f7\"], [0.6, \"#e6f5d0\"], [0.7, \"#b8e186\"], [0.8, \"#7fbc41\"], [0.9, \"#4d9221\"], [1, \"#276419\"]], \"sequential\": [[0.0, \"#0d0887\"], [0.1111111111111111, \"#46039f\"], [0.2222222222222222, \"#7201a8\"], [0.3333333333333333, \"#9c179e\"], [0.4444444444444444, \"#bd3786\"], [0.5555555555555556, \"#d8576b\"], [0.6666666666666666, \"#ed7953\"], [0.7777777777777778, \"#fb9f3a\"], [0.8888888888888888, \"#fdca26\"], [1.0, \"#f0f921\"]], \"sequentialminus\": [[0.0, \"#0d0887\"], [0.1111111111111111, \"#46039f\"], [0.2222222222222222, \"#7201a8\"], [0.3333333333333333, \"#9c179e\"], [0.4444444444444444, \"#bd3786\"], [0.5555555555555556, \"#d8576b\"], [0.6666666666666666, \"#ed7953\"], [0.7777777777777778, \"#fb9f3a\"], [0.8888888888888888, \"#fdca26\"], [1.0, \"#f0f921\"]]}, \"colorway\": [\"#636efa\", \"#EF553B\", \"#00cc96\", \"#ab63fa\", \"#FFA15A\", \"#19d3f3\", \"#FF6692\", \"#B6E880\", \"#FF97FF\", \"#FECB52\"], \"font\": {\"color\": \"#2a3f5f\"}, \"geo\": {\"bgcolor\": \"white\", \"lakecolor\": \"white\", \"landcolor\": \"#E5ECF6\", \"showlakes\": true, \"showland\": true, \"subunitcolor\": \"white\"}, \"hoverlabel\": {\"align\": \"left\"}, \"hovermode\": \"closest\", \"mapbox\": {\"style\": \"light\"}, \"paper_bgcolor\": \"white\", \"plot_bgcolor\": \"#E5ECF6\", \"polar\": {\"angularaxis\": {\"gridcolor\": \"white\", \"linecolor\": \"white\", \"ticks\": \"\"}, \"bgcolor\": \"#E5ECF6\", \"radialaxis\": {\"gridcolor\": \"white\", \"linecolor\": \"white\", \"ticks\": \"\"}}, \"scene\": {\"xaxis\": {\"backgroundcolor\": \"#E5ECF6\", \"gridcolor\": \"white\", \"gridwidth\": 2, \"linecolor\": \"white\", \"showbackground\": true, \"ticks\": \"\", \"zerolinecolor\": \"white\"}, \"yaxis\": {\"backgroundcolor\": \"#E5ECF6\", \"gridcolor\": \"white\", \"gridwidth\": 2, \"linecolor\": \"white\", \"showbackground\": true, \"ticks\": \"\", \"zerolinecolor\": \"white\"}, \"zaxis\": {\"backgroundcolor\": \"#E5ECF6\", \"gridcolor\": \"white\", \"gridwidth\": 2, \"linecolor\": \"white\", \"showbackground\": true, \"ticks\": \"\", \"zerolinecolor\": \"white\"}}, \"shapedefaults\": {\"line\": {\"color\": \"#2a3f5f\"}}, \"ternary\": {\"aaxis\": {\"gridcolor\": \"white\", \"linecolor\": \"white\", \"ticks\": \"\"}, \"baxis\": {\"gridcolor\": \"white\", \"linecolor\": \"white\", \"ticks\": \"\"}, \"bgcolor\": \"#E5ECF6\", \"caxis\": {\"gridcolor\": \"white\", \"linecolor\": \"white\", \"ticks\": \"\"}}, \"title\": {\"x\": 0.05}, \"xaxis\": {\"automargin\": true, \"gridcolor\": \"white\", \"linecolor\": \"white\", \"ticks\": \"\", \"title\": {\"standoff\": 15}, \"zerolinecolor\": \"white\", \"zerolinewidth\": 2}, \"yaxis\": {\"automargin\": true, \"gridcolor\": \"white\", \"linecolor\": \"white\", \"ticks\": \"\", \"title\": {\"standoff\": 15}, \"zerolinecolor\": \"white\", \"zerolinewidth\": 2}}}, \"title\": {\"font\": {\"color\": \"#4D5663\"}}, \"xaxis\": {\"gridcolor\": \"#E1E5ED\", \"showgrid\": true, \"tickfont\": {\"color\": \"#4D5663\"}, \"title\": {\"font\": {\"color\": \"#4D5663\"}, \"text\": \"\"}, \"zerolinecolor\": \"#E1E5ED\"}, \"yaxis\": {\"gridcolor\": \"#E1E5ED\", \"showgrid\": true, \"tickfont\": {\"color\": \"#4D5663\"}, \"title\": {\"font\": {\"color\": \"#4D5663\"}, \"text\": \"\"}, \"zerolinecolor\": \"#E1E5ED\"}},\n",
       "                        {\"showLink\": true, \"linkText\": \"Export to plot.ly\", \"plotlyServerURL\": \"https://plot.ly\", \"responsive\": true}\n",
       "                    ).then(function(){\n",
       "                            \n",
       "var gd = document.getElementById('705df93c-8521-4867-a83e-dd88ca1f4201');\n",
       "var x = new MutationObserver(function (mutations, observer) {{\n",
       "        var display = window.getComputedStyle(gd).display;\n",
       "        if (!display || display === 'none') {{\n",
       "            console.log([gd, 'removed!']);\n",
       "            Plotly.purge(gd);\n",
       "            observer.disconnect();\n",
       "        }}\n",
       "}});\n",
       "\n",
       "// Listen for the removal of the full notebook cells\n",
       "var notebookContainer = gd.closest('#notebook-container');\n",
       "if (notebookContainer) {{\n",
       "    x.observe(notebookContainer, {childList: true});\n",
       "}}\n",
       "\n",
       "// Listen for the clearing of the current output cell\n",
       "var outputEl = gd.closest('.output');\n",
       "if (outputEl) {{\n",
       "    x.observe(outputEl, {childList: true});\n",
       "}}\n",
       "\n",
       "                        })\n",
       "                };\n",
       "                });\n",
       "            </script>\n",
       "        </div>"
      ]
     },
     "metadata": {},
     "output_type": "display_data"
    }
   ],
   "source": [
    "df3 = pd.DataFrame({'x':[1,2,3,4,5],'y':[10,20,30,20,10],'z':[5,4,3,2,1]})\n",
    "df3.iplot(kind='surface',colorscale='rdylbu')"
   ]
  },
  {
   "cell_type": "markdown",
   "metadata": {},
   "source": [
    "## Spread"
   ]
  },
  {
   "cell_type": "code",
   "execution_count": 21,
   "metadata": {},
   "outputs": [
    {
     "data": {
      "application/vnd.plotly.v1+json": {
       "config": {
        "linkText": "Export to plot.ly",
        "plotlyServerURL": "https://plot.ly",
        "showLink": true
       },
       "data": [
        {
         "line": {
          "color": "rgba(255, 153, 51, 1.0)",
          "dash": "solid",
          "shape": "linear",
          "width": 1.3
         },
         "mode": "lines",
         "name": "A",
         "text": "",
         "type": "scatter",
         "x": [
          0,
          1,
          2,
          3,
          4,
          5,
          6,
          7,
          8,
          9,
          10,
          11,
          12,
          13,
          14,
          15,
          16,
          17,
          18,
          19,
          20,
          21,
          22,
          23,
          24,
          25,
          26,
          27,
          28,
          29,
          30,
          31,
          32,
          33,
          34,
          35,
          36,
          37,
          38,
          39,
          40,
          41,
          42,
          43,
          44,
          45,
          46,
          47,
          48,
          49,
          50,
          51,
          52,
          53,
          54,
          55,
          56,
          57,
          58,
          59,
          60,
          61,
          62,
          63,
          64,
          65,
          66,
          67,
          68,
          69,
          70,
          71,
          72,
          73,
          74,
          75,
          76,
          77,
          78,
          79,
          80,
          81,
          82,
          83,
          84,
          85,
          86,
          87,
          88,
          89,
          90,
          91,
          92,
          93,
          94,
          95,
          96,
          97,
          98,
          99
         ],
         "y": [
          0.3925721259516482,
          1.372423172955678,
          2.242609686488439,
          -0.8582063908771425,
          0.7608248424673095,
          0.7000004474958651,
          -2.012133152037724,
          0.9326208404062066,
          -0.659318333188724,
          1.6928610483674762,
          -0.6871886678918286,
          -0.35039380953159355,
          -0.42079236277313725,
          0.8690052189226001,
          -0.576444210165041,
          0.21995333800259842,
          -0.4444106568943757,
          -1.1440185333618915,
          -1.6578956613807303,
          -0.4101416114246453,
          -0.8519320305097161,
          1.2103242834430672,
          0.32015253922147136,
          -0.10035894535953092,
          -0.8488192702393195,
          -0.5572712613655367,
          -1.0688607093730706,
          -0.42181977168796303,
          0.12733568405289733,
          -1.0665476173525776,
          0.9261690103955689,
          -1.9549129649944113,
          -1.0277111422245617,
          -0.38799086170382646,
          1.1509943645776262,
          -1.745769144522121,
          1.2130978831137753,
          -0.6425110489904321,
          -0.57978668657439,
          1.0712439163287628,
          -0.9234875765962591,
          2.961687683445264,
          -0.8009271101769784,
          -0.6562531660019234,
          -0.27821128532982536,
          -1.2066325053881286,
          3.292598801986526,
          -1.543892912424364,
          0.5426822404287032,
          0.6393413189471646,
          -0.429902886768494,
          -0.9816502324772437,
          0.04303598600358611,
          -1.167434040446578,
          0.7324805559746674,
          0.8864020652679193,
          0.5228613497547522,
          -1.1582437180761456,
          0.8668597258010465,
          -1.124040455883926,
          1.8000496709282203,
          0.8645540802609497,
          -1.1773722266718076,
          -0.13804095883041229,
          -0.6407571208877594,
          -0.4281134664922928,
          -1.0138183021796128,
          -1.3585492226847056,
          -0.858301495895222,
          -0.08680224327455878,
          -0.9429499025251274,
          -0.516543913855966,
          -1.9085819167197682,
          -0.3047314446803455,
          -0.8469563304785783,
          1.6986622415450738,
          0.4788801048455923,
          0.8165342542226821,
          0.2712567992995717,
          -1.7066836444868176,
          -0.41177484570153433,
          3.4776607657004988,
          -2.834396666032772,
          -0.7774122936937027,
          1.7045043869532526,
          -0.06080095132088235,
          -0.76980795302438,
          -1.0415010013073016,
          0.5224033425902554,
          0.8532714130883641,
          0.5484720112680194,
          0.3391173259213127,
          -1.5739514633185079,
          0.5619600984821377,
          -0.5983771760743023,
          1.1075742347923272,
          -1.6666578332055928,
          -0.3778299507535159,
          -0.6830647528616767,
          0.41404579007455566
         ]
        },
        {
         "line": {
          "color": "rgba(55, 128, 191, 1.0)",
          "dash": "solid",
          "shape": "linear",
          "width": 1.3
         },
         "mode": "lines",
         "name": "B",
         "text": "",
         "type": "scatter",
         "x": [
          0,
          1,
          2,
          3,
          4,
          5,
          6,
          7,
          8,
          9,
          10,
          11,
          12,
          13,
          14,
          15,
          16,
          17,
          18,
          19,
          20,
          21,
          22,
          23,
          24,
          25,
          26,
          27,
          28,
          29,
          30,
          31,
          32,
          33,
          34,
          35,
          36,
          37,
          38,
          39,
          40,
          41,
          42,
          43,
          44,
          45,
          46,
          47,
          48,
          49,
          50,
          51,
          52,
          53,
          54,
          55,
          56,
          57,
          58,
          59,
          60,
          61,
          62,
          63,
          64,
          65,
          66,
          67,
          68,
          69,
          70,
          71,
          72,
          73,
          74,
          75,
          76,
          77,
          78,
          79,
          80,
          81,
          82,
          83,
          84,
          85,
          86,
          87,
          88,
          89,
          90,
          91,
          92,
          93,
          94,
          95,
          96,
          97,
          98,
          99
         ],
         "y": [
          -0.18562897664789632,
          0.2814946331226841,
          -0.5611496729894913,
          -0.4024455177000891,
          -0.5067484326841816,
          -0.5046831255213409,
          0.3071138555381204,
          0.5235719311401476,
          0.1689123266002498,
          -0.648541330346596,
          -0.2781926966218052,
          0.5674683584811326,
          0.46108742396861463,
          0.4081857886915297,
          0.8856809194878353,
          0.8230987593991649,
          -0.39330647758921633,
          0.3233245409289331,
          -0.6207219618976456,
          -2.398805095729414,
          1.1216956439427725,
          -0.5863344522457911,
          0.5607494682257044,
          0.10914101529479345,
          -0.10621089901970976,
          -0.4309016156343589,
          -0.41156421677297167,
          -0.11563017368980043,
          -2.036410216502865,
          -0.3110822648687047,
          0.4256721368775975,
          -0.7804317607711396,
          1.3742457362160845,
          1.5447331731436296,
          -0.7250748089914916,
          0.24929992571674361,
          -1.7794793815328092,
          0.24138473009400277,
          -1.2034168942707761,
          1.0414639210199483,
          -0.5670377462359961,
          -0.21270823704091296,
          -0.685999635317336,
          1.1247530050048336,
          1.188669271627665,
          -1.8444053144861277,
          -0.48683583832976574,
          -1.4150671526928436,
          -0.7958340475909478,
          0.08001675426748367,
          -0.7821642717145418,
          -0.5779608466326287,
          0.7616839022768124,
          0.5873755367983575,
          0.7997869163737407,
          0.9558533340809422,
          -0.9061367977781155,
          -0.43578105334829365,
          -0.21657032067850326,
          -0.7972237736675932,
          0.5467520310235533,
          -0.05996238706349433,
          -1.3103756836643208,
          -1.2984105754608068,
          -1.08278714497136,
          -0.067375476395044,
          -0.2012741546557389,
          0.7301998783153228,
          0.7860790647665244,
          1.2748168237130528,
          -0.15838584047247817,
          -0.7367956174793401,
          0.17381865974815355,
          -0.608882127348547,
          0.019790573117705768,
          -0.5581866426850328,
          0.37207449041564766,
          2.433253765776426,
          -0.2519215314634941,
          0.7858365678345681,
          0.5594533930884258,
          0.21976613500776326,
          -0.6254685895049678,
          -0.6561891284929092,
          2.1213683420326332,
          0.12457784109751802,
          -0.14382087113095818,
          0.4394487501767444,
          -0.744337348321256,
          -0.3777265856290238,
          0.8070672733664923,
          -0.24328759151350107,
          -1.7140416474135354,
          -1.5670830508801825,
          1.8234229094828922,
          0.5031344290993308,
          -1.366297613187657,
          1.0133773132755128,
          -0.28092282255864715,
          -0.16105588035881507
         ]
        },
        {
         "connectgaps": false,
         "fill": "tozeroy",
         "line": {
          "color": "green",
          "dash": "solid",
          "shape": "linear",
          "width": 0.5
         },
         "mode": "lines",
         "name": "Spread",
         "showlegend": false,
         "type": "scatter",
         "x": [
          0,
          1,
          2,
          3,
          4,
          5,
          6,
          7,
          8,
          9,
          10,
          11,
          12,
          13,
          14,
          15,
          16,
          17,
          18,
          19,
          20,
          21,
          22,
          23,
          24,
          25,
          26,
          27,
          28,
          29,
          30,
          31,
          32,
          33,
          34,
          35,
          36,
          37,
          38,
          39,
          40,
          41,
          42,
          43,
          44,
          45,
          46,
          47,
          48,
          49,
          50,
          51,
          52,
          53,
          54,
          55,
          56,
          57,
          58,
          59,
          60,
          61,
          62,
          63,
          64,
          65,
          66,
          67,
          68,
          69,
          70,
          71,
          72,
          73,
          74,
          75,
          76,
          77,
          78,
          79,
          80,
          81,
          82,
          83,
          84,
          85,
          86,
          87,
          88,
          89,
          90,
          91,
          92,
          93,
          94,
          95,
          96,
          97,
          98,
          99
         ],
         "xaxis": "x2",
         "y": [
          0.5782011025995445,
          1.0909285398329938,
          2.80375935947793,
          "",
          1.267573275151491,
          1.2046835730172059,
          "",
          0.4090489092660591,
          "",
          2.341402378714072,
          "",
          "",
          "",
          0.46081943023107036,
          "",
          "",
          "",
          "",
          "",
          1.9886634843047688,
          "",
          1.7966587356888581,
          "",
          "",
          "",
          "",
          "",
          "",
          2.1637459005557624,
          "",
          0.5004968735179713,
          "",
          "",
          "",
          1.8760691735691177,
          "",
          2.9925772646465845,
          "",
          0.6236302076963861,
          0.029779995308814478,
          "",
          3.1743959204861767,
          "",
          "",
          "",
          0.637772809097999,
          3.7794346403162917,
          "",
          1.338516288019651,
          0.559324564679681,
          0.35226138494604786,
          "",
          "",
          "",
          "",
          "",
          1.4289981475328677,
          "",
          1.0834300464795499,
          "",
          1.253297639904667,
          0.924516467324444,
          0.13300345699251315,
          1.1603696166303945,
          0.4420300240836006,
          "",
          "",
          "",
          "",
          "",
          "",
          0.2202517036233741,
          "",
          0.30415068266820144,
          "",
          2.2568488842301067,
          0.10680561442994463,
          "",
          0.5231783307630657,
          "",
          "",
          3.2578946306927357,
          "",
          "",
          "",
          "",
          "",
          "",
          1.2667406909115115,
          1.2309979987173878,
          "",
          0.5824049174348138,
          0.1400901840950275,
          2.12904314936232,
          "",
          0.6044398056929964,
          "",
          "",
          "",
          0.5751016704333707
         ],
         "yaxis": "y2"
        },
        {
         "connectgaps": false,
         "fill": "tozeroy",
         "line": {
          "color": "red",
          "dash": "solid",
          "shape": "linear",
          "width": 0.5
         },
         "mode": "lines",
         "name": "Spread",
         "showlegend": false,
         "type": "scatter",
         "x": [
          0,
          1,
          2,
          3,
          4,
          5,
          6,
          7,
          8,
          9,
          10,
          11,
          12,
          13,
          14,
          15,
          16,
          17,
          18,
          19,
          20,
          21,
          22,
          23,
          24,
          25,
          26,
          27,
          28,
          29,
          30,
          31,
          32,
          33,
          34,
          35,
          36,
          37,
          38,
          39,
          40,
          41,
          42,
          43,
          44,
          45,
          46,
          47,
          48,
          49,
          50,
          51,
          52,
          53,
          54,
          55,
          56,
          57,
          58,
          59,
          60,
          61,
          62,
          63,
          64,
          65,
          66,
          67,
          68,
          69,
          70,
          71,
          72,
          73,
          74,
          75,
          76,
          77,
          78,
          79,
          80,
          81,
          82,
          83,
          84,
          85,
          86,
          87,
          88,
          89,
          90,
          91,
          92,
          93,
          94,
          95,
          96,
          97,
          98,
          99
         ],
         "xaxis": "x2",
         "y": [
          "",
          "",
          "",
          -0.4557608731770534,
          "",
          "",
          -2.3192470075758447,
          "",
          -0.8282306597889738,
          "",
          -0.40899597127002346,
          -0.9178621680127261,
          -0.8818797867417518,
          "",
          -1.4621251296528763,
          -0.6031454213965665,
          -0.05110417930515937,
          -1.4673430742908247,
          -1.0371736994830847,
          "",
          -1.9736276744524885,
          "",
          -0.24059692900423302,
          -0.20949996065432436,
          -0.7426083712196097,
          -0.12636964573117782,
          -0.657296492600099,
          -0.3061895979981626,
          "",
          -0.7554653524838729,
          "",
          -1.1744812042232717,
          -2.401956878440646,
          -1.932724034847456,
          "",
          -1.9950690702388647,
          "",
          -0.8838957790844348,
          "",
          "",
          -0.356449830360263,
          "",
          -0.11492747485964239,
          -1.7810061710067568,
          -1.4668805569574903,
          "",
          "",
          -0.12882575973152055,
          "",
          "",
          "",
          -0.403689385844615,
          -0.7186479162732262,
          -1.7548095772449355,
          -0.06730636039907323,
          -0.06945126881302288,
          "",
          -0.7224626647278519,
          "",
          -0.32681668221633287,
          "",
          "",
          "",
          "",
          "",
          -0.36073799009724883,
          -0.8125441475238739,
          -2.0887491010000283,
          -1.6443805606617463,
          -1.3616190669876116,
          -0.7845640620526493,
          "",
          -2.0824005764679216,
          "",
          -0.866746903596284,
          "",
          "",
          -1.6167195115537438,
          "",
          -2.4925202123213857,
          -0.9712282387899601,
          "",
          -2.2089280765278043,
          -0.12122316520079346,
          -0.4168639550793807,
          -0.18537879241840036,
          -0.6259870818934218,
          -1.480949751484046,
          "",
          "",
          -0.25859526209847294,
          "",
          "",
          "",
          -2.4218000855571944,
          "",
          -0.30036022001793583,
          -1.3912072640290287,
          -0.4021419303030295,
          ""
         ],
         "yaxis": "y2"
        }
       ],
       "layout": {
        "hovermode": "x",
        "legend": {
         "bgcolor": "#F5F6F9",
         "font": {
          "color": "#4D5663"
         }
        },
        "paper_bgcolor": "#F5F6F9",
        "plot_bgcolor": "#F5F6F9",
        "template": {
         "data": {
          "bar": [
           {
            "error_x": {
             "color": "#2a3f5f"
            },
            "error_y": {
             "color": "#2a3f5f"
            },
            "marker": {
             "line": {
              "color": "#E5ECF6",
              "width": 0.5
             }
            },
            "type": "bar"
           }
          ],
          "barpolar": [
           {
            "marker": {
             "line": {
              "color": "#E5ECF6",
              "width": 0.5
             }
            },
            "type": "barpolar"
           }
          ],
          "carpet": [
           {
            "aaxis": {
             "endlinecolor": "#2a3f5f",
             "gridcolor": "white",
             "linecolor": "white",
             "minorgridcolor": "white",
             "startlinecolor": "#2a3f5f"
            },
            "baxis": {
             "endlinecolor": "#2a3f5f",
             "gridcolor": "white",
             "linecolor": "white",
             "minorgridcolor": "white",
             "startlinecolor": "#2a3f5f"
            },
            "type": "carpet"
           }
          ],
          "choropleth": [
           {
            "colorbar": {
             "outlinewidth": 0,
             "ticks": ""
            },
            "type": "choropleth"
           }
          ],
          "contour": [
           {
            "colorbar": {
             "outlinewidth": 0,
             "ticks": ""
            },
            "colorscale": [
             [
              0,
              "#0d0887"
             ],
             [
              0.1111111111111111,
              "#46039f"
             ],
             [
              0.2222222222222222,
              "#7201a8"
             ],
             [
              0.3333333333333333,
              "#9c179e"
             ],
             [
              0.4444444444444444,
              "#bd3786"
             ],
             [
              0.5555555555555556,
              "#d8576b"
             ],
             [
              0.6666666666666666,
              "#ed7953"
             ],
             [
              0.7777777777777778,
              "#fb9f3a"
             ],
             [
              0.8888888888888888,
              "#fdca26"
             ],
             [
              1,
              "#f0f921"
             ]
            ],
            "type": "contour"
           }
          ],
          "contourcarpet": [
           {
            "colorbar": {
             "outlinewidth": 0,
             "ticks": ""
            },
            "type": "contourcarpet"
           }
          ],
          "heatmap": [
           {
            "colorbar": {
             "outlinewidth": 0,
             "ticks": ""
            },
            "colorscale": [
             [
              0,
              "#0d0887"
             ],
             [
              0.1111111111111111,
              "#46039f"
             ],
             [
              0.2222222222222222,
              "#7201a8"
             ],
             [
              0.3333333333333333,
              "#9c179e"
             ],
             [
              0.4444444444444444,
              "#bd3786"
             ],
             [
              0.5555555555555556,
              "#d8576b"
             ],
             [
              0.6666666666666666,
              "#ed7953"
             ],
             [
              0.7777777777777778,
              "#fb9f3a"
             ],
             [
              0.8888888888888888,
              "#fdca26"
             ],
             [
              1,
              "#f0f921"
             ]
            ],
            "type": "heatmap"
           }
          ],
          "heatmapgl": [
           {
            "colorbar": {
             "outlinewidth": 0,
             "ticks": ""
            },
            "colorscale": [
             [
              0,
              "#0d0887"
             ],
             [
              0.1111111111111111,
              "#46039f"
             ],
             [
              0.2222222222222222,
              "#7201a8"
             ],
             [
              0.3333333333333333,
              "#9c179e"
             ],
             [
              0.4444444444444444,
              "#bd3786"
             ],
             [
              0.5555555555555556,
              "#d8576b"
             ],
             [
              0.6666666666666666,
              "#ed7953"
             ],
             [
              0.7777777777777778,
              "#fb9f3a"
             ],
             [
              0.8888888888888888,
              "#fdca26"
             ],
             [
              1,
              "#f0f921"
             ]
            ],
            "type": "heatmapgl"
           }
          ],
          "histogram": [
           {
            "marker": {
             "colorbar": {
              "outlinewidth": 0,
              "ticks": ""
             }
            },
            "type": "histogram"
           }
          ],
          "histogram2d": [
           {
            "colorbar": {
             "outlinewidth": 0,
             "ticks": ""
            },
            "colorscale": [
             [
              0,
              "#0d0887"
             ],
             [
              0.1111111111111111,
              "#46039f"
             ],
             [
              0.2222222222222222,
              "#7201a8"
             ],
             [
              0.3333333333333333,
              "#9c179e"
             ],
             [
              0.4444444444444444,
              "#bd3786"
             ],
             [
              0.5555555555555556,
              "#d8576b"
             ],
             [
              0.6666666666666666,
              "#ed7953"
             ],
             [
              0.7777777777777778,
              "#fb9f3a"
             ],
             [
              0.8888888888888888,
              "#fdca26"
             ],
             [
              1,
              "#f0f921"
             ]
            ],
            "type": "histogram2d"
           }
          ],
          "histogram2dcontour": [
           {
            "colorbar": {
             "outlinewidth": 0,
             "ticks": ""
            },
            "colorscale": [
             [
              0,
              "#0d0887"
             ],
             [
              0.1111111111111111,
              "#46039f"
             ],
             [
              0.2222222222222222,
              "#7201a8"
             ],
             [
              0.3333333333333333,
              "#9c179e"
             ],
             [
              0.4444444444444444,
              "#bd3786"
             ],
             [
              0.5555555555555556,
              "#d8576b"
             ],
             [
              0.6666666666666666,
              "#ed7953"
             ],
             [
              0.7777777777777778,
              "#fb9f3a"
             ],
             [
              0.8888888888888888,
              "#fdca26"
             ],
             [
              1,
              "#f0f921"
             ]
            ],
            "type": "histogram2dcontour"
           }
          ],
          "mesh3d": [
           {
            "colorbar": {
             "outlinewidth": 0,
             "ticks": ""
            },
            "type": "mesh3d"
           }
          ],
          "parcoords": [
           {
            "line": {
             "colorbar": {
              "outlinewidth": 0,
              "ticks": ""
             }
            },
            "type": "parcoords"
           }
          ],
          "pie": [
           {
            "automargin": true,
            "type": "pie"
           }
          ],
          "scatter": [
           {
            "marker": {
             "colorbar": {
              "outlinewidth": 0,
              "ticks": ""
             }
            },
            "type": "scatter"
           }
          ],
          "scatter3d": [
           {
            "line": {
             "colorbar": {
              "outlinewidth": 0,
              "ticks": ""
             }
            },
            "marker": {
             "colorbar": {
              "outlinewidth": 0,
              "ticks": ""
             }
            },
            "type": "scatter3d"
           }
          ],
          "scattercarpet": [
           {
            "marker": {
             "colorbar": {
              "outlinewidth": 0,
              "ticks": ""
             }
            },
            "type": "scattercarpet"
           }
          ],
          "scattergeo": [
           {
            "marker": {
             "colorbar": {
              "outlinewidth": 0,
              "ticks": ""
             }
            },
            "type": "scattergeo"
           }
          ],
          "scattergl": [
           {
            "marker": {
             "colorbar": {
              "outlinewidth": 0,
              "ticks": ""
             }
            },
            "type": "scattergl"
           }
          ],
          "scattermapbox": [
           {
            "marker": {
             "colorbar": {
              "outlinewidth": 0,
              "ticks": ""
             }
            },
            "type": "scattermapbox"
           }
          ],
          "scatterpolar": [
           {
            "marker": {
             "colorbar": {
              "outlinewidth": 0,
              "ticks": ""
             }
            },
            "type": "scatterpolar"
           }
          ],
          "scatterpolargl": [
           {
            "marker": {
             "colorbar": {
              "outlinewidth": 0,
              "ticks": ""
             }
            },
            "type": "scatterpolargl"
           }
          ],
          "scatterternary": [
           {
            "marker": {
             "colorbar": {
              "outlinewidth": 0,
              "ticks": ""
             }
            },
            "type": "scatterternary"
           }
          ],
          "surface": [
           {
            "colorbar": {
             "outlinewidth": 0,
             "ticks": ""
            },
            "colorscale": [
             [
              0,
              "#0d0887"
             ],
             [
              0.1111111111111111,
              "#46039f"
             ],
             [
              0.2222222222222222,
              "#7201a8"
             ],
             [
              0.3333333333333333,
              "#9c179e"
             ],
             [
              0.4444444444444444,
              "#bd3786"
             ],
             [
              0.5555555555555556,
              "#d8576b"
             ],
             [
              0.6666666666666666,
              "#ed7953"
             ],
             [
              0.7777777777777778,
              "#fb9f3a"
             ],
             [
              0.8888888888888888,
              "#fdca26"
             ],
             [
              1,
              "#f0f921"
             ]
            ],
            "type": "surface"
           }
          ],
          "table": [
           {
            "cells": {
             "fill": {
              "color": "#EBF0F8"
             },
             "line": {
              "color": "white"
             }
            },
            "header": {
             "fill": {
              "color": "#C8D4E3"
             },
             "line": {
              "color": "white"
             }
            },
            "type": "table"
           }
          ]
         },
         "layout": {
          "annotationdefaults": {
           "arrowcolor": "#2a3f5f",
           "arrowhead": 0,
           "arrowwidth": 1
          },
          "coloraxis": {
           "colorbar": {
            "outlinewidth": 0,
            "ticks": ""
           }
          },
          "colorscale": {
           "diverging": [
            [
             0,
             "#8e0152"
            ],
            [
             0.1,
             "#c51b7d"
            ],
            [
             0.2,
             "#de77ae"
            ],
            [
             0.3,
             "#f1b6da"
            ],
            [
             0.4,
             "#fde0ef"
            ],
            [
             0.5,
             "#f7f7f7"
            ],
            [
             0.6,
             "#e6f5d0"
            ],
            [
             0.7,
             "#b8e186"
            ],
            [
             0.8,
             "#7fbc41"
            ],
            [
             0.9,
             "#4d9221"
            ],
            [
             1,
             "#276419"
            ]
           ],
           "sequential": [
            [
             0,
             "#0d0887"
            ],
            [
             0.1111111111111111,
             "#46039f"
            ],
            [
             0.2222222222222222,
             "#7201a8"
            ],
            [
             0.3333333333333333,
             "#9c179e"
            ],
            [
             0.4444444444444444,
             "#bd3786"
            ],
            [
             0.5555555555555556,
             "#d8576b"
            ],
            [
             0.6666666666666666,
             "#ed7953"
            ],
            [
             0.7777777777777778,
             "#fb9f3a"
            ],
            [
             0.8888888888888888,
             "#fdca26"
            ],
            [
             1,
             "#f0f921"
            ]
           ],
           "sequentialminus": [
            [
             0,
             "#0d0887"
            ],
            [
             0.1111111111111111,
             "#46039f"
            ],
            [
             0.2222222222222222,
             "#7201a8"
            ],
            [
             0.3333333333333333,
             "#9c179e"
            ],
            [
             0.4444444444444444,
             "#bd3786"
            ],
            [
             0.5555555555555556,
             "#d8576b"
            ],
            [
             0.6666666666666666,
             "#ed7953"
            ],
            [
             0.7777777777777778,
             "#fb9f3a"
            ],
            [
             0.8888888888888888,
             "#fdca26"
            ],
            [
             1,
             "#f0f921"
            ]
           ]
          },
          "colorway": [
           "#636efa",
           "#EF553B",
           "#00cc96",
           "#ab63fa",
           "#FFA15A",
           "#19d3f3",
           "#FF6692",
           "#B6E880",
           "#FF97FF",
           "#FECB52"
          ],
          "font": {
           "color": "#2a3f5f"
          },
          "geo": {
           "bgcolor": "white",
           "lakecolor": "white",
           "landcolor": "#E5ECF6",
           "showlakes": true,
           "showland": true,
           "subunitcolor": "white"
          },
          "hoverlabel": {
           "align": "left"
          },
          "hovermode": "closest",
          "mapbox": {
           "style": "light"
          },
          "paper_bgcolor": "white",
          "plot_bgcolor": "#E5ECF6",
          "polar": {
           "angularaxis": {
            "gridcolor": "white",
            "linecolor": "white",
            "ticks": ""
           },
           "bgcolor": "#E5ECF6",
           "radialaxis": {
            "gridcolor": "white",
            "linecolor": "white",
            "ticks": ""
           }
          },
          "scene": {
           "xaxis": {
            "backgroundcolor": "#E5ECF6",
            "gridcolor": "white",
            "gridwidth": 2,
            "linecolor": "white",
            "showbackground": true,
            "ticks": "",
            "zerolinecolor": "white"
           },
           "yaxis": {
            "backgroundcolor": "#E5ECF6",
            "gridcolor": "white",
            "gridwidth": 2,
            "linecolor": "white",
            "showbackground": true,
            "ticks": "",
            "zerolinecolor": "white"
           },
           "zaxis": {
            "backgroundcolor": "#E5ECF6",
            "gridcolor": "white",
            "gridwidth": 2,
            "linecolor": "white",
            "showbackground": true,
            "ticks": "",
            "zerolinecolor": "white"
           }
          },
          "shapedefaults": {
           "line": {
            "color": "#2a3f5f"
           }
          },
          "ternary": {
           "aaxis": {
            "gridcolor": "white",
            "linecolor": "white",
            "ticks": ""
           },
           "baxis": {
            "gridcolor": "white",
            "linecolor": "white",
            "ticks": ""
           },
           "bgcolor": "#E5ECF6",
           "caxis": {
            "gridcolor": "white",
            "linecolor": "white",
            "ticks": ""
           }
          },
          "title": {
           "x": 0.05
          },
          "xaxis": {
           "automargin": true,
           "gridcolor": "white",
           "linecolor": "white",
           "ticks": "",
           "title": {
            "standoff": 15
           },
           "zerolinecolor": "white",
           "zerolinewidth": 2
          },
          "yaxis": {
           "automargin": true,
           "gridcolor": "white",
           "linecolor": "white",
           "ticks": "",
           "title": {
            "standoff": 15
           },
           "zerolinecolor": "white",
           "zerolinewidth": 2
          }
         }
        },
        "title": {
         "font": {
          "color": "#4D5663"
         }
        },
        "xaxis": {
         "gridcolor": "#E1E5ED",
         "showgrid": true,
         "tickfont": {
          "color": "#4D5663"
         },
         "title": {
          "font": {
           "color": "#4D5663"
          },
          "text": ""
         },
         "zerolinecolor": "#E1E5ED"
        },
        "xaxis2": {
         "anchor": "y2",
         "gridcolor": "#E1E5ED",
         "showgrid": true,
         "showticklabels": false,
         "tickfont": {
          "color": "#4D5663"
         },
         "title": {
          "font": {
           "color": "#4D5663"
          },
          "text": ""
         },
         "zerolinecolor": "#E1E5ED"
        },
        "yaxis": {
         "domain": [
          0.3,
          1
         ],
         "gridcolor": "#E1E5ED",
         "showgrid": true,
         "tickfont": {
          "color": "#4D5663"
         },
         "title": {
          "font": {
           "color": "#4D5663"
          },
          "text": ""
         },
         "zerolinecolor": "#E1E5ED"
        },
        "yaxis2": {
         "domain": [
          0,
          0.25
         ],
         "gridcolor": "#E1E5ED",
         "showgrid": true,
         "tickfont": {
          "color": "#4D5663"
         },
         "title": {
          "font": {
           "color": "#4D5663"
          },
          "text": "Spread"
         },
         "zerolinecolor": "#E1E5ED"
        }
       }
      },
      "text/html": [
       "<div>\n",
       "        \n",
       "        \n",
       "            <div id=\"d24b80a4-c4b9-4da2-aa63-9450d8b723a6\" class=\"plotly-graph-div\" style=\"height:525px; width:100%;\"></div>\n",
       "            <script type=\"text/javascript\">\n",
       "                require([\"plotly\"], function(Plotly) {\n",
       "                    window.PLOTLYENV=window.PLOTLYENV || {};\n",
       "                    window.PLOTLYENV.BASE_URL='https://plot.ly';\n",
       "                    \n",
       "                if (document.getElementById(\"d24b80a4-c4b9-4da2-aa63-9450d8b723a6\")) {\n",
       "                    Plotly.newPlot(\n",
       "                        'd24b80a4-c4b9-4da2-aa63-9450d8b723a6',\n",
       "                        [{\"line\": {\"color\": \"rgba(255, 153, 51, 1.0)\", \"dash\": \"solid\", \"shape\": \"linear\", \"width\": 1.3}, \"mode\": \"lines\", \"name\": \"A\", \"text\": \"\", \"type\": \"scatter\", \"x\": [0, 1, 2, 3, 4, 5, 6, 7, 8, 9, 10, 11, 12, 13, 14, 15, 16, 17, 18, 19, 20, 21, 22, 23, 24, 25, 26, 27, 28, 29, 30, 31, 32, 33, 34, 35, 36, 37, 38, 39, 40, 41, 42, 43, 44, 45, 46, 47, 48, 49, 50, 51, 52, 53, 54, 55, 56, 57, 58, 59, 60, 61, 62, 63, 64, 65, 66, 67, 68, 69, 70, 71, 72, 73, 74, 75, 76, 77, 78, 79, 80, 81, 82, 83, 84, 85, 86, 87, 88, 89, 90, 91, 92, 93, 94, 95, 96, 97, 98, 99], \"y\": [0.3925721259516482, 1.372423172955678, 2.242609686488439, -0.8582063908771425, 0.7608248424673095, 0.7000004474958651, -2.012133152037724, 0.9326208404062066, -0.659318333188724, 1.6928610483674762, -0.6871886678918286, -0.35039380953159355, -0.42079236277313725, 0.8690052189226001, -0.576444210165041, 0.21995333800259842, -0.4444106568943757, -1.1440185333618915, -1.6578956613807303, -0.4101416114246453, -0.8519320305097161, 1.2103242834430672, 0.32015253922147136, -0.10035894535953092, -0.8488192702393195, -0.5572712613655367, -1.0688607093730706, -0.42181977168796303, 0.12733568405289733, -1.0665476173525776, 0.9261690103955689, -1.9549129649944113, -1.0277111422245617, -0.38799086170382646, 1.1509943645776262, -1.745769144522121, 1.2130978831137753, -0.6425110489904321, -0.57978668657439, 1.0712439163287628, -0.9234875765962591, 2.961687683445264, -0.8009271101769784, -0.6562531660019234, -0.27821128532982536, -1.2066325053881286, 3.292598801986526, -1.543892912424364, 0.5426822404287032, 0.6393413189471646, -0.429902886768494, -0.9816502324772437, 0.04303598600358611, -1.167434040446578, 0.7324805559746674, 0.8864020652679193, 0.5228613497547522, -1.1582437180761456, 0.8668597258010465, -1.124040455883926, 1.8000496709282203, 0.8645540802609497, -1.1773722266718076, -0.13804095883041229, -0.6407571208877594, -0.4281134664922928, -1.0138183021796128, -1.3585492226847056, -0.858301495895222, -0.08680224327455878, -0.9429499025251274, -0.516543913855966, -1.9085819167197682, -0.3047314446803455, -0.8469563304785783, 1.6986622415450738, 0.4788801048455923, 0.8165342542226821, 0.2712567992995717, -1.7066836444868176, -0.41177484570153433, 3.4776607657004988, -2.834396666032772, -0.7774122936937027, 1.7045043869532526, -0.06080095132088235, -0.76980795302438, -1.0415010013073016, 0.5224033425902554, 0.8532714130883641, 0.5484720112680194, 0.3391173259213127, -1.5739514633185079, 0.5619600984821377, -0.5983771760743023, 1.1075742347923272, -1.6666578332055928, -0.3778299507535159, -0.6830647528616767, 0.41404579007455566]}, {\"line\": {\"color\": \"rgba(55, 128, 191, 1.0)\", \"dash\": \"solid\", \"shape\": \"linear\", \"width\": 1.3}, \"mode\": \"lines\", \"name\": \"B\", \"text\": \"\", \"type\": \"scatter\", \"x\": [0, 1, 2, 3, 4, 5, 6, 7, 8, 9, 10, 11, 12, 13, 14, 15, 16, 17, 18, 19, 20, 21, 22, 23, 24, 25, 26, 27, 28, 29, 30, 31, 32, 33, 34, 35, 36, 37, 38, 39, 40, 41, 42, 43, 44, 45, 46, 47, 48, 49, 50, 51, 52, 53, 54, 55, 56, 57, 58, 59, 60, 61, 62, 63, 64, 65, 66, 67, 68, 69, 70, 71, 72, 73, 74, 75, 76, 77, 78, 79, 80, 81, 82, 83, 84, 85, 86, 87, 88, 89, 90, 91, 92, 93, 94, 95, 96, 97, 98, 99], \"y\": [-0.18562897664789632, 0.2814946331226841, -0.5611496729894913, -0.4024455177000891, -0.5067484326841816, -0.5046831255213409, 0.3071138555381204, 0.5235719311401476, 0.1689123266002498, -0.648541330346596, -0.2781926966218052, 0.5674683584811326, 0.46108742396861463, 0.4081857886915297, 0.8856809194878353, 0.8230987593991649, -0.39330647758921633, 0.3233245409289331, -0.6207219618976456, -2.398805095729414, 1.1216956439427725, -0.5863344522457911, 0.5607494682257044, 0.10914101529479345, -0.10621089901970976, -0.4309016156343589, -0.41156421677297167, -0.11563017368980043, -2.036410216502865, -0.3110822648687047, 0.4256721368775975, -0.7804317607711396, 1.3742457362160845, 1.5447331731436296, -0.7250748089914916, 0.24929992571674361, -1.7794793815328092, 0.24138473009400277, -1.2034168942707761, 1.0414639210199483, -0.5670377462359961, -0.21270823704091296, -0.685999635317336, 1.1247530050048336, 1.188669271627665, -1.8444053144861277, -0.48683583832976574, -1.4150671526928436, -0.7958340475909478, 0.08001675426748367, -0.7821642717145418, -0.5779608466326287, 0.7616839022768124, 0.5873755367983575, 0.7997869163737407, 0.9558533340809422, -0.9061367977781155, -0.43578105334829365, -0.21657032067850326, -0.7972237736675932, 0.5467520310235533, -0.05996238706349433, -1.3103756836643208, -1.2984105754608068, -1.08278714497136, -0.067375476395044, -0.2012741546557389, 0.7301998783153228, 0.7860790647665244, 1.2748168237130528, -0.15838584047247817, -0.7367956174793401, 0.17381865974815355, -0.608882127348547, 0.019790573117705768, -0.5581866426850328, 0.37207449041564766, 2.433253765776426, -0.2519215314634941, 0.7858365678345681, 0.5594533930884258, 0.21976613500776326, -0.6254685895049678, -0.6561891284929092, 2.1213683420326332, 0.12457784109751802, -0.14382087113095818, 0.4394487501767444, -0.744337348321256, -0.3777265856290238, 0.8070672733664923, -0.24328759151350107, -1.7140416474135354, -1.5670830508801825, 1.8234229094828922, 0.5031344290993308, -1.366297613187657, 1.0133773132755128, -0.28092282255864715, -0.16105588035881507]}, {\"connectgaps\": false, \"fill\": \"tozeroy\", \"line\": {\"color\": \"green\", \"dash\": \"solid\", \"shape\": \"linear\", \"width\": 0.5}, \"mode\": \"lines\", \"name\": \"Spread\", \"showlegend\": false, \"type\": \"scatter\", \"x\": [0, 1, 2, 3, 4, 5, 6, 7, 8, 9, 10, 11, 12, 13, 14, 15, 16, 17, 18, 19, 20, 21, 22, 23, 24, 25, 26, 27, 28, 29, 30, 31, 32, 33, 34, 35, 36, 37, 38, 39, 40, 41, 42, 43, 44, 45, 46, 47, 48, 49, 50, 51, 52, 53, 54, 55, 56, 57, 58, 59, 60, 61, 62, 63, 64, 65, 66, 67, 68, 69, 70, 71, 72, 73, 74, 75, 76, 77, 78, 79, 80, 81, 82, 83, 84, 85, 86, 87, 88, 89, 90, 91, 92, 93, 94, 95, 96, 97, 98, 99], \"xaxis\": \"x2\", \"y\": [0.5782011025995445, 1.0909285398329938, 2.80375935947793, \"\", 1.267573275151491, 1.2046835730172059, \"\", 0.4090489092660591, \"\", 2.341402378714072, \"\", \"\", \"\", 0.46081943023107036, \"\", \"\", \"\", \"\", \"\", 1.9886634843047688, \"\", 1.7966587356888581, \"\", \"\", \"\", \"\", \"\", \"\", 2.1637459005557624, \"\", 0.5004968735179713, \"\", \"\", \"\", 1.8760691735691177, \"\", 2.9925772646465845, \"\", 0.6236302076963861, 0.029779995308814478, \"\", 3.1743959204861767, \"\", \"\", \"\", 0.637772809097999, 3.7794346403162917, \"\", 1.338516288019651, 0.559324564679681, 0.35226138494604786, \"\", \"\", \"\", \"\", \"\", 1.4289981475328677, \"\", 1.0834300464795499, \"\", 1.253297639904667, 0.924516467324444, 0.13300345699251315, 1.1603696166303945, 0.4420300240836006, \"\", \"\", \"\", \"\", \"\", \"\", 0.2202517036233741, \"\", 0.30415068266820144, \"\", 2.2568488842301067, 0.10680561442994463, \"\", 0.5231783307630657, \"\", \"\", 3.2578946306927357, \"\", \"\", \"\", \"\", \"\", \"\", 1.2667406909115115, 1.2309979987173878, \"\", 0.5824049174348138, 0.1400901840950275, 2.12904314936232, \"\", 0.6044398056929964, \"\", \"\", \"\", 0.5751016704333707], \"yaxis\": \"y2\"}, {\"connectgaps\": false, \"fill\": \"tozeroy\", \"line\": {\"color\": \"red\", \"dash\": \"solid\", \"shape\": \"linear\", \"width\": 0.5}, \"mode\": \"lines\", \"name\": \"Spread\", \"showlegend\": false, \"type\": \"scatter\", \"x\": [0, 1, 2, 3, 4, 5, 6, 7, 8, 9, 10, 11, 12, 13, 14, 15, 16, 17, 18, 19, 20, 21, 22, 23, 24, 25, 26, 27, 28, 29, 30, 31, 32, 33, 34, 35, 36, 37, 38, 39, 40, 41, 42, 43, 44, 45, 46, 47, 48, 49, 50, 51, 52, 53, 54, 55, 56, 57, 58, 59, 60, 61, 62, 63, 64, 65, 66, 67, 68, 69, 70, 71, 72, 73, 74, 75, 76, 77, 78, 79, 80, 81, 82, 83, 84, 85, 86, 87, 88, 89, 90, 91, 92, 93, 94, 95, 96, 97, 98, 99], \"xaxis\": \"x2\", \"y\": [\"\", \"\", \"\", -0.4557608731770534, \"\", \"\", -2.3192470075758447, \"\", -0.8282306597889738, \"\", -0.40899597127002346, -0.9178621680127261, -0.8818797867417518, \"\", -1.4621251296528763, -0.6031454213965665, -0.05110417930515937, -1.4673430742908247, -1.0371736994830847, \"\", -1.9736276744524885, \"\", -0.24059692900423302, -0.20949996065432436, -0.7426083712196097, -0.12636964573117782, -0.657296492600099, -0.3061895979981626, \"\", -0.7554653524838729, \"\", -1.1744812042232717, -2.401956878440646, -1.932724034847456, \"\", -1.9950690702388647, \"\", -0.8838957790844348, \"\", \"\", -0.356449830360263, \"\", -0.11492747485964239, -1.7810061710067568, -1.4668805569574903, \"\", \"\", -0.12882575973152055, \"\", \"\", \"\", -0.403689385844615, -0.7186479162732262, -1.7548095772449355, -0.06730636039907323, -0.06945126881302288, \"\", -0.7224626647278519, \"\", -0.32681668221633287, \"\", \"\", \"\", \"\", \"\", -0.36073799009724883, -0.8125441475238739, -2.0887491010000283, -1.6443805606617463, -1.3616190669876116, -0.7845640620526493, \"\", -2.0824005764679216, \"\", -0.866746903596284, \"\", \"\", -1.6167195115537438, \"\", -2.4925202123213857, -0.9712282387899601, \"\", -2.2089280765278043, -0.12122316520079346, -0.4168639550793807, -0.18537879241840036, -0.6259870818934218, -1.480949751484046, \"\", \"\", -0.25859526209847294, \"\", \"\", \"\", -2.4218000855571944, \"\", -0.30036022001793583, -1.3912072640290287, -0.4021419303030295, \"\"], \"yaxis\": \"y2\"}],\n",
       "                        {\"hovermode\": \"x\", \"legend\": {\"bgcolor\": \"#F5F6F9\", \"font\": {\"color\": \"#4D5663\"}}, \"paper_bgcolor\": \"#F5F6F9\", \"plot_bgcolor\": \"#F5F6F9\", \"template\": {\"data\": {\"bar\": [{\"error_x\": {\"color\": \"#2a3f5f\"}, \"error_y\": {\"color\": \"#2a3f5f\"}, \"marker\": {\"line\": {\"color\": \"#E5ECF6\", \"width\": 0.5}}, \"type\": \"bar\"}], \"barpolar\": [{\"marker\": {\"line\": {\"color\": \"#E5ECF6\", \"width\": 0.5}}, \"type\": \"barpolar\"}], \"carpet\": [{\"aaxis\": {\"endlinecolor\": \"#2a3f5f\", \"gridcolor\": \"white\", \"linecolor\": \"white\", \"minorgridcolor\": \"white\", \"startlinecolor\": \"#2a3f5f\"}, \"baxis\": {\"endlinecolor\": \"#2a3f5f\", \"gridcolor\": \"white\", \"linecolor\": \"white\", \"minorgridcolor\": \"white\", \"startlinecolor\": \"#2a3f5f\"}, \"type\": \"carpet\"}], \"choropleth\": [{\"colorbar\": {\"outlinewidth\": 0, \"ticks\": \"\"}, \"type\": \"choropleth\"}], \"contour\": [{\"colorbar\": {\"outlinewidth\": 0, \"ticks\": \"\"}, \"colorscale\": [[0.0, \"#0d0887\"], [0.1111111111111111, \"#46039f\"], [0.2222222222222222, \"#7201a8\"], [0.3333333333333333, \"#9c179e\"], [0.4444444444444444, \"#bd3786\"], [0.5555555555555556, \"#d8576b\"], [0.6666666666666666, \"#ed7953\"], [0.7777777777777778, \"#fb9f3a\"], [0.8888888888888888, \"#fdca26\"], [1.0, \"#f0f921\"]], \"type\": \"contour\"}], \"contourcarpet\": [{\"colorbar\": {\"outlinewidth\": 0, \"ticks\": \"\"}, \"type\": \"contourcarpet\"}], \"heatmap\": [{\"colorbar\": {\"outlinewidth\": 0, \"ticks\": \"\"}, \"colorscale\": [[0.0, \"#0d0887\"], [0.1111111111111111, \"#46039f\"], [0.2222222222222222, \"#7201a8\"], [0.3333333333333333, \"#9c179e\"], [0.4444444444444444, \"#bd3786\"], [0.5555555555555556, \"#d8576b\"], [0.6666666666666666, \"#ed7953\"], [0.7777777777777778, \"#fb9f3a\"], [0.8888888888888888, \"#fdca26\"], [1.0, \"#f0f921\"]], \"type\": \"heatmap\"}], \"heatmapgl\": [{\"colorbar\": {\"outlinewidth\": 0, \"ticks\": \"\"}, \"colorscale\": [[0.0, \"#0d0887\"], [0.1111111111111111, \"#46039f\"], [0.2222222222222222, \"#7201a8\"], [0.3333333333333333, \"#9c179e\"], [0.4444444444444444, \"#bd3786\"], [0.5555555555555556, \"#d8576b\"], [0.6666666666666666, \"#ed7953\"], [0.7777777777777778, \"#fb9f3a\"], [0.8888888888888888, \"#fdca26\"], [1.0, \"#f0f921\"]], \"type\": \"heatmapgl\"}], \"histogram\": [{\"marker\": {\"colorbar\": {\"outlinewidth\": 0, \"ticks\": \"\"}}, \"type\": \"histogram\"}], \"histogram2d\": [{\"colorbar\": {\"outlinewidth\": 0, \"ticks\": \"\"}, \"colorscale\": [[0.0, \"#0d0887\"], [0.1111111111111111, \"#46039f\"], [0.2222222222222222, \"#7201a8\"], [0.3333333333333333, \"#9c179e\"], [0.4444444444444444, \"#bd3786\"], [0.5555555555555556, \"#d8576b\"], [0.6666666666666666, \"#ed7953\"], [0.7777777777777778, \"#fb9f3a\"], [0.8888888888888888, \"#fdca26\"], [1.0, \"#f0f921\"]], \"type\": \"histogram2d\"}], \"histogram2dcontour\": [{\"colorbar\": {\"outlinewidth\": 0, \"ticks\": \"\"}, \"colorscale\": [[0.0, \"#0d0887\"], [0.1111111111111111, \"#46039f\"], [0.2222222222222222, \"#7201a8\"], [0.3333333333333333, \"#9c179e\"], [0.4444444444444444, \"#bd3786\"], [0.5555555555555556, \"#d8576b\"], [0.6666666666666666, \"#ed7953\"], [0.7777777777777778, \"#fb9f3a\"], [0.8888888888888888, \"#fdca26\"], [1.0, \"#f0f921\"]], \"type\": \"histogram2dcontour\"}], \"mesh3d\": [{\"colorbar\": {\"outlinewidth\": 0, \"ticks\": \"\"}, \"type\": \"mesh3d\"}], \"parcoords\": [{\"line\": {\"colorbar\": {\"outlinewidth\": 0, \"ticks\": \"\"}}, \"type\": \"parcoords\"}], \"pie\": [{\"automargin\": true, \"type\": \"pie\"}], \"scatter\": [{\"marker\": {\"colorbar\": {\"outlinewidth\": 0, \"ticks\": \"\"}}, \"type\": \"scatter\"}], \"scatter3d\": [{\"line\": {\"colorbar\": {\"outlinewidth\": 0, \"ticks\": \"\"}}, \"marker\": {\"colorbar\": {\"outlinewidth\": 0, \"ticks\": \"\"}}, \"type\": \"scatter3d\"}], \"scattercarpet\": [{\"marker\": {\"colorbar\": {\"outlinewidth\": 0, \"ticks\": \"\"}}, \"type\": \"scattercarpet\"}], \"scattergeo\": [{\"marker\": {\"colorbar\": {\"outlinewidth\": 0, \"ticks\": \"\"}}, \"type\": \"scattergeo\"}], \"scattergl\": [{\"marker\": {\"colorbar\": {\"outlinewidth\": 0, \"ticks\": \"\"}}, \"type\": \"scattergl\"}], \"scattermapbox\": [{\"marker\": {\"colorbar\": {\"outlinewidth\": 0, \"ticks\": \"\"}}, \"type\": \"scattermapbox\"}], \"scatterpolar\": [{\"marker\": {\"colorbar\": {\"outlinewidth\": 0, \"ticks\": \"\"}}, \"type\": \"scatterpolar\"}], \"scatterpolargl\": [{\"marker\": {\"colorbar\": {\"outlinewidth\": 0, \"ticks\": \"\"}}, \"type\": \"scatterpolargl\"}], \"scatterternary\": [{\"marker\": {\"colorbar\": {\"outlinewidth\": 0, \"ticks\": \"\"}}, \"type\": \"scatterternary\"}], \"surface\": [{\"colorbar\": {\"outlinewidth\": 0, \"ticks\": \"\"}, \"colorscale\": [[0.0, \"#0d0887\"], [0.1111111111111111, \"#46039f\"], [0.2222222222222222, \"#7201a8\"], [0.3333333333333333, \"#9c179e\"], [0.4444444444444444, \"#bd3786\"], [0.5555555555555556, \"#d8576b\"], [0.6666666666666666, \"#ed7953\"], [0.7777777777777778, \"#fb9f3a\"], [0.8888888888888888, \"#fdca26\"], [1.0, \"#f0f921\"]], \"type\": \"surface\"}], \"table\": [{\"cells\": {\"fill\": {\"color\": \"#EBF0F8\"}, \"line\": {\"color\": \"white\"}}, \"header\": {\"fill\": {\"color\": \"#C8D4E3\"}, \"line\": {\"color\": \"white\"}}, \"type\": \"table\"}]}, \"layout\": {\"annotationdefaults\": {\"arrowcolor\": \"#2a3f5f\", \"arrowhead\": 0, \"arrowwidth\": 1}, \"coloraxis\": {\"colorbar\": {\"outlinewidth\": 0, \"ticks\": \"\"}}, \"colorscale\": {\"diverging\": [[0, \"#8e0152\"], [0.1, \"#c51b7d\"], [0.2, \"#de77ae\"], [0.3, \"#f1b6da\"], [0.4, \"#fde0ef\"], [0.5, \"#f7f7f7\"], [0.6, \"#e6f5d0\"], [0.7, \"#b8e186\"], [0.8, \"#7fbc41\"], [0.9, \"#4d9221\"], [1, \"#276419\"]], \"sequential\": [[0.0, \"#0d0887\"], [0.1111111111111111, \"#46039f\"], [0.2222222222222222, \"#7201a8\"], [0.3333333333333333, \"#9c179e\"], [0.4444444444444444, \"#bd3786\"], [0.5555555555555556, \"#d8576b\"], [0.6666666666666666, \"#ed7953\"], [0.7777777777777778, \"#fb9f3a\"], [0.8888888888888888, \"#fdca26\"], [1.0, \"#f0f921\"]], \"sequentialminus\": [[0.0, \"#0d0887\"], [0.1111111111111111, \"#46039f\"], [0.2222222222222222, \"#7201a8\"], [0.3333333333333333, \"#9c179e\"], [0.4444444444444444, \"#bd3786\"], [0.5555555555555556, \"#d8576b\"], [0.6666666666666666, \"#ed7953\"], [0.7777777777777778, \"#fb9f3a\"], [0.8888888888888888, \"#fdca26\"], [1.0, \"#f0f921\"]]}, \"colorway\": [\"#636efa\", \"#EF553B\", \"#00cc96\", \"#ab63fa\", \"#FFA15A\", \"#19d3f3\", \"#FF6692\", \"#B6E880\", \"#FF97FF\", \"#FECB52\"], \"font\": {\"color\": \"#2a3f5f\"}, \"geo\": {\"bgcolor\": \"white\", \"lakecolor\": \"white\", \"landcolor\": \"#E5ECF6\", \"showlakes\": true, \"showland\": true, \"subunitcolor\": \"white\"}, \"hoverlabel\": {\"align\": \"left\"}, \"hovermode\": \"closest\", \"mapbox\": {\"style\": \"light\"}, \"paper_bgcolor\": \"white\", \"plot_bgcolor\": \"#E5ECF6\", \"polar\": {\"angularaxis\": {\"gridcolor\": \"white\", \"linecolor\": \"white\", \"ticks\": \"\"}, \"bgcolor\": \"#E5ECF6\", \"radialaxis\": {\"gridcolor\": \"white\", \"linecolor\": \"white\", \"ticks\": \"\"}}, \"scene\": {\"xaxis\": {\"backgroundcolor\": \"#E5ECF6\", \"gridcolor\": \"white\", \"gridwidth\": 2, \"linecolor\": \"white\", \"showbackground\": true, \"ticks\": \"\", \"zerolinecolor\": \"white\"}, \"yaxis\": {\"backgroundcolor\": \"#E5ECF6\", \"gridcolor\": \"white\", \"gridwidth\": 2, \"linecolor\": \"white\", \"showbackground\": true, \"ticks\": \"\", \"zerolinecolor\": \"white\"}, \"zaxis\": {\"backgroundcolor\": \"#E5ECF6\", \"gridcolor\": \"white\", \"gridwidth\": 2, \"linecolor\": \"white\", \"showbackground\": true, \"ticks\": \"\", \"zerolinecolor\": \"white\"}}, \"shapedefaults\": {\"line\": {\"color\": \"#2a3f5f\"}}, \"ternary\": {\"aaxis\": {\"gridcolor\": \"white\", \"linecolor\": \"white\", \"ticks\": \"\"}, \"baxis\": {\"gridcolor\": \"white\", \"linecolor\": \"white\", \"ticks\": \"\"}, \"bgcolor\": \"#E5ECF6\", \"caxis\": {\"gridcolor\": \"white\", \"linecolor\": \"white\", \"ticks\": \"\"}}, \"title\": {\"x\": 0.05}, \"xaxis\": {\"automargin\": true, \"gridcolor\": \"white\", \"linecolor\": \"white\", \"ticks\": \"\", \"title\": {\"standoff\": 15}, \"zerolinecolor\": \"white\", \"zerolinewidth\": 2}, \"yaxis\": {\"automargin\": true, \"gridcolor\": \"white\", \"linecolor\": \"white\", \"ticks\": \"\", \"title\": {\"standoff\": 15}, \"zerolinecolor\": \"white\", \"zerolinewidth\": 2}}}, \"title\": {\"font\": {\"color\": \"#4D5663\"}}, \"xaxis\": {\"gridcolor\": \"#E1E5ED\", \"showgrid\": true, \"tickfont\": {\"color\": \"#4D5663\"}, \"title\": {\"font\": {\"color\": \"#4D5663\"}, \"text\": \"\"}, \"zerolinecolor\": \"#E1E5ED\"}, \"xaxis2\": {\"anchor\": \"y2\", \"gridcolor\": \"#E1E5ED\", \"showgrid\": true, \"showticklabels\": false, \"tickfont\": {\"color\": \"#4D5663\"}, \"title\": {\"font\": {\"color\": \"#4D5663\"}, \"text\": \"\"}, \"zerolinecolor\": \"#E1E5ED\"}, \"yaxis\": {\"domain\": [0.3, 1], \"gridcolor\": \"#E1E5ED\", \"showgrid\": true, \"tickfont\": {\"color\": \"#4D5663\"}, \"title\": {\"font\": {\"color\": \"#4D5663\"}, \"text\": \"\"}, \"zerolinecolor\": \"#E1E5ED\"}, \"yaxis2\": {\"domain\": [0, 0.25], \"gridcolor\": \"#E1E5ED\", \"showgrid\": true, \"tickfont\": {\"color\": \"#4D5663\"}, \"title\": {\"font\": {\"color\": \"#4D5663\"}, \"text\": \"Spread\"}, \"zerolinecolor\": \"#E1E5ED\"}},\n",
       "                        {\"showLink\": true, \"linkText\": \"Export to plot.ly\", \"plotlyServerURL\": \"https://plot.ly\", \"responsive\": true}\n",
       "                    ).then(function(){\n",
       "                            \n",
       "var gd = document.getElementById('d24b80a4-c4b9-4da2-aa63-9450d8b723a6');\n",
       "var x = new MutationObserver(function (mutations, observer) {{\n",
       "        var display = window.getComputedStyle(gd).display;\n",
       "        if (!display || display === 'none') {{\n",
       "            console.log([gd, 'removed!']);\n",
       "            Plotly.purge(gd);\n",
       "            observer.disconnect();\n",
       "        }}\n",
       "}});\n",
       "\n",
       "// Listen for the removal of the full notebook cells\n",
       "var notebookContainer = gd.closest('#notebook-container');\n",
       "if (notebookContainer) {{\n",
       "    x.observe(notebookContainer, {childList: true});\n",
       "}}\n",
       "\n",
       "// Listen for the clearing of the current output cell\n",
       "var outputEl = gd.closest('.output');\n",
       "if (outputEl) {{\n",
       "    x.observe(outputEl, {childList: true});\n",
       "}}\n",
       "\n",
       "                        })\n",
       "                };\n",
       "                });\n",
       "            </script>\n",
       "        </div>"
      ]
     },
     "metadata": {},
     "output_type": "display_data"
    }
   ],
   "source": [
    "df[['A','B']].iplot(kind='spread')"
   ]
  },
  {
   "cell_type": "markdown",
   "metadata": {},
   "source": [
    "## histogram"
   ]
  },
  {
   "cell_type": "code",
   "execution_count": 18,
   "metadata": {},
   "outputs": [
    {
     "data": {
      "application/vnd.plotly.v1+json": {
       "config": {
        "linkText": "Export to plot.ly",
        "plotlyServerURL": "https://plot.ly",
        "showLink": true
       },
       "data": [
        {
         "histfunc": "count",
         "histnorm": "",
         "marker": {
          "color": "rgba(255, 153, 51, 1.0)",
          "line": {
           "color": "#4D5663",
           "width": 1.3
          }
         },
         "name": "A",
         "nbinsx": 25,
         "opacity": 0.8,
         "orientation": "v",
         "type": "histogram",
         "x": [
          0.3925721259516482,
          1.372423172955678,
          2.242609686488439,
          -0.8582063908771425,
          0.7608248424673095,
          0.7000004474958651,
          -2.012133152037724,
          0.9326208404062066,
          -0.659318333188724,
          1.6928610483674762,
          -0.6871886678918286,
          -0.35039380953159355,
          -0.42079236277313725,
          0.8690052189226001,
          -0.576444210165041,
          0.21995333800259842,
          -0.4444106568943757,
          -1.1440185333618915,
          -1.6578956613807303,
          -0.4101416114246453,
          -0.8519320305097161,
          1.2103242834430672,
          0.32015253922147136,
          -0.10035894535953092,
          -0.8488192702393195,
          -0.5572712613655367,
          -1.0688607093730706,
          -0.42181977168796303,
          0.12733568405289733,
          -1.0665476173525776,
          0.9261690103955689,
          -1.9549129649944113,
          -1.0277111422245617,
          -0.38799086170382646,
          1.1509943645776262,
          -1.745769144522121,
          1.2130978831137753,
          -0.6425110489904321,
          -0.57978668657439,
          1.0712439163287628,
          -0.9234875765962591,
          2.961687683445264,
          -0.8009271101769784,
          -0.6562531660019234,
          -0.27821128532982536,
          -1.2066325053881286,
          3.292598801986526,
          -1.543892912424364,
          0.5426822404287032,
          0.6393413189471646,
          -0.429902886768494,
          -0.9816502324772437,
          0.04303598600358611,
          -1.167434040446578,
          0.7324805559746674,
          0.8864020652679193,
          0.5228613497547522,
          -1.1582437180761456,
          0.8668597258010465,
          -1.124040455883926,
          1.8000496709282203,
          0.8645540802609497,
          -1.1773722266718076,
          -0.13804095883041229,
          -0.6407571208877594,
          -0.4281134664922928,
          -1.0138183021796128,
          -1.3585492226847056,
          -0.858301495895222,
          -0.08680224327455878,
          -0.9429499025251274,
          -0.516543913855966,
          -1.9085819167197682,
          -0.3047314446803455,
          -0.8469563304785783,
          1.6986622415450738,
          0.4788801048455923,
          0.8165342542226821,
          0.2712567992995717,
          -1.7066836444868176,
          -0.41177484570153433,
          3.4776607657004988,
          -2.834396666032772,
          -0.7774122936937027,
          1.7045043869532526,
          -0.06080095132088235,
          -0.76980795302438,
          -1.0415010013073016,
          0.5224033425902554,
          0.8532714130883641,
          0.5484720112680194,
          0.3391173259213127,
          -1.5739514633185079,
          0.5619600984821377,
          -0.5983771760743023,
          1.1075742347923272,
          -1.6666578332055928,
          -0.3778299507535159,
          -0.6830647528616767,
          0.41404579007455566
         ]
        }
       ],
       "layout": {
        "barmode": "overlay",
        "legend": {
         "bgcolor": "#F5F6F9",
         "font": {
          "color": "#4D5663"
         }
        },
        "paper_bgcolor": "#F5F6F9",
        "plot_bgcolor": "#F5F6F9",
        "template": {
         "data": {
          "bar": [
           {
            "error_x": {
             "color": "#2a3f5f"
            },
            "error_y": {
             "color": "#2a3f5f"
            },
            "marker": {
             "line": {
              "color": "#E5ECF6",
              "width": 0.5
             }
            },
            "type": "bar"
           }
          ],
          "barpolar": [
           {
            "marker": {
             "line": {
              "color": "#E5ECF6",
              "width": 0.5
             }
            },
            "type": "barpolar"
           }
          ],
          "carpet": [
           {
            "aaxis": {
             "endlinecolor": "#2a3f5f",
             "gridcolor": "white",
             "linecolor": "white",
             "minorgridcolor": "white",
             "startlinecolor": "#2a3f5f"
            },
            "baxis": {
             "endlinecolor": "#2a3f5f",
             "gridcolor": "white",
             "linecolor": "white",
             "minorgridcolor": "white",
             "startlinecolor": "#2a3f5f"
            },
            "type": "carpet"
           }
          ],
          "choropleth": [
           {
            "colorbar": {
             "outlinewidth": 0,
             "ticks": ""
            },
            "type": "choropleth"
           }
          ],
          "contour": [
           {
            "colorbar": {
             "outlinewidth": 0,
             "ticks": ""
            },
            "colorscale": [
             [
              0,
              "#0d0887"
             ],
             [
              0.1111111111111111,
              "#46039f"
             ],
             [
              0.2222222222222222,
              "#7201a8"
             ],
             [
              0.3333333333333333,
              "#9c179e"
             ],
             [
              0.4444444444444444,
              "#bd3786"
             ],
             [
              0.5555555555555556,
              "#d8576b"
             ],
             [
              0.6666666666666666,
              "#ed7953"
             ],
             [
              0.7777777777777778,
              "#fb9f3a"
             ],
             [
              0.8888888888888888,
              "#fdca26"
             ],
             [
              1,
              "#f0f921"
             ]
            ],
            "type": "contour"
           }
          ],
          "contourcarpet": [
           {
            "colorbar": {
             "outlinewidth": 0,
             "ticks": ""
            },
            "type": "contourcarpet"
           }
          ],
          "heatmap": [
           {
            "colorbar": {
             "outlinewidth": 0,
             "ticks": ""
            },
            "colorscale": [
             [
              0,
              "#0d0887"
             ],
             [
              0.1111111111111111,
              "#46039f"
             ],
             [
              0.2222222222222222,
              "#7201a8"
             ],
             [
              0.3333333333333333,
              "#9c179e"
             ],
             [
              0.4444444444444444,
              "#bd3786"
             ],
             [
              0.5555555555555556,
              "#d8576b"
             ],
             [
              0.6666666666666666,
              "#ed7953"
             ],
             [
              0.7777777777777778,
              "#fb9f3a"
             ],
             [
              0.8888888888888888,
              "#fdca26"
             ],
             [
              1,
              "#f0f921"
             ]
            ],
            "type": "heatmap"
           }
          ],
          "heatmapgl": [
           {
            "colorbar": {
             "outlinewidth": 0,
             "ticks": ""
            },
            "colorscale": [
             [
              0,
              "#0d0887"
             ],
             [
              0.1111111111111111,
              "#46039f"
             ],
             [
              0.2222222222222222,
              "#7201a8"
             ],
             [
              0.3333333333333333,
              "#9c179e"
             ],
             [
              0.4444444444444444,
              "#bd3786"
             ],
             [
              0.5555555555555556,
              "#d8576b"
             ],
             [
              0.6666666666666666,
              "#ed7953"
             ],
             [
              0.7777777777777778,
              "#fb9f3a"
             ],
             [
              0.8888888888888888,
              "#fdca26"
             ],
             [
              1,
              "#f0f921"
             ]
            ],
            "type": "heatmapgl"
           }
          ],
          "histogram": [
           {
            "marker": {
             "colorbar": {
              "outlinewidth": 0,
              "ticks": ""
             }
            },
            "type": "histogram"
           }
          ],
          "histogram2d": [
           {
            "colorbar": {
             "outlinewidth": 0,
             "ticks": ""
            },
            "colorscale": [
             [
              0,
              "#0d0887"
             ],
             [
              0.1111111111111111,
              "#46039f"
             ],
             [
              0.2222222222222222,
              "#7201a8"
             ],
             [
              0.3333333333333333,
              "#9c179e"
             ],
             [
              0.4444444444444444,
              "#bd3786"
             ],
             [
              0.5555555555555556,
              "#d8576b"
             ],
             [
              0.6666666666666666,
              "#ed7953"
             ],
             [
              0.7777777777777778,
              "#fb9f3a"
             ],
             [
              0.8888888888888888,
              "#fdca26"
             ],
             [
              1,
              "#f0f921"
             ]
            ],
            "type": "histogram2d"
           }
          ],
          "histogram2dcontour": [
           {
            "colorbar": {
             "outlinewidth": 0,
             "ticks": ""
            },
            "colorscale": [
             [
              0,
              "#0d0887"
             ],
             [
              0.1111111111111111,
              "#46039f"
             ],
             [
              0.2222222222222222,
              "#7201a8"
             ],
             [
              0.3333333333333333,
              "#9c179e"
             ],
             [
              0.4444444444444444,
              "#bd3786"
             ],
             [
              0.5555555555555556,
              "#d8576b"
             ],
             [
              0.6666666666666666,
              "#ed7953"
             ],
             [
              0.7777777777777778,
              "#fb9f3a"
             ],
             [
              0.8888888888888888,
              "#fdca26"
             ],
             [
              1,
              "#f0f921"
             ]
            ],
            "type": "histogram2dcontour"
           }
          ],
          "mesh3d": [
           {
            "colorbar": {
             "outlinewidth": 0,
             "ticks": ""
            },
            "type": "mesh3d"
           }
          ],
          "parcoords": [
           {
            "line": {
             "colorbar": {
              "outlinewidth": 0,
              "ticks": ""
             }
            },
            "type": "parcoords"
           }
          ],
          "pie": [
           {
            "automargin": true,
            "type": "pie"
           }
          ],
          "scatter": [
           {
            "marker": {
             "colorbar": {
              "outlinewidth": 0,
              "ticks": ""
             }
            },
            "type": "scatter"
           }
          ],
          "scatter3d": [
           {
            "line": {
             "colorbar": {
              "outlinewidth": 0,
              "ticks": ""
             }
            },
            "marker": {
             "colorbar": {
              "outlinewidth": 0,
              "ticks": ""
             }
            },
            "type": "scatter3d"
           }
          ],
          "scattercarpet": [
           {
            "marker": {
             "colorbar": {
              "outlinewidth": 0,
              "ticks": ""
             }
            },
            "type": "scattercarpet"
           }
          ],
          "scattergeo": [
           {
            "marker": {
             "colorbar": {
              "outlinewidth": 0,
              "ticks": ""
             }
            },
            "type": "scattergeo"
           }
          ],
          "scattergl": [
           {
            "marker": {
             "colorbar": {
              "outlinewidth": 0,
              "ticks": ""
             }
            },
            "type": "scattergl"
           }
          ],
          "scattermapbox": [
           {
            "marker": {
             "colorbar": {
              "outlinewidth": 0,
              "ticks": ""
             }
            },
            "type": "scattermapbox"
           }
          ],
          "scatterpolar": [
           {
            "marker": {
             "colorbar": {
              "outlinewidth": 0,
              "ticks": ""
             }
            },
            "type": "scatterpolar"
           }
          ],
          "scatterpolargl": [
           {
            "marker": {
             "colorbar": {
              "outlinewidth": 0,
              "ticks": ""
             }
            },
            "type": "scatterpolargl"
           }
          ],
          "scatterternary": [
           {
            "marker": {
             "colorbar": {
              "outlinewidth": 0,
              "ticks": ""
             }
            },
            "type": "scatterternary"
           }
          ],
          "surface": [
           {
            "colorbar": {
             "outlinewidth": 0,
             "ticks": ""
            },
            "colorscale": [
             [
              0,
              "#0d0887"
             ],
             [
              0.1111111111111111,
              "#46039f"
             ],
             [
              0.2222222222222222,
              "#7201a8"
             ],
             [
              0.3333333333333333,
              "#9c179e"
             ],
             [
              0.4444444444444444,
              "#bd3786"
             ],
             [
              0.5555555555555556,
              "#d8576b"
             ],
             [
              0.6666666666666666,
              "#ed7953"
             ],
             [
              0.7777777777777778,
              "#fb9f3a"
             ],
             [
              0.8888888888888888,
              "#fdca26"
             ],
             [
              1,
              "#f0f921"
             ]
            ],
            "type": "surface"
           }
          ],
          "table": [
           {
            "cells": {
             "fill": {
              "color": "#EBF0F8"
             },
             "line": {
              "color": "white"
             }
            },
            "header": {
             "fill": {
              "color": "#C8D4E3"
             },
             "line": {
              "color": "white"
             }
            },
            "type": "table"
           }
          ]
         },
         "layout": {
          "annotationdefaults": {
           "arrowcolor": "#2a3f5f",
           "arrowhead": 0,
           "arrowwidth": 1
          },
          "coloraxis": {
           "colorbar": {
            "outlinewidth": 0,
            "ticks": ""
           }
          },
          "colorscale": {
           "diverging": [
            [
             0,
             "#8e0152"
            ],
            [
             0.1,
             "#c51b7d"
            ],
            [
             0.2,
             "#de77ae"
            ],
            [
             0.3,
             "#f1b6da"
            ],
            [
             0.4,
             "#fde0ef"
            ],
            [
             0.5,
             "#f7f7f7"
            ],
            [
             0.6,
             "#e6f5d0"
            ],
            [
             0.7,
             "#b8e186"
            ],
            [
             0.8,
             "#7fbc41"
            ],
            [
             0.9,
             "#4d9221"
            ],
            [
             1,
             "#276419"
            ]
           ],
           "sequential": [
            [
             0,
             "#0d0887"
            ],
            [
             0.1111111111111111,
             "#46039f"
            ],
            [
             0.2222222222222222,
             "#7201a8"
            ],
            [
             0.3333333333333333,
             "#9c179e"
            ],
            [
             0.4444444444444444,
             "#bd3786"
            ],
            [
             0.5555555555555556,
             "#d8576b"
            ],
            [
             0.6666666666666666,
             "#ed7953"
            ],
            [
             0.7777777777777778,
             "#fb9f3a"
            ],
            [
             0.8888888888888888,
             "#fdca26"
            ],
            [
             1,
             "#f0f921"
            ]
           ],
           "sequentialminus": [
            [
             0,
             "#0d0887"
            ],
            [
             0.1111111111111111,
             "#46039f"
            ],
            [
             0.2222222222222222,
             "#7201a8"
            ],
            [
             0.3333333333333333,
             "#9c179e"
            ],
            [
             0.4444444444444444,
             "#bd3786"
            ],
            [
             0.5555555555555556,
             "#d8576b"
            ],
            [
             0.6666666666666666,
             "#ed7953"
            ],
            [
             0.7777777777777778,
             "#fb9f3a"
            ],
            [
             0.8888888888888888,
             "#fdca26"
            ],
            [
             1,
             "#f0f921"
            ]
           ]
          },
          "colorway": [
           "#636efa",
           "#EF553B",
           "#00cc96",
           "#ab63fa",
           "#FFA15A",
           "#19d3f3",
           "#FF6692",
           "#B6E880",
           "#FF97FF",
           "#FECB52"
          ],
          "font": {
           "color": "#2a3f5f"
          },
          "geo": {
           "bgcolor": "white",
           "lakecolor": "white",
           "landcolor": "#E5ECF6",
           "showlakes": true,
           "showland": true,
           "subunitcolor": "white"
          },
          "hoverlabel": {
           "align": "left"
          },
          "hovermode": "closest",
          "mapbox": {
           "style": "light"
          },
          "paper_bgcolor": "white",
          "plot_bgcolor": "#E5ECF6",
          "polar": {
           "angularaxis": {
            "gridcolor": "white",
            "linecolor": "white",
            "ticks": ""
           },
           "bgcolor": "#E5ECF6",
           "radialaxis": {
            "gridcolor": "white",
            "linecolor": "white",
            "ticks": ""
           }
          },
          "scene": {
           "xaxis": {
            "backgroundcolor": "#E5ECF6",
            "gridcolor": "white",
            "gridwidth": 2,
            "linecolor": "white",
            "showbackground": true,
            "ticks": "",
            "zerolinecolor": "white"
           },
           "yaxis": {
            "backgroundcolor": "#E5ECF6",
            "gridcolor": "white",
            "gridwidth": 2,
            "linecolor": "white",
            "showbackground": true,
            "ticks": "",
            "zerolinecolor": "white"
           },
           "zaxis": {
            "backgroundcolor": "#E5ECF6",
            "gridcolor": "white",
            "gridwidth": 2,
            "linecolor": "white",
            "showbackground": true,
            "ticks": "",
            "zerolinecolor": "white"
           }
          },
          "shapedefaults": {
           "line": {
            "color": "#2a3f5f"
           }
          },
          "ternary": {
           "aaxis": {
            "gridcolor": "white",
            "linecolor": "white",
            "ticks": ""
           },
           "baxis": {
            "gridcolor": "white",
            "linecolor": "white",
            "ticks": ""
           },
           "bgcolor": "#E5ECF6",
           "caxis": {
            "gridcolor": "white",
            "linecolor": "white",
            "ticks": ""
           }
          },
          "title": {
           "x": 0.05
          },
          "xaxis": {
           "automargin": true,
           "gridcolor": "white",
           "linecolor": "white",
           "ticks": "",
           "title": {
            "standoff": 15
           },
           "zerolinecolor": "white",
           "zerolinewidth": 2
          },
          "yaxis": {
           "automargin": true,
           "gridcolor": "white",
           "linecolor": "white",
           "ticks": "",
           "title": {
            "standoff": 15
           },
           "zerolinecolor": "white",
           "zerolinewidth": 2
          }
         }
        },
        "title": {
         "font": {
          "color": "#4D5663"
         }
        },
        "xaxis": {
         "gridcolor": "#E1E5ED",
         "showgrid": true,
         "tickfont": {
          "color": "#4D5663"
         },
         "title": {
          "font": {
           "color": "#4D5663"
          },
          "text": ""
         },
         "zerolinecolor": "#E1E5ED"
        },
        "yaxis": {
         "gridcolor": "#E1E5ED",
         "showgrid": true,
         "tickfont": {
          "color": "#4D5663"
         },
         "title": {
          "font": {
           "color": "#4D5663"
          },
          "text": ""
         },
         "zerolinecolor": "#E1E5ED"
        }
       }
      },
      "text/html": [
       "<div>\n",
       "        \n",
       "        \n",
       "            <div id=\"57c33eb1-8222-45d2-a006-3c25778d20c0\" class=\"plotly-graph-div\" style=\"height:525px; width:100%;\"></div>\n",
       "            <script type=\"text/javascript\">\n",
       "                require([\"plotly\"], function(Plotly) {\n",
       "                    window.PLOTLYENV=window.PLOTLYENV || {};\n",
       "                    window.PLOTLYENV.BASE_URL='https://plot.ly';\n",
       "                    \n",
       "                if (document.getElementById(\"57c33eb1-8222-45d2-a006-3c25778d20c0\")) {\n",
       "                    Plotly.newPlot(\n",
       "                        '57c33eb1-8222-45d2-a006-3c25778d20c0',\n",
       "                        [{\"histfunc\": \"count\", \"histnorm\": \"\", \"marker\": {\"color\": \"rgba(255, 153, 51, 1.0)\", \"line\": {\"color\": \"#4D5663\", \"width\": 1.3}}, \"name\": \"A\", \"nbinsx\": 25, \"opacity\": 0.8, \"orientation\": \"v\", \"type\": \"histogram\", \"x\": [0.3925721259516482, 1.372423172955678, 2.242609686488439, -0.8582063908771425, 0.7608248424673095, 0.7000004474958651, -2.012133152037724, 0.9326208404062066, -0.659318333188724, 1.6928610483674762, -0.6871886678918286, -0.35039380953159355, -0.42079236277313725, 0.8690052189226001, -0.576444210165041, 0.21995333800259842, -0.4444106568943757, -1.1440185333618915, -1.6578956613807303, -0.4101416114246453, -0.8519320305097161, 1.2103242834430672, 0.32015253922147136, -0.10035894535953092, -0.8488192702393195, -0.5572712613655367, -1.0688607093730706, -0.42181977168796303, 0.12733568405289733, -1.0665476173525776, 0.9261690103955689, -1.9549129649944113, -1.0277111422245617, -0.38799086170382646, 1.1509943645776262, -1.745769144522121, 1.2130978831137753, -0.6425110489904321, -0.57978668657439, 1.0712439163287628, -0.9234875765962591, 2.961687683445264, -0.8009271101769784, -0.6562531660019234, -0.27821128532982536, -1.2066325053881286, 3.292598801986526, -1.543892912424364, 0.5426822404287032, 0.6393413189471646, -0.429902886768494, -0.9816502324772437, 0.04303598600358611, -1.167434040446578, 0.7324805559746674, 0.8864020652679193, 0.5228613497547522, -1.1582437180761456, 0.8668597258010465, -1.124040455883926, 1.8000496709282203, 0.8645540802609497, -1.1773722266718076, -0.13804095883041229, -0.6407571208877594, -0.4281134664922928, -1.0138183021796128, -1.3585492226847056, -0.858301495895222, -0.08680224327455878, -0.9429499025251274, -0.516543913855966, -1.9085819167197682, -0.3047314446803455, -0.8469563304785783, 1.6986622415450738, 0.4788801048455923, 0.8165342542226821, 0.2712567992995717, -1.7066836444868176, -0.41177484570153433, 3.4776607657004988, -2.834396666032772, -0.7774122936937027, 1.7045043869532526, -0.06080095132088235, -0.76980795302438, -1.0415010013073016, 0.5224033425902554, 0.8532714130883641, 0.5484720112680194, 0.3391173259213127, -1.5739514633185079, 0.5619600984821377, -0.5983771760743023, 1.1075742347923272, -1.6666578332055928, -0.3778299507535159, -0.6830647528616767, 0.41404579007455566]}],\n",
       "                        {\"barmode\": \"overlay\", \"legend\": {\"bgcolor\": \"#F5F6F9\", \"font\": {\"color\": \"#4D5663\"}}, \"paper_bgcolor\": \"#F5F6F9\", \"plot_bgcolor\": \"#F5F6F9\", \"template\": {\"data\": {\"bar\": [{\"error_x\": {\"color\": \"#2a3f5f\"}, \"error_y\": {\"color\": \"#2a3f5f\"}, \"marker\": {\"line\": {\"color\": \"#E5ECF6\", \"width\": 0.5}}, \"type\": \"bar\"}], \"barpolar\": [{\"marker\": {\"line\": {\"color\": \"#E5ECF6\", \"width\": 0.5}}, \"type\": \"barpolar\"}], \"carpet\": [{\"aaxis\": {\"endlinecolor\": \"#2a3f5f\", \"gridcolor\": \"white\", \"linecolor\": \"white\", \"minorgridcolor\": \"white\", \"startlinecolor\": \"#2a3f5f\"}, \"baxis\": {\"endlinecolor\": \"#2a3f5f\", \"gridcolor\": \"white\", \"linecolor\": \"white\", \"minorgridcolor\": \"white\", \"startlinecolor\": \"#2a3f5f\"}, \"type\": \"carpet\"}], \"choropleth\": [{\"colorbar\": {\"outlinewidth\": 0, \"ticks\": \"\"}, \"type\": \"choropleth\"}], \"contour\": [{\"colorbar\": {\"outlinewidth\": 0, \"ticks\": \"\"}, \"colorscale\": [[0.0, \"#0d0887\"], [0.1111111111111111, \"#46039f\"], [0.2222222222222222, \"#7201a8\"], [0.3333333333333333, \"#9c179e\"], [0.4444444444444444, \"#bd3786\"], [0.5555555555555556, \"#d8576b\"], [0.6666666666666666, \"#ed7953\"], [0.7777777777777778, \"#fb9f3a\"], [0.8888888888888888, \"#fdca26\"], [1.0, \"#f0f921\"]], \"type\": \"contour\"}], \"contourcarpet\": [{\"colorbar\": {\"outlinewidth\": 0, \"ticks\": \"\"}, \"type\": \"contourcarpet\"}], \"heatmap\": [{\"colorbar\": {\"outlinewidth\": 0, \"ticks\": \"\"}, \"colorscale\": [[0.0, \"#0d0887\"], [0.1111111111111111, \"#46039f\"], [0.2222222222222222, \"#7201a8\"], [0.3333333333333333, \"#9c179e\"], [0.4444444444444444, \"#bd3786\"], [0.5555555555555556, \"#d8576b\"], [0.6666666666666666, \"#ed7953\"], [0.7777777777777778, \"#fb9f3a\"], [0.8888888888888888, \"#fdca26\"], [1.0, \"#f0f921\"]], \"type\": \"heatmap\"}], \"heatmapgl\": [{\"colorbar\": {\"outlinewidth\": 0, \"ticks\": \"\"}, \"colorscale\": [[0.0, \"#0d0887\"], [0.1111111111111111, \"#46039f\"], [0.2222222222222222, \"#7201a8\"], [0.3333333333333333, \"#9c179e\"], [0.4444444444444444, \"#bd3786\"], [0.5555555555555556, \"#d8576b\"], [0.6666666666666666, \"#ed7953\"], [0.7777777777777778, \"#fb9f3a\"], [0.8888888888888888, \"#fdca26\"], [1.0, \"#f0f921\"]], \"type\": \"heatmapgl\"}], \"histogram\": [{\"marker\": {\"colorbar\": {\"outlinewidth\": 0, \"ticks\": \"\"}}, \"type\": \"histogram\"}], \"histogram2d\": [{\"colorbar\": {\"outlinewidth\": 0, \"ticks\": \"\"}, \"colorscale\": [[0.0, \"#0d0887\"], [0.1111111111111111, \"#46039f\"], [0.2222222222222222, \"#7201a8\"], [0.3333333333333333, \"#9c179e\"], [0.4444444444444444, \"#bd3786\"], [0.5555555555555556, \"#d8576b\"], [0.6666666666666666, \"#ed7953\"], [0.7777777777777778, \"#fb9f3a\"], [0.8888888888888888, \"#fdca26\"], [1.0, \"#f0f921\"]], \"type\": \"histogram2d\"}], \"histogram2dcontour\": [{\"colorbar\": {\"outlinewidth\": 0, \"ticks\": \"\"}, \"colorscale\": [[0.0, \"#0d0887\"], [0.1111111111111111, \"#46039f\"], [0.2222222222222222, \"#7201a8\"], [0.3333333333333333, \"#9c179e\"], [0.4444444444444444, \"#bd3786\"], [0.5555555555555556, \"#d8576b\"], [0.6666666666666666, \"#ed7953\"], [0.7777777777777778, \"#fb9f3a\"], [0.8888888888888888, \"#fdca26\"], [1.0, \"#f0f921\"]], \"type\": \"histogram2dcontour\"}], \"mesh3d\": [{\"colorbar\": {\"outlinewidth\": 0, \"ticks\": \"\"}, \"type\": \"mesh3d\"}], \"parcoords\": [{\"line\": {\"colorbar\": {\"outlinewidth\": 0, \"ticks\": \"\"}}, \"type\": \"parcoords\"}], \"pie\": [{\"automargin\": true, \"type\": \"pie\"}], \"scatter\": [{\"marker\": {\"colorbar\": {\"outlinewidth\": 0, \"ticks\": \"\"}}, \"type\": \"scatter\"}], \"scatter3d\": [{\"line\": {\"colorbar\": {\"outlinewidth\": 0, \"ticks\": \"\"}}, \"marker\": {\"colorbar\": {\"outlinewidth\": 0, \"ticks\": \"\"}}, \"type\": \"scatter3d\"}], \"scattercarpet\": [{\"marker\": {\"colorbar\": {\"outlinewidth\": 0, \"ticks\": \"\"}}, \"type\": \"scattercarpet\"}], \"scattergeo\": [{\"marker\": {\"colorbar\": {\"outlinewidth\": 0, \"ticks\": \"\"}}, \"type\": \"scattergeo\"}], \"scattergl\": [{\"marker\": {\"colorbar\": {\"outlinewidth\": 0, \"ticks\": \"\"}}, \"type\": \"scattergl\"}], \"scattermapbox\": [{\"marker\": {\"colorbar\": {\"outlinewidth\": 0, \"ticks\": \"\"}}, \"type\": \"scattermapbox\"}], \"scatterpolar\": [{\"marker\": {\"colorbar\": {\"outlinewidth\": 0, \"ticks\": \"\"}}, \"type\": \"scatterpolar\"}], \"scatterpolargl\": [{\"marker\": {\"colorbar\": {\"outlinewidth\": 0, \"ticks\": \"\"}}, \"type\": \"scatterpolargl\"}], \"scatterternary\": [{\"marker\": {\"colorbar\": {\"outlinewidth\": 0, \"ticks\": \"\"}}, \"type\": \"scatterternary\"}], \"surface\": [{\"colorbar\": {\"outlinewidth\": 0, \"ticks\": \"\"}, \"colorscale\": [[0.0, \"#0d0887\"], [0.1111111111111111, \"#46039f\"], [0.2222222222222222, \"#7201a8\"], [0.3333333333333333, \"#9c179e\"], [0.4444444444444444, \"#bd3786\"], [0.5555555555555556, \"#d8576b\"], [0.6666666666666666, \"#ed7953\"], [0.7777777777777778, \"#fb9f3a\"], [0.8888888888888888, \"#fdca26\"], [1.0, \"#f0f921\"]], \"type\": \"surface\"}], \"table\": [{\"cells\": {\"fill\": {\"color\": \"#EBF0F8\"}, \"line\": {\"color\": \"white\"}}, \"header\": {\"fill\": {\"color\": \"#C8D4E3\"}, \"line\": {\"color\": \"white\"}}, \"type\": \"table\"}]}, \"layout\": {\"annotationdefaults\": {\"arrowcolor\": \"#2a3f5f\", \"arrowhead\": 0, \"arrowwidth\": 1}, \"coloraxis\": {\"colorbar\": {\"outlinewidth\": 0, \"ticks\": \"\"}}, \"colorscale\": {\"diverging\": [[0, \"#8e0152\"], [0.1, \"#c51b7d\"], [0.2, \"#de77ae\"], [0.3, \"#f1b6da\"], [0.4, \"#fde0ef\"], [0.5, \"#f7f7f7\"], [0.6, \"#e6f5d0\"], [0.7, \"#b8e186\"], [0.8, \"#7fbc41\"], [0.9, \"#4d9221\"], [1, \"#276419\"]], \"sequential\": [[0.0, \"#0d0887\"], [0.1111111111111111, \"#46039f\"], [0.2222222222222222, \"#7201a8\"], [0.3333333333333333, \"#9c179e\"], [0.4444444444444444, \"#bd3786\"], [0.5555555555555556, \"#d8576b\"], [0.6666666666666666, \"#ed7953\"], [0.7777777777777778, \"#fb9f3a\"], [0.8888888888888888, \"#fdca26\"], [1.0, \"#f0f921\"]], \"sequentialminus\": [[0.0, \"#0d0887\"], [0.1111111111111111, \"#46039f\"], [0.2222222222222222, \"#7201a8\"], [0.3333333333333333, \"#9c179e\"], [0.4444444444444444, \"#bd3786\"], [0.5555555555555556, \"#d8576b\"], [0.6666666666666666, \"#ed7953\"], [0.7777777777777778, \"#fb9f3a\"], [0.8888888888888888, \"#fdca26\"], [1.0, \"#f0f921\"]]}, \"colorway\": [\"#636efa\", \"#EF553B\", \"#00cc96\", \"#ab63fa\", \"#FFA15A\", \"#19d3f3\", \"#FF6692\", \"#B6E880\", \"#FF97FF\", \"#FECB52\"], \"font\": {\"color\": \"#2a3f5f\"}, \"geo\": {\"bgcolor\": \"white\", \"lakecolor\": \"white\", \"landcolor\": \"#E5ECF6\", \"showlakes\": true, \"showland\": true, \"subunitcolor\": \"white\"}, \"hoverlabel\": {\"align\": \"left\"}, \"hovermode\": \"closest\", \"mapbox\": {\"style\": \"light\"}, \"paper_bgcolor\": \"white\", \"plot_bgcolor\": \"#E5ECF6\", \"polar\": {\"angularaxis\": {\"gridcolor\": \"white\", \"linecolor\": \"white\", \"ticks\": \"\"}, \"bgcolor\": \"#E5ECF6\", \"radialaxis\": {\"gridcolor\": \"white\", \"linecolor\": \"white\", \"ticks\": \"\"}}, \"scene\": {\"xaxis\": {\"backgroundcolor\": \"#E5ECF6\", \"gridcolor\": \"white\", \"gridwidth\": 2, \"linecolor\": \"white\", \"showbackground\": true, \"ticks\": \"\", \"zerolinecolor\": \"white\"}, \"yaxis\": {\"backgroundcolor\": \"#E5ECF6\", \"gridcolor\": \"white\", \"gridwidth\": 2, \"linecolor\": \"white\", \"showbackground\": true, \"ticks\": \"\", \"zerolinecolor\": \"white\"}, \"zaxis\": {\"backgroundcolor\": \"#E5ECF6\", \"gridcolor\": \"white\", \"gridwidth\": 2, \"linecolor\": \"white\", \"showbackground\": true, \"ticks\": \"\", \"zerolinecolor\": \"white\"}}, \"shapedefaults\": {\"line\": {\"color\": \"#2a3f5f\"}}, \"ternary\": {\"aaxis\": {\"gridcolor\": \"white\", \"linecolor\": \"white\", \"ticks\": \"\"}, \"baxis\": {\"gridcolor\": \"white\", \"linecolor\": \"white\", \"ticks\": \"\"}, \"bgcolor\": \"#E5ECF6\", \"caxis\": {\"gridcolor\": \"white\", \"linecolor\": \"white\", \"ticks\": \"\"}}, \"title\": {\"x\": 0.05}, \"xaxis\": {\"automargin\": true, \"gridcolor\": \"white\", \"linecolor\": \"white\", \"ticks\": \"\", \"title\": {\"standoff\": 15}, \"zerolinecolor\": \"white\", \"zerolinewidth\": 2}, \"yaxis\": {\"automargin\": true, \"gridcolor\": \"white\", \"linecolor\": \"white\", \"ticks\": \"\", \"title\": {\"standoff\": 15}, \"zerolinecolor\": \"white\", \"zerolinewidth\": 2}}}, \"title\": {\"font\": {\"color\": \"#4D5663\"}}, \"xaxis\": {\"gridcolor\": \"#E1E5ED\", \"showgrid\": true, \"tickfont\": {\"color\": \"#4D5663\"}, \"title\": {\"font\": {\"color\": \"#4D5663\"}, \"text\": \"\"}, \"zerolinecolor\": \"#E1E5ED\"}, \"yaxis\": {\"gridcolor\": \"#E1E5ED\", \"showgrid\": true, \"tickfont\": {\"color\": \"#4D5663\"}, \"title\": {\"font\": {\"color\": \"#4D5663\"}, \"text\": \"\"}, \"zerolinecolor\": \"#E1E5ED\"}},\n",
       "                        {\"showLink\": true, \"linkText\": \"Export to plot.ly\", \"plotlyServerURL\": \"https://plot.ly\", \"responsive\": true}\n",
       "                    ).then(function(){\n",
       "                            \n",
       "var gd = document.getElementById('57c33eb1-8222-45d2-a006-3c25778d20c0');\n",
       "var x = new MutationObserver(function (mutations, observer) {{\n",
       "        var display = window.getComputedStyle(gd).display;\n",
       "        if (!display || display === 'none') {{\n",
       "            console.log([gd, 'removed!']);\n",
       "            Plotly.purge(gd);\n",
       "            observer.disconnect();\n",
       "        }}\n",
       "}});\n",
       "\n",
       "// Listen for the removal of the full notebook cells\n",
       "var notebookContainer = gd.closest('#notebook-container');\n",
       "if (notebookContainer) {{\n",
       "    x.observe(notebookContainer, {childList: true});\n",
       "}}\n",
       "\n",
       "// Listen for the clearing of the current output cell\n",
       "var outputEl = gd.closest('.output');\n",
       "if (outputEl) {{\n",
       "    x.observe(outputEl, {childList: true});\n",
       "}}\n",
       "\n",
       "                        })\n",
       "                };\n",
       "                });\n",
       "            </script>\n",
       "        </div>"
      ]
     },
     "metadata": {},
     "output_type": "display_data"
    }
   ],
   "source": [
    "df['A'].iplot(kind='hist',bins=25)"
   ]
  },
  {
   "cell_type": "code",
   "execution_count": 19,
   "metadata": {},
   "outputs": [
    {
     "data": {
      "application/vnd.plotly.v1+json": {
       "config": {
        "linkText": "Export to plot.ly",
        "plotlyServerURL": "https://plot.ly",
        "showLink": true
       },
       "data": [
        {
         "marker": {
          "color": [
           "rgb(255, 153, 51)",
           "rgb(55, 128, 191)",
           "rgb(50, 171, 96)",
           "rgb(128, 0, 128)",
           "rgb(219, 64, 82)",
           "rgb(0, 128, 128)",
           "rgb(255, 255, 51)",
           "rgb(128, 128, 0)",
           "rgb(251, 128, 114)",
           "rgb(128, 177, 211)"
          ],
          "line": {
           "width": 1.3
          },
          "size": [
           70,
           96,
           75,
           64,
           77,
           12,
           38,
           86,
           62,
           65,
           104,
           74,
           46,
           71,
           73,
           70,
           69,
           80,
           28,
           48,
           47,
           93,
           89,
           54,
           87,
           92,
           45,
           51,
           50,
           68,
           90,
           87,
           72,
           63,
           39,
           78,
           71,
           55,
           67,
           82,
           82,
           81,
           54,
           62,
           58,
           72,
           83,
           84,
           48,
           72,
           77,
           50,
           34,
           51,
           82,
           45,
           62,
           62,
           73,
           64,
           40,
           57,
           54,
           56,
           112,
           76,
           51,
           79,
           54,
           61,
           37,
           47,
           22,
           58,
           63,
           41,
           46,
           49,
           66,
           35,
           49,
           63,
           55,
           50,
           85,
           69,
           56,
           67,
           52,
           69,
           75,
           39,
           64,
           70,
           97,
           66,
           74,
           72,
           96,
           64
          ],
          "symbol": "circle"
         },
         "mode": "markers",
         "text": "",
         "type": "scatter",
         "x": [
          0.3925721259516482,
          1.372423172955678,
          2.242609686488439,
          -0.8582063908771425,
          0.7608248424673095,
          0.7000004474958651,
          -2.012133152037724,
          0.9326208404062066,
          -0.659318333188724,
          1.6928610483674762,
          -0.6871886678918286,
          -0.35039380953159355,
          -0.42079236277313725,
          0.8690052189226001,
          -0.576444210165041,
          0.21995333800259842,
          -0.4444106568943757,
          -1.1440185333618915,
          -1.6578956613807303,
          -0.4101416114246453,
          -0.8519320305097161,
          1.2103242834430672,
          0.32015253922147136,
          -0.10035894535953092,
          -0.8488192702393195,
          -0.5572712613655367,
          -1.0688607093730706,
          -0.42181977168796303,
          0.12733568405289733,
          -1.0665476173525776,
          0.9261690103955689,
          -1.9549129649944113,
          -1.0277111422245617,
          -0.38799086170382646,
          1.1509943645776262,
          -1.745769144522121,
          1.2130978831137753,
          -0.6425110489904321,
          -0.57978668657439,
          1.0712439163287628,
          -0.9234875765962591,
          2.961687683445264,
          -0.8009271101769784,
          -0.6562531660019234,
          -0.27821128532982536,
          -1.2066325053881286,
          3.292598801986526,
          -1.543892912424364,
          0.5426822404287032,
          0.6393413189471646,
          -0.429902886768494,
          -0.9816502324772437,
          0.04303598600358611,
          -1.167434040446578,
          0.7324805559746674,
          0.8864020652679193,
          0.5228613497547522,
          -1.1582437180761456,
          0.8668597258010465,
          -1.124040455883926,
          1.8000496709282203,
          0.8645540802609497,
          -1.1773722266718076,
          -0.13804095883041229,
          -0.6407571208877594,
          -0.4281134664922928,
          -1.0138183021796128,
          -1.3585492226847056,
          -0.858301495895222,
          -0.08680224327455878,
          -0.9429499025251274,
          -0.516543913855966,
          -1.9085819167197682,
          -0.3047314446803455,
          -0.8469563304785783,
          1.6986622415450738,
          0.4788801048455923,
          0.8165342542226821,
          0.2712567992995717,
          -1.7066836444868176,
          -0.41177484570153433,
          3.4776607657004988,
          -2.834396666032772,
          -0.7774122936937027,
          1.7045043869532526,
          -0.06080095132088235,
          -0.76980795302438,
          -1.0415010013073016,
          0.5224033425902554,
          0.8532714130883641,
          0.5484720112680194,
          0.3391173259213127,
          -1.5739514633185079,
          0.5619600984821377,
          -0.5983771760743023,
          1.1075742347923272,
          -1.6666578332055928,
          -0.3778299507535159,
          -0.6830647528616767,
          0.41404579007455566
         ],
         "y": [
          -0.18562897664789632,
          0.2814946331226841,
          -0.5611496729894913,
          -0.4024455177000891,
          -0.5067484326841816,
          -0.5046831255213409,
          0.3071138555381204,
          0.5235719311401476,
          0.1689123266002498,
          -0.648541330346596,
          -0.2781926966218052,
          0.5674683584811326,
          0.46108742396861463,
          0.4081857886915297,
          0.8856809194878353,
          0.8230987593991649,
          -0.39330647758921633,
          0.3233245409289331,
          -0.6207219618976456,
          -2.398805095729414,
          1.1216956439427725,
          -0.5863344522457911,
          0.5607494682257044,
          0.10914101529479345,
          -0.10621089901970976,
          -0.4309016156343589,
          -0.41156421677297167,
          -0.11563017368980043,
          -2.036410216502865,
          -0.3110822648687047,
          0.4256721368775975,
          -0.7804317607711396,
          1.3742457362160845,
          1.5447331731436296,
          -0.7250748089914916,
          0.24929992571674361,
          -1.7794793815328092,
          0.24138473009400277,
          -1.2034168942707761,
          1.0414639210199483,
          -0.5670377462359961,
          -0.21270823704091296,
          -0.685999635317336,
          1.1247530050048336,
          1.188669271627665,
          -1.8444053144861277,
          -0.48683583832976574,
          -1.4150671526928436,
          -0.7958340475909478,
          0.08001675426748367,
          -0.7821642717145418,
          -0.5779608466326287,
          0.7616839022768124,
          0.5873755367983575,
          0.7997869163737407,
          0.9558533340809422,
          -0.9061367977781155,
          -0.43578105334829365,
          -0.21657032067850326,
          -0.7972237736675932,
          0.5467520310235533,
          -0.05996238706349433,
          -1.3103756836643208,
          -1.2984105754608068,
          -1.08278714497136,
          -0.067375476395044,
          -0.2012741546557389,
          0.7301998783153228,
          0.7860790647665244,
          1.2748168237130528,
          -0.15838584047247817,
          -0.7367956174793401,
          0.17381865974815355,
          -0.608882127348547,
          0.019790573117705768,
          -0.5581866426850328,
          0.37207449041564766,
          2.433253765776426,
          -0.2519215314634941,
          0.7858365678345681,
          0.5594533930884258,
          0.21976613500776326,
          -0.6254685895049678,
          -0.6561891284929092,
          2.1213683420326332,
          0.12457784109751802,
          -0.14382087113095818,
          0.4394487501767444,
          -0.744337348321256,
          -0.3777265856290238,
          0.8070672733664923,
          -0.24328759151350107,
          -1.7140416474135354,
          -1.5670830508801825,
          1.8234229094828922,
          0.5031344290993308,
          -1.366297613187657,
          1.0133773132755128,
          -0.28092282255864715,
          -0.16105588035881507
         ]
        }
       ],
       "layout": {
        "legend": {
         "bgcolor": "#F5F6F9",
         "font": {
          "color": "#4D5663"
         }
        },
        "paper_bgcolor": "#F5F6F9",
        "plot_bgcolor": "#F5F6F9",
        "template": {
         "data": {
          "bar": [
           {
            "error_x": {
             "color": "#2a3f5f"
            },
            "error_y": {
             "color": "#2a3f5f"
            },
            "marker": {
             "line": {
              "color": "#E5ECF6",
              "width": 0.5
             }
            },
            "type": "bar"
           }
          ],
          "barpolar": [
           {
            "marker": {
             "line": {
              "color": "#E5ECF6",
              "width": 0.5
             }
            },
            "type": "barpolar"
           }
          ],
          "carpet": [
           {
            "aaxis": {
             "endlinecolor": "#2a3f5f",
             "gridcolor": "white",
             "linecolor": "white",
             "minorgridcolor": "white",
             "startlinecolor": "#2a3f5f"
            },
            "baxis": {
             "endlinecolor": "#2a3f5f",
             "gridcolor": "white",
             "linecolor": "white",
             "minorgridcolor": "white",
             "startlinecolor": "#2a3f5f"
            },
            "type": "carpet"
           }
          ],
          "choropleth": [
           {
            "colorbar": {
             "outlinewidth": 0,
             "ticks": ""
            },
            "type": "choropleth"
           }
          ],
          "contour": [
           {
            "colorbar": {
             "outlinewidth": 0,
             "ticks": ""
            },
            "colorscale": [
             [
              0,
              "#0d0887"
             ],
             [
              0.1111111111111111,
              "#46039f"
             ],
             [
              0.2222222222222222,
              "#7201a8"
             ],
             [
              0.3333333333333333,
              "#9c179e"
             ],
             [
              0.4444444444444444,
              "#bd3786"
             ],
             [
              0.5555555555555556,
              "#d8576b"
             ],
             [
              0.6666666666666666,
              "#ed7953"
             ],
             [
              0.7777777777777778,
              "#fb9f3a"
             ],
             [
              0.8888888888888888,
              "#fdca26"
             ],
             [
              1,
              "#f0f921"
             ]
            ],
            "type": "contour"
           }
          ],
          "contourcarpet": [
           {
            "colorbar": {
             "outlinewidth": 0,
             "ticks": ""
            },
            "type": "contourcarpet"
           }
          ],
          "heatmap": [
           {
            "colorbar": {
             "outlinewidth": 0,
             "ticks": ""
            },
            "colorscale": [
             [
              0,
              "#0d0887"
             ],
             [
              0.1111111111111111,
              "#46039f"
             ],
             [
              0.2222222222222222,
              "#7201a8"
             ],
             [
              0.3333333333333333,
              "#9c179e"
             ],
             [
              0.4444444444444444,
              "#bd3786"
             ],
             [
              0.5555555555555556,
              "#d8576b"
             ],
             [
              0.6666666666666666,
              "#ed7953"
             ],
             [
              0.7777777777777778,
              "#fb9f3a"
             ],
             [
              0.8888888888888888,
              "#fdca26"
             ],
             [
              1,
              "#f0f921"
             ]
            ],
            "type": "heatmap"
           }
          ],
          "heatmapgl": [
           {
            "colorbar": {
             "outlinewidth": 0,
             "ticks": ""
            },
            "colorscale": [
             [
              0,
              "#0d0887"
             ],
             [
              0.1111111111111111,
              "#46039f"
             ],
             [
              0.2222222222222222,
              "#7201a8"
             ],
             [
              0.3333333333333333,
              "#9c179e"
             ],
             [
              0.4444444444444444,
              "#bd3786"
             ],
             [
              0.5555555555555556,
              "#d8576b"
             ],
             [
              0.6666666666666666,
              "#ed7953"
             ],
             [
              0.7777777777777778,
              "#fb9f3a"
             ],
             [
              0.8888888888888888,
              "#fdca26"
             ],
             [
              1,
              "#f0f921"
             ]
            ],
            "type": "heatmapgl"
           }
          ],
          "histogram": [
           {
            "marker": {
             "colorbar": {
              "outlinewidth": 0,
              "ticks": ""
             }
            },
            "type": "histogram"
           }
          ],
          "histogram2d": [
           {
            "colorbar": {
             "outlinewidth": 0,
             "ticks": ""
            },
            "colorscale": [
             [
              0,
              "#0d0887"
             ],
             [
              0.1111111111111111,
              "#46039f"
             ],
             [
              0.2222222222222222,
              "#7201a8"
             ],
             [
              0.3333333333333333,
              "#9c179e"
             ],
             [
              0.4444444444444444,
              "#bd3786"
             ],
             [
              0.5555555555555556,
              "#d8576b"
             ],
             [
              0.6666666666666666,
              "#ed7953"
             ],
             [
              0.7777777777777778,
              "#fb9f3a"
             ],
             [
              0.8888888888888888,
              "#fdca26"
             ],
             [
              1,
              "#f0f921"
             ]
            ],
            "type": "histogram2d"
           }
          ],
          "histogram2dcontour": [
           {
            "colorbar": {
             "outlinewidth": 0,
             "ticks": ""
            },
            "colorscale": [
             [
              0,
              "#0d0887"
             ],
             [
              0.1111111111111111,
              "#46039f"
             ],
             [
              0.2222222222222222,
              "#7201a8"
             ],
             [
              0.3333333333333333,
              "#9c179e"
             ],
             [
              0.4444444444444444,
              "#bd3786"
             ],
             [
              0.5555555555555556,
              "#d8576b"
             ],
             [
              0.6666666666666666,
              "#ed7953"
             ],
             [
              0.7777777777777778,
              "#fb9f3a"
             ],
             [
              0.8888888888888888,
              "#fdca26"
             ],
             [
              1,
              "#f0f921"
             ]
            ],
            "type": "histogram2dcontour"
           }
          ],
          "mesh3d": [
           {
            "colorbar": {
             "outlinewidth": 0,
             "ticks": ""
            },
            "type": "mesh3d"
           }
          ],
          "parcoords": [
           {
            "line": {
             "colorbar": {
              "outlinewidth": 0,
              "ticks": ""
             }
            },
            "type": "parcoords"
           }
          ],
          "pie": [
           {
            "automargin": true,
            "type": "pie"
           }
          ],
          "scatter": [
           {
            "marker": {
             "colorbar": {
              "outlinewidth": 0,
              "ticks": ""
             }
            },
            "type": "scatter"
           }
          ],
          "scatter3d": [
           {
            "line": {
             "colorbar": {
              "outlinewidth": 0,
              "ticks": ""
             }
            },
            "marker": {
             "colorbar": {
              "outlinewidth": 0,
              "ticks": ""
             }
            },
            "type": "scatter3d"
           }
          ],
          "scattercarpet": [
           {
            "marker": {
             "colorbar": {
              "outlinewidth": 0,
              "ticks": ""
             }
            },
            "type": "scattercarpet"
           }
          ],
          "scattergeo": [
           {
            "marker": {
             "colorbar": {
              "outlinewidth": 0,
              "ticks": ""
             }
            },
            "type": "scattergeo"
           }
          ],
          "scattergl": [
           {
            "marker": {
             "colorbar": {
              "outlinewidth": 0,
              "ticks": ""
             }
            },
            "type": "scattergl"
           }
          ],
          "scattermapbox": [
           {
            "marker": {
             "colorbar": {
              "outlinewidth": 0,
              "ticks": ""
             }
            },
            "type": "scattermapbox"
           }
          ],
          "scatterpolar": [
           {
            "marker": {
             "colorbar": {
              "outlinewidth": 0,
              "ticks": ""
             }
            },
            "type": "scatterpolar"
           }
          ],
          "scatterpolargl": [
           {
            "marker": {
             "colorbar": {
              "outlinewidth": 0,
              "ticks": ""
             }
            },
            "type": "scatterpolargl"
           }
          ],
          "scatterternary": [
           {
            "marker": {
             "colorbar": {
              "outlinewidth": 0,
              "ticks": ""
             }
            },
            "type": "scatterternary"
           }
          ],
          "surface": [
           {
            "colorbar": {
             "outlinewidth": 0,
             "ticks": ""
            },
            "colorscale": [
             [
              0,
              "#0d0887"
             ],
             [
              0.1111111111111111,
              "#46039f"
             ],
             [
              0.2222222222222222,
              "#7201a8"
             ],
             [
              0.3333333333333333,
              "#9c179e"
             ],
             [
              0.4444444444444444,
              "#bd3786"
             ],
             [
              0.5555555555555556,
              "#d8576b"
             ],
             [
              0.6666666666666666,
              "#ed7953"
             ],
             [
              0.7777777777777778,
              "#fb9f3a"
             ],
             [
              0.8888888888888888,
              "#fdca26"
             ],
             [
              1,
              "#f0f921"
             ]
            ],
            "type": "surface"
           }
          ],
          "table": [
           {
            "cells": {
             "fill": {
              "color": "#EBF0F8"
             },
             "line": {
              "color": "white"
             }
            },
            "header": {
             "fill": {
              "color": "#C8D4E3"
             },
             "line": {
              "color": "white"
             }
            },
            "type": "table"
           }
          ]
         },
         "layout": {
          "annotationdefaults": {
           "arrowcolor": "#2a3f5f",
           "arrowhead": 0,
           "arrowwidth": 1
          },
          "coloraxis": {
           "colorbar": {
            "outlinewidth": 0,
            "ticks": ""
           }
          },
          "colorscale": {
           "diverging": [
            [
             0,
             "#8e0152"
            ],
            [
             0.1,
             "#c51b7d"
            ],
            [
             0.2,
             "#de77ae"
            ],
            [
             0.3,
             "#f1b6da"
            ],
            [
             0.4,
             "#fde0ef"
            ],
            [
             0.5,
             "#f7f7f7"
            ],
            [
             0.6,
             "#e6f5d0"
            ],
            [
             0.7,
             "#b8e186"
            ],
            [
             0.8,
             "#7fbc41"
            ],
            [
             0.9,
             "#4d9221"
            ],
            [
             1,
             "#276419"
            ]
           ],
           "sequential": [
            [
             0,
             "#0d0887"
            ],
            [
             0.1111111111111111,
             "#46039f"
            ],
            [
             0.2222222222222222,
             "#7201a8"
            ],
            [
             0.3333333333333333,
             "#9c179e"
            ],
            [
             0.4444444444444444,
             "#bd3786"
            ],
            [
             0.5555555555555556,
             "#d8576b"
            ],
            [
             0.6666666666666666,
             "#ed7953"
            ],
            [
             0.7777777777777778,
             "#fb9f3a"
            ],
            [
             0.8888888888888888,
             "#fdca26"
            ],
            [
             1,
             "#f0f921"
            ]
           ],
           "sequentialminus": [
            [
             0,
             "#0d0887"
            ],
            [
             0.1111111111111111,
             "#46039f"
            ],
            [
             0.2222222222222222,
             "#7201a8"
            ],
            [
             0.3333333333333333,
             "#9c179e"
            ],
            [
             0.4444444444444444,
             "#bd3786"
            ],
            [
             0.5555555555555556,
             "#d8576b"
            ],
            [
             0.6666666666666666,
             "#ed7953"
            ],
            [
             0.7777777777777778,
             "#fb9f3a"
            ],
            [
             0.8888888888888888,
             "#fdca26"
            ],
            [
             1,
             "#f0f921"
            ]
           ]
          },
          "colorway": [
           "#636efa",
           "#EF553B",
           "#00cc96",
           "#ab63fa",
           "#FFA15A",
           "#19d3f3",
           "#FF6692",
           "#B6E880",
           "#FF97FF",
           "#FECB52"
          ],
          "font": {
           "color": "#2a3f5f"
          },
          "geo": {
           "bgcolor": "white",
           "lakecolor": "white",
           "landcolor": "#E5ECF6",
           "showlakes": true,
           "showland": true,
           "subunitcolor": "white"
          },
          "hoverlabel": {
           "align": "left"
          },
          "hovermode": "closest",
          "mapbox": {
           "style": "light"
          },
          "paper_bgcolor": "white",
          "plot_bgcolor": "#E5ECF6",
          "polar": {
           "angularaxis": {
            "gridcolor": "white",
            "linecolor": "white",
            "ticks": ""
           },
           "bgcolor": "#E5ECF6",
           "radialaxis": {
            "gridcolor": "white",
            "linecolor": "white",
            "ticks": ""
           }
          },
          "scene": {
           "xaxis": {
            "backgroundcolor": "#E5ECF6",
            "gridcolor": "white",
            "gridwidth": 2,
            "linecolor": "white",
            "showbackground": true,
            "ticks": "",
            "zerolinecolor": "white"
           },
           "yaxis": {
            "backgroundcolor": "#E5ECF6",
            "gridcolor": "white",
            "gridwidth": 2,
            "linecolor": "white",
            "showbackground": true,
            "ticks": "",
            "zerolinecolor": "white"
           },
           "zaxis": {
            "backgroundcolor": "#E5ECF6",
            "gridcolor": "white",
            "gridwidth": 2,
            "linecolor": "white",
            "showbackground": true,
            "ticks": "",
            "zerolinecolor": "white"
           }
          },
          "shapedefaults": {
           "line": {
            "color": "#2a3f5f"
           }
          },
          "ternary": {
           "aaxis": {
            "gridcolor": "white",
            "linecolor": "white",
            "ticks": ""
           },
           "baxis": {
            "gridcolor": "white",
            "linecolor": "white",
            "ticks": ""
           },
           "bgcolor": "#E5ECF6",
           "caxis": {
            "gridcolor": "white",
            "linecolor": "white",
            "ticks": ""
           }
          },
          "title": {
           "x": 0.05
          },
          "xaxis": {
           "automargin": true,
           "gridcolor": "white",
           "linecolor": "white",
           "ticks": "",
           "title": {
            "standoff": 15
           },
           "zerolinecolor": "white",
           "zerolinewidth": 2
          },
          "yaxis": {
           "automargin": true,
           "gridcolor": "white",
           "linecolor": "white",
           "ticks": "",
           "title": {
            "standoff": 15
           },
           "zerolinecolor": "white",
           "zerolinewidth": 2
          }
         }
        },
        "title": {
         "font": {
          "color": "#4D5663"
         }
        },
        "xaxis": {
         "gridcolor": "#E1E5ED",
         "showgrid": true,
         "tickfont": {
          "color": "#4D5663"
         },
         "title": {
          "font": {
           "color": "#4D5663"
          },
          "text": ""
         },
         "zerolinecolor": "#E1E5ED"
        },
        "yaxis": {
         "gridcolor": "#E1E5ED",
         "showgrid": true,
         "tickfont": {
          "color": "#4D5663"
         },
         "title": {
          "font": {
           "color": "#4D5663"
          },
          "text": ""
         },
         "zerolinecolor": "#E1E5ED"
        }
       }
      },
      "text/html": [
       "<div>\n",
       "        \n",
       "        \n",
       "            <div id=\"397068c9-b24d-4a58-933e-b3ec26ac5f48\" class=\"plotly-graph-div\" style=\"height:525px; width:100%;\"></div>\n",
       "            <script type=\"text/javascript\">\n",
       "                require([\"plotly\"], function(Plotly) {\n",
       "                    window.PLOTLYENV=window.PLOTLYENV || {};\n",
       "                    window.PLOTLYENV.BASE_URL='https://plot.ly';\n",
       "                    \n",
       "                if (document.getElementById(\"397068c9-b24d-4a58-933e-b3ec26ac5f48\")) {\n",
       "                    Plotly.newPlot(\n",
       "                        '397068c9-b24d-4a58-933e-b3ec26ac5f48',\n",
       "                        [{\"marker\": {\"color\": [\"rgb(255, 153, 51)\", \"rgb(55, 128, 191)\", \"rgb(50, 171, 96)\", \"rgb(128, 0, 128)\", \"rgb(219, 64, 82)\", \"rgb(0, 128, 128)\", \"rgb(255, 255, 51)\", \"rgb(128, 128, 0)\", \"rgb(251, 128, 114)\", \"rgb(128, 177, 211)\"], \"line\": {\"width\": 1.3}, \"size\": [70, 96, 75, 64, 77, 12, 38, 86, 62, 65, 104, 74, 46, 71, 73, 70, 69, 80, 28, 48, 47, 93, 89, 54, 87, 92, 45, 51, 50, 68, 90, 87, 72, 63, 39, 78, 71, 55, 67, 82, 82, 81, 54, 62, 58, 72, 83, 84, 48, 72, 77, 50, 34, 51, 82, 45, 62, 62, 73, 64, 40, 57, 54, 56, 112, 76, 51, 79, 54, 61, 37, 47, 22, 58, 63, 41, 46, 49, 66, 35, 49, 63, 55, 50, 85, 69, 56, 67, 52, 69, 75, 39, 64, 70, 97, 66, 74, 72, 96, 64], \"symbol\": \"circle\"}, \"mode\": \"markers\", \"text\": \"\", \"type\": \"scatter\", \"x\": [0.3925721259516482, 1.372423172955678, 2.242609686488439, -0.8582063908771425, 0.7608248424673095, 0.7000004474958651, -2.012133152037724, 0.9326208404062066, -0.659318333188724, 1.6928610483674762, -0.6871886678918286, -0.35039380953159355, -0.42079236277313725, 0.8690052189226001, -0.576444210165041, 0.21995333800259842, -0.4444106568943757, -1.1440185333618915, -1.6578956613807303, -0.4101416114246453, -0.8519320305097161, 1.2103242834430672, 0.32015253922147136, -0.10035894535953092, -0.8488192702393195, -0.5572712613655367, -1.0688607093730706, -0.42181977168796303, 0.12733568405289733, -1.0665476173525776, 0.9261690103955689, -1.9549129649944113, -1.0277111422245617, -0.38799086170382646, 1.1509943645776262, -1.745769144522121, 1.2130978831137753, -0.6425110489904321, -0.57978668657439, 1.0712439163287628, -0.9234875765962591, 2.961687683445264, -0.8009271101769784, -0.6562531660019234, -0.27821128532982536, -1.2066325053881286, 3.292598801986526, -1.543892912424364, 0.5426822404287032, 0.6393413189471646, -0.429902886768494, -0.9816502324772437, 0.04303598600358611, -1.167434040446578, 0.7324805559746674, 0.8864020652679193, 0.5228613497547522, -1.1582437180761456, 0.8668597258010465, -1.124040455883926, 1.8000496709282203, 0.8645540802609497, -1.1773722266718076, -0.13804095883041229, -0.6407571208877594, -0.4281134664922928, -1.0138183021796128, -1.3585492226847056, -0.858301495895222, -0.08680224327455878, -0.9429499025251274, -0.516543913855966, -1.9085819167197682, -0.3047314446803455, -0.8469563304785783, 1.6986622415450738, 0.4788801048455923, 0.8165342542226821, 0.2712567992995717, -1.7066836444868176, -0.41177484570153433, 3.4776607657004988, -2.834396666032772, -0.7774122936937027, 1.7045043869532526, -0.06080095132088235, -0.76980795302438, -1.0415010013073016, 0.5224033425902554, 0.8532714130883641, 0.5484720112680194, 0.3391173259213127, -1.5739514633185079, 0.5619600984821377, -0.5983771760743023, 1.1075742347923272, -1.6666578332055928, -0.3778299507535159, -0.6830647528616767, 0.41404579007455566], \"y\": [-0.18562897664789632, 0.2814946331226841, -0.5611496729894913, -0.4024455177000891, -0.5067484326841816, -0.5046831255213409, 0.3071138555381204, 0.5235719311401476, 0.1689123266002498, -0.648541330346596, -0.2781926966218052, 0.5674683584811326, 0.46108742396861463, 0.4081857886915297, 0.8856809194878353, 0.8230987593991649, -0.39330647758921633, 0.3233245409289331, -0.6207219618976456, -2.398805095729414, 1.1216956439427725, -0.5863344522457911, 0.5607494682257044, 0.10914101529479345, -0.10621089901970976, -0.4309016156343589, -0.41156421677297167, -0.11563017368980043, -2.036410216502865, -0.3110822648687047, 0.4256721368775975, -0.7804317607711396, 1.3742457362160845, 1.5447331731436296, -0.7250748089914916, 0.24929992571674361, -1.7794793815328092, 0.24138473009400277, -1.2034168942707761, 1.0414639210199483, -0.5670377462359961, -0.21270823704091296, -0.685999635317336, 1.1247530050048336, 1.188669271627665, -1.8444053144861277, -0.48683583832976574, -1.4150671526928436, -0.7958340475909478, 0.08001675426748367, -0.7821642717145418, -0.5779608466326287, 0.7616839022768124, 0.5873755367983575, 0.7997869163737407, 0.9558533340809422, -0.9061367977781155, -0.43578105334829365, -0.21657032067850326, -0.7972237736675932, 0.5467520310235533, -0.05996238706349433, -1.3103756836643208, -1.2984105754608068, -1.08278714497136, -0.067375476395044, -0.2012741546557389, 0.7301998783153228, 0.7860790647665244, 1.2748168237130528, -0.15838584047247817, -0.7367956174793401, 0.17381865974815355, -0.608882127348547, 0.019790573117705768, -0.5581866426850328, 0.37207449041564766, 2.433253765776426, -0.2519215314634941, 0.7858365678345681, 0.5594533930884258, 0.21976613500776326, -0.6254685895049678, -0.6561891284929092, 2.1213683420326332, 0.12457784109751802, -0.14382087113095818, 0.4394487501767444, -0.744337348321256, -0.3777265856290238, 0.8070672733664923, -0.24328759151350107, -1.7140416474135354, -1.5670830508801825, 1.8234229094828922, 0.5031344290993308, -1.366297613187657, 1.0133773132755128, -0.28092282255864715, -0.16105588035881507]}],\n",
       "                        {\"legend\": {\"bgcolor\": \"#F5F6F9\", \"font\": {\"color\": \"#4D5663\"}}, \"paper_bgcolor\": \"#F5F6F9\", \"plot_bgcolor\": \"#F5F6F9\", \"template\": {\"data\": {\"bar\": [{\"error_x\": {\"color\": \"#2a3f5f\"}, \"error_y\": {\"color\": \"#2a3f5f\"}, \"marker\": {\"line\": {\"color\": \"#E5ECF6\", \"width\": 0.5}}, \"type\": \"bar\"}], \"barpolar\": [{\"marker\": {\"line\": {\"color\": \"#E5ECF6\", \"width\": 0.5}}, \"type\": \"barpolar\"}], \"carpet\": [{\"aaxis\": {\"endlinecolor\": \"#2a3f5f\", \"gridcolor\": \"white\", \"linecolor\": \"white\", \"minorgridcolor\": \"white\", \"startlinecolor\": \"#2a3f5f\"}, \"baxis\": {\"endlinecolor\": \"#2a3f5f\", \"gridcolor\": \"white\", \"linecolor\": \"white\", \"minorgridcolor\": \"white\", \"startlinecolor\": \"#2a3f5f\"}, \"type\": \"carpet\"}], \"choropleth\": [{\"colorbar\": {\"outlinewidth\": 0, \"ticks\": \"\"}, \"type\": \"choropleth\"}], \"contour\": [{\"colorbar\": {\"outlinewidth\": 0, \"ticks\": \"\"}, \"colorscale\": [[0.0, \"#0d0887\"], [0.1111111111111111, \"#46039f\"], [0.2222222222222222, \"#7201a8\"], [0.3333333333333333, \"#9c179e\"], [0.4444444444444444, \"#bd3786\"], [0.5555555555555556, \"#d8576b\"], [0.6666666666666666, \"#ed7953\"], [0.7777777777777778, \"#fb9f3a\"], [0.8888888888888888, \"#fdca26\"], [1.0, \"#f0f921\"]], \"type\": \"contour\"}], \"contourcarpet\": [{\"colorbar\": {\"outlinewidth\": 0, \"ticks\": \"\"}, \"type\": \"contourcarpet\"}], \"heatmap\": [{\"colorbar\": {\"outlinewidth\": 0, \"ticks\": \"\"}, \"colorscale\": [[0.0, \"#0d0887\"], [0.1111111111111111, \"#46039f\"], [0.2222222222222222, \"#7201a8\"], [0.3333333333333333, \"#9c179e\"], [0.4444444444444444, \"#bd3786\"], [0.5555555555555556, \"#d8576b\"], [0.6666666666666666, \"#ed7953\"], [0.7777777777777778, \"#fb9f3a\"], [0.8888888888888888, \"#fdca26\"], [1.0, \"#f0f921\"]], \"type\": \"heatmap\"}], \"heatmapgl\": [{\"colorbar\": {\"outlinewidth\": 0, \"ticks\": \"\"}, \"colorscale\": [[0.0, \"#0d0887\"], [0.1111111111111111, \"#46039f\"], [0.2222222222222222, \"#7201a8\"], [0.3333333333333333, \"#9c179e\"], [0.4444444444444444, \"#bd3786\"], [0.5555555555555556, \"#d8576b\"], [0.6666666666666666, \"#ed7953\"], [0.7777777777777778, \"#fb9f3a\"], [0.8888888888888888, \"#fdca26\"], [1.0, \"#f0f921\"]], \"type\": \"heatmapgl\"}], \"histogram\": [{\"marker\": {\"colorbar\": {\"outlinewidth\": 0, \"ticks\": \"\"}}, \"type\": \"histogram\"}], \"histogram2d\": [{\"colorbar\": {\"outlinewidth\": 0, \"ticks\": \"\"}, \"colorscale\": [[0.0, \"#0d0887\"], [0.1111111111111111, \"#46039f\"], [0.2222222222222222, \"#7201a8\"], [0.3333333333333333, \"#9c179e\"], [0.4444444444444444, \"#bd3786\"], [0.5555555555555556, \"#d8576b\"], [0.6666666666666666, \"#ed7953\"], [0.7777777777777778, \"#fb9f3a\"], [0.8888888888888888, \"#fdca26\"], [1.0, \"#f0f921\"]], \"type\": \"histogram2d\"}], \"histogram2dcontour\": [{\"colorbar\": {\"outlinewidth\": 0, \"ticks\": \"\"}, \"colorscale\": [[0.0, \"#0d0887\"], [0.1111111111111111, \"#46039f\"], [0.2222222222222222, \"#7201a8\"], [0.3333333333333333, \"#9c179e\"], [0.4444444444444444, \"#bd3786\"], [0.5555555555555556, \"#d8576b\"], [0.6666666666666666, \"#ed7953\"], [0.7777777777777778, \"#fb9f3a\"], [0.8888888888888888, \"#fdca26\"], [1.0, \"#f0f921\"]], \"type\": \"histogram2dcontour\"}], \"mesh3d\": [{\"colorbar\": {\"outlinewidth\": 0, \"ticks\": \"\"}, \"type\": \"mesh3d\"}], \"parcoords\": [{\"line\": {\"colorbar\": {\"outlinewidth\": 0, \"ticks\": \"\"}}, \"type\": \"parcoords\"}], \"pie\": [{\"automargin\": true, \"type\": \"pie\"}], \"scatter\": [{\"marker\": {\"colorbar\": {\"outlinewidth\": 0, \"ticks\": \"\"}}, \"type\": \"scatter\"}], \"scatter3d\": [{\"line\": {\"colorbar\": {\"outlinewidth\": 0, \"ticks\": \"\"}}, \"marker\": {\"colorbar\": {\"outlinewidth\": 0, \"ticks\": \"\"}}, \"type\": \"scatter3d\"}], \"scattercarpet\": [{\"marker\": {\"colorbar\": {\"outlinewidth\": 0, \"ticks\": \"\"}}, \"type\": \"scattercarpet\"}], \"scattergeo\": [{\"marker\": {\"colorbar\": {\"outlinewidth\": 0, \"ticks\": \"\"}}, \"type\": \"scattergeo\"}], \"scattergl\": [{\"marker\": {\"colorbar\": {\"outlinewidth\": 0, \"ticks\": \"\"}}, \"type\": \"scattergl\"}], \"scattermapbox\": [{\"marker\": {\"colorbar\": {\"outlinewidth\": 0, \"ticks\": \"\"}}, \"type\": \"scattermapbox\"}], \"scatterpolar\": [{\"marker\": {\"colorbar\": {\"outlinewidth\": 0, \"ticks\": \"\"}}, \"type\": \"scatterpolar\"}], \"scatterpolargl\": [{\"marker\": {\"colorbar\": {\"outlinewidth\": 0, \"ticks\": \"\"}}, \"type\": \"scatterpolargl\"}], \"scatterternary\": [{\"marker\": {\"colorbar\": {\"outlinewidth\": 0, \"ticks\": \"\"}}, \"type\": \"scatterternary\"}], \"surface\": [{\"colorbar\": {\"outlinewidth\": 0, \"ticks\": \"\"}, \"colorscale\": [[0.0, \"#0d0887\"], [0.1111111111111111, \"#46039f\"], [0.2222222222222222, \"#7201a8\"], [0.3333333333333333, \"#9c179e\"], [0.4444444444444444, \"#bd3786\"], [0.5555555555555556, \"#d8576b\"], [0.6666666666666666, \"#ed7953\"], [0.7777777777777778, \"#fb9f3a\"], [0.8888888888888888, \"#fdca26\"], [1.0, \"#f0f921\"]], \"type\": \"surface\"}], \"table\": [{\"cells\": {\"fill\": {\"color\": \"#EBF0F8\"}, \"line\": {\"color\": \"white\"}}, \"header\": {\"fill\": {\"color\": \"#C8D4E3\"}, \"line\": {\"color\": \"white\"}}, \"type\": \"table\"}]}, \"layout\": {\"annotationdefaults\": {\"arrowcolor\": \"#2a3f5f\", \"arrowhead\": 0, \"arrowwidth\": 1}, \"coloraxis\": {\"colorbar\": {\"outlinewidth\": 0, \"ticks\": \"\"}}, \"colorscale\": {\"diverging\": [[0, \"#8e0152\"], [0.1, \"#c51b7d\"], [0.2, \"#de77ae\"], [0.3, \"#f1b6da\"], [0.4, \"#fde0ef\"], [0.5, \"#f7f7f7\"], [0.6, \"#e6f5d0\"], [0.7, \"#b8e186\"], [0.8, \"#7fbc41\"], [0.9, \"#4d9221\"], [1, \"#276419\"]], \"sequential\": [[0.0, \"#0d0887\"], [0.1111111111111111, \"#46039f\"], [0.2222222222222222, \"#7201a8\"], [0.3333333333333333, \"#9c179e\"], [0.4444444444444444, \"#bd3786\"], [0.5555555555555556, \"#d8576b\"], [0.6666666666666666, \"#ed7953\"], [0.7777777777777778, \"#fb9f3a\"], [0.8888888888888888, \"#fdca26\"], [1.0, \"#f0f921\"]], \"sequentialminus\": [[0.0, \"#0d0887\"], [0.1111111111111111, \"#46039f\"], [0.2222222222222222, \"#7201a8\"], [0.3333333333333333, \"#9c179e\"], [0.4444444444444444, \"#bd3786\"], [0.5555555555555556, \"#d8576b\"], [0.6666666666666666, \"#ed7953\"], [0.7777777777777778, \"#fb9f3a\"], [0.8888888888888888, \"#fdca26\"], [1.0, \"#f0f921\"]]}, \"colorway\": [\"#636efa\", \"#EF553B\", \"#00cc96\", \"#ab63fa\", \"#FFA15A\", \"#19d3f3\", \"#FF6692\", \"#B6E880\", \"#FF97FF\", \"#FECB52\"], \"font\": {\"color\": \"#2a3f5f\"}, \"geo\": {\"bgcolor\": \"white\", \"lakecolor\": \"white\", \"landcolor\": \"#E5ECF6\", \"showlakes\": true, \"showland\": true, \"subunitcolor\": \"white\"}, \"hoverlabel\": {\"align\": \"left\"}, \"hovermode\": \"closest\", \"mapbox\": {\"style\": \"light\"}, \"paper_bgcolor\": \"white\", \"plot_bgcolor\": \"#E5ECF6\", \"polar\": {\"angularaxis\": {\"gridcolor\": \"white\", \"linecolor\": \"white\", \"ticks\": \"\"}, \"bgcolor\": \"#E5ECF6\", \"radialaxis\": {\"gridcolor\": \"white\", \"linecolor\": \"white\", \"ticks\": \"\"}}, \"scene\": {\"xaxis\": {\"backgroundcolor\": \"#E5ECF6\", \"gridcolor\": \"white\", \"gridwidth\": 2, \"linecolor\": \"white\", \"showbackground\": true, \"ticks\": \"\", \"zerolinecolor\": \"white\"}, \"yaxis\": {\"backgroundcolor\": \"#E5ECF6\", \"gridcolor\": \"white\", \"gridwidth\": 2, \"linecolor\": \"white\", \"showbackground\": true, \"ticks\": \"\", \"zerolinecolor\": \"white\"}, \"zaxis\": {\"backgroundcolor\": \"#E5ECF6\", \"gridcolor\": \"white\", \"gridwidth\": 2, \"linecolor\": \"white\", \"showbackground\": true, \"ticks\": \"\", \"zerolinecolor\": \"white\"}}, \"shapedefaults\": {\"line\": {\"color\": \"#2a3f5f\"}}, \"ternary\": {\"aaxis\": {\"gridcolor\": \"white\", \"linecolor\": \"white\", \"ticks\": \"\"}, \"baxis\": {\"gridcolor\": \"white\", \"linecolor\": \"white\", \"ticks\": \"\"}, \"bgcolor\": \"#E5ECF6\", \"caxis\": {\"gridcolor\": \"white\", \"linecolor\": \"white\", \"ticks\": \"\"}}, \"title\": {\"x\": 0.05}, \"xaxis\": {\"automargin\": true, \"gridcolor\": \"white\", \"linecolor\": \"white\", \"ticks\": \"\", \"title\": {\"standoff\": 15}, \"zerolinecolor\": \"white\", \"zerolinewidth\": 2}, \"yaxis\": {\"automargin\": true, \"gridcolor\": \"white\", \"linecolor\": \"white\", \"ticks\": \"\", \"title\": {\"standoff\": 15}, \"zerolinecolor\": \"white\", \"zerolinewidth\": 2}}}, \"title\": {\"font\": {\"color\": \"#4D5663\"}}, \"xaxis\": {\"gridcolor\": \"#E1E5ED\", \"showgrid\": true, \"tickfont\": {\"color\": \"#4D5663\"}, \"title\": {\"font\": {\"color\": \"#4D5663\"}, \"text\": \"\"}, \"zerolinecolor\": \"#E1E5ED\"}, \"yaxis\": {\"gridcolor\": \"#E1E5ED\", \"showgrid\": true, \"tickfont\": {\"color\": \"#4D5663\"}, \"title\": {\"font\": {\"color\": \"#4D5663\"}, \"text\": \"\"}, \"zerolinecolor\": \"#E1E5ED\"}},\n",
       "                        {\"showLink\": true, \"linkText\": \"Export to plot.ly\", \"plotlyServerURL\": \"https://plot.ly\", \"responsive\": true}\n",
       "                    ).then(function(){\n",
       "                            \n",
       "var gd = document.getElementById('397068c9-b24d-4a58-933e-b3ec26ac5f48');\n",
       "var x = new MutationObserver(function (mutations, observer) {{\n",
       "        var display = window.getComputedStyle(gd).display;\n",
       "        if (!display || display === 'none') {{\n",
       "            console.log([gd, 'removed!']);\n",
       "            Plotly.purge(gd);\n",
       "            observer.disconnect();\n",
       "        }}\n",
       "}});\n",
       "\n",
       "// Listen for the removal of the full notebook cells\n",
       "var notebookContainer = gd.closest('#notebook-container');\n",
       "if (notebookContainer) {{\n",
       "    x.observe(notebookContainer, {childList: true});\n",
       "}}\n",
       "\n",
       "// Listen for the clearing of the current output cell\n",
       "var outputEl = gd.closest('.output');\n",
       "if (outputEl) {{\n",
       "    x.observe(outputEl, {childList: true});\n",
       "}}\n",
       "\n",
       "                        })\n",
       "                };\n",
       "                });\n",
       "            </script>\n",
       "        </div>"
      ]
     },
     "metadata": {},
     "output_type": "display_data"
    }
   ],
   "source": [
    "df.iplot(kind='bubble',x='A',y='B',size='C')"
   ]
  },
  {
   "cell_type": "markdown",
   "metadata": {},
   "source": [
    "## scatter_matrix()\n",
    "\n",
    "Similar to sns.pairplot()"
   ]
  },
  {
   "cell_type": "code",
   "execution_count": 20,
   "metadata": {},
   "outputs": [
    {
     "data": {
      "application/vnd.plotly.v1+json": {
       "config": {
        "linkText": "Export to plot.ly",
        "plotlyServerURL": "https://plot.ly",
        "showLink": true
       },
       "data": [
        {
         "histfunc": "count",
         "histnorm": "",
         "marker": {
          "color": "rgba(255, 153, 51, 1.0)",
          "line": {
           "color": "#4D5663",
           "width": 1.3
          }
         },
         "name": "A",
         "nbinsx": 10,
         "opacity": 0.8,
         "orientation": "v",
         "type": "histogram",
         "x": [
          0.3925721259516482,
          1.372423172955678,
          2.242609686488439,
          -0.8582063908771425,
          0.7608248424673095,
          0.7000004474958651,
          -2.012133152037724,
          0.9326208404062066,
          -0.659318333188724,
          1.6928610483674762,
          -0.6871886678918286,
          -0.35039380953159355,
          -0.42079236277313725,
          0.8690052189226001,
          -0.576444210165041,
          0.21995333800259842,
          -0.4444106568943757,
          -1.1440185333618915,
          -1.6578956613807303,
          -0.4101416114246453,
          -0.8519320305097161,
          1.2103242834430672,
          0.32015253922147136,
          -0.10035894535953092,
          -0.8488192702393195,
          -0.5572712613655367,
          -1.0688607093730706,
          -0.42181977168796303,
          0.12733568405289733,
          -1.0665476173525776,
          0.9261690103955689,
          -1.9549129649944113,
          -1.0277111422245617,
          -0.38799086170382646,
          1.1509943645776262,
          -1.745769144522121,
          1.2130978831137753,
          -0.6425110489904321,
          -0.57978668657439,
          1.0712439163287628,
          -0.9234875765962591,
          2.961687683445264,
          -0.8009271101769784,
          -0.6562531660019234,
          -0.27821128532982536,
          -1.2066325053881286,
          3.292598801986526,
          -1.543892912424364,
          0.5426822404287032,
          0.6393413189471646,
          -0.429902886768494,
          -0.9816502324772437,
          0.04303598600358611,
          -1.167434040446578,
          0.7324805559746674,
          0.8864020652679193,
          0.5228613497547522,
          -1.1582437180761456,
          0.8668597258010465,
          -1.124040455883926,
          1.8000496709282203,
          0.8645540802609497,
          -1.1773722266718076,
          -0.13804095883041229,
          -0.6407571208877594,
          -0.4281134664922928,
          -1.0138183021796128,
          -1.3585492226847056,
          -0.858301495895222,
          -0.08680224327455878,
          -0.9429499025251274,
          -0.516543913855966,
          -1.9085819167197682,
          -0.3047314446803455,
          -0.8469563304785783,
          1.6986622415450738,
          0.4788801048455923,
          0.8165342542226821,
          0.2712567992995717,
          -1.7066836444868176,
          -0.41177484570153433,
          3.4776607657004988,
          -2.834396666032772,
          -0.7774122936937027,
          1.7045043869532526,
          -0.06080095132088235,
          -0.76980795302438,
          -1.0415010013073016,
          0.5224033425902554,
          0.8532714130883641,
          0.5484720112680194,
          0.3391173259213127,
          -1.5739514633185079,
          0.5619600984821377,
          -0.5983771760743023,
          1.1075742347923272,
          -1.6666578332055928,
          -0.3778299507535159,
          -0.6830647528616767,
          0.41404579007455566
         ],
         "xaxis": "x",
         "yaxis": "y"
        },
        {
         "line": {
          "color": "rgba(128, 128, 128, 1.0)",
          "dash": "solid",
          "shape": "linear",
          "width": 1.3
         },
         "marker": {
          "size": 2,
          "symbol": "circle"
         },
         "mode": "markers",
         "name": "A",
         "text": "",
         "type": "scatter",
         "x": [
          -0.18562897664789632,
          0.2814946331226841,
          -0.5611496729894913,
          -0.4024455177000891,
          -0.5067484326841816,
          -0.5046831255213409,
          0.3071138555381204,
          0.5235719311401476,
          0.1689123266002498,
          -0.648541330346596,
          -0.2781926966218052,
          0.5674683584811326,
          0.46108742396861463,
          0.4081857886915297,
          0.8856809194878353,
          0.8230987593991649,
          -0.39330647758921633,
          0.3233245409289331,
          -0.6207219618976456,
          -2.398805095729414,
          1.1216956439427725,
          -0.5863344522457911,
          0.5607494682257044,
          0.10914101529479345,
          -0.10621089901970976,
          -0.4309016156343589,
          -0.41156421677297167,
          -0.11563017368980043,
          -2.036410216502865,
          -0.3110822648687047,
          0.4256721368775975,
          -0.7804317607711396,
          1.3742457362160845,
          1.5447331731436296,
          -0.7250748089914916,
          0.24929992571674361,
          -1.7794793815328092,
          0.24138473009400277,
          -1.2034168942707761,
          1.0414639210199483,
          -0.5670377462359961,
          -0.21270823704091296,
          -0.685999635317336,
          1.1247530050048336,
          1.188669271627665,
          -1.8444053144861277,
          -0.48683583832976574,
          -1.4150671526928436,
          -0.7958340475909478,
          0.08001675426748367,
          -0.7821642717145418,
          -0.5779608466326287,
          0.7616839022768124,
          0.5873755367983575,
          0.7997869163737407,
          0.9558533340809422,
          -0.9061367977781155,
          -0.43578105334829365,
          -0.21657032067850326,
          -0.7972237736675932,
          0.5467520310235533,
          -0.05996238706349433,
          -1.3103756836643208,
          -1.2984105754608068,
          -1.08278714497136,
          -0.067375476395044,
          -0.2012741546557389,
          0.7301998783153228,
          0.7860790647665244,
          1.2748168237130528,
          -0.15838584047247817,
          -0.7367956174793401,
          0.17381865974815355,
          -0.608882127348547,
          0.019790573117705768,
          -0.5581866426850328,
          0.37207449041564766,
          2.433253765776426,
          -0.2519215314634941,
          0.7858365678345681,
          0.5594533930884258,
          0.21976613500776326,
          -0.6254685895049678,
          -0.6561891284929092,
          2.1213683420326332,
          0.12457784109751802,
          -0.14382087113095818,
          0.4394487501767444,
          -0.744337348321256,
          -0.3777265856290238,
          0.8070672733664923,
          -0.24328759151350107,
          -1.7140416474135354,
          -1.5670830508801825,
          1.8234229094828922,
          0.5031344290993308,
          -1.366297613187657,
          1.0133773132755128,
          -0.28092282255864715,
          -0.16105588035881507
         ],
         "xaxis": "x2",
         "y": [
          0.3925721259516482,
          1.372423172955678,
          2.242609686488439,
          -0.8582063908771425,
          0.7608248424673095,
          0.7000004474958651,
          -2.012133152037724,
          0.9326208404062066,
          -0.659318333188724,
          1.6928610483674762,
          -0.6871886678918286,
          -0.35039380953159355,
          -0.42079236277313725,
          0.8690052189226001,
          -0.576444210165041,
          0.21995333800259842,
          -0.4444106568943757,
          -1.1440185333618915,
          -1.6578956613807303,
          -0.4101416114246453,
          -0.8519320305097161,
          1.2103242834430672,
          0.32015253922147136,
          -0.10035894535953092,
          -0.8488192702393195,
          -0.5572712613655367,
          -1.0688607093730706,
          -0.42181977168796303,
          0.12733568405289733,
          -1.0665476173525776,
          0.9261690103955689,
          -1.9549129649944113,
          -1.0277111422245617,
          -0.38799086170382646,
          1.1509943645776262,
          -1.745769144522121,
          1.2130978831137753,
          -0.6425110489904321,
          -0.57978668657439,
          1.0712439163287628,
          -0.9234875765962591,
          2.961687683445264,
          -0.8009271101769784,
          -0.6562531660019234,
          -0.27821128532982536,
          -1.2066325053881286,
          3.292598801986526,
          -1.543892912424364,
          0.5426822404287032,
          0.6393413189471646,
          -0.429902886768494,
          -0.9816502324772437,
          0.04303598600358611,
          -1.167434040446578,
          0.7324805559746674,
          0.8864020652679193,
          0.5228613497547522,
          -1.1582437180761456,
          0.8668597258010465,
          -1.124040455883926,
          1.8000496709282203,
          0.8645540802609497,
          -1.1773722266718076,
          -0.13804095883041229,
          -0.6407571208877594,
          -0.4281134664922928,
          -1.0138183021796128,
          -1.3585492226847056,
          -0.858301495895222,
          -0.08680224327455878,
          -0.9429499025251274,
          -0.516543913855966,
          -1.9085819167197682,
          -0.3047314446803455,
          -0.8469563304785783,
          1.6986622415450738,
          0.4788801048455923,
          0.8165342542226821,
          0.2712567992995717,
          -1.7066836444868176,
          -0.41177484570153433,
          3.4776607657004988,
          -2.834396666032772,
          -0.7774122936937027,
          1.7045043869532526,
          -0.06080095132088235,
          -0.76980795302438,
          -1.0415010013073016,
          0.5224033425902554,
          0.8532714130883641,
          0.5484720112680194,
          0.3391173259213127,
          -1.5739514633185079,
          0.5619600984821377,
          -0.5983771760743023,
          1.1075742347923272,
          -1.6666578332055928,
          -0.3778299507535159,
          -0.6830647528616767,
          0.41404579007455566
         ],
         "yaxis": "y2"
        },
        {
         "line": {
          "color": "rgba(128, 128, 128, 1.0)",
          "dash": "solid",
          "shape": "linear",
          "width": 1.3
         },
         "marker": {
          "size": 2,
          "symbol": "circle"
         },
         "mode": "markers",
         "name": "A",
         "text": "",
         "type": "scatter",
         "x": [
          0.28441655846283115,
          1.6861245389387827,
          0.5649320226659227,
          -0.006992281741640265,
          0.6950104350820111,
          -2.782161294185466,
          -1.3929262166412348,
          1.1466427563740487,
          -0.1262468085370894,
          0.027610312707100796,
          2.0993419772076924,
          0.5464592496207633,
          -0.9650485066377515,
          0.350095797866304,
          0.4464205586893242,
          0.32543348059825544,
          0.24250264612773229,
          0.8134327473763154,
          -1.9221574660590977,
          -0.8515636634477415,
          -0.8859644188452906,
          1.5164945643863925,
          1.3057008239245025,
          -0.5341448824517766,
          1.2114568933445147,
          1.4805686765043942,
          -0.9903060622368212,
          -0.7111921334234341,
          -0.7705832241561541,
          0.1807635333209304,
          1.3867801276386518,
          1.2096172921326662,
          0.41417152434287813,
          -0.0754038199458381,
          -1.3353939930941396,
          0.7450243963561473,
          0.364376944348029,
          -0.46849590462886515,
          0.13246878845688012,
          0.9382466543882401,
          0.9631623571438938,
          0.8678278660229487,
          -0.5112000717690514,
          -0.10330510133411867,
          -0.34431945483637544,
          0.4260507406404684,
          1.0057291196151519,
          1.0365172878615823,
          -0.8291370209200336,
          0.4377030649632805,
          0.7017745010682606,
          -0.7673762052874429,
          -1.5952663531267484,
          -0.6793902349244565,
          0.9382454148586494,
          -1.0031684970768282,
          -0.12622705458301473,
          -0.1028625649307537,
          0.45233888419194995,
          -0.008531419431794739,
          -1.2938012749019887,
          -0.37763963492557423,
          -0.5552276038742345,
          -0.43686967873256866,
          2.5023643713562427,
          0.6273843535101066,
          -0.6921376835637734,
          0.7657233099148385,
          -0.5140437049580203,
          -0.14935928451238165,
          -1.4178162750954013,
          -0.911541945468432,
          -2.2484151726652053,
          -0.3272244929529284,
          -0.06031464011966538,
          -1.2198525633118895,
          -0.9665382189960053,
          -0.8030204857611252,
          0.09008886334577865,
          -1.5179371449807757,
          -0.7898385578973032,
          -0.0758686468454915,
          -0.49709787644938114,
          -0.7393226842199646,
          1.1175234017610933,
          0.25092684424139433,
          -0.4132636485268327,
          0.16020492569879421,
          -0.626302528337445,
          0.23902815107320322,
          0.5733871642928374,
          -1.3476994945261318,
          0.017341930072027993,
          0.32956392990260047,
          1.7254936465727004,
          0.0815643997667831,
          0.5266073855612576,
          0.40311575029138064,
          1.6872933351292154,
          -0.0014924123917553528
         ],
         "xaxis": "x3",
         "y": [
          0.3925721259516482,
          1.372423172955678,
          2.242609686488439,
          -0.8582063908771425,
          0.7608248424673095,
          0.7000004474958651,
          -2.012133152037724,
          0.9326208404062066,
          -0.659318333188724,
          1.6928610483674762,
          -0.6871886678918286,
          -0.35039380953159355,
          -0.42079236277313725,
          0.8690052189226001,
          -0.576444210165041,
          0.21995333800259842,
          -0.4444106568943757,
          -1.1440185333618915,
          -1.6578956613807303,
          -0.4101416114246453,
          -0.8519320305097161,
          1.2103242834430672,
          0.32015253922147136,
          -0.10035894535953092,
          -0.8488192702393195,
          -0.5572712613655367,
          -1.0688607093730706,
          -0.42181977168796303,
          0.12733568405289733,
          -1.0665476173525776,
          0.9261690103955689,
          -1.9549129649944113,
          -1.0277111422245617,
          -0.38799086170382646,
          1.1509943645776262,
          -1.745769144522121,
          1.2130978831137753,
          -0.6425110489904321,
          -0.57978668657439,
          1.0712439163287628,
          -0.9234875765962591,
          2.961687683445264,
          -0.8009271101769784,
          -0.6562531660019234,
          -0.27821128532982536,
          -1.2066325053881286,
          3.292598801986526,
          -1.543892912424364,
          0.5426822404287032,
          0.6393413189471646,
          -0.429902886768494,
          -0.9816502324772437,
          0.04303598600358611,
          -1.167434040446578,
          0.7324805559746674,
          0.8864020652679193,
          0.5228613497547522,
          -1.1582437180761456,
          0.8668597258010465,
          -1.124040455883926,
          1.8000496709282203,
          0.8645540802609497,
          -1.1773722266718076,
          -0.13804095883041229,
          -0.6407571208877594,
          -0.4281134664922928,
          -1.0138183021796128,
          -1.3585492226847056,
          -0.858301495895222,
          -0.08680224327455878,
          -0.9429499025251274,
          -0.516543913855966,
          -1.9085819167197682,
          -0.3047314446803455,
          -0.8469563304785783,
          1.6986622415450738,
          0.4788801048455923,
          0.8165342542226821,
          0.2712567992995717,
          -1.7066836444868176,
          -0.41177484570153433,
          3.4776607657004988,
          -2.834396666032772,
          -0.7774122936937027,
          1.7045043869532526,
          -0.06080095132088235,
          -0.76980795302438,
          -1.0415010013073016,
          0.5224033425902554,
          0.8532714130883641,
          0.5484720112680194,
          0.3391173259213127,
          -1.5739514633185079,
          0.5619600984821377,
          -0.5983771760743023,
          1.1075742347923272,
          -1.6666578332055928,
          -0.3778299507535159,
          -0.6830647528616767,
          0.41404579007455566
         ],
         "yaxis": "y3"
        },
        {
         "line": {
          "color": "rgba(128, 128, 128, 1.0)",
          "dash": "solid",
          "shape": "linear",
          "width": 1.3
         },
         "marker": {
          "size": 2,
          "symbol": "circle"
         },
         "mode": "markers",
         "name": "A",
         "text": "",
         "type": "scatter",
         "x": [
          -0.6948506396980108,
          -0.6666428538904786,
          0.10977248148330632,
          -0.34507063852421277,
          0.5644738826580985,
          0.23698645675986882,
          -0.27566335461447067,
          0.9984136711746818,
          -0.35453953436057145,
          -0.7590677342876666,
          1.0954715281036402,
          0.4432431120527865,
          -1.2507109626191366,
          0.9712441680171693,
          0.013203357152381795,
          0.18807930342327556,
          -2.4244030669480163,
          0.19642096604822498,
          0.4644164832119015,
          1.2589962842989606,
          -0.47824746769953363,
          0.4744862784598353,
          1.3118766204574364,
          -0.8680136931356329,
          -0.10129756529911702,
          0.4689138437974007,
          -1.5339069602700537,
          -0.10846820881083391,
          0.6908985750185441,
          0.18350135082338448,
          -0.5914853780307834,
          -0.9537198471375213,
          0.5703344039692307,
          1.429865002978377,
          0.5519913738620827,
          0.993412636271246,
          0.034469811988359855,
          -0.7472496880871153,
          1.4996124512981646,
          -0.4946386379145436,
          1.0399840670841098,
          0.12271290218834982,
          0.03910713883627607,
          1.5392891439270928,
          -0.5321486686255733,
          -0.7709776809477752,
          0.4228444336143023,
          0.4702867223000906,
          0.4682790545334142,
          -0.318220551982597,
          -0.638691919721894,
          0.1338412858354175,
          -0.8153205614533109,
          0.3567584183573207,
          0.1176061105063393,
          0.4441722883986997,
          1.000172564994546,
          1.2737790335626429,
          -1.0390421978667987,
          -1.2390043917953708,
          0.4672069481240647,
          1.7014753136623637,
          -0.5279990223802564,
          -0.39162490382241943,
          -0.23550259779516858,
          0.2913840379119788,
          -0.23528362452735238,
          0.41712929386903885,
          -0.8393462438785326,
          0.45414655173794455,
          0.3295495327747455,
          -0.4178229756531817,
          -0.7185662761449305,
          0.2547080145281705,
          -0.7800799954343723,
          1.6208908197100877,
          -0.12472366532659815,
          1.3768125427026123,
          0.025633067041241596,
          1.2014509834321612,
          0.5597559903640666,
          0.20773867581652714,
          -0.6946381185103704,
          0.3079191077548796,
          -0.3308755186198372,
          -0.14041599548525413,
          -1.8625381720460532,
          0.9997300943289195,
          0.7919825195272278,
          -0.554200154872438,
          0.30411179171190633,
          -0.2637799068113172,
          -1.105590430637276,
          -0.29296374986869805,
          0.7171759251788568,
          1.0201142495169346,
          -0.7232117317655378,
          1.2180757428969105,
          -0.4587277173521224,
          0.7357053360469868
         ],
         "xaxis": "x4",
         "y": [
          0.3925721259516482,
          1.372423172955678,
          2.242609686488439,
          -0.8582063908771425,
          0.7608248424673095,
          0.7000004474958651,
          -2.012133152037724,
          0.9326208404062066,
          -0.659318333188724,
          1.6928610483674762,
          -0.6871886678918286,
          -0.35039380953159355,
          -0.42079236277313725,
          0.8690052189226001,
          -0.576444210165041,
          0.21995333800259842,
          -0.4444106568943757,
          -1.1440185333618915,
          -1.6578956613807303,
          -0.4101416114246453,
          -0.8519320305097161,
          1.2103242834430672,
          0.32015253922147136,
          -0.10035894535953092,
          -0.8488192702393195,
          -0.5572712613655367,
          -1.0688607093730706,
          -0.42181977168796303,
          0.12733568405289733,
          -1.0665476173525776,
          0.9261690103955689,
          -1.9549129649944113,
          -1.0277111422245617,
          -0.38799086170382646,
          1.1509943645776262,
          -1.745769144522121,
          1.2130978831137753,
          -0.6425110489904321,
          -0.57978668657439,
          1.0712439163287628,
          -0.9234875765962591,
          2.961687683445264,
          -0.8009271101769784,
          -0.6562531660019234,
          -0.27821128532982536,
          -1.2066325053881286,
          3.292598801986526,
          -1.543892912424364,
          0.5426822404287032,
          0.6393413189471646,
          -0.429902886768494,
          -0.9816502324772437,
          0.04303598600358611,
          -1.167434040446578,
          0.7324805559746674,
          0.8864020652679193,
          0.5228613497547522,
          -1.1582437180761456,
          0.8668597258010465,
          -1.124040455883926,
          1.8000496709282203,
          0.8645540802609497,
          -1.1773722266718076,
          -0.13804095883041229,
          -0.6407571208877594,
          -0.4281134664922928,
          -1.0138183021796128,
          -1.3585492226847056,
          -0.858301495895222,
          -0.08680224327455878,
          -0.9429499025251274,
          -0.516543913855966,
          -1.9085819167197682,
          -0.3047314446803455,
          -0.8469563304785783,
          1.6986622415450738,
          0.4788801048455923,
          0.8165342542226821,
          0.2712567992995717,
          -1.7066836444868176,
          -0.41177484570153433,
          3.4776607657004988,
          -2.834396666032772,
          -0.7774122936937027,
          1.7045043869532526,
          -0.06080095132088235,
          -0.76980795302438,
          -1.0415010013073016,
          0.5224033425902554,
          0.8532714130883641,
          0.5484720112680194,
          0.3391173259213127,
          -1.5739514633185079,
          0.5619600984821377,
          -0.5983771760743023,
          1.1075742347923272,
          -1.6666578332055928,
          -0.3778299507535159,
          -0.6830647528616767,
          0.41404579007455566
         ],
         "yaxis": "y4"
        },
        {
         "line": {
          "color": "rgba(128, 128, 128, 1.0)",
          "dash": "solid",
          "shape": "linear",
          "width": 1.3
         },
         "marker": {
          "size": 2,
          "symbol": "circle"
         },
         "mode": "markers",
         "name": "B",
         "text": "",
         "type": "scatter",
         "x": [
          0.3925721259516482,
          1.372423172955678,
          2.242609686488439,
          -0.8582063908771425,
          0.7608248424673095,
          0.7000004474958651,
          -2.012133152037724,
          0.9326208404062066,
          -0.659318333188724,
          1.6928610483674762,
          -0.6871886678918286,
          -0.35039380953159355,
          -0.42079236277313725,
          0.8690052189226001,
          -0.576444210165041,
          0.21995333800259842,
          -0.4444106568943757,
          -1.1440185333618915,
          -1.6578956613807303,
          -0.4101416114246453,
          -0.8519320305097161,
          1.2103242834430672,
          0.32015253922147136,
          -0.10035894535953092,
          -0.8488192702393195,
          -0.5572712613655367,
          -1.0688607093730706,
          -0.42181977168796303,
          0.12733568405289733,
          -1.0665476173525776,
          0.9261690103955689,
          -1.9549129649944113,
          -1.0277111422245617,
          -0.38799086170382646,
          1.1509943645776262,
          -1.745769144522121,
          1.2130978831137753,
          -0.6425110489904321,
          -0.57978668657439,
          1.0712439163287628,
          -0.9234875765962591,
          2.961687683445264,
          -0.8009271101769784,
          -0.6562531660019234,
          -0.27821128532982536,
          -1.2066325053881286,
          3.292598801986526,
          -1.543892912424364,
          0.5426822404287032,
          0.6393413189471646,
          -0.429902886768494,
          -0.9816502324772437,
          0.04303598600358611,
          -1.167434040446578,
          0.7324805559746674,
          0.8864020652679193,
          0.5228613497547522,
          -1.1582437180761456,
          0.8668597258010465,
          -1.124040455883926,
          1.8000496709282203,
          0.8645540802609497,
          -1.1773722266718076,
          -0.13804095883041229,
          -0.6407571208877594,
          -0.4281134664922928,
          -1.0138183021796128,
          -1.3585492226847056,
          -0.858301495895222,
          -0.08680224327455878,
          -0.9429499025251274,
          -0.516543913855966,
          -1.9085819167197682,
          -0.3047314446803455,
          -0.8469563304785783,
          1.6986622415450738,
          0.4788801048455923,
          0.8165342542226821,
          0.2712567992995717,
          -1.7066836444868176,
          -0.41177484570153433,
          3.4776607657004988,
          -2.834396666032772,
          -0.7774122936937027,
          1.7045043869532526,
          -0.06080095132088235,
          -0.76980795302438,
          -1.0415010013073016,
          0.5224033425902554,
          0.8532714130883641,
          0.5484720112680194,
          0.3391173259213127,
          -1.5739514633185079,
          0.5619600984821377,
          -0.5983771760743023,
          1.1075742347923272,
          -1.6666578332055928,
          -0.3778299507535159,
          -0.6830647528616767,
          0.41404579007455566
         ],
         "xaxis": "x5",
         "y": [
          -0.18562897664789632,
          0.2814946331226841,
          -0.5611496729894913,
          -0.4024455177000891,
          -0.5067484326841816,
          -0.5046831255213409,
          0.3071138555381204,
          0.5235719311401476,
          0.1689123266002498,
          -0.648541330346596,
          -0.2781926966218052,
          0.5674683584811326,
          0.46108742396861463,
          0.4081857886915297,
          0.8856809194878353,
          0.8230987593991649,
          -0.39330647758921633,
          0.3233245409289331,
          -0.6207219618976456,
          -2.398805095729414,
          1.1216956439427725,
          -0.5863344522457911,
          0.5607494682257044,
          0.10914101529479345,
          -0.10621089901970976,
          -0.4309016156343589,
          -0.41156421677297167,
          -0.11563017368980043,
          -2.036410216502865,
          -0.3110822648687047,
          0.4256721368775975,
          -0.7804317607711396,
          1.3742457362160845,
          1.5447331731436296,
          -0.7250748089914916,
          0.24929992571674361,
          -1.7794793815328092,
          0.24138473009400277,
          -1.2034168942707761,
          1.0414639210199483,
          -0.5670377462359961,
          -0.21270823704091296,
          -0.685999635317336,
          1.1247530050048336,
          1.188669271627665,
          -1.8444053144861277,
          -0.48683583832976574,
          -1.4150671526928436,
          -0.7958340475909478,
          0.08001675426748367,
          -0.7821642717145418,
          -0.5779608466326287,
          0.7616839022768124,
          0.5873755367983575,
          0.7997869163737407,
          0.9558533340809422,
          -0.9061367977781155,
          -0.43578105334829365,
          -0.21657032067850326,
          -0.7972237736675932,
          0.5467520310235533,
          -0.05996238706349433,
          -1.3103756836643208,
          -1.2984105754608068,
          -1.08278714497136,
          -0.067375476395044,
          -0.2012741546557389,
          0.7301998783153228,
          0.7860790647665244,
          1.2748168237130528,
          -0.15838584047247817,
          -0.7367956174793401,
          0.17381865974815355,
          -0.608882127348547,
          0.019790573117705768,
          -0.5581866426850328,
          0.37207449041564766,
          2.433253765776426,
          -0.2519215314634941,
          0.7858365678345681,
          0.5594533930884258,
          0.21976613500776326,
          -0.6254685895049678,
          -0.6561891284929092,
          2.1213683420326332,
          0.12457784109751802,
          -0.14382087113095818,
          0.4394487501767444,
          -0.744337348321256,
          -0.3777265856290238,
          0.8070672733664923,
          -0.24328759151350107,
          -1.7140416474135354,
          -1.5670830508801825,
          1.8234229094828922,
          0.5031344290993308,
          -1.366297613187657,
          1.0133773132755128,
          -0.28092282255864715,
          -0.16105588035881507
         ],
         "yaxis": "y5"
        },
        {
         "histfunc": "count",
         "histnorm": "",
         "marker": {
          "color": "rgba(55, 128, 191, 1.0)",
          "line": {
           "color": "#4D5663",
           "width": 1.3
          }
         },
         "name": "B",
         "nbinsx": 10,
         "opacity": 0.8,
         "orientation": "v",
         "type": "histogram",
         "x": [
          -0.18562897664789632,
          0.2814946331226841,
          -0.5611496729894913,
          -0.4024455177000891,
          -0.5067484326841816,
          -0.5046831255213409,
          0.3071138555381204,
          0.5235719311401476,
          0.1689123266002498,
          -0.648541330346596,
          -0.2781926966218052,
          0.5674683584811326,
          0.46108742396861463,
          0.4081857886915297,
          0.8856809194878353,
          0.8230987593991649,
          -0.39330647758921633,
          0.3233245409289331,
          -0.6207219618976456,
          -2.398805095729414,
          1.1216956439427725,
          -0.5863344522457911,
          0.5607494682257044,
          0.10914101529479345,
          -0.10621089901970976,
          -0.4309016156343589,
          -0.41156421677297167,
          -0.11563017368980043,
          -2.036410216502865,
          -0.3110822648687047,
          0.4256721368775975,
          -0.7804317607711396,
          1.3742457362160845,
          1.5447331731436296,
          -0.7250748089914916,
          0.24929992571674361,
          -1.7794793815328092,
          0.24138473009400277,
          -1.2034168942707761,
          1.0414639210199483,
          -0.5670377462359961,
          -0.21270823704091296,
          -0.685999635317336,
          1.1247530050048336,
          1.188669271627665,
          -1.8444053144861277,
          -0.48683583832976574,
          -1.4150671526928436,
          -0.7958340475909478,
          0.08001675426748367,
          -0.7821642717145418,
          -0.5779608466326287,
          0.7616839022768124,
          0.5873755367983575,
          0.7997869163737407,
          0.9558533340809422,
          -0.9061367977781155,
          -0.43578105334829365,
          -0.21657032067850326,
          -0.7972237736675932,
          0.5467520310235533,
          -0.05996238706349433,
          -1.3103756836643208,
          -1.2984105754608068,
          -1.08278714497136,
          -0.067375476395044,
          -0.2012741546557389,
          0.7301998783153228,
          0.7860790647665244,
          1.2748168237130528,
          -0.15838584047247817,
          -0.7367956174793401,
          0.17381865974815355,
          -0.608882127348547,
          0.019790573117705768,
          -0.5581866426850328,
          0.37207449041564766,
          2.433253765776426,
          -0.2519215314634941,
          0.7858365678345681,
          0.5594533930884258,
          0.21976613500776326,
          -0.6254685895049678,
          -0.6561891284929092,
          2.1213683420326332,
          0.12457784109751802,
          -0.14382087113095818,
          0.4394487501767444,
          -0.744337348321256,
          -0.3777265856290238,
          0.8070672733664923,
          -0.24328759151350107,
          -1.7140416474135354,
          -1.5670830508801825,
          1.8234229094828922,
          0.5031344290993308,
          -1.366297613187657,
          1.0133773132755128,
          -0.28092282255864715,
          -0.16105588035881507
         ],
         "xaxis": "x6",
         "yaxis": "y6"
        },
        {
         "line": {
          "color": "rgba(128, 128, 128, 1.0)",
          "dash": "solid",
          "shape": "linear",
          "width": 1.3
         },
         "marker": {
          "size": 2,
          "symbol": "circle"
         },
         "mode": "markers",
         "name": "B",
         "text": "",
         "type": "scatter",
         "x": [
          0.28441655846283115,
          1.6861245389387827,
          0.5649320226659227,
          -0.006992281741640265,
          0.6950104350820111,
          -2.782161294185466,
          -1.3929262166412348,
          1.1466427563740487,
          -0.1262468085370894,
          0.027610312707100796,
          2.0993419772076924,
          0.5464592496207633,
          -0.9650485066377515,
          0.350095797866304,
          0.4464205586893242,
          0.32543348059825544,
          0.24250264612773229,
          0.8134327473763154,
          -1.9221574660590977,
          -0.8515636634477415,
          -0.8859644188452906,
          1.5164945643863925,
          1.3057008239245025,
          -0.5341448824517766,
          1.2114568933445147,
          1.4805686765043942,
          -0.9903060622368212,
          -0.7111921334234341,
          -0.7705832241561541,
          0.1807635333209304,
          1.3867801276386518,
          1.2096172921326662,
          0.41417152434287813,
          -0.0754038199458381,
          -1.3353939930941396,
          0.7450243963561473,
          0.364376944348029,
          -0.46849590462886515,
          0.13246878845688012,
          0.9382466543882401,
          0.9631623571438938,
          0.8678278660229487,
          -0.5112000717690514,
          -0.10330510133411867,
          -0.34431945483637544,
          0.4260507406404684,
          1.0057291196151519,
          1.0365172878615823,
          -0.8291370209200336,
          0.4377030649632805,
          0.7017745010682606,
          -0.7673762052874429,
          -1.5952663531267484,
          -0.6793902349244565,
          0.9382454148586494,
          -1.0031684970768282,
          -0.12622705458301473,
          -0.1028625649307537,
          0.45233888419194995,
          -0.008531419431794739,
          -1.2938012749019887,
          -0.37763963492557423,
          -0.5552276038742345,
          -0.43686967873256866,
          2.5023643713562427,
          0.6273843535101066,
          -0.6921376835637734,
          0.7657233099148385,
          -0.5140437049580203,
          -0.14935928451238165,
          -1.4178162750954013,
          -0.911541945468432,
          -2.2484151726652053,
          -0.3272244929529284,
          -0.06031464011966538,
          -1.2198525633118895,
          -0.9665382189960053,
          -0.8030204857611252,
          0.09008886334577865,
          -1.5179371449807757,
          -0.7898385578973032,
          -0.0758686468454915,
          -0.49709787644938114,
          -0.7393226842199646,
          1.1175234017610933,
          0.25092684424139433,
          -0.4132636485268327,
          0.16020492569879421,
          -0.626302528337445,
          0.23902815107320322,
          0.5733871642928374,
          -1.3476994945261318,
          0.017341930072027993,
          0.32956392990260047,
          1.7254936465727004,
          0.0815643997667831,
          0.5266073855612576,
          0.40311575029138064,
          1.6872933351292154,
          -0.0014924123917553528
         ],
         "xaxis": "x7",
         "y": [
          -0.18562897664789632,
          0.2814946331226841,
          -0.5611496729894913,
          -0.4024455177000891,
          -0.5067484326841816,
          -0.5046831255213409,
          0.3071138555381204,
          0.5235719311401476,
          0.1689123266002498,
          -0.648541330346596,
          -0.2781926966218052,
          0.5674683584811326,
          0.46108742396861463,
          0.4081857886915297,
          0.8856809194878353,
          0.8230987593991649,
          -0.39330647758921633,
          0.3233245409289331,
          -0.6207219618976456,
          -2.398805095729414,
          1.1216956439427725,
          -0.5863344522457911,
          0.5607494682257044,
          0.10914101529479345,
          -0.10621089901970976,
          -0.4309016156343589,
          -0.41156421677297167,
          -0.11563017368980043,
          -2.036410216502865,
          -0.3110822648687047,
          0.4256721368775975,
          -0.7804317607711396,
          1.3742457362160845,
          1.5447331731436296,
          -0.7250748089914916,
          0.24929992571674361,
          -1.7794793815328092,
          0.24138473009400277,
          -1.2034168942707761,
          1.0414639210199483,
          -0.5670377462359961,
          -0.21270823704091296,
          -0.685999635317336,
          1.1247530050048336,
          1.188669271627665,
          -1.8444053144861277,
          -0.48683583832976574,
          -1.4150671526928436,
          -0.7958340475909478,
          0.08001675426748367,
          -0.7821642717145418,
          -0.5779608466326287,
          0.7616839022768124,
          0.5873755367983575,
          0.7997869163737407,
          0.9558533340809422,
          -0.9061367977781155,
          -0.43578105334829365,
          -0.21657032067850326,
          -0.7972237736675932,
          0.5467520310235533,
          -0.05996238706349433,
          -1.3103756836643208,
          -1.2984105754608068,
          -1.08278714497136,
          -0.067375476395044,
          -0.2012741546557389,
          0.7301998783153228,
          0.7860790647665244,
          1.2748168237130528,
          -0.15838584047247817,
          -0.7367956174793401,
          0.17381865974815355,
          -0.608882127348547,
          0.019790573117705768,
          -0.5581866426850328,
          0.37207449041564766,
          2.433253765776426,
          -0.2519215314634941,
          0.7858365678345681,
          0.5594533930884258,
          0.21976613500776326,
          -0.6254685895049678,
          -0.6561891284929092,
          2.1213683420326332,
          0.12457784109751802,
          -0.14382087113095818,
          0.4394487501767444,
          -0.744337348321256,
          -0.3777265856290238,
          0.8070672733664923,
          -0.24328759151350107,
          -1.7140416474135354,
          -1.5670830508801825,
          1.8234229094828922,
          0.5031344290993308,
          -1.366297613187657,
          1.0133773132755128,
          -0.28092282255864715,
          -0.16105588035881507
         ],
         "yaxis": "y7"
        },
        {
         "line": {
          "color": "rgba(128, 128, 128, 1.0)",
          "dash": "solid",
          "shape": "linear",
          "width": 1.3
         },
         "marker": {
          "size": 2,
          "symbol": "circle"
         },
         "mode": "markers",
         "name": "B",
         "text": "",
         "type": "scatter",
         "x": [
          -0.6948506396980108,
          -0.6666428538904786,
          0.10977248148330632,
          -0.34507063852421277,
          0.5644738826580985,
          0.23698645675986882,
          -0.27566335461447067,
          0.9984136711746818,
          -0.35453953436057145,
          -0.7590677342876666,
          1.0954715281036402,
          0.4432431120527865,
          -1.2507109626191366,
          0.9712441680171693,
          0.013203357152381795,
          0.18807930342327556,
          -2.4244030669480163,
          0.19642096604822498,
          0.4644164832119015,
          1.2589962842989606,
          -0.47824746769953363,
          0.4744862784598353,
          1.3118766204574364,
          -0.8680136931356329,
          -0.10129756529911702,
          0.4689138437974007,
          -1.5339069602700537,
          -0.10846820881083391,
          0.6908985750185441,
          0.18350135082338448,
          -0.5914853780307834,
          -0.9537198471375213,
          0.5703344039692307,
          1.429865002978377,
          0.5519913738620827,
          0.993412636271246,
          0.034469811988359855,
          -0.7472496880871153,
          1.4996124512981646,
          -0.4946386379145436,
          1.0399840670841098,
          0.12271290218834982,
          0.03910713883627607,
          1.5392891439270928,
          -0.5321486686255733,
          -0.7709776809477752,
          0.4228444336143023,
          0.4702867223000906,
          0.4682790545334142,
          -0.318220551982597,
          -0.638691919721894,
          0.1338412858354175,
          -0.8153205614533109,
          0.3567584183573207,
          0.1176061105063393,
          0.4441722883986997,
          1.000172564994546,
          1.2737790335626429,
          -1.0390421978667987,
          -1.2390043917953708,
          0.4672069481240647,
          1.7014753136623637,
          -0.5279990223802564,
          -0.39162490382241943,
          -0.23550259779516858,
          0.2913840379119788,
          -0.23528362452735238,
          0.41712929386903885,
          -0.8393462438785326,
          0.45414655173794455,
          0.3295495327747455,
          -0.4178229756531817,
          -0.7185662761449305,
          0.2547080145281705,
          -0.7800799954343723,
          1.6208908197100877,
          -0.12472366532659815,
          1.3768125427026123,
          0.025633067041241596,
          1.2014509834321612,
          0.5597559903640666,
          0.20773867581652714,
          -0.6946381185103704,
          0.3079191077548796,
          -0.3308755186198372,
          -0.14041599548525413,
          -1.8625381720460532,
          0.9997300943289195,
          0.7919825195272278,
          -0.554200154872438,
          0.30411179171190633,
          -0.2637799068113172,
          -1.105590430637276,
          -0.29296374986869805,
          0.7171759251788568,
          1.0201142495169346,
          -0.7232117317655378,
          1.2180757428969105,
          -0.4587277173521224,
          0.7357053360469868
         ],
         "xaxis": "x8",
         "y": [
          -0.18562897664789632,
          0.2814946331226841,
          -0.5611496729894913,
          -0.4024455177000891,
          -0.5067484326841816,
          -0.5046831255213409,
          0.3071138555381204,
          0.5235719311401476,
          0.1689123266002498,
          -0.648541330346596,
          -0.2781926966218052,
          0.5674683584811326,
          0.46108742396861463,
          0.4081857886915297,
          0.8856809194878353,
          0.8230987593991649,
          -0.39330647758921633,
          0.3233245409289331,
          -0.6207219618976456,
          -2.398805095729414,
          1.1216956439427725,
          -0.5863344522457911,
          0.5607494682257044,
          0.10914101529479345,
          -0.10621089901970976,
          -0.4309016156343589,
          -0.41156421677297167,
          -0.11563017368980043,
          -2.036410216502865,
          -0.3110822648687047,
          0.4256721368775975,
          -0.7804317607711396,
          1.3742457362160845,
          1.5447331731436296,
          -0.7250748089914916,
          0.24929992571674361,
          -1.7794793815328092,
          0.24138473009400277,
          -1.2034168942707761,
          1.0414639210199483,
          -0.5670377462359961,
          -0.21270823704091296,
          -0.685999635317336,
          1.1247530050048336,
          1.188669271627665,
          -1.8444053144861277,
          -0.48683583832976574,
          -1.4150671526928436,
          -0.7958340475909478,
          0.08001675426748367,
          -0.7821642717145418,
          -0.5779608466326287,
          0.7616839022768124,
          0.5873755367983575,
          0.7997869163737407,
          0.9558533340809422,
          -0.9061367977781155,
          -0.43578105334829365,
          -0.21657032067850326,
          -0.7972237736675932,
          0.5467520310235533,
          -0.05996238706349433,
          -1.3103756836643208,
          -1.2984105754608068,
          -1.08278714497136,
          -0.067375476395044,
          -0.2012741546557389,
          0.7301998783153228,
          0.7860790647665244,
          1.2748168237130528,
          -0.15838584047247817,
          -0.7367956174793401,
          0.17381865974815355,
          -0.608882127348547,
          0.019790573117705768,
          -0.5581866426850328,
          0.37207449041564766,
          2.433253765776426,
          -0.2519215314634941,
          0.7858365678345681,
          0.5594533930884258,
          0.21976613500776326,
          -0.6254685895049678,
          -0.6561891284929092,
          2.1213683420326332,
          0.12457784109751802,
          -0.14382087113095818,
          0.4394487501767444,
          -0.744337348321256,
          -0.3777265856290238,
          0.8070672733664923,
          -0.24328759151350107,
          -1.7140416474135354,
          -1.5670830508801825,
          1.8234229094828922,
          0.5031344290993308,
          -1.366297613187657,
          1.0133773132755128,
          -0.28092282255864715,
          -0.16105588035881507
         ],
         "yaxis": "y8"
        },
        {
         "line": {
          "color": "rgba(128, 128, 128, 1.0)",
          "dash": "solid",
          "shape": "linear",
          "width": 1.3
         },
         "marker": {
          "size": 2,
          "symbol": "circle"
         },
         "mode": "markers",
         "name": "C",
         "text": "",
         "type": "scatter",
         "x": [
          0.3925721259516482,
          1.372423172955678,
          2.242609686488439,
          -0.8582063908771425,
          0.7608248424673095,
          0.7000004474958651,
          -2.012133152037724,
          0.9326208404062066,
          -0.659318333188724,
          1.6928610483674762,
          -0.6871886678918286,
          -0.35039380953159355,
          -0.42079236277313725,
          0.8690052189226001,
          -0.576444210165041,
          0.21995333800259842,
          -0.4444106568943757,
          -1.1440185333618915,
          -1.6578956613807303,
          -0.4101416114246453,
          -0.8519320305097161,
          1.2103242834430672,
          0.32015253922147136,
          -0.10035894535953092,
          -0.8488192702393195,
          -0.5572712613655367,
          -1.0688607093730706,
          -0.42181977168796303,
          0.12733568405289733,
          -1.0665476173525776,
          0.9261690103955689,
          -1.9549129649944113,
          -1.0277111422245617,
          -0.38799086170382646,
          1.1509943645776262,
          -1.745769144522121,
          1.2130978831137753,
          -0.6425110489904321,
          -0.57978668657439,
          1.0712439163287628,
          -0.9234875765962591,
          2.961687683445264,
          -0.8009271101769784,
          -0.6562531660019234,
          -0.27821128532982536,
          -1.2066325053881286,
          3.292598801986526,
          -1.543892912424364,
          0.5426822404287032,
          0.6393413189471646,
          -0.429902886768494,
          -0.9816502324772437,
          0.04303598600358611,
          -1.167434040446578,
          0.7324805559746674,
          0.8864020652679193,
          0.5228613497547522,
          -1.1582437180761456,
          0.8668597258010465,
          -1.124040455883926,
          1.8000496709282203,
          0.8645540802609497,
          -1.1773722266718076,
          -0.13804095883041229,
          -0.6407571208877594,
          -0.4281134664922928,
          -1.0138183021796128,
          -1.3585492226847056,
          -0.858301495895222,
          -0.08680224327455878,
          -0.9429499025251274,
          -0.516543913855966,
          -1.9085819167197682,
          -0.3047314446803455,
          -0.8469563304785783,
          1.6986622415450738,
          0.4788801048455923,
          0.8165342542226821,
          0.2712567992995717,
          -1.7066836444868176,
          -0.41177484570153433,
          3.4776607657004988,
          -2.834396666032772,
          -0.7774122936937027,
          1.7045043869532526,
          -0.06080095132088235,
          -0.76980795302438,
          -1.0415010013073016,
          0.5224033425902554,
          0.8532714130883641,
          0.5484720112680194,
          0.3391173259213127,
          -1.5739514633185079,
          0.5619600984821377,
          -0.5983771760743023,
          1.1075742347923272,
          -1.6666578332055928,
          -0.3778299507535159,
          -0.6830647528616767,
          0.41404579007455566
         ],
         "xaxis": "x9",
         "y": [
          0.28441655846283115,
          1.6861245389387827,
          0.5649320226659227,
          -0.006992281741640265,
          0.6950104350820111,
          -2.782161294185466,
          -1.3929262166412348,
          1.1466427563740487,
          -0.1262468085370894,
          0.027610312707100796,
          2.0993419772076924,
          0.5464592496207633,
          -0.9650485066377515,
          0.350095797866304,
          0.4464205586893242,
          0.32543348059825544,
          0.24250264612773229,
          0.8134327473763154,
          -1.9221574660590977,
          -0.8515636634477415,
          -0.8859644188452906,
          1.5164945643863925,
          1.3057008239245025,
          -0.5341448824517766,
          1.2114568933445147,
          1.4805686765043942,
          -0.9903060622368212,
          -0.7111921334234341,
          -0.7705832241561541,
          0.1807635333209304,
          1.3867801276386518,
          1.2096172921326662,
          0.41417152434287813,
          -0.0754038199458381,
          -1.3353939930941396,
          0.7450243963561473,
          0.364376944348029,
          -0.46849590462886515,
          0.13246878845688012,
          0.9382466543882401,
          0.9631623571438938,
          0.8678278660229487,
          -0.5112000717690514,
          -0.10330510133411867,
          -0.34431945483637544,
          0.4260507406404684,
          1.0057291196151519,
          1.0365172878615823,
          -0.8291370209200336,
          0.4377030649632805,
          0.7017745010682606,
          -0.7673762052874429,
          -1.5952663531267484,
          -0.6793902349244565,
          0.9382454148586494,
          -1.0031684970768282,
          -0.12622705458301473,
          -0.1028625649307537,
          0.45233888419194995,
          -0.008531419431794739,
          -1.2938012749019887,
          -0.37763963492557423,
          -0.5552276038742345,
          -0.43686967873256866,
          2.5023643713562427,
          0.6273843535101066,
          -0.6921376835637734,
          0.7657233099148385,
          -0.5140437049580203,
          -0.14935928451238165,
          -1.4178162750954013,
          -0.911541945468432,
          -2.2484151726652053,
          -0.3272244929529284,
          -0.06031464011966538,
          -1.2198525633118895,
          -0.9665382189960053,
          -0.8030204857611252,
          0.09008886334577865,
          -1.5179371449807757,
          -0.7898385578973032,
          -0.0758686468454915,
          -0.49709787644938114,
          -0.7393226842199646,
          1.1175234017610933,
          0.25092684424139433,
          -0.4132636485268327,
          0.16020492569879421,
          -0.626302528337445,
          0.23902815107320322,
          0.5733871642928374,
          -1.3476994945261318,
          0.017341930072027993,
          0.32956392990260047,
          1.7254936465727004,
          0.0815643997667831,
          0.5266073855612576,
          0.40311575029138064,
          1.6872933351292154,
          -0.0014924123917553528
         ],
         "yaxis": "y9"
        },
        {
         "line": {
          "color": "rgba(128, 128, 128, 1.0)",
          "dash": "solid",
          "shape": "linear",
          "width": 1.3
         },
         "marker": {
          "size": 2,
          "symbol": "circle"
         },
         "mode": "markers",
         "name": "C",
         "text": "",
         "type": "scatter",
         "x": [
          -0.18562897664789632,
          0.2814946331226841,
          -0.5611496729894913,
          -0.4024455177000891,
          -0.5067484326841816,
          -0.5046831255213409,
          0.3071138555381204,
          0.5235719311401476,
          0.1689123266002498,
          -0.648541330346596,
          -0.2781926966218052,
          0.5674683584811326,
          0.46108742396861463,
          0.4081857886915297,
          0.8856809194878353,
          0.8230987593991649,
          -0.39330647758921633,
          0.3233245409289331,
          -0.6207219618976456,
          -2.398805095729414,
          1.1216956439427725,
          -0.5863344522457911,
          0.5607494682257044,
          0.10914101529479345,
          -0.10621089901970976,
          -0.4309016156343589,
          -0.41156421677297167,
          -0.11563017368980043,
          -2.036410216502865,
          -0.3110822648687047,
          0.4256721368775975,
          -0.7804317607711396,
          1.3742457362160845,
          1.5447331731436296,
          -0.7250748089914916,
          0.24929992571674361,
          -1.7794793815328092,
          0.24138473009400277,
          -1.2034168942707761,
          1.0414639210199483,
          -0.5670377462359961,
          -0.21270823704091296,
          -0.685999635317336,
          1.1247530050048336,
          1.188669271627665,
          -1.8444053144861277,
          -0.48683583832976574,
          -1.4150671526928436,
          -0.7958340475909478,
          0.08001675426748367,
          -0.7821642717145418,
          -0.5779608466326287,
          0.7616839022768124,
          0.5873755367983575,
          0.7997869163737407,
          0.9558533340809422,
          -0.9061367977781155,
          -0.43578105334829365,
          -0.21657032067850326,
          -0.7972237736675932,
          0.5467520310235533,
          -0.05996238706349433,
          -1.3103756836643208,
          -1.2984105754608068,
          -1.08278714497136,
          -0.067375476395044,
          -0.2012741546557389,
          0.7301998783153228,
          0.7860790647665244,
          1.2748168237130528,
          -0.15838584047247817,
          -0.7367956174793401,
          0.17381865974815355,
          -0.608882127348547,
          0.019790573117705768,
          -0.5581866426850328,
          0.37207449041564766,
          2.433253765776426,
          -0.2519215314634941,
          0.7858365678345681,
          0.5594533930884258,
          0.21976613500776326,
          -0.6254685895049678,
          -0.6561891284929092,
          2.1213683420326332,
          0.12457784109751802,
          -0.14382087113095818,
          0.4394487501767444,
          -0.744337348321256,
          -0.3777265856290238,
          0.8070672733664923,
          -0.24328759151350107,
          -1.7140416474135354,
          -1.5670830508801825,
          1.8234229094828922,
          0.5031344290993308,
          -1.366297613187657,
          1.0133773132755128,
          -0.28092282255864715,
          -0.16105588035881507
         ],
         "xaxis": "x10",
         "y": [
          0.28441655846283115,
          1.6861245389387827,
          0.5649320226659227,
          -0.006992281741640265,
          0.6950104350820111,
          -2.782161294185466,
          -1.3929262166412348,
          1.1466427563740487,
          -0.1262468085370894,
          0.027610312707100796,
          2.0993419772076924,
          0.5464592496207633,
          -0.9650485066377515,
          0.350095797866304,
          0.4464205586893242,
          0.32543348059825544,
          0.24250264612773229,
          0.8134327473763154,
          -1.9221574660590977,
          -0.8515636634477415,
          -0.8859644188452906,
          1.5164945643863925,
          1.3057008239245025,
          -0.5341448824517766,
          1.2114568933445147,
          1.4805686765043942,
          -0.9903060622368212,
          -0.7111921334234341,
          -0.7705832241561541,
          0.1807635333209304,
          1.3867801276386518,
          1.2096172921326662,
          0.41417152434287813,
          -0.0754038199458381,
          -1.3353939930941396,
          0.7450243963561473,
          0.364376944348029,
          -0.46849590462886515,
          0.13246878845688012,
          0.9382466543882401,
          0.9631623571438938,
          0.8678278660229487,
          -0.5112000717690514,
          -0.10330510133411867,
          -0.34431945483637544,
          0.4260507406404684,
          1.0057291196151519,
          1.0365172878615823,
          -0.8291370209200336,
          0.4377030649632805,
          0.7017745010682606,
          -0.7673762052874429,
          -1.5952663531267484,
          -0.6793902349244565,
          0.9382454148586494,
          -1.0031684970768282,
          -0.12622705458301473,
          -0.1028625649307537,
          0.45233888419194995,
          -0.008531419431794739,
          -1.2938012749019887,
          -0.37763963492557423,
          -0.5552276038742345,
          -0.43686967873256866,
          2.5023643713562427,
          0.6273843535101066,
          -0.6921376835637734,
          0.7657233099148385,
          -0.5140437049580203,
          -0.14935928451238165,
          -1.4178162750954013,
          -0.911541945468432,
          -2.2484151726652053,
          -0.3272244929529284,
          -0.06031464011966538,
          -1.2198525633118895,
          -0.9665382189960053,
          -0.8030204857611252,
          0.09008886334577865,
          -1.5179371449807757,
          -0.7898385578973032,
          -0.0758686468454915,
          -0.49709787644938114,
          -0.7393226842199646,
          1.1175234017610933,
          0.25092684424139433,
          -0.4132636485268327,
          0.16020492569879421,
          -0.626302528337445,
          0.23902815107320322,
          0.5733871642928374,
          -1.3476994945261318,
          0.017341930072027993,
          0.32956392990260047,
          1.7254936465727004,
          0.0815643997667831,
          0.5266073855612576,
          0.40311575029138064,
          1.6872933351292154,
          -0.0014924123917553528
         ],
         "yaxis": "y10"
        },
        {
         "histfunc": "count",
         "histnorm": "",
         "marker": {
          "color": "rgba(50, 171, 96, 1.0)",
          "line": {
           "color": "#4D5663",
           "width": 1.3
          }
         },
         "name": "C",
         "nbinsx": 10,
         "opacity": 0.8,
         "orientation": "v",
         "type": "histogram",
         "x": [
          0.28441655846283115,
          1.6861245389387827,
          0.5649320226659227,
          -0.006992281741640265,
          0.6950104350820111,
          -2.782161294185466,
          -1.3929262166412348,
          1.1466427563740487,
          -0.1262468085370894,
          0.027610312707100796,
          2.0993419772076924,
          0.5464592496207633,
          -0.9650485066377515,
          0.350095797866304,
          0.4464205586893242,
          0.32543348059825544,
          0.24250264612773229,
          0.8134327473763154,
          -1.9221574660590977,
          -0.8515636634477415,
          -0.8859644188452906,
          1.5164945643863925,
          1.3057008239245025,
          -0.5341448824517766,
          1.2114568933445147,
          1.4805686765043942,
          -0.9903060622368212,
          -0.7111921334234341,
          -0.7705832241561541,
          0.1807635333209304,
          1.3867801276386518,
          1.2096172921326662,
          0.41417152434287813,
          -0.0754038199458381,
          -1.3353939930941396,
          0.7450243963561473,
          0.364376944348029,
          -0.46849590462886515,
          0.13246878845688012,
          0.9382466543882401,
          0.9631623571438938,
          0.8678278660229487,
          -0.5112000717690514,
          -0.10330510133411867,
          -0.34431945483637544,
          0.4260507406404684,
          1.0057291196151519,
          1.0365172878615823,
          -0.8291370209200336,
          0.4377030649632805,
          0.7017745010682606,
          -0.7673762052874429,
          -1.5952663531267484,
          -0.6793902349244565,
          0.9382454148586494,
          -1.0031684970768282,
          -0.12622705458301473,
          -0.1028625649307537,
          0.45233888419194995,
          -0.008531419431794739,
          -1.2938012749019887,
          -0.37763963492557423,
          -0.5552276038742345,
          -0.43686967873256866,
          2.5023643713562427,
          0.6273843535101066,
          -0.6921376835637734,
          0.7657233099148385,
          -0.5140437049580203,
          -0.14935928451238165,
          -1.4178162750954013,
          -0.911541945468432,
          -2.2484151726652053,
          -0.3272244929529284,
          -0.06031464011966538,
          -1.2198525633118895,
          -0.9665382189960053,
          -0.8030204857611252,
          0.09008886334577865,
          -1.5179371449807757,
          -0.7898385578973032,
          -0.0758686468454915,
          -0.49709787644938114,
          -0.7393226842199646,
          1.1175234017610933,
          0.25092684424139433,
          -0.4132636485268327,
          0.16020492569879421,
          -0.626302528337445,
          0.23902815107320322,
          0.5733871642928374,
          -1.3476994945261318,
          0.017341930072027993,
          0.32956392990260047,
          1.7254936465727004,
          0.0815643997667831,
          0.5266073855612576,
          0.40311575029138064,
          1.6872933351292154,
          -0.0014924123917553528
         ],
         "xaxis": "x11",
         "yaxis": "y11"
        },
        {
         "line": {
          "color": "rgba(128, 128, 128, 1.0)",
          "dash": "solid",
          "shape": "linear",
          "width": 1.3
         },
         "marker": {
          "size": 2,
          "symbol": "circle"
         },
         "mode": "markers",
         "name": "C",
         "text": "",
         "type": "scatter",
         "x": [
          -0.6948506396980108,
          -0.6666428538904786,
          0.10977248148330632,
          -0.34507063852421277,
          0.5644738826580985,
          0.23698645675986882,
          -0.27566335461447067,
          0.9984136711746818,
          -0.35453953436057145,
          -0.7590677342876666,
          1.0954715281036402,
          0.4432431120527865,
          -1.2507109626191366,
          0.9712441680171693,
          0.013203357152381795,
          0.18807930342327556,
          -2.4244030669480163,
          0.19642096604822498,
          0.4644164832119015,
          1.2589962842989606,
          -0.47824746769953363,
          0.4744862784598353,
          1.3118766204574364,
          -0.8680136931356329,
          -0.10129756529911702,
          0.4689138437974007,
          -1.5339069602700537,
          -0.10846820881083391,
          0.6908985750185441,
          0.18350135082338448,
          -0.5914853780307834,
          -0.9537198471375213,
          0.5703344039692307,
          1.429865002978377,
          0.5519913738620827,
          0.993412636271246,
          0.034469811988359855,
          -0.7472496880871153,
          1.4996124512981646,
          -0.4946386379145436,
          1.0399840670841098,
          0.12271290218834982,
          0.03910713883627607,
          1.5392891439270928,
          -0.5321486686255733,
          -0.7709776809477752,
          0.4228444336143023,
          0.4702867223000906,
          0.4682790545334142,
          -0.318220551982597,
          -0.638691919721894,
          0.1338412858354175,
          -0.8153205614533109,
          0.3567584183573207,
          0.1176061105063393,
          0.4441722883986997,
          1.000172564994546,
          1.2737790335626429,
          -1.0390421978667987,
          -1.2390043917953708,
          0.4672069481240647,
          1.7014753136623637,
          -0.5279990223802564,
          -0.39162490382241943,
          -0.23550259779516858,
          0.2913840379119788,
          -0.23528362452735238,
          0.41712929386903885,
          -0.8393462438785326,
          0.45414655173794455,
          0.3295495327747455,
          -0.4178229756531817,
          -0.7185662761449305,
          0.2547080145281705,
          -0.7800799954343723,
          1.6208908197100877,
          -0.12472366532659815,
          1.3768125427026123,
          0.025633067041241596,
          1.2014509834321612,
          0.5597559903640666,
          0.20773867581652714,
          -0.6946381185103704,
          0.3079191077548796,
          -0.3308755186198372,
          -0.14041599548525413,
          -1.8625381720460532,
          0.9997300943289195,
          0.7919825195272278,
          -0.554200154872438,
          0.30411179171190633,
          -0.2637799068113172,
          -1.105590430637276,
          -0.29296374986869805,
          0.7171759251788568,
          1.0201142495169346,
          -0.7232117317655378,
          1.2180757428969105,
          -0.4587277173521224,
          0.7357053360469868
         ],
         "xaxis": "x12",
         "y": [
          0.28441655846283115,
          1.6861245389387827,
          0.5649320226659227,
          -0.006992281741640265,
          0.6950104350820111,
          -2.782161294185466,
          -1.3929262166412348,
          1.1466427563740487,
          -0.1262468085370894,
          0.027610312707100796,
          2.0993419772076924,
          0.5464592496207633,
          -0.9650485066377515,
          0.350095797866304,
          0.4464205586893242,
          0.32543348059825544,
          0.24250264612773229,
          0.8134327473763154,
          -1.9221574660590977,
          -0.8515636634477415,
          -0.8859644188452906,
          1.5164945643863925,
          1.3057008239245025,
          -0.5341448824517766,
          1.2114568933445147,
          1.4805686765043942,
          -0.9903060622368212,
          -0.7111921334234341,
          -0.7705832241561541,
          0.1807635333209304,
          1.3867801276386518,
          1.2096172921326662,
          0.41417152434287813,
          -0.0754038199458381,
          -1.3353939930941396,
          0.7450243963561473,
          0.364376944348029,
          -0.46849590462886515,
          0.13246878845688012,
          0.9382466543882401,
          0.9631623571438938,
          0.8678278660229487,
          -0.5112000717690514,
          -0.10330510133411867,
          -0.34431945483637544,
          0.4260507406404684,
          1.0057291196151519,
          1.0365172878615823,
          -0.8291370209200336,
          0.4377030649632805,
          0.7017745010682606,
          -0.7673762052874429,
          -1.5952663531267484,
          -0.6793902349244565,
          0.9382454148586494,
          -1.0031684970768282,
          -0.12622705458301473,
          -0.1028625649307537,
          0.45233888419194995,
          -0.008531419431794739,
          -1.2938012749019887,
          -0.37763963492557423,
          -0.5552276038742345,
          -0.43686967873256866,
          2.5023643713562427,
          0.6273843535101066,
          -0.6921376835637734,
          0.7657233099148385,
          -0.5140437049580203,
          -0.14935928451238165,
          -1.4178162750954013,
          -0.911541945468432,
          -2.2484151726652053,
          -0.3272244929529284,
          -0.06031464011966538,
          -1.2198525633118895,
          -0.9665382189960053,
          -0.8030204857611252,
          0.09008886334577865,
          -1.5179371449807757,
          -0.7898385578973032,
          -0.0758686468454915,
          -0.49709787644938114,
          -0.7393226842199646,
          1.1175234017610933,
          0.25092684424139433,
          -0.4132636485268327,
          0.16020492569879421,
          -0.626302528337445,
          0.23902815107320322,
          0.5733871642928374,
          -1.3476994945261318,
          0.017341930072027993,
          0.32956392990260047,
          1.7254936465727004,
          0.0815643997667831,
          0.5266073855612576,
          0.40311575029138064,
          1.6872933351292154,
          -0.0014924123917553528
         ],
         "yaxis": "y12"
        },
        {
         "line": {
          "color": "rgba(128, 128, 128, 1.0)",
          "dash": "solid",
          "shape": "linear",
          "width": 1.3
         },
         "marker": {
          "size": 2,
          "symbol": "circle"
         },
         "mode": "markers",
         "name": "D",
         "text": "",
         "type": "scatter",
         "x": [
          0.3925721259516482,
          1.372423172955678,
          2.242609686488439,
          -0.8582063908771425,
          0.7608248424673095,
          0.7000004474958651,
          -2.012133152037724,
          0.9326208404062066,
          -0.659318333188724,
          1.6928610483674762,
          -0.6871886678918286,
          -0.35039380953159355,
          -0.42079236277313725,
          0.8690052189226001,
          -0.576444210165041,
          0.21995333800259842,
          -0.4444106568943757,
          -1.1440185333618915,
          -1.6578956613807303,
          -0.4101416114246453,
          -0.8519320305097161,
          1.2103242834430672,
          0.32015253922147136,
          -0.10035894535953092,
          -0.8488192702393195,
          -0.5572712613655367,
          -1.0688607093730706,
          -0.42181977168796303,
          0.12733568405289733,
          -1.0665476173525776,
          0.9261690103955689,
          -1.9549129649944113,
          -1.0277111422245617,
          -0.38799086170382646,
          1.1509943645776262,
          -1.745769144522121,
          1.2130978831137753,
          -0.6425110489904321,
          -0.57978668657439,
          1.0712439163287628,
          -0.9234875765962591,
          2.961687683445264,
          -0.8009271101769784,
          -0.6562531660019234,
          -0.27821128532982536,
          -1.2066325053881286,
          3.292598801986526,
          -1.543892912424364,
          0.5426822404287032,
          0.6393413189471646,
          -0.429902886768494,
          -0.9816502324772437,
          0.04303598600358611,
          -1.167434040446578,
          0.7324805559746674,
          0.8864020652679193,
          0.5228613497547522,
          -1.1582437180761456,
          0.8668597258010465,
          -1.124040455883926,
          1.8000496709282203,
          0.8645540802609497,
          -1.1773722266718076,
          -0.13804095883041229,
          -0.6407571208877594,
          -0.4281134664922928,
          -1.0138183021796128,
          -1.3585492226847056,
          -0.858301495895222,
          -0.08680224327455878,
          -0.9429499025251274,
          -0.516543913855966,
          -1.9085819167197682,
          -0.3047314446803455,
          -0.8469563304785783,
          1.6986622415450738,
          0.4788801048455923,
          0.8165342542226821,
          0.2712567992995717,
          -1.7066836444868176,
          -0.41177484570153433,
          3.4776607657004988,
          -2.834396666032772,
          -0.7774122936937027,
          1.7045043869532526,
          -0.06080095132088235,
          -0.76980795302438,
          -1.0415010013073016,
          0.5224033425902554,
          0.8532714130883641,
          0.5484720112680194,
          0.3391173259213127,
          -1.5739514633185079,
          0.5619600984821377,
          -0.5983771760743023,
          1.1075742347923272,
          -1.6666578332055928,
          -0.3778299507535159,
          -0.6830647528616767,
          0.41404579007455566
         ],
         "xaxis": "x13",
         "y": [
          -0.6948506396980108,
          -0.6666428538904786,
          0.10977248148330632,
          -0.34507063852421277,
          0.5644738826580985,
          0.23698645675986882,
          -0.27566335461447067,
          0.9984136711746818,
          -0.35453953436057145,
          -0.7590677342876666,
          1.0954715281036402,
          0.4432431120527865,
          -1.2507109626191366,
          0.9712441680171693,
          0.013203357152381795,
          0.18807930342327556,
          -2.4244030669480163,
          0.19642096604822498,
          0.4644164832119015,
          1.2589962842989606,
          -0.47824746769953363,
          0.4744862784598353,
          1.3118766204574364,
          -0.8680136931356329,
          -0.10129756529911702,
          0.4689138437974007,
          -1.5339069602700537,
          -0.10846820881083391,
          0.6908985750185441,
          0.18350135082338448,
          -0.5914853780307834,
          -0.9537198471375213,
          0.5703344039692307,
          1.429865002978377,
          0.5519913738620827,
          0.993412636271246,
          0.034469811988359855,
          -0.7472496880871153,
          1.4996124512981646,
          -0.4946386379145436,
          1.0399840670841098,
          0.12271290218834982,
          0.03910713883627607,
          1.5392891439270928,
          -0.5321486686255733,
          -0.7709776809477752,
          0.4228444336143023,
          0.4702867223000906,
          0.4682790545334142,
          -0.318220551982597,
          -0.638691919721894,
          0.1338412858354175,
          -0.8153205614533109,
          0.3567584183573207,
          0.1176061105063393,
          0.4441722883986997,
          1.000172564994546,
          1.2737790335626429,
          -1.0390421978667987,
          -1.2390043917953708,
          0.4672069481240647,
          1.7014753136623637,
          -0.5279990223802564,
          -0.39162490382241943,
          -0.23550259779516858,
          0.2913840379119788,
          -0.23528362452735238,
          0.41712929386903885,
          -0.8393462438785326,
          0.45414655173794455,
          0.3295495327747455,
          -0.4178229756531817,
          -0.7185662761449305,
          0.2547080145281705,
          -0.7800799954343723,
          1.6208908197100877,
          -0.12472366532659815,
          1.3768125427026123,
          0.025633067041241596,
          1.2014509834321612,
          0.5597559903640666,
          0.20773867581652714,
          -0.6946381185103704,
          0.3079191077548796,
          -0.3308755186198372,
          -0.14041599548525413,
          -1.8625381720460532,
          0.9997300943289195,
          0.7919825195272278,
          -0.554200154872438,
          0.30411179171190633,
          -0.2637799068113172,
          -1.105590430637276,
          -0.29296374986869805,
          0.7171759251788568,
          1.0201142495169346,
          -0.7232117317655378,
          1.2180757428969105,
          -0.4587277173521224,
          0.7357053360469868
         ],
         "yaxis": "y13"
        },
        {
         "line": {
          "color": "rgba(128, 128, 128, 1.0)",
          "dash": "solid",
          "shape": "linear",
          "width": 1.3
         },
         "marker": {
          "size": 2,
          "symbol": "circle"
         },
         "mode": "markers",
         "name": "D",
         "text": "",
         "type": "scatter",
         "x": [
          -0.18562897664789632,
          0.2814946331226841,
          -0.5611496729894913,
          -0.4024455177000891,
          -0.5067484326841816,
          -0.5046831255213409,
          0.3071138555381204,
          0.5235719311401476,
          0.1689123266002498,
          -0.648541330346596,
          -0.2781926966218052,
          0.5674683584811326,
          0.46108742396861463,
          0.4081857886915297,
          0.8856809194878353,
          0.8230987593991649,
          -0.39330647758921633,
          0.3233245409289331,
          -0.6207219618976456,
          -2.398805095729414,
          1.1216956439427725,
          -0.5863344522457911,
          0.5607494682257044,
          0.10914101529479345,
          -0.10621089901970976,
          -0.4309016156343589,
          -0.41156421677297167,
          -0.11563017368980043,
          -2.036410216502865,
          -0.3110822648687047,
          0.4256721368775975,
          -0.7804317607711396,
          1.3742457362160845,
          1.5447331731436296,
          -0.7250748089914916,
          0.24929992571674361,
          -1.7794793815328092,
          0.24138473009400277,
          -1.2034168942707761,
          1.0414639210199483,
          -0.5670377462359961,
          -0.21270823704091296,
          -0.685999635317336,
          1.1247530050048336,
          1.188669271627665,
          -1.8444053144861277,
          -0.48683583832976574,
          -1.4150671526928436,
          -0.7958340475909478,
          0.08001675426748367,
          -0.7821642717145418,
          -0.5779608466326287,
          0.7616839022768124,
          0.5873755367983575,
          0.7997869163737407,
          0.9558533340809422,
          -0.9061367977781155,
          -0.43578105334829365,
          -0.21657032067850326,
          -0.7972237736675932,
          0.5467520310235533,
          -0.05996238706349433,
          -1.3103756836643208,
          -1.2984105754608068,
          -1.08278714497136,
          -0.067375476395044,
          -0.2012741546557389,
          0.7301998783153228,
          0.7860790647665244,
          1.2748168237130528,
          -0.15838584047247817,
          -0.7367956174793401,
          0.17381865974815355,
          -0.608882127348547,
          0.019790573117705768,
          -0.5581866426850328,
          0.37207449041564766,
          2.433253765776426,
          -0.2519215314634941,
          0.7858365678345681,
          0.5594533930884258,
          0.21976613500776326,
          -0.6254685895049678,
          -0.6561891284929092,
          2.1213683420326332,
          0.12457784109751802,
          -0.14382087113095818,
          0.4394487501767444,
          -0.744337348321256,
          -0.3777265856290238,
          0.8070672733664923,
          -0.24328759151350107,
          -1.7140416474135354,
          -1.5670830508801825,
          1.8234229094828922,
          0.5031344290993308,
          -1.366297613187657,
          1.0133773132755128,
          -0.28092282255864715,
          -0.16105588035881507
         ],
         "xaxis": "x14",
         "y": [
          -0.6948506396980108,
          -0.6666428538904786,
          0.10977248148330632,
          -0.34507063852421277,
          0.5644738826580985,
          0.23698645675986882,
          -0.27566335461447067,
          0.9984136711746818,
          -0.35453953436057145,
          -0.7590677342876666,
          1.0954715281036402,
          0.4432431120527865,
          -1.2507109626191366,
          0.9712441680171693,
          0.013203357152381795,
          0.18807930342327556,
          -2.4244030669480163,
          0.19642096604822498,
          0.4644164832119015,
          1.2589962842989606,
          -0.47824746769953363,
          0.4744862784598353,
          1.3118766204574364,
          -0.8680136931356329,
          -0.10129756529911702,
          0.4689138437974007,
          -1.5339069602700537,
          -0.10846820881083391,
          0.6908985750185441,
          0.18350135082338448,
          -0.5914853780307834,
          -0.9537198471375213,
          0.5703344039692307,
          1.429865002978377,
          0.5519913738620827,
          0.993412636271246,
          0.034469811988359855,
          -0.7472496880871153,
          1.4996124512981646,
          -0.4946386379145436,
          1.0399840670841098,
          0.12271290218834982,
          0.03910713883627607,
          1.5392891439270928,
          -0.5321486686255733,
          -0.7709776809477752,
          0.4228444336143023,
          0.4702867223000906,
          0.4682790545334142,
          -0.318220551982597,
          -0.638691919721894,
          0.1338412858354175,
          -0.8153205614533109,
          0.3567584183573207,
          0.1176061105063393,
          0.4441722883986997,
          1.000172564994546,
          1.2737790335626429,
          -1.0390421978667987,
          -1.2390043917953708,
          0.4672069481240647,
          1.7014753136623637,
          -0.5279990223802564,
          -0.39162490382241943,
          -0.23550259779516858,
          0.2913840379119788,
          -0.23528362452735238,
          0.41712929386903885,
          -0.8393462438785326,
          0.45414655173794455,
          0.3295495327747455,
          -0.4178229756531817,
          -0.7185662761449305,
          0.2547080145281705,
          -0.7800799954343723,
          1.6208908197100877,
          -0.12472366532659815,
          1.3768125427026123,
          0.025633067041241596,
          1.2014509834321612,
          0.5597559903640666,
          0.20773867581652714,
          -0.6946381185103704,
          0.3079191077548796,
          -0.3308755186198372,
          -0.14041599548525413,
          -1.8625381720460532,
          0.9997300943289195,
          0.7919825195272278,
          -0.554200154872438,
          0.30411179171190633,
          -0.2637799068113172,
          -1.105590430637276,
          -0.29296374986869805,
          0.7171759251788568,
          1.0201142495169346,
          -0.7232117317655378,
          1.2180757428969105,
          -0.4587277173521224,
          0.7357053360469868
         ],
         "yaxis": "y14"
        },
        {
         "line": {
          "color": "rgba(128, 128, 128, 1.0)",
          "dash": "solid",
          "shape": "linear",
          "width": 1.3
         },
         "marker": {
          "size": 2,
          "symbol": "circle"
         },
         "mode": "markers",
         "name": "D",
         "text": "",
         "type": "scatter",
         "x": [
          0.28441655846283115,
          1.6861245389387827,
          0.5649320226659227,
          -0.006992281741640265,
          0.6950104350820111,
          -2.782161294185466,
          -1.3929262166412348,
          1.1466427563740487,
          -0.1262468085370894,
          0.027610312707100796,
          2.0993419772076924,
          0.5464592496207633,
          -0.9650485066377515,
          0.350095797866304,
          0.4464205586893242,
          0.32543348059825544,
          0.24250264612773229,
          0.8134327473763154,
          -1.9221574660590977,
          -0.8515636634477415,
          -0.8859644188452906,
          1.5164945643863925,
          1.3057008239245025,
          -0.5341448824517766,
          1.2114568933445147,
          1.4805686765043942,
          -0.9903060622368212,
          -0.7111921334234341,
          -0.7705832241561541,
          0.1807635333209304,
          1.3867801276386518,
          1.2096172921326662,
          0.41417152434287813,
          -0.0754038199458381,
          -1.3353939930941396,
          0.7450243963561473,
          0.364376944348029,
          -0.46849590462886515,
          0.13246878845688012,
          0.9382466543882401,
          0.9631623571438938,
          0.8678278660229487,
          -0.5112000717690514,
          -0.10330510133411867,
          -0.34431945483637544,
          0.4260507406404684,
          1.0057291196151519,
          1.0365172878615823,
          -0.8291370209200336,
          0.4377030649632805,
          0.7017745010682606,
          -0.7673762052874429,
          -1.5952663531267484,
          -0.6793902349244565,
          0.9382454148586494,
          -1.0031684970768282,
          -0.12622705458301473,
          -0.1028625649307537,
          0.45233888419194995,
          -0.008531419431794739,
          -1.2938012749019887,
          -0.37763963492557423,
          -0.5552276038742345,
          -0.43686967873256866,
          2.5023643713562427,
          0.6273843535101066,
          -0.6921376835637734,
          0.7657233099148385,
          -0.5140437049580203,
          -0.14935928451238165,
          -1.4178162750954013,
          -0.911541945468432,
          -2.2484151726652053,
          -0.3272244929529284,
          -0.06031464011966538,
          -1.2198525633118895,
          -0.9665382189960053,
          -0.8030204857611252,
          0.09008886334577865,
          -1.5179371449807757,
          -0.7898385578973032,
          -0.0758686468454915,
          -0.49709787644938114,
          -0.7393226842199646,
          1.1175234017610933,
          0.25092684424139433,
          -0.4132636485268327,
          0.16020492569879421,
          -0.626302528337445,
          0.23902815107320322,
          0.5733871642928374,
          -1.3476994945261318,
          0.017341930072027993,
          0.32956392990260047,
          1.7254936465727004,
          0.0815643997667831,
          0.5266073855612576,
          0.40311575029138064,
          1.6872933351292154,
          -0.0014924123917553528
         ],
         "xaxis": "x15",
         "y": [
          -0.6948506396980108,
          -0.6666428538904786,
          0.10977248148330632,
          -0.34507063852421277,
          0.5644738826580985,
          0.23698645675986882,
          -0.27566335461447067,
          0.9984136711746818,
          -0.35453953436057145,
          -0.7590677342876666,
          1.0954715281036402,
          0.4432431120527865,
          -1.2507109626191366,
          0.9712441680171693,
          0.013203357152381795,
          0.18807930342327556,
          -2.4244030669480163,
          0.19642096604822498,
          0.4644164832119015,
          1.2589962842989606,
          -0.47824746769953363,
          0.4744862784598353,
          1.3118766204574364,
          -0.8680136931356329,
          -0.10129756529911702,
          0.4689138437974007,
          -1.5339069602700537,
          -0.10846820881083391,
          0.6908985750185441,
          0.18350135082338448,
          -0.5914853780307834,
          -0.9537198471375213,
          0.5703344039692307,
          1.429865002978377,
          0.5519913738620827,
          0.993412636271246,
          0.034469811988359855,
          -0.7472496880871153,
          1.4996124512981646,
          -0.4946386379145436,
          1.0399840670841098,
          0.12271290218834982,
          0.03910713883627607,
          1.5392891439270928,
          -0.5321486686255733,
          -0.7709776809477752,
          0.4228444336143023,
          0.4702867223000906,
          0.4682790545334142,
          -0.318220551982597,
          -0.638691919721894,
          0.1338412858354175,
          -0.8153205614533109,
          0.3567584183573207,
          0.1176061105063393,
          0.4441722883986997,
          1.000172564994546,
          1.2737790335626429,
          -1.0390421978667987,
          -1.2390043917953708,
          0.4672069481240647,
          1.7014753136623637,
          -0.5279990223802564,
          -0.39162490382241943,
          -0.23550259779516858,
          0.2913840379119788,
          -0.23528362452735238,
          0.41712929386903885,
          -0.8393462438785326,
          0.45414655173794455,
          0.3295495327747455,
          -0.4178229756531817,
          -0.7185662761449305,
          0.2547080145281705,
          -0.7800799954343723,
          1.6208908197100877,
          -0.12472366532659815,
          1.3768125427026123,
          0.025633067041241596,
          1.2014509834321612,
          0.5597559903640666,
          0.20773867581652714,
          -0.6946381185103704,
          0.3079191077548796,
          -0.3308755186198372,
          -0.14041599548525413,
          -1.8625381720460532,
          0.9997300943289195,
          0.7919825195272278,
          -0.554200154872438,
          0.30411179171190633,
          -0.2637799068113172,
          -1.105590430637276,
          -0.29296374986869805,
          0.7171759251788568,
          1.0201142495169346,
          -0.7232117317655378,
          1.2180757428969105,
          -0.4587277173521224,
          0.7357053360469868
         ],
         "yaxis": "y15"
        },
        {
         "histfunc": "count",
         "histnorm": "",
         "marker": {
          "color": "rgba(128, 0, 128, 1.0)",
          "line": {
           "color": "#4D5663",
           "width": 1.3
          }
         },
         "name": "D",
         "nbinsx": 10,
         "opacity": 0.8,
         "orientation": "v",
         "type": "histogram",
         "x": [
          -0.6948506396980108,
          -0.6666428538904786,
          0.10977248148330632,
          -0.34507063852421277,
          0.5644738826580985,
          0.23698645675986882,
          -0.27566335461447067,
          0.9984136711746818,
          -0.35453953436057145,
          -0.7590677342876666,
          1.0954715281036402,
          0.4432431120527865,
          -1.2507109626191366,
          0.9712441680171693,
          0.013203357152381795,
          0.18807930342327556,
          -2.4244030669480163,
          0.19642096604822498,
          0.4644164832119015,
          1.2589962842989606,
          -0.47824746769953363,
          0.4744862784598353,
          1.3118766204574364,
          -0.8680136931356329,
          -0.10129756529911702,
          0.4689138437974007,
          -1.5339069602700537,
          -0.10846820881083391,
          0.6908985750185441,
          0.18350135082338448,
          -0.5914853780307834,
          -0.9537198471375213,
          0.5703344039692307,
          1.429865002978377,
          0.5519913738620827,
          0.993412636271246,
          0.034469811988359855,
          -0.7472496880871153,
          1.4996124512981646,
          -0.4946386379145436,
          1.0399840670841098,
          0.12271290218834982,
          0.03910713883627607,
          1.5392891439270928,
          -0.5321486686255733,
          -0.7709776809477752,
          0.4228444336143023,
          0.4702867223000906,
          0.4682790545334142,
          -0.318220551982597,
          -0.638691919721894,
          0.1338412858354175,
          -0.8153205614533109,
          0.3567584183573207,
          0.1176061105063393,
          0.4441722883986997,
          1.000172564994546,
          1.2737790335626429,
          -1.0390421978667987,
          -1.2390043917953708,
          0.4672069481240647,
          1.7014753136623637,
          -0.5279990223802564,
          -0.39162490382241943,
          -0.23550259779516858,
          0.2913840379119788,
          -0.23528362452735238,
          0.41712929386903885,
          -0.8393462438785326,
          0.45414655173794455,
          0.3295495327747455,
          -0.4178229756531817,
          -0.7185662761449305,
          0.2547080145281705,
          -0.7800799954343723,
          1.6208908197100877,
          -0.12472366532659815,
          1.3768125427026123,
          0.025633067041241596,
          1.2014509834321612,
          0.5597559903640666,
          0.20773867581652714,
          -0.6946381185103704,
          0.3079191077548796,
          -0.3308755186198372,
          -0.14041599548525413,
          -1.8625381720460532,
          0.9997300943289195,
          0.7919825195272278,
          -0.554200154872438,
          0.30411179171190633,
          -0.2637799068113172,
          -1.105590430637276,
          -0.29296374986869805,
          0.7171759251788568,
          1.0201142495169346,
          -0.7232117317655378,
          1.2180757428969105,
          -0.4587277173521224,
          0.7357053360469868
         ],
         "xaxis": "x16",
         "yaxis": "y16"
        }
       ],
       "layout": {
        "bargap": 0.02,
        "legend": {
         "bgcolor": "#F5F6F9",
         "font": {
          "color": "#4D5663"
         }
        },
        "paper_bgcolor": "#F5F6F9",
        "plot_bgcolor": "#F5F6F9",
        "showlegend": false,
        "template": {
         "data": {
          "bar": [
           {
            "error_x": {
             "color": "#2a3f5f"
            },
            "error_y": {
             "color": "#2a3f5f"
            },
            "marker": {
             "line": {
              "color": "#E5ECF6",
              "width": 0.5
             }
            },
            "type": "bar"
           }
          ],
          "barpolar": [
           {
            "marker": {
             "line": {
              "color": "#E5ECF6",
              "width": 0.5
             }
            },
            "type": "barpolar"
           }
          ],
          "carpet": [
           {
            "aaxis": {
             "endlinecolor": "#2a3f5f",
             "gridcolor": "white",
             "linecolor": "white",
             "minorgridcolor": "white",
             "startlinecolor": "#2a3f5f"
            },
            "baxis": {
             "endlinecolor": "#2a3f5f",
             "gridcolor": "white",
             "linecolor": "white",
             "minorgridcolor": "white",
             "startlinecolor": "#2a3f5f"
            },
            "type": "carpet"
           }
          ],
          "choropleth": [
           {
            "colorbar": {
             "outlinewidth": 0,
             "ticks": ""
            },
            "type": "choropleth"
           }
          ],
          "contour": [
           {
            "colorbar": {
             "outlinewidth": 0,
             "ticks": ""
            },
            "colorscale": [
             [
              0,
              "#0d0887"
             ],
             [
              0.1111111111111111,
              "#46039f"
             ],
             [
              0.2222222222222222,
              "#7201a8"
             ],
             [
              0.3333333333333333,
              "#9c179e"
             ],
             [
              0.4444444444444444,
              "#bd3786"
             ],
             [
              0.5555555555555556,
              "#d8576b"
             ],
             [
              0.6666666666666666,
              "#ed7953"
             ],
             [
              0.7777777777777778,
              "#fb9f3a"
             ],
             [
              0.8888888888888888,
              "#fdca26"
             ],
             [
              1,
              "#f0f921"
             ]
            ],
            "type": "contour"
           }
          ],
          "contourcarpet": [
           {
            "colorbar": {
             "outlinewidth": 0,
             "ticks": ""
            },
            "type": "contourcarpet"
           }
          ],
          "heatmap": [
           {
            "colorbar": {
             "outlinewidth": 0,
             "ticks": ""
            },
            "colorscale": [
             [
              0,
              "#0d0887"
             ],
             [
              0.1111111111111111,
              "#46039f"
             ],
             [
              0.2222222222222222,
              "#7201a8"
             ],
             [
              0.3333333333333333,
              "#9c179e"
             ],
             [
              0.4444444444444444,
              "#bd3786"
             ],
             [
              0.5555555555555556,
              "#d8576b"
             ],
             [
              0.6666666666666666,
              "#ed7953"
             ],
             [
              0.7777777777777778,
              "#fb9f3a"
             ],
             [
              0.8888888888888888,
              "#fdca26"
             ],
             [
              1,
              "#f0f921"
             ]
            ],
            "type": "heatmap"
           }
          ],
          "heatmapgl": [
           {
            "colorbar": {
             "outlinewidth": 0,
             "ticks": ""
            },
            "colorscale": [
             [
              0,
              "#0d0887"
             ],
             [
              0.1111111111111111,
              "#46039f"
             ],
             [
              0.2222222222222222,
              "#7201a8"
             ],
             [
              0.3333333333333333,
              "#9c179e"
             ],
             [
              0.4444444444444444,
              "#bd3786"
             ],
             [
              0.5555555555555556,
              "#d8576b"
             ],
             [
              0.6666666666666666,
              "#ed7953"
             ],
             [
              0.7777777777777778,
              "#fb9f3a"
             ],
             [
              0.8888888888888888,
              "#fdca26"
             ],
             [
              1,
              "#f0f921"
             ]
            ],
            "type": "heatmapgl"
           }
          ],
          "histogram": [
           {
            "marker": {
             "colorbar": {
              "outlinewidth": 0,
              "ticks": ""
             }
            },
            "type": "histogram"
           }
          ],
          "histogram2d": [
           {
            "colorbar": {
             "outlinewidth": 0,
             "ticks": ""
            },
            "colorscale": [
             [
              0,
              "#0d0887"
             ],
             [
              0.1111111111111111,
              "#46039f"
             ],
             [
              0.2222222222222222,
              "#7201a8"
             ],
             [
              0.3333333333333333,
              "#9c179e"
             ],
             [
              0.4444444444444444,
              "#bd3786"
             ],
             [
              0.5555555555555556,
              "#d8576b"
             ],
             [
              0.6666666666666666,
              "#ed7953"
             ],
             [
              0.7777777777777778,
              "#fb9f3a"
             ],
             [
              0.8888888888888888,
              "#fdca26"
             ],
             [
              1,
              "#f0f921"
             ]
            ],
            "type": "histogram2d"
           }
          ],
          "histogram2dcontour": [
           {
            "colorbar": {
             "outlinewidth": 0,
             "ticks": ""
            },
            "colorscale": [
             [
              0,
              "#0d0887"
             ],
             [
              0.1111111111111111,
              "#46039f"
             ],
             [
              0.2222222222222222,
              "#7201a8"
             ],
             [
              0.3333333333333333,
              "#9c179e"
             ],
             [
              0.4444444444444444,
              "#bd3786"
             ],
             [
              0.5555555555555556,
              "#d8576b"
             ],
             [
              0.6666666666666666,
              "#ed7953"
             ],
             [
              0.7777777777777778,
              "#fb9f3a"
             ],
             [
              0.8888888888888888,
              "#fdca26"
             ],
             [
              1,
              "#f0f921"
             ]
            ],
            "type": "histogram2dcontour"
           }
          ],
          "mesh3d": [
           {
            "colorbar": {
             "outlinewidth": 0,
             "ticks": ""
            },
            "type": "mesh3d"
           }
          ],
          "parcoords": [
           {
            "line": {
             "colorbar": {
              "outlinewidth": 0,
              "ticks": ""
             }
            },
            "type": "parcoords"
           }
          ],
          "pie": [
           {
            "automargin": true,
            "type": "pie"
           }
          ],
          "scatter": [
           {
            "marker": {
             "colorbar": {
              "outlinewidth": 0,
              "ticks": ""
             }
            },
            "type": "scatter"
           }
          ],
          "scatter3d": [
           {
            "line": {
             "colorbar": {
              "outlinewidth": 0,
              "ticks": ""
             }
            },
            "marker": {
             "colorbar": {
              "outlinewidth": 0,
              "ticks": ""
             }
            },
            "type": "scatter3d"
           }
          ],
          "scattercarpet": [
           {
            "marker": {
             "colorbar": {
              "outlinewidth": 0,
              "ticks": ""
             }
            },
            "type": "scattercarpet"
           }
          ],
          "scattergeo": [
           {
            "marker": {
             "colorbar": {
              "outlinewidth": 0,
              "ticks": ""
             }
            },
            "type": "scattergeo"
           }
          ],
          "scattergl": [
           {
            "marker": {
             "colorbar": {
              "outlinewidth": 0,
              "ticks": ""
             }
            },
            "type": "scattergl"
           }
          ],
          "scattermapbox": [
           {
            "marker": {
             "colorbar": {
              "outlinewidth": 0,
              "ticks": ""
             }
            },
            "type": "scattermapbox"
           }
          ],
          "scatterpolar": [
           {
            "marker": {
             "colorbar": {
              "outlinewidth": 0,
              "ticks": ""
             }
            },
            "type": "scatterpolar"
           }
          ],
          "scatterpolargl": [
           {
            "marker": {
             "colorbar": {
              "outlinewidth": 0,
              "ticks": ""
             }
            },
            "type": "scatterpolargl"
           }
          ],
          "scatterternary": [
           {
            "marker": {
             "colorbar": {
              "outlinewidth": 0,
              "ticks": ""
             }
            },
            "type": "scatterternary"
           }
          ],
          "surface": [
           {
            "colorbar": {
             "outlinewidth": 0,
             "ticks": ""
            },
            "colorscale": [
             [
              0,
              "#0d0887"
             ],
             [
              0.1111111111111111,
              "#46039f"
             ],
             [
              0.2222222222222222,
              "#7201a8"
             ],
             [
              0.3333333333333333,
              "#9c179e"
             ],
             [
              0.4444444444444444,
              "#bd3786"
             ],
             [
              0.5555555555555556,
              "#d8576b"
             ],
             [
              0.6666666666666666,
              "#ed7953"
             ],
             [
              0.7777777777777778,
              "#fb9f3a"
             ],
             [
              0.8888888888888888,
              "#fdca26"
             ],
             [
              1,
              "#f0f921"
             ]
            ],
            "type": "surface"
           }
          ],
          "table": [
           {
            "cells": {
             "fill": {
              "color": "#EBF0F8"
             },
             "line": {
              "color": "white"
             }
            },
            "header": {
             "fill": {
              "color": "#C8D4E3"
             },
             "line": {
              "color": "white"
             }
            },
            "type": "table"
           }
          ]
         },
         "layout": {
          "annotationdefaults": {
           "arrowcolor": "#2a3f5f",
           "arrowhead": 0,
           "arrowwidth": 1
          },
          "coloraxis": {
           "colorbar": {
            "outlinewidth": 0,
            "ticks": ""
           }
          },
          "colorscale": {
           "diverging": [
            [
             0,
             "#8e0152"
            ],
            [
             0.1,
             "#c51b7d"
            ],
            [
             0.2,
             "#de77ae"
            ],
            [
             0.3,
             "#f1b6da"
            ],
            [
             0.4,
             "#fde0ef"
            ],
            [
             0.5,
             "#f7f7f7"
            ],
            [
             0.6,
             "#e6f5d0"
            ],
            [
             0.7,
             "#b8e186"
            ],
            [
             0.8,
             "#7fbc41"
            ],
            [
             0.9,
             "#4d9221"
            ],
            [
             1,
             "#276419"
            ]
           ],
           "sequential": [
            [
             0,
             "#0d0887"
            ],
            [
             0.1111111111111111,
             "#46039f"
            ],
            [
             0.2222222222222222,
             "#7201a8"
            ],
            [
             0.3333333333333333,
             "#9c179e"
            ],
            [
             0.4444444444444444,
             "#bd3786"
            ],
            [
             0.5555555555555556,
             "#d8576b"
            ],
            [
             0.6666666666666666,
             "#ed7953"
            ],
            [
             0.7777777777777778,
             "#fb9f3a"
            ],
            [
             0.8888888888888888,
             "#fdca26"
            ],
            [
             1,
             "#f0f921"
            ]
           ],
           "sequentialminus": [
            [
             0,
             "#0d0887"
            ],
            [
             0.1111111111111111,
             "#46039f"
            ],
            [
             0.2222222222222222,
             "#7201a8"
            ],
            [
             0.3333333333333333,
             "#9c179e"
            ],
            [
             0.4444444444444444,
             "#bd3786"
            ],
            [
             0.5555555555555556,
             "#d8576b"
            ],
            [
             0.6666666666666666,
             "#ed7953"
            ],
            [
             0.7777777777777778,
             "#fb9f3a"
            ],
            [
             0.8888888888888888,
             "#fdca26"
            ],
            [
             1,
             "#f0f921"
            ]
           ]
          },
          "colorway": [
           "#636efa",
           "#EF553B",
           "#00cc96",
           "#ab63fa",
           "#FFA15A",
           "#19d3f3",
           "#FF6692",
           "#B6E880",
           "#FF97FF",
           "#FECB52"
          ],
          "font": {
           "color": "#2a3f5f"
          },
          "geo": {
           "bgcolor": "white",
           "lakecolor": "white",
           "landcolor": "#E5ECF6",
           "showlakes": true,
           "showland": true,
           "subunitcolor": "white"
          },
          "hoverlabel": {
           "align": "left"
          },
          "hovermode": "closest",
          "mapbox": {
           "style": "light"
          },
          "paper_bgcolor": "white",
          "plot_bgcolor": "#E5ECF6",
          "polar": {
           "angularaxis": {
            "gridcolor": "white",
            "linecolor": "white",
            "ticks": ""
           },
           "bgcolor": "#E5ECF6",
           "radialaxis": {
            "gridcolor": "white",
            "linecolor": "white",
            "ticks": ""
           }
          },
          "scene": {
           "xaxis": {
            "backgroundcolor": "#E5ECF6",
            "gridcolor": "white",
            "gridwidth": 2,
            "linecolor": "white",
            "showbackground": true,
            "ticks": "",
            "zerolinecolor": "white"
           },
           "yaxis": {
            "backgroundcolor": "#E5ECF6",
            "gridcolor": "white",
            "gridwidth": 2,
            "linecolor": "white",
            "showbackground": true,
            "ticks": "",
            "zerolinecolor": "white"
           },
           "zaxis": {
            "backgroundcolor": "#E5ECF6",
            "gridcolor": "white",
            "gridwidth": 2,
            "linecolor": "white",
            "showbackground": true,
            "ticks": "",
            "zerolinecolor": "white"
           }
          },
          "shapedefaults": {
           "line": {
            "color": "#2a3f5f"
           }
          },
          "ternary": {
           "aaxis": {
            "gridcolor": "white",
            "linecolor": "white",
            "ticks": ""
           },
           "baxis": {
            "gridcolor": "white",
            "linecolor": "white",
            "ticks": ""
           },
           "bgcolor": "#E5ECF6",
           "caxis": {
            "gridcolor": "white",
            "linecolor": "white",
            "ticks": ""
           }
          },
          "title": {
           "x": 0.05
          },
          "xaxis": {
           "automargin": true,
           "gridcolor": "white",
           "linecolor": "white",
           "ticks": "",
           "title": {
            "standoff": 15
           },
           "zerolinecolor": "white",
           "zerolinewidth": 2
          },
          "yaxis": {
           "automargin": true,
           "gridcolor": "white",
           "linecolor": "white",
           "ticks": "",
           "title": {
            "standoff": 15
           },
           "zerolinecolor": "white",
           "zerolinewidth": 2
          }
         }
        },
        "title": {
         "font": {
          "color": "#4D5663"
         }
        },
        "xaxis": {
         "anchor": "y",
         "domain": [
          0,
          0.2125
         ],
         "gridcolor": "#E1E5ED",
         "showgrid": false,
         "tickfont": {
          "color": "#4D5663"
         },
         "title": {
          "font": {
           "color": "#4D5663"
          },
          "text": ""
         },
         "zerolinecolor": "#E1E5ED"
        },
        "xaxis10": {
         "anchor": "y10",
         "domain": [
          0.2625,
          0.475
         ],
         "gridcolor": "#E1E5ED",
         "showgrid": false,
         "tickfont": {
          "color": "#4D5663"
         },
         "title": {
          "font": {
           "color": "#4D5663"
          },
          "text": ""
         },
         "zerolinecolor": "#E1E5ED"
        },
        "xaxis11": {
         "anchor": "y11",
         "domain": [
          0.525,
          0.7375
         ],
         "gridcolor": "#E1E5ED",
         "showgrid": false,
         "tickfont": {
          "color": "#4D5663"
         },
         "title": {
          "font": {
           "color": "#4D5663"
          },
          "text": ""
         },
         "zerolinecolor": "#E1E5ED"
        },
        "xaxis12": {
         "anchor": "y12",
         "domain": [
          0.7875,
          1
         ],
         "gridcolor": "#E1E5ED",
         "showgrid": false,
         "tickfont": {
          "color": "#4D5663"
         },
         "title": {
          "font": {
           "color": "#4D5663"
          },
          "text": ""
         },
         "zerolinecolor": "#E1E5ED"
        },
        "xaxis13": {
         "anchor": "y13",
         "domain": [
          0,
          0.2125
         ],
         "gridcolor": "#E1E5ED",
         "showgrid": false,
         "tickfont": {
          "color": "#4D5663"
         },
         "title": {
          "font": {
           "color": "#4D5663"
          },
          "text": ""
         },
         "zerolinecolor": "#E1E5ED"
        },
        "xaxis14": {
         "anchor": "y14",
         "domain": [
          0.2625,
          0.475
         ],
         "gridcolor": "#E1E5ED",
         "showgrid": false,
         "tickfont": {
          "color": "#4D5663"
         },
         "title": {
          "font": {
           "color": "#4D5663"
          },
          "text": ""
         },
         "zerolinecolor": "#E1E5ED"
        },
        "xaxis15": {
         "anchor": "y15",
         "domain": [
          0.525,
          0.7375
         ],
         "gridcolor": "#E1E5ED",
         "showgrid": false,
         "tickfont": {
          "color": "#4D5663"
         },
         "title": {
          "font": {
           "color": "#4D5663"
          },
          "text": ""
         },
         "zerolinecolor": "#E1E5ED"
        },
        "xaxis16": {
         "anchor": "y16",
         "domain": [
          0.7875,
          1
         ],
         "gridcolor": "#E1E5ED",
         "showgrid": false,
         "tickfont": {
          "color": "#4D5663"
         },
         "title": {
          "font": {
           "color": "#4D5663"
          },
          "text": ""
         },
         "zerolinecolor": "#E1E5ED"
        },
        "xaxis2": {
         "anchor": "y2",
         "domain": [
          0.2625,
          0.475
         ],
         "gridcolor": "#E1E5ED",
         "showgrid": false,
         "tickfont": {
          "color": "#4D5663"
         },
         "title": {
          "font": {
           "color": "#4D5663"
          },
          "text": ""
         },
         "zerolinecolor": "#E1E5ED"
        },
        "xaxis3": {
         "anchor": "y3",
         "domain": [
          0.525,
          0.7375
         ],
         "gridcolor": "#E1E5ED",
         "showgrid": false,
         "tickfont": {
          "color": "#4D5663"
         },
         "title": {
          "font": {
           "color": "#4D5663"
          },
          "text": ""
         },
         "zerolinecolor": "#E1E5ED"
        },
        "xaxis4": {
         "anchor": "y4",
         "domain": [
          0.7875,
          1
         ],
         "gridcolor": "#E1E5ED",
         "showgrid": false,
         "tickfont": {
          "color": "#4D5663"
         },
         "title": {
          "font": {
           "color": "#4D5663"
          },
          "text": ""
         },
         "zerolinecolor": "#E1E5ED"
        },
        "xaxis5": {
         "anchor": "y5",
         "domain": [
          0,
          0.2125
         ],
         "gridcolor": "#E1E5ED",
         "showgrid": false,
         "tickfont": {
          "color": "#4D5663"
         },
         "title": {
          "font": {
           "color": "#4D5663"
          },
          "text": ""
         },
         "zerolinecolor": "#E1E5ED"
        },
        "xaxis6": {
         "anchor": "y6",
         "domain": [
          0.2625,
          0.475
         ],
         "gridcolor": "#E1E5ED",
         "showgrid": false,
         "tickfont": {
          "color": "#4D5663"
         },
         "title": {
          "font": {
           "color": "#4D5663"
          },
          "text": ""
         },
         "zerolinecolor": "#E1E5ED"
        },
        "xaxis7": {
         "anchor": "y7",
         "domain": [
          0.525,
          0.7375
         ],
         "gridcolor": "#E1E5ED",
         "showgrid": false,
         "tickfont": {
          "color": "#4D5663"
         },
         "title": {
          "font": {
           "color": "#4D5663"
          },
          "text": ""
         },
         "zerolinecolor": "#E1E5ED"
        },
        "xaxis8": {
         "anchor": "y8",
         "domain": [
          0.7875,
          1
         ],
         "gridcolor": "#E1E5ED",
         "showgrid": false,
         "tickfont": {
          "color": "#4D5663"
         },
         "title": {
          "font": {
           "color": "#4D5663"
          },
          "text": ""
         },
         "zerolinecolor": "#E1E5ED"
        },
        "xaxis9": {
         "anchor": "y9",
         "domain": [
          0,
          0.2125
         ],
         "gridcolor": "#E1E5ED",
         "showgrid": false,
         "tickfont": {
          "color": "#4D5663"
         },
         "title": {
          "font": {
           "color": "#4D5663"
          },
          "text": ""
         },
         "zerolinecolor": "#E1E5ED"
        },
        "yaxis": {
         "anchor": "x",
         "domain": [
          0.8025,
          1
         ],
         "gridcolor": "#E1E5ED",
         "showgrid": false,
         "tickfont": {
          "color": "#4D5663"
         },
         "title": {
          "font": {
           "color": "#4D5663"
          },
          "text": ""
         },
         "zerolinecolor": "#E1E5ED"
        },
        "yaxis10": {
         "anchor": "x10",
         "domain": [
          0.2675,
          0.465
         ],
         "gridcolor": "#E1E5ED",
         "showgrid": false,
         "tickfont": {
          "color": "#4D5663"
         },
         "title": {
          "font": {
           "color": "#4D5663"
          },
          "text": ""
         },
         "zerolinecolor": "#E1E5ED"
        },
        "yaxis11": {
         "anchor": "x11",
         "domain": [
          0.2675,
          0.465
         ],
         "gridcolor": "#E1E5ED",
         "showgrid": false,
         "tickfont": {
          "color": "#4D5663"
         },
         "title": {
          "font": {
           "color": "#4D5663"
          },
          "text": ""
         },
         "zerolinecolor": "#E1E5ED"
        },
        "yaxis12": {
         "anchor": "x12",
         "domain": [
          0.2675,
          0.465
         ],
         "gridcolor": "#E1E5ED",
         "showgrid": false,
         "tickfont": {
          "color": "#4D5663"
         },
         "title": {
          "font": {
           "color": "#4D5663"
          },
          "text": ""
         },
         "zerolinecolor": "#E1E5ED"
        },
        "yaxis13": {
         "anchor": "x13",
         "domain": [
          0,
          0.1975
         ],
         "gridcolor": "#E1E5ED",
         "showgrid": false,
         "tickfont": {
          "color": "#4D5663"
         },
         "title": {
          "font": {
           "color": "#4D5663"
          },
          "text": ""
         },
         "zerolinecolor": "#E1E5ED"
        },
        "yaxis14": {
         "anchor": "x14",
         "domain": [
          0,
          0.1975
         ],
         "gridcolor": "#E1E5ED",
         "showgrid": false,
         "tickfont": {
          "color": "#4D5663"
         },
         "title": {
          "font": {
           "color": "#4D5663"
          },
          "text": ""
         },
         "zerolinecolor": "#E1E5ED"
        },
        "yaxis15": {
         "anchor": "x15",
         "domain": [
          0,
          0.1975
         ],
         "gridcolor": "#E1E5ED",
         "showgrid": false,
         "tickfont": {
          "color": "#4D5663"
         },
         "title": {
          "font": {
           "color": "#4D5663"
          },
          "text": ""
         },
         "zerolinecolor": "#E1E5ED"
        },
        "yaxis16": {
         "anchor": "x16",
         "domain": [
          0,
          0.1975
         ],
         "gridcolor": "#E1E5ED",
         "showgrid": false,
         "tickfont": {
          "color": "#4D5663"
         },
         "title": {
          "font": {
           "color": "#4D5663"
          },
          "text": ""
         },
         "zerolinecolor": "#E1E5ED"
        },
        "yaxis2": {
         "anchor": "x2",
         "domain": [
          0.8025,
          1
         ],
         "gridcolor": "#E1E5ED",
         "showgrid": false,
         "tickfont": {
          "color": "#4D5663"
         },
         "title": {
          "font": {
           "color": "#4D5663"
          },
          "text": ""
         },
         "zerolinecolor": "#E1E5ED"
        },
        "yaxis3": {
         "anchor": "x3",
         "domain": [
          0.8025,
          1
         ],
         "gridcolor": "#E1E5ED",
         "showgrid": false,
         "tickfont": {
          "color": "#4D5663"
         },
         "title": {
          "font": {
           "color": "#4D5663"
          },
          "text": ""
         },
         "zerolinecolor": "#E1E5ED"
        },
        "yaxis4": {
         "anchor": "x4",
         "domain": [
          0.8025,
          1
         ],
         "gridcolor": "#E1E5ED",
         "showgrid": false,
         "tickfont": {
          "color": "#4D5663"
         },
         "title": {
          "font": {
           "color": "#4D5663"
          },
          "text": ""
         },
         "zerolinecolor": "#E1E5ED"
        },
        "yaxis5": {
         "anchor": "x5",
         "domain": [
          0.535,
          0.7325
         ],
         "gridcolor": "#E1E5ED",
         "showgrid": false,
         "tickfont": {
          "color": "#4D5663"
         },
         "title": {
          "font": {
           "color": "#4D5663"
          },
          "text": ""
         },
         "zerolinecolor": "#E1E5ED"
        },
        "yaxis6": {
         "anchor": "x6",
         "domain": [
          0.535,
          0.7325
         ],
         "gridcolor": "#E1E5ED",
         "showgrid": false,
         "tickfont": {
          "color": "#4D5663"
         },
         "title": {
          "font": {
           "color": "#4D5663"
          },
          "text": ""
         },
         "zerolinecolor": "#E1E5ED"
        },
        "yaxis7": {
         "anchor": "x7",
         "domain": [
          0.535,
          0.7325
         ],
         "gridcolor": "#E1E5ED",
         "showgrid": false,
         "tickfont": {
          "color": "#4D5663"
         },
         "title": {
          "font": {
           "color": "#4D5663"
          },
          "text": ""
         },
         "zerolinecolor": "#E1E5ED"
        },
        "yaxis8": {
         "anchor": "x8",
         "domain": [
          0.535,
          0.7325
         ],
         "gridcolor": "#E1E5ED",
         "showgrid": false,
         "tickfont": {
          "color": "#4D5663"
         },
         "title": {
          "font": {
           "color": "#4D5663"
          },
          "text": ""
         },
         "zerolinecolor": "#E1E5ED"
        },
        "yaxis9": {
         "anchor": "x9",
         "domain": [
          0.2675,
          0.465
         ],
         "gridcolor": "#E1E5ED",
         "showgrid": false,
         "tickfont": {
          "color": "#4D5663"
         },
         "title": {
          "font": {
           "color": "#4D5663"
          },
          "text": ""
         },
         "zerolinecolor": "#E1E5ED"
        }
       }
      },
      "text/html": [
       "<div>\n",
       "        \n",
       "        \n",
       "            <div id=\"63b681eb-b665-4632-8e50-016e6580c04c\" class=\"plotly-graph-div\" style=\"height:525px; width:100%;\"></div>\n",
       "            <script type=\"text/javascript\">\n",
       "                require([\"plotly\"], function(Plotly) {\n",
       "                    window.PLOTLYENV=window.PLOTLYENV || {};\n",
       "                    window.PLOTLYENV.BASE_URL='https://plot.ly';\n",
       "                    \n",
       "                if (document.getElementById(\"63b681eb-b665-4632-8e50-016e6580c04c\")) {\n",
       "                    Plotly.newPlot(\n",
       "                        '63b681eb-b665-4632-8e50-016e6580c04c',\n",
       "                        [{\"histfunc\": \"count\", \"histnorm\": \"\", \"marker\": {\"color\": \"rgba(255, 153, 51, 1.0)\", \"line\": {\"color\": \"#4D5663\", \"width\": 1.3}}, \"name\": \"A\", \"nbinsx\": 10, \"opacity\": 0.8, \"orientation\": \"v\", \"type\": \"histogram\", \"x\": [0.3925721259516482, 1.372423172955678, 2.242609686488439, -0.8582063908771425, 0.7608248424673095, 0.7000004474958651, -2.012133152037724, 0.9326208404062066, -0.659318333188724, 1.6928610483674762, -0.6871886678918286, -0.35039380953159355, -0.42079236277313725, 0.8690052189226001, -0.576444210165041, 0.21995333800259842, -0.4444106568943757, -1.1440185333618915, -1.6578956613807303, -0.4101416114246453, -0.8519320305097161, 1.2103242834430672, 0.32015253922147136, -0.10035894535953092, -0.8488192702393195, -0.5572712613655367, -1.0688607093730706, -0.42181977168796303, 0.12733568405289733, -1.0665476173525776, 0.9261690103955689, -1.9549129649944113, -1.0277111422245617, -0.38799086170382646, 1.1509943645776262, -1.745769144522121, 1.2130978831137753, -0.6425110489904321, -0.57978668657439, 1.0712439163287628, -0.9234875765962591, 2.961687683445264, -0.8009271101769784, -0.6562531660019234, -0.27821128532982536, -1.2066325053881286, 3.292598801986526, -1.543892912424364, 0.5426822404287032, 0.6393413189471646, -0.429902886768494, -0.9816502324772437, 0.04303598600358611, -1.167434040446578, 0.7324805559746674, 0.8864020652679193, 0.5228613497547522, -1.1582437180761456, 0.8668597258010465, -1.124040455883926, 1.8000496709282203, 0.8645540802609497, -1.1773722266718076, -0.13804095883041229, -0.6407571208877594, -0.4281134664922928, -1.0138183021796128, -1.3585492226847056, -0.858301495895222, -0.08680224327455878, -0.9429499025251274, -0.516543913855966, -1.9085819167197682, -0.3047314446803455, -0.8469563304785783, 1.6986622415450738, 0.4788801048455923, 0.8165342542226821, 0.2712567992995717, -1.7066836444868176, -0.41177484570153433, 3.4776607657004988, -2.834396666032772, -0.7774122936937027, 1.7045043869532526, -0.06080095132088235, -0.76980795302438, -1.0415010013073016, 0.5224033425902554, 0.8532714130883641, 0.5484720112680194, 0.3391173259213127, -1.5739514633185079, 0.5619600984821377, -0.5983771760743023, 1.1075742347923272, -1.6666578332055928, -0.3778299507535159, -0.6830647528616767, 0.41404579007455566], \"xaxis\": \"x\", \"yaxis\": \"y\"}, {\"line\": {\"color\": \"rgba(128, 128, 128, 1.0)\", \"dash\": \"solid\", \"shape\": \"linear\", \"width\": 1.3}, \"marker\": {\"size\": 2, \"symbol\": \"circle\"}, \"mode\": \"markers\", \"name\": \"A\", \"text\": \"\", \"type\": \"scatter\", \"x\": [-0.18562897664789632, 0.2814946331226841, -0.5611496729894913, -0.4024455177000891, -0.5067484326841816, -0.5046831255213409, 0.3071138555381204, 0.5235719311401476, 0.1689123266002498, -0.648541330346596, -0.2781926966218052, 0.5674683584811326, 0.46108742396861463, 0.4081857886915297, 0.8856809194878353, 0.8230987593991649, -0.39330647758921633, 0.3233245409289331, -0.6207219618976456, -2.398805095729414, 1.1216956439427725, -0.5863344522457911, 0.5607494682257044, 0.10914101529479345, -0.10621089901970976, -0.4309016156343589, -0.41156421677297167, -0.11563017368980043, -2.036410216502865, -0.3110822648687047, 0.4256721368775975, -0.7804317607711396, 1.3742457362160845, 1.5447331731436296, -0.7250748089914916, 0.24929992571674361, -1.7794793815328092, 0.24138473009400277, -1.2034168942707761, 1.0414639210199483, -0.5670377462359961, -0.21270823704091296, -0.685999635317336, 1.1247530050048336, 1.188669271627665, -1.8444053144861277, -0.48683583832976574, -1.4150671526928436, -0.7958340475909478, 0.08001675426748367, -0.7821642717145418, -0.5779608466326287, 0.7616839022768124, 0.5873755367983575, 0.7997869163737407, 0.9558533340809422, -0.9061367977781155, -0.43578105334829365, -0.21657032067850326, -0.7972237736675932, 0.5467520310235533, -0.05996238706349433, -1.3103756836643208, -1.2984105754608068, -1.08278714497136, -0.067375476395044, -0.2012741546557389, 0.7301998783153228, 0.7860790647665244, 1.2748168237130528, -0.15838584047247817, -0.7367956174793401, 0.17381865974815355, -0.608882127348547, 0.019790573117705768, -0.5581866426850328, 0.37207449041564766, 2.433253765776426, -0.2519215314634941, 0.7858365678345681, 0.5594533930884258, 0.21976613500776326, -0.6254685895049678, -0.6561891284929092, 2.1213683420326332, 0.12457784109751802, -0.14382087113095818, 0.4394487501767444, -0.744337348321256, -0.3777265856290238, 0.8070672733664923, -0.24328759151350107, -1.7140416474135354, -1.5670830508801825, 1.8234229094828922, 0.5031344290993308, -1.366297613187657, 1.0133773132755128, -0.28092282255864715, -0.16105588035881507], \"xaxis\": \"x2\", \"y\": [0.3925721259516482, 1.372423172955678, 2.242609686488439, -0.8582063908771425, 0.7608248424673095, 0.7000004474958651, -2.012133152037724, 0.9326208404062066, -0.659318333188724, 1.6928610483674762, -0.6871886678918286, -0.35039380953159355, -0.42079236277313725, 0.8690052189226001, -0.576444210165041, 0.21995333800259842, -0.4444106568943757, -1.1440185333618915, -1.6578956613807303, -0.4101416114246453, -0.8519320305097161, 1.2103242834430672, 0.32015253922147136, -0.10035894535953092, -0.8488192702393195, -0.5572712613655367, -1.0688607093730706, -0.42181977168796303, 0.12733568405289733, -1.0665476173525776, 0.9261690103955689, -1.9549129649944113, -1.0277111422245617, -0.38799086170382646, 1.1509943645776262, -1.745769144522121, 1.2130978831137753, -0.6425110489904321, -0.57978668657439, 1.0712439163287628, -0.9234875765962591, 2.961687683445264, -0.8009271101769784, -0.6562531660019234, -0.27821128532982536, -1.2066325053881286, 3.292598801986526, -1.543892912424364, 0.5426822404287032, 0.6393413189471646, -0.429902886768494, -0.9816502324772437, 0.04303598600358611, -1.167434040446578, 0.7324805559746674, 0.8864020652679193, 0.5228613497547522, -1.1582437180761456, 0.8668597258010465, -1.124040455883926, 1.8000496709282203, 0.8645540802609497, -1.1773722266718076, -0.13804095883041229, -0.6407571208877594, -0.4281134664922928, -1.0138183021796128, -1.3585492226847056, -0.858301495895222, -0.08680224327455878, -0.9429499025251274, -0.516543913855966, -1.9085819167197682, -0.3047314446803455, -0.8469563304785783, 1.6986622415450738, 0.4788801048455923, 0.8165342542226821, 0.2712567992995717, -1.7066836444868176, -0.41177484570153433, 3.4776607657004988, -2.834396666032772, -0.7774122936937027, 1.7045043869532526, -0.06080095132088235, -0.76980795302438, -1.0415010013073016, 0.5224033425902554, 0.8532714130883641, 0.5484720112680194, 0.3391173259213127, -1.5739514633185079, 0.5619600984821377, -0.5983771760743023, 1.1075742347923272, -1.6666578332055928, -0.3778299507535159, -0.6830647528616767, 0.41404579007455566], \"yaxis\": \"y2\"}, {\"line\": {\"color\": \"rgba(128, 128, 128, 1.0)\", \"dash\": \"solid\", \"shape\": \"linear\", \"width\": 1.3}, \"marker\": {\"size\": 2, \"symbol\": \"circle\"}, \"mode\": \"markers\", \"name\": \"A\", \"text\": \"\", \"type\": \"scatter\", \"x\": [0.28441655846283115, 1.6861245389387827, 0.5649320226659227, -0.006992281741640265, 0.6950104350820111, -2.782161294185466, -1.3929262166412348, 1.1466427563740487, -0.1262468085370894, 0.027610312707100796, 2.0993419772076924, 0.5464592496207633, -0.9650485066377515, 0.350095797866304, 0.4464205586893242, 0.32543348059825544, 0.24250264612773229, 0.8134327473763154, -1.9221574660590977, -0.8515636634477415, -0.8859644188452906, 1.5164945643863925, 1.3057008239245025, -0.5341448824517766, 1.2114568933445147, 1.4805686765043942, -0.9903060622368212, -0.7111921334234341, -0.7705832241561541, 0.1807635333209304, 1.3867801276386518, 1.2096172921326662, 0.41417152434287813, -0.0754038199458381, -1.3353939930941396, 0.7450243963561473, 0.364376944348029, -0.46849590462886515, 0.13246878845688012, 0.9382466543882401, 0.9631623571438938, 0.8678278660229487, -0.5112000717690514, -0.10330510133411867, -0.34431945483637544, 0.4260507406404684, 1.0057291196151519, 1.0365172878615823, -0.8291370209200336, 0.4377030649632805, 0.7017745010682606, -0.7673762052874429, -1.5952663531267484, -0.6793902349244565, 0.9382454148586494, -1.0031684970768282, -0.12622705458301473, -0.1028625649307537, 0.45233888419194995, -0.008531419431794739, -1.2938012749019887, -0.37763963492557423, -0.5552276038742345, -0.43686967873256866, 2.5023643713562427, 0.6273843535101066, -0.6921376835637734, 0.7657233099148385, -0.5140437049580203, -0.14935928451238165, -1.4178162750954013, -0.911541945468432, -2.2484151726652053, -0.3272244929529284, -0.06031464011966538, -1.2198525633118895, -0.9665382189960053, -0.8030204857611252, 0.09008886334577865, -1.5179371449807757, -0.7898385578973032, -0.0758686468454915, -0.49709787644938114, -0.7393226842199646, 1.1175234017610933, 0.25092684424139433, -0.4132636485268327, 0.16020492569879421, -0.626302528337445, 0.23902815107320322, 0.5733871642928374, -1.3476994945261318, 0.017341930072027993, 0.32956392990260047, 1.7254936465727004, 0.0815643997667831, 0.5266073855612576, 0.40311575029138064, 1.6872933351292154, -0.0014924123917553528], \"xaxis\": \"x3\", \"y\": [0.3925721259516482, 1.372423172955678, 2.242609686488439, -0.8582063908771425, 0.7608248424673095, 0.7000004474958651, -2.012133152037724, 0.9326208404062066, -0.659318333188724, 1.6928610483674762, -0.6871886678918286, -0.35039380953159355, -0.42079236277313725, 0.8690052189226001, -0.576444210165041, 0.21995333800259842, -0.4444106568943757, -1.1440185333618915, -1.6578956613807303, -0.4101416114246453, -0.8519320305097161, 1.2103242834430672, 0.32015253922147136, -0.10035894535953092, -0.8488192702393195, -0.5572712613655367, -1.0688607093730706, -0.42181977168796303, 0.12733568405289733, -1.0665476173525776, 0.9261690103955689, -1.9549129649944113, -1.0277111422245617, -0.38799086170382646, 1.1509943645776262, -1.745769144522121, 1.2130978831137753, -0.6425110489904321, -0.57978668657439, 1.0712439163287628, -0.9234875765962591, 2.961687683445264, -0.8009271101769784, -0.6562531660019234, -0.27821128532982536, -1.2066325053881286, 3.292598801986526, -1.543892912424364, 0.5426822404287032, 0.6393413189471646, -0.429902886768494, -0.9816502324772437, 0.04303598600358611, -1.167434040446578, 0.7324805559746674, 0.8864020652679193, 0.5228613497547522, -1.1582437180761456, 0.8668597258010465, -1.124040455883926, 1.8000496709282203, 0.8645540802609497, -1.1773722266718076, -0.13804095883041229, -0.6407571208877594, -0.4281134664922928, -1.0138183021796128, -1.3585492226847056, -0.858301495895222, -0.08680224327455878, -0.9429499025251274, -0.516543913855966, -1.9085819167197682, -0.3047314446803455, -0.8469563304785783, 1.6986622415450738, 0.4788801048455923, 0.8165342542226821, 0.2712567992995717, -1.7066836444868176, -0.41177484570153433, 3.4776607657004988, -2.834396666032772, -0.7774122936937027, 1.7045043869532526, -0.06080095132088235, -0.76980795302438, -1.0415010013073016, 0.5224033425902554, 0.8532714130883641, 0.5484720112680194, 0.3391173259213127, -1.5739514633185079, 0.5619600984821377, -0.5983771760743023, 1.1075742347923272, -1.6666578332055928, -0.3778299507535159, -0.6830647528616767, 0.41404579007455566], \"yaxis\": \"y3\"}, {\"line\": {\"color\": \"rgba(128, 128, 128, 1.0)\", \"dash\": \"solid\", \"shape\": \"linear\", \"width\": 1.3}, \"marker\": {\"size\": 2, \"symbol\": \"circle\"}, \"mode\": \"markers\", \"name\": \"A\", \"text\": \"\", \"type\": \"scatter\", \"x\": [-0.6948506396980108, -0.6666428538904786, 0.10977248148330632, -0.34507063852421277, 0.5644738826580985, 0.23698645675986882, -0.27566335461447067, 0.9984136711746818, -0.35453953436057145, -0.7590677342876666, 1.0954715281036402, 0.4432431120527865, -1.2507109626191366, 0.9712441680171693, 0.013203357152381795, 0.18807930342327556, -2.4244030669480163, 0.19642096604822498, 0.4644164832119015, 1.2589962842989606, -0.47824746769953363, 0.4744862784598353, 1.3118766204574364, -0.8680136931356329, -0.10129756529911702, 0.4689138437974007, -1.5339069602700537, -0.10846820881083391, 0.6908985750185441, 0.18350135082338448, -0.5914853780307834, -0.9537198471375213, 0.5703344039692307, 1.429865002978377, 0.5519913738620827, 0.993412636271246, 0.034469811988359855, -0.7472496880871153, 1.4996124512981646, -0.4946386379145436, 1.0399840670841098, 0.12271290218834982, 0.03910713883627607, 1.5392891439270928, -0.5321486686255733, -0.7709776809477752, 0.4228444336143023, 0.4702867223000906, 0.4682790545334142, -0.318220551982597, -0.638691919721894, 0.1338412858354175, -0.8153205614533109, 0.3567584183573207, 0.1176061105063393, 0.4441722883986997, 1.000172564994546, 1.2737790335626429, -1.0390421978667987, -1.2390043917953708, 0.4672069481240647, 1.7014753136623637, -0.5279990223802564, -0.39162490382241943, -0.23550259779516858, 0.2913840379119788, -0.23528362452735238, 0.41712929386903885, -0.8393462438785326, 0.45414655173794455, 0.3295495327747455, -0.4178229756531817, -0.7185662761449305, 0.2547080145281705, -0.7800799954343723, 1.6208908197100877, -0.12472366532659815, 1.3768125427026123, 0.025633067041241596, 1.2014509834321612, 0.5597559903640666, 0.20773867581652714, -0.6946381185103704, 0.3079191077548796, -0.3308755186198372, -0.14041599548525413, -1.8625381720460532, 0.9997300943289195, 0.7919825195272278, -0.554200154872438, 0.30411179171190633, -0.2637799068113172, -1.105590430637276, -0.29296374986869805, 0.7171759251788568, 1.0201142495169346, -0.7232117317655378, 1.2180757428969105, -0.4587277173521224, 0.7357053360469868], \"xaxis\": \"x4\", \"y\": [0.3925721259516482, 1.372423172955678, 2.242609686488439, -0.8582063908771425, 0.7608248424673095, 0.7000004474958651, -2.012133152037724, 0.9326208404062066, -0.659318333188724, 1.6928610483674762, -0.6871886678918286, -0.35039380953159355, -0.42079236277313725, 0.8690052189226001, -0.576444210165041, 0.21995333800259842, -0.4444106568943757, -1.1440185333618915, -1.6578956613807303, -0.4101416114246453, -0.8519320305097161, 1.2103242834430672, 0.32015253922147136, -0.10035894535953092, -0.8488192702393195, -0.5572712613655367, -1.0688607093730706, -0.42181977168796303, 0.12733568405289733, -1.0665476173525776, 0.9261690103955689, -1.9549129649944113, -1.0277111422245617, -0.38799086170382646, 1.1509943645776262, -1.745769144522121, 1.2130978831137753, -0.6425110489904321, -0.57978668657439, 1.0712439163287628, -0.9234875765962591, 2.961687683445264, -0.8009271101769784, -0.6562531660019234, -0.27821128532982536, -1.2066325053881286, 3.292598801986526, -1.543892912424364, 0.5426822404287032, 0.6393413189471646, -0.429902886768494, -0.9816502324772437, 0.04303598600358611, -1.167434040446578, 0.7324805559746674, 0.8864020652679193, 0.5228613497547522, -1.1582437180761456, 0.8668597258010465, -1.124040455883926, 1.8000496709282203, 0.8645540802609497, -1.1773722266718076, -0.13804095883041229, -0.6407571208877594, -0.4281134664922928, -1.0138183021796128, -1.3585492226847056, -0.858301495895222, -0.08680224327455878, -0.9429499025251274, -0.516543913855966, -1.9085819167197682, -0.3047314446803455, -0.8469563304785783, 1.6986622415450738, 0.4788801048455923, 0.8165342542226821, 0.2712567992995717, -1.7066836444868176, -0.41177484570153433, 3.4776607657004988, -2.834396666032772, -0.7774122936937027, 1.7045043869532526, -0.06080095132088235, -0.76980795302438, -1.0415010013073016, 0.5224033425902554, 0.8532714130883641, 0.5484720112680194, 0.3391173259213127, -1.5739514633185079, 0.5619600984821377, -0.5983771760743023, 1.1075742347923272, -1.6666578332055928, -0.3778299507535159, -0.6830647528616767, 0.41404579007455566], \"yaxis\": \"y4\"}, {\"line\": {\"color\": \"rgba(128, 128, 128, 1.0)\", \"dash\": \"solid\", \"shape\": \"linear\", \"width\": 1.3}, \"marker\": {\"size\": 2, \"symbol\": \"circle\"}, \"mode\": \"markers\", \"name\": \"B\", \"text\": \"\", \"type\": \"scatter\", \"x\": [0.3925721259516482, 1.372423172955678, 2.242609686488439, -0.8582063908771425, 0.7608248424673095, 0.7000004474958651, -2.012133152037724, 0.9326208404062066, -0.659318333188724, 1.6928610483674762, -0.6871886678918286, -0.35039380953159355, -0.42079236277313725, 0.8690052189226001, -0.576444210165041, 0.21995333800259842, -0.4444106568943757, -1.1440185333618915, -1.6578956613807303, -0.4101416114246453, -0.8519320305097161, 1.2103242834430672, 0.32015253922147136, -0.10035894535953092, -0.8488192702393195, -0.5572712613655367, -1.0688607093730706, -0.42181977168796303, 0.12733568405289733, -1.0665476173525776, 0.9261690103955689, -1.9549129649944113, -1.0277111422245617, -0.38799086170382646, 1.1509943645776262, -1.745769144522121, 1.2130978831137753, -0.6425110489904321, -0.57978668657439, 1.0712439163287628, -0.9234875765962591, 2.961687683445264, -0.8009271101769784, -0.6562531660019234, -0.27821128532982536, -1.2066325053881286, 3.292598801986526, -1.543892912424364, 0.5426822404287032, 0.6393413189471646, -0.429902886768494, -0.9816502324772437, 0.04303598600358611, -1.167434040446578, 0.7324805559746674, 0.8864020652679193, 0.5228613497547522, -1.1582437180761456, 0.8668597258010465, -1.124040455883926, 1.8000496709282203, 0.8645540802609497, -1.1773722266718076, -0.13804095883041229, -0.6407571208877594, -0.4281134664922928, -1.0138183021796128, -1.3585492226847056, -0.858301495895222, -0.08680224327455878, -0.9429499025251274, -0.516543913855966, -1.9085819167197682, -0.3047314446803455, -0.8469563304785783, 1.6986622415450738, 0.4788801048455923, 0.8165342542226821, 0.2712567992995717, -1.7066836444868176, -0.41177484570153433, 3.4776607657004988, -2.834396666032772, -0.7774122936937027, 1.7045043869532526, -0.06080095132088235, -0.76980795302438, -1.0415010013073016, 0.5224033425902554, 0.8532714130883641, 0.5484720112680194, 0.3391173259213127, -1.5739514633185079, 0.5619600984821377, -0.5983771760743023, 1.1075742347923272, -1.6666578332055928, -0.3778299507535159, -0.6830647528616767, 0.41404579007455566], \"xaxis\": \"x5\", \"y\": [-0.18562897664789632, 0.2814946331226841, -0.5611496729894913, -0.4024455177000891, -0.5067484326841816, -0.5046831255213409, 0.3071138555381204, 0.5235719311401476, 0.1689123266002498, -0.648541330346596, -0.2781926966218052, 0.5674683584811326, 0.46108742396861463, 0.4081857886915297, 0.8856809194878353, 0.8230987593991649, -0.39330647758921633, 0.3233245409289331, -0.6207219618976456, -2.398805095729414, 1.1216956439427725, -0.5863344522457911, 0.5607494682257044, 0.10914101529479345, -0.10621089901970976, -0.4309016156343589, -0.41156421677297167, -0.11563017368980043, -2.036410216502865, -0.3110822648687047, 0.4256721368775975, -0.7804317607711396, 1.3742457362160845, 1.5447331731436296, -0.7250748089914916, 0.24929992571674361, -1.7794793815328092, 0.24138473009400277, -1.2034168942707761, 1.0414639210199483, -0.5670377462359961, -0.21270823704091296, -0.685999635317336, 1.1247530050048336, 1.188669271627665, -1.8444053144861277, -0.48683583832976574, -1.4150671526928436, -0.7958340475909478, 0.08001675426748367, -0.7821642717145418, -0.5779608466326287, 0.7616839022768124, 0.5873755367983575, 0.7997869163737407, 0.9558533340809422, -0.9061367977781155, -0.43578105334829365, -0.21657032067850326, -0.7972237736675932, 0.5467520310235533, -0.05996238706349433, -1.3103756836643208, -1.2984105754608068, -1.08278714497136, -0.067375476395044, -0.2012741546557389, 0.7301998783153228, 0.7860790647665244, 1.2748168237130528, -0.15838584047247817, -0.7367956174793401, 0.17381865974815355, -0.608882127348547, 0.019790573117705768, -0.5581866426850328, 0.37207449041564766, 2.433253765776426, -0.2519215314634941, 0.7858365678345681, 0.5594533930884258, 0.21976613500776326, -0.6254685895049678, -0.6561891284929092, 2.1213683420326332, 0.12457784109751802, -0.14382087113095818, 0.4394487501767444, -0.744337348321256, -0.3777265856290238, 0.8070672733664923, -0.24328759151350107, -1.7140416474135354, -1.5670830508801825, 1.8234229094828922, 0.5031344290993308, -1.366297613187657, 1.0133773132755128, -0.28092282255864715, -0.16105588035881507], \"yaxis\": \"y5\"}, {\"histfunc\": \"count\", \"histnorm\": \"\", \"marker\": {\"color\": \"rgba(55, 128, 191, 1.0)\", \"line\": {\"color\": \"#4D5663\", \"width\": 1.3}}, \"name\": \"B\", \"nbinsx\": 10, \"opacity\": 0.8, \"orientation\": \"v\", \"type\": \"histogram\", \"x\": [-0.18562897664789632, 0.2814946331226841, -0.5611496729894913, -0.4024455177000891, -0.5067484326841816, -0.5046831255213409, 0.3071138555381204, 0.5235719311401476, 0.1689123266002498, -0.648541330346596, -0.2781926966218052, 0.5674683584811326, 0.46108742396861463, 0.4081857886915297, 0.8856809194878353, 0.8230987593991649, -0.39330647758921633, 0.3233245409289331, -0.6207219618976456, -2.398805095729414, 1.1216956439427725, -0.5863344522457911, 0.5607494682257044, 0.10914101529479345, -0.10621089901970976, -0.4309016156343589, -0.41156421677297167, -0.11563017368980043, -2.036410216502865, -0.3110822648687047, 0.4256721368775975, -0.7804317607711396, 1.3742457362160845, 1.5447331731436296, -0.7250748089914916, 0.24929992571674361, -1.7794793815328092, 0.24138473009400277, -1.2034168942707761, 1.0414639210199483, -0.5670377462359961, -0.21270823704091296, -0.685999635317336, 1.1247530050048336, 1.188669271627665, -1.8444053144861277, -0.48683583832976574, -1.4150671526928436, -0.7958340475909478, 0.08001675426748367, -0.7821642717145418, -0.5779608466326287, 0.7616839022768124, 0.5873755367983575, 0.7997869163737407, 0.9558533340809422, -0.9061367977781155, -0.43578105334829365, -0.21657032067850326, -0.7972237736675932, 0.5467520310235533, -0.05996238706349433, -1.3103756836643208, -1.2984105754608068, -1.08278714497136, -0.067375476395044, -0.2012741546557389, 0.7301998783153228, 0.7860790647665244, 1.2748168237130528, -0.15838584047247817, -0.7367956174793401, 0.17381865974815355, -0.608882127348547, 0.019790573117705768, -0.5581866426850328, 0.37207449041564766, 2.433253765776426, -0.2519215314634941, 0.7858365678345681, 0.5594533930884258, 0.21976613500776326, -0.6254685895049678, -0.6561891284929092, 2.1213683420326332, 0.12457784109751802, -0.14382087113095818, 0.4394487501767444, -0.744337348321256, -0.3777265856290238, 0.8070672733664923, -0.24328759151350107, -1.7140416474135354, -1.5670830508801825, 1.8234229094828922, 0.5031344290993308, -1.366297613187657, 1.0133773132755128, -0.28092282255864715, -0.16105588035881507], \"xaxis\": \"x6\", \"yaxis\": \"y6\"}, {\"line\": {\"color\": \"rgba(128, 128, 128, 1.0)\", \"dash\": \"solid\", \"shape\": \"linear\", \"width\": 1.3}, \"marker\": {\"size\": 2, \"symbol\": \"circle\"}, \"mode\": \"markers\", \"name\": \"B\", \"text\": \"\", \"type\": \"scatter\", \"x\": [0.28441655846283115, 1.6861245389387827, 0.5649320226659227, -0.006992281741640265, 0.6950104350820111, -2.782161294185466, -1.3929262166412348, 1.1466427563740487, -0.1262468085370894, 0.027610312707100796, 2.0993419772076924, 0.5464592496207633, -0.9650485066377515, 0.350095797866304, 0.4464205586893242, 0.32543348059825544, 0.24250264612773229, 0.8134327473763154, -1.9221574660590977, -0.8515636634477415, -0.8859644188452906, 1.5164945643863925, 1.3057008239245025, -0.5341448824517766, 1.2114568933445147, 1.4805686765043942, -0.9903060622368212, -0.7111921334234341, -0.7705832241561541, 0.1807635333209304, 1.3867801276386518, 1.2096172921326662, 0.41417152434287813, -0.0754038199458381, -1.3353939930941396, 0.7450243963561473, 0.364376944348029, -0.46849590462886515, 0.13246878845688012, 0.9382466543882401, 0.9631623571438938, 0.8678278660229487, -0.5112000717690514, -0.10330510133411867, -0.34431945483637544, 0.4260507406404684, 1.0057291196151519, 1.0365172878615823, -0.8291370209200336, 0.4377030649632805, 0.7017745010682606, -0.7673762052874429, -1.5952663531267484, -0.6793902349244565, 0.9382454148586494, -1.0031684970768282, -0.12622705458301473, -0.1028625649307537, 0.45233888419194995, -0.008531419431794739, -1.2938012749019887, -0.37763963492557423, -0.5552276038742345, -0.43686967873256866, 2.5023643713562427, 0.6273843535101066, -0.6921376835637734, 0.7657233099148385, -0.5140437049580203, -0.14935928451238165, -1.4178162750954013, -0.911541945468432, -2.2484151726652053, -0.3272244929529284, -0.06031464011966538, -1.2198525633118895, -0.9665382189960053, -0.8030204857611252, 0.09008886334577865, -1.5179371449807757, -0.7898385578973032, -0.0758686468454915, -0.49709787644938114, -0.7393226842199646, 1.1175234017610933, 0.25092684424139433, -0.4132636485268327, 0.16020492569879421, -0.626302528337445, 0.23902815107320322, 0.5733871642928374, -1.3476994945261318, 0.017341930072027993, 0.32956392990260047, 1.7254936465727004, 0.0815643997667831, 0.5266073855612576, 0.40311575029138064, 1.6872933351292154, -0.0014924123917553528], \"xaxis\": \"x7\", \"y\": [-0.18562897664789632, 0.2814946331226841, -0.5611496729894913, -0.4024455177000891, -0.5067484326841816, -0.5046831255213409, 0.3071138555381204, 0.5235719311401476, 0.1689123266002498, -0.648541330346596, -0.2781926966218052, 0.5674683584811326, 0.46108742396861463, 0.4081857886915297, 0.8856809194878353, 0.8230987593991649, -0.39330647758921633, 0.3233245409289331, -0.6207219618976456, -2.398805095729414, 1.1216956439427725, -0.5863344522457911, 0.5607494682257044, 0.10914101529479345, -0.10621089901970976, -0.4309016156343589, -0.41156421677297167, -0.11563017368980043, -2.036410216502865, -0.3110822648687047, 0.4256721368775975, -0.7804317607711396, 1.3742457362160845, 1.5447331731436296, -0.7250748089914916, 0.24929992571674361, -1.7794793815328092, 0.24138473009400277, -1.2034168942707761, 1.0414639210199483, -0.5670377462359961, -0.21270823704091296, -0.685999635317336, 1.1247530050048336, 1.188669271627665, -1.8444053144861277, -0.48683583832976574, -1.4150671526928436, -0.7958340475909478, 0.08001675426748367, -0.7821642717145418, -0.5779608466326287, 0.7616839022768124, 0.5873755367983575, 0.7997869163737407, 0.9558533340809422, -0.9061367977781155, -0.43578105334829365, -0.21657032067850326, -0.7972237736675932, 0.5467520310235533, -0.05996238706349433, -1.3103756836643208, -1.2984105754608068, -1.08278714497136, -0.067375476395044, -0.2012741546557389, 0.7301998783153228, 0.7860790647665244, 1.2748168237130528, -0.15838584047247817, -0.7367956174793401, 0.17381865974815355, -0.608882127348547, 0.019790573117705768, -0.5581866426850328, 0.37207449041564766, 2.433253765776426, -0.2519215314634941, 0.7858365678345681, 0.5594533930884258, 0.21976613500776326, -0.6254685895049678, -0.6561891284929092, 2.1213683420326332, 0.12457784109751802, -0.14382087113095818, 0.4394487501767444, -0.744337348321256, -0.3777265856290238, 0.8070672733664923, -0.24328759151350107, -1.7140416474135354, -1.5670830508801825, 1.8234229094828922, 0.5031344290993308, -1.366297613187657, 1.0133773132755128, -0.28092282255864715, -0.16105588035881507], \"yaxis\": \"y7\"}, {\"line\": {\"color\": \"rgba(128, 128, 128, 1.0)\", \"dash\": \"solid\", \"shape\": \"linear\", \"width\": 1.3}, \"marker\": {\"size\": 2, \"symbol\": \"circle\"}, \"mode\": \"markers\", \"name\": \"B\", \"text\": \"\", \"type\": \"scatter\", \"x\": [-0.6948506396980108, -0.6666428538904786, 0.10977248148330632, -0.34507063852421277, 0.5644738826580985, 0.23698645675986882, -0.27566335461447067, 0.9984136711746818, -0.35453953436057145, -0.7590677342876666, 1.0954715281036402, 0.4432431120527865, -1.2507109626191366, 0.9712441680171693, 0.013203357152381795, 0.18807930342327556, -2.4244030669480163, 0.19642096604822498, 0.4644164832119015, 1.2589962842989606, -0.47824746769953363, 0.4744862784598353, 1.3118766204574364, -0.8680136931356329, -0.10129756529911702, 0.4689138437974007, -1.5339069602700537, -0.10846820881083391, 0.6908985750185441, 0.18350135082338448, -0.5914853780307834, -0.9537198471375213, 0.5703344039692307, 1.429865002978377, 0.5519913738620827, 0.993412636271246, 0.034469811988359855, -0.7472496880871153, 1.4996124512981646, -0.4946386379145436, 1.0399840670841098, 0.12271290218834982, 0.03910713883627607, 1.5392891439270928, -0.5321486686255733, -0.7709776809477752, 0.4228444336143023, 0.4702867223000906, 0.4682790545334142, -0.318220551982597, -0.638691919721894, 0.1338412858354175, -0.8153205614533109, 0.3567584183573207, 0.1176061105063393, 0.4441722883986997, 1.000172564994546, 1.2737790335626429, -1.0390421978667987, -1.2390043917953708, 0.4672069481240647, 1.7014753136623637, -0.5279990223802564, -0.39162490382241943, -0.23550259779516858, 0.2913840379119788, -0.23528362452735238, 0.41712929386903885, -0.8393462438785326, 0.45414655173794455, 0.3295495327747455, -0.4178229756531817, -0.7185662761449305, 0.2547080145281705, -0.7800799954343723, 1.6208908197100877, -0.12472366532659815, 1.3768125427026123, 0.025633067041241596, 1.2014509834321612, 0.5597559903640666, 0.20773867581652714, -0.6946381185103704, 0.3079191077548796, -0.3308755186198372, -0.14041599548525413, -1.8625381720460532, 0.9997300943289195, 0.7919825195272278, -0.554200154872438, 0.30411179171190633, -0.2637799068113172, -1.105590430637276, -0.29296374986869805, 0.7171759251788568, 1.0201142495169346, -0.7232117317655378, 1.2180757428969105, -0.4587277173521224, 0.7357053360469868], \"xaxis\": \"x8\", \"y\": [-0.18562897664789632, 0.2814946331226841, -0.5611496729894913, -0.4024455177000891, -0.5067484326841816, -0.5046831255213409, 0.3071138555381204, 0.5235719311401476, 0.1689123266002498, -0.648541330346596, -0.2781926966218052, 0.5674683584811326, 0.46108742396861463, 0.4081857886915297, 0.8856809194878353, 0.8230987593991649, -0.39330647758921633, 0.3233245409289331, -0.6207219618976456, -2.398805095729414, 1.1216956439427725, -0.5863344522457911, 0.5607494682257044, 0.10914101529479345, -0.10621089901970976, -0.4309016156343589, -0.41156421677297167, -0.11563017368980043, -2.036410216502865, -0.3110822648687047, 0.4256721368775975, -0.7804317607711396, 1.3742457362160845, 1.5447331731436296, -0.7250748089914916, 0.24929992571674361, -1.7794793815328092, 0.24138473009400277, -1.2034168942707761, 1.0414639210199483, -0.5670377462359961, -0.21270823704091296, -0.685999635317336, 1.1247530050048336, 1.188669271627665, -1.8444053144861277, -0.48683583832976574, -1.4150671526928436, -0.7958340475909478, 0.08001675426748367, -0.7821642717145418, -0.5779608466326287, 0.7616839022768124, 0.5873755367983575, 0.7997869163737407, 0.9558533340809422, -0.9061367977781155, -0.43578105334829365, -0.21657032067850326, -0.7972237736675932, 0.5467520310235533, -0.05996238706349433, -1.3103756836643208, -1.2984105754608068, -1.08278714497136, -0.067375476395044, -0.2012741546557389, 0.7301998783153228, 0.7860790647665244, 1.2748168237130528, -0.15838584047247817, -0.7367956174793401, 0.17381865974815355, -0.608882127348547, 0.019790573117705768, -0.5581866426850328, 0.37207449041564766, 2.433253765776426, -0.2519215314634941, 0.7858365678345681, 0.5594533930884258, 0.21976613500776326, -0.6254685895049678, -0.6561891284929092, 2.1213683420326332, 0.12457784109751802, -0.14382087113095818, 0.4394487501767444, -0.744337348321256, -0.3777265856290238, 0.8070672733664923, -0.24328759151350107, -1.7140416474135354, -1.5670830508801825, 1.8234229094828922, 0.5031344290993308, -1.366297613187657, 1.0133773132755128, -0.28092282255864715, -0.16105588035881507], \"yaxis\": \"y8\"}, {\"line\": {\"color\": \"rgba(128, 128, 128, 1.0)\", \"dash\": \"solid\", \"shape\": \"linear\", \"width\": 1.3}, \"marker\": {\"size\": 2, \"symbol\": \"circle\"}, \"mode\": \"markers\", \"name\": \"C\", \"text\": \"\", \"type\": \"scatter\", \"x\": [0.3925721259516482, 1.372423172955678, 2.242609686488439, -0.8582063908771425, 0.7608248424673095, 0.7000004474958651, -2.012133152037724, 0.9326208404062066, -0.659318333188724, 1.6928610483674762, -0.6871886678918286, -0.35039380953159355, -0.42079236277313725, 0.8690052189226001, -0.576444210165041, 0.21995333800259842, -0.4444106568943757, -1.1440185333618915, -1.6578956613807303, -0.4101416114246453, -0.8519320305097161, 1.2103242834430672, 0.32015253922147136, -0.10035894535953092, -0.8488192702393195, -0.5572712613655367, -1.0688607093730706, -0.42181977168796303, 0.12733568405289733, -1.0665476173525776, 0.9261690103955689, -1.9549129649944113, -1.0277111422245617, -0.38799086170382646, 1.1509943645776262, -1.745769144522121, 1.2130978831137753, -0.6425110489904321, -0.57978668657439, 1.0712439163287628, -0.9234875765962591, 2.961687683445264, -0.8009271101769784, -0.6562531660019234, -0.27821128532982536, -1.2066325053881286, 3.292598801986526, -1.543892912424364, 0.5426822404287032, 0.6393413189471646, -0.429902886768494, -0.9816502324772437, 0.04303598600358611, -1.167434040446578, 0.7324805559746674, 0.8864020652679193, 0.5228613497547522, -1.1582437180761456, 0.8668597258010465, -1.124040455883926, 1.8000496709282203, 0.8645540802609497, -1.1773722266718076, -0.13804095883041229, -0.6407571208877594, -0.4281134664922928, -1.0138183021796128, -1.3585492226847056, -0.858301495895222, -0.08680224327455878, -0.9429499025251274, -0.516543913855966, -1.9085819167197682, -0.3047314446803455, -0.8469563304785783, 1.6986622415450738, 0.4788801048455923, 0.8165342542226821, 0.2712567992995717, -1.7066836444868176, -0.41177484570153433, 3.4776607657004988, -2.834396666032772, -0.7774122936937027, 1.7045043869532526, -0.06080095132088235, -0.76980795302438, -1.0415010013073016, 0.5224033425902554, 0.8532714130883641, 0.5484720112680194, 0.3391173259213127, -1.5739514633185079, 0.5619600984821377, -0.5983771760743023, 1.1075742347923272, -1.6666578332055928, -0.3778299507535159, -0.6830647528616767, 0.41404579007455566], \"xaxis\": \"x9\", \"y\": [0.28441655846283115, 1.6861245389387827, 0.5649320226659227, -0.006992281741640265, 0.6950104350820111, -2.782161294185466, -1.3929262166412348, 1.1466427563740487, -0.1262468085370894, 0.027610312707100796, 2.0993419772076924, 0.5464592496207633, -0.9650485066377515, 0.350095797866304, 0.4464205586893242, 0.32543348059825544, 0.24250264612773229, 0.8134327473763154, -1.9221574660590977, -0.8515636634477415, -0.8859644188452906, 1.5164945643863925, 1.3057008239245025, -0.5341448824517766, 1.2114568933445147, 1.4805686765043942, -0.9903060622368212, -0.7111921334234341, -0.7705832241561541, 0.1807635333209304, 1.3867801276386518, 1.2096172921326662, 0.41417152434287813, -0.0754038199458381, -1.3353939930941396, 0.7450243963561473, 0.364376944348029, -0.46849590462886515, 0.13246878845688012, 0.9382466543882401, 0.9631623571438938, 0.8678278660229487, -0.5112000717690514, -0.10330510133411867, -0.34431945483637544, 0.4260507406404684, 1.0057291196151519, 1.0365172878615823, -0.8291370209200336, 0.4377030649632805, 0.7017745010682606, -0.7673762052874429, -1.5952663531267484, -0.6793902349244565, 0.9382454148586494, -1.0031684970768282, -0.12622705458301473, -0.1028625649307537, 0.45233888419194995, -0.008531419431794739, -1.2938012749019887, -0.37763963492557423, -0.5552276038742345, -0.43686967873256866, 2.5023643713562427, 0.6273843535101066, -0.6921376835637734, 0.7657233099148385, -0.5140437049580203, -0.14935928451238165, -1.4178162750954013, -0.911541945468432, -2.2484151726652053, -0.3272244929529284, -0.06031464011966538, -1.2198525633118895, -0.9665382189960053, -0.8030204857611252, 0.09008886334577865, -1.5179371449807757, -0.7898385578973032, -0.0758686468454915, -0.49709787644938114, -0.7393226842199646, 1.1175234017610933, 0.25092684424139433, -0.4132636485268327, 0.16020492569879421, -0.626302528337445, 0.23902815107320322, 0.5733871642928374, -1.3476994945261318, 0.017341930072027993, 0.32956392990260047, 1.7254936465727004, 0.0815643997667831, 0.5266073855612576, 0.40311575029138064, 1.6872933351292154, -0.0014924123917553528], \"yaxis\": \"y9\"}, {\"line\": {\"color\": \"rgba(128, 128, 128, 1.0)\", \"dash\": \"solid\", \"shape\": \"linear\", \"width\": 1.3}, \"marker\": {\"size\": 2, \"symbol\": \"circle\"}, \"mode\": \"markers\", \"name\": \"C\", \"text\": \"\", \"type\": \"scatter\", \"x\": [-0.18562897664789632, 0.2814946331226841, -0.5611496729894913, -0.4024455177000891, -0.5067484326841816, -0.5046831255213409, 0.3071138555381204, 0.5235719311401476, 0.1689123266002498, -0.648541330346596, -0.2781926966218052, 0.5674683584811326, 0.46108742396861463, 0.4081857886915297, 0.8856809194878353, 0.8230987593991649, -0.39330647758921633, 0.3233245409289331, -0.6207219618976456, -2.398805095729414, 1.1216956439427725, -0.5863344522457911, 0.5607494682257044, 0.10914101529479345, -0.10621089901970976, -0.4309016156343589, -0.41156421677297167, -0.11563017368980043, -2.036410216502865, -0.3110822648687047, 0.4256721368775975, -0.7804317607711396, 1.3742457362160845, 1.5447331731436296, -0.7250748089914916, 0.24929992571674361, -1.7794793815328092, 0.24138473009400277, -1.2034168942707761, 1.0414639210199483, -0.5670377462359961, -0.21270823704091296, -0.685999635317336, 1.1247530050048336, 1.188669271627665, -1.8444053144861277, -0.48683583832976574, -1.4150671526928436, -0.7958340475909478, 0.08001675426748367, -0.7821642717145418, -0.5779608466326287, 0.7616839022768124, 0.5873755367983575, 0.7997869163737407, 0.9558533340809422, -0.9061367977781155, -0.43578105334829365, -0.21657032067850326, -0.7972237736675932, 0.5467520310235533, -0.05996238706349433, -1.3103756836643208, -1.2984105754608068, -1.08278714497136, -0.067375476395044, -0.2012741546557389, 0.7301998783153228, 0.7860790647665244, 1.2748168237130528, -0.15838584047247817, -0.7367956174793401, 0.17381865974815355, -0.608882127348547, 0.019790573117705768, -0.5581866426850328, 0.37207449041564766, 2.433253765776426, -0.2519215314634941, 0.7858365678345681, 0.5594533930884258, 0.21976613500776326, -0.6254685895049678, -0.6561891284929092, 2.1213683420326332, 0.12457784109751802, -0.14382087113095818, 0.4394487501767444, -0.744337348321256, -0.3777265856290238, 0.8070672733664923, -0.24328759151350107, -1.7140416474135354, -1.5670830508801825, 1.8234229094828922, 0.5031344290993308, -1.366297613187657, 1.0133773132755128, -0.28092282255864715, -0.16105588035881507], \"xaxis\": \"x10\", \"y\": [0.28441655846283115, 1.6861245389387827, 0.5649320226659227, -0.006992281741640265, 0.6950104350820111, -2.782161294185466, -1.3929262166412348, 1.1466427563740487, -0.1262468085370894, 0.027610312707100796, 2.0993419772076924, 0.5464592496207633, -0.9650485066377515, 0.350095797866304, 0.4464205586893242, 0.32543348059825544, 0.24250264612773229, 0.8134327473763154, -1.9221574660590977, -0.8515636634477415, -0.8859644188452906, 1.5164945643863925, 1.3057008239245025, -0.5341448824517766, 1.2114568933445147, 1.4805686765043942, -0.9903060622368212, -0.7111921334234341, -0.7705832241561541, 0.1807635333209304, 1.3867801276386518, 1.2096172921326662, 0.41417152434287813, -0.0754038199458381, -1.3353939930941396, 0.7450243963561473, 0.364376944348029, -0.46849590462886515, 0.13246878845688012, 0.9382466543882401, 0.9631623571438938, 0.8678278660229487, -0.5112000717690514, -0.10330510133411867, -0.34431945483637544, 0.4260507406404684, 1.0057291196151519, 1.0365172878615823, -0.8291370209200336, 0.4377030649632805, 0.7017745010682606, -0.7673762052874429, -1.5952663531267484, -0.6793902349244565, 0.9382454148586494, -1.0031684970768282, -0.12622705458301473, -0.1028625649307537, 0.45233888419194995, -0.008531419431794739, -1.2938012749019887, -0.37763963492557423, -0.5552276038742345, -0.43686967873256866, 2.5023643713562427, 0.6273843535101066, -0.6921376835637734, 0.7657233099148385, -0.5140437049580203, -0.14935928451238165, -1.4178162750954013, -0.911541945468432, -2.2484151726652053, -0.3272244929529284, -0.06031464011966538, -1.2198525633118895, -0.9665382189960053, -0.8030204857611252, 0.09008886334577865, -1.5179371449807757, -0.7898385578973032, -0.0758686468454915, -0.49709787644938114, -0.7393226842199646, 1.1175234017610933, 0.25092684424139433, -0.4132636485268327, 0.16020492569879421, -0.626302528337445, 0.23902815107320322, 0.5733871642928374, -1.3476994945261318, 0.017341930072027993, 0.32956392990260047, 1.7254936465727004, 0.0815643997667831, 0.5266073855612576, 0.40311575029138064, 1.6872933351292154, -0.0014924123917553528], \"yaxis\": \"y10\"}, {\"histfunc\": \"count\", \"histnorm\": \"\", \"marker\": {\"color\": \"rgba(50, 171, 96, 1.0)\", \"line\": {\"color\": \"#4D5663\", \"width\": 1.3}}, \"name\": \"C\", \"nbinsx\": 10, \"opacity\": 0.8, \"orientation\": \"v\", \"type\": \"histogram\", \"x\": [0.28441655846283115, 1.6861245389387827, 0.5649320226659227, -0.006992281741640265, 0.6950104350820111, -2.782161294185466, -1.3929262166412348, 1.1466427563740487, -0.1262468085370894, 0.027610312707100796, 2.0993419772076924, 0.5464592496207633, -0.9650485066377515, 0.350095797866304, 0.4464205586893242, 0.32543348059825544, 0.24250264612773229, 0.8134327473763154, -1.9221574660590977, -0.8515636634477415, -0.8859644188452906, 1.5164945643863925, 1.3057008239245025, -0.5341448824517766, 1.2114568933445147, 1.4805686765043942, -0.9903060622368212, -0.7111921334234341, -0.7705832241561541, 0.1807635333209304, 1.3867801276386518, 1.2096172921326662, 0.41417152434287813, -0.0754038199458381, -1.3353939930941396, 0.7450243963561473, 0.364376944348029, -0.46849590462886515, 0.13246878845688012, 0.9382466543882401, 0.9631623571438938, 0.8678278660229487, -0.5112000717690514, -0.10330510133411867, -0.34431945483637544, 0.4260507406404684, 1.0057291196151519, 1.0365172878615823, -0.8291370209200336, 0.4377030649632805, 0.7017745010682606, -0.7673762052874429, -1.5952663531267484, -0.6793902349244565, 0.9382454148586494, -1.0031684970768282, -0.12622705458301473, -0.1028625649307537, 0.45233888419194995, -0.008531419431794739, -1.2938012749019887, -0.37763963492557423, -0.5552276038742345, -0.43686967873256866, 2.5023643713562427, 0.6273843535101066, -0.6921376835637734, 0.7657233099148385, -0.5140437049580203, -0.14935928451238165, -1.4178162750954013, -0.911541945468432, -2.2484151726652053, -0.3272244929529284, -0.06031464011966538, -1.2198525633118895, -0.9665382189960053, -0.8030204857611252, 0.09008886334577865, -1.5179371449807757, -0.7898385578973032, -0.0758686468454915, -0.49709787644938114, -0.7393226842199646, 1.1175234017610933, 0.25092684424139433, -0.4132636485268327, 0.16020492569879421, -0.626302528337445, 0.23902815107320322, 0.5733871642928374, -1.3476994945261318, 0.017341930072027993, 0.32956392990260047, 1.7254936465727004, 0.0815643997667831, 0.5266073855612576, 0.40311575029138064, 1.6872933351292154, -0.0014924123917553528], \"xaxis\": \"x11\", \"yaxis\": \"y11\"}, {\"line\": {\"color\": \"rgba(128, 128, 128, 1.0)\", \"dash\": \"solid\", \"shape\": \"linear\", \"width\": 1.3}, \"marker\": {\"size\": 2, \"symbol\": \"circle\"}, \"mode\": \"markers\", \"name\": \"C\", \"text\": \"\", \"type\": \"scatter\", \"x\": [-0.6948506396980108, -0.6666428538904786, 0.10977248148330632, -0.34507063852421277, 0.5644738826580985, 0.23698645675986882, -0.27566335461447067, 0.9984136711746818, -0.35453953436057145, -0.7590677342876666, 1.0954715281036402, 0.4432431120527865, -1.2507109626191366, 0.9712441680171693, 0.013203357152381795, 0.18807930342327556, -2.4244030669480163, 0.19642096604822498, 0.4644164832119015, 1.2589962842989606, -0.47824746769953363, 0.4744862784598353, 1.3118766204574364, -0.8680136931356329, -0.10129756529911702, 0.4689138437974007, -1.5339069602700537, -0.10846820881083391, 0.6908985750185441, 0.18350135082338448, -0.5914853780307834, -0.9537198471375213, 0.5703344039692307, 1.429865002978377, 0.5519913738620827, 0.993412636271246, 0.034469811988359855, -0.7472496880871153, 1.4996124512981646, -0.4946386379145436, 1.0399840670841098, 0.12271290218834982, 0.03910713883627607, 1.5392891439270928, -0.5321486686255733, -0.7709776809477752, 0.4228444336143023, 0.4702867223000906, 0.4682790545334142, -0.318220551982597, -0.638691919721894, 0.1338412858354175, -0.8153205614533109, 0.3567584183573207, 0.1176061105063393, 0.4441722883986997, 1.000172564994546, 1.2737790335626429, -1.0390421978667987, -1.2390043917953708, 0.4672069481240647, 1.7014753136623637, -0.5279990223802564, -0.39162490382241943, -0.23550259779516858, 0.2913840379119788, -0.23528362452735238, 0.41712929386903885, -0.8393462438785326, 0.45414655173794455, 0.3295495327747455, -0.4178229756531817, -0.7185662761449305, 0.2547080145281705, -0.7800799954343723, 1.6208908197100877, -0.12472366532659815, 1.3768125427026123, 0.025633067041241596, 1.2014509834321612, 0.5597559903640666, 0.20773867581652714, -0.6946381185103704, 0.3079191077548796, -0.3308755186198372, -0.14041599548525413, -1.8625381720460532, 0.9997300943289195, 0.7919825195272278, -0.554200154872438, 0.30411179171190633, -0.2637799068113172, -1.105590430637276, -0.29296374986869805, 0.7171759251788568, 1.0201142495169346, -0.7232117317655378, 1.2180757428969105, -0.4587277173521224, 0.7357053360469868], \"xaxis\": \"x12\", \"y\": [0.28441655846283115, 1.6861245389387827, 0.5649320226659227, -0.006992281741640265, 0.6950104350820111, -2.782161294185466, -1.3929262166412348, 1.1466427563740487, -0.1262468085370894, 0.027610312707100796, 2.0993419772076924, 0.5464592496207633, -0.9650485066377515, 0.350095797866304, 0.4464205586893242, 0.32543348059825544, 0.24250264612773229, 0.8134327473763154, -1.9221574660590977, -0.8515636634477415, -0.8859644188452906, 1.5164945643863925, 1.3057008239245025, -0.5341448824517766, 1.2114568933445147, 1.4805686765043942, -0.9903060622368212, -0.7111921334234341, -0.7705832241561541, 0.1807635333209304, 1.3867801276386518, 1.2096172921326662, 0.41417152434287813, -0.0754038199458381, -1.3353939930941396, 0.7450243963561473, 0.364376944348029, -0.46849590462886515, 0.13246878845688012, 0.9382466543882401, 0.9631623571438938, 0.8678278660229487, -0.5112000717690514, -0.10330510133411867, -0.34431945483637544, 0.4260507406404684, 1.0057291196151519, 1.0365172878615823, -0.8291370209200336, 0.4377030649632805, 0.7017745010682606, -0.7673762052874429, -1.5952663531267484, -0.6793902349244565, 0.9382454148586494, -1.0031684970768282, -0.12622705458301473, -0.1028625649307537, 0.45233888419194995, -0.008531419431794739, -1.2938012749019887, -0.37763963492557423, -0.5552276038742345, -0.43686967873256866, 2.5023643713562427, 0.6273843535101066, -0.6921376835637734, 0.7657233099148385, -0.5140437049580203, -0.14935928451238165, -1.4178162750954013, -0.911541945468432, -2.2484151726652053, -0.3272244929529284, -0.06031464011966538, -1.2198525633118895, -0.9665382189960053, -0.8030204857611252, 0.09008886334577865, -1.5179371449807757, -0.7898385578973032, -0.0758686468454915, -0.49709787644938114, -0.7393226842199646, 1.1175234017610933, 0.25092684424139433, -0.4132636485268327, 0.16020492569879421, -0.626302528337445, 0.23902815107320322, 0.5733871642928374, -1.3476994945261318, 0.017341930072027993, 0.32956392990260047, 1.7254936465727004, 0.0815643997667831, 0.5266073855612576, 0.40311575029138064, 1.6872933351292154, -0.0014924123917553528], \"yaxis\": \"y12\"}, {\"line\": {\"color\": \"rgba(128, 128, 128, 1.0)\", \"dash\": \"solid\", \"shape\": \"linear\", \"width\": 1.3}, \"marker\": {\"size\": 2, \"symbol\": \"circle\"}, \"mode\": \"markers\", \"name\": \"D\", \"text\": \"\", \"type\": \"scatter\", \"x\": [0.3925721259516482, 1.372423172955678, 2.242609686488439, -0.8582063908771425, 0.7608248424673095, 0.7000004474958651, -2.012133152037724, 0.9326208404062066, -0.659318333188724, 1.6928610483674762, -0.6871886678918286, -0.35039380953159355, -0.42079236277313725, 0.8690052189226001, -0.576444210165041, 0.21995333800259842, -0.4444106568943757, -1.1440185333618915, -1.6578956613807303, -0.4101416114246453, -0.8519320305097161, 1.2103242834430672, 0.32015253922147136, -0.10035894535953092, -0.8488192702393195, -0.5572712613655367, -1.0688607093730706, -0.42181977168796303, 0.12733568405289733, -1.0665476173525776, 0.9261690103955689, -1.9549129649944113, -1.0277111422245617, -0.38799086170382646, 1.1509943645776262, -1.745769144522121, 1.2130978831137753, -0.6425110489904321, -0.57978668657439, 1.0712439163287628, -0.9234875765962591, 2.961687683445264, -0.8009271101769784, -0.6562531660019234, -0.27821128532982536, -1.2066325053881286, 3.292598801986526, -1.543892912424364, 0.5426822404287032, 0.6393413189471646, -0.429902886768494, -0.9816502324772437, 0.04303598600358611, -1.167434040446578, 0.7324805559746674, 0.8864020652679193, 0.5228613497547522, -1.1582437180761456, 0.8668597258010465, -1.124040455883926, 1.8000496709282203, 0.8645540802609497, -1.1773722266718076, -0.13804095883041229, -0.6407571208877594, -0.4281134664922928, -1.0138183021796128, -1.3585492226847056, -0.858301495895222, -0.08680224327455878, -0.9429499025251274, -0.516543913855966, -1.9085819167197682, -0.3047314446803455, -0.8469563304785783, 1.6986622415450738, 0.4788801048455923, 0.8165342542226821, 0.2712567992995717, -1.7066836444868176, -0.41177484570153433, 3.4776607657004988, -2.834396666032772, -0.7774122936937027, 1.7045043869532526, -0.06080095132088235, -0.76980795302438, -1.0415010013073016, 0.5224033425902554, 0.8532714130883641, 0.5484720112680194, 0.3391173259213127, -1.5739514633185079, 0.5619600984821377, -0.5983771760743023, 1.1075742347923272, -1.6666578332055928, -0.3778299507535159, -0.6830647528616767, 0.41404579007455566], \"xaxis\": \"x13\", \"y\": [-0.6948506396980108, -0.6666428538904786, 0.10977248148330632, -0.34507063852421277, 0.5644738826580985, 0.23698645675986882, -0.27566335461447067, 0.9984136711746818, -0.35453953436057145, -0.7590677342876666, 1.0954715281036402, 0.4432431120527865, -1.2507109626191366, 0.9712441680171693, 0.013203357152381795, 0.18807930342327556, -2.4244030669480163, 0.19642096604822498, 0.4644164832119015, 1.2589962842989606, -0.47824746769953363, 0.4744862784598353, 1.3118766204574364, -0.8680136931356329, -0.10129756529911702, 0.4689138437974007, -1.5339069602700537, -0.10846820881083391, 0.6908985750185441, 0.18350135082338448, -0.5914853780307834, -0.9537198471375213, 0.5703344039692307, 1.429865002978377, 0.5519913738620827, 0.993412636271246, 0.034469811988359855, -0.7472496880871153, 1.4996124512981646, -0.4946386379145436, 1.0399840670841098, 0.12271290218834982, 0.03910713883627607, 1.5392891439270928, -0.5321486686255733, -0.7709776809477752, 0.4228444336143023, 0.4702867223000906, 0.4682790545334142, -0.318220551982597, -0.638691919721894, 0.1338412858354175, -0.8153205614533109, 0.3567584183573207, 0.1176061105063393, 0.4441722883986997, 1.000172564994546, 1.2737790335626429, -1.0390421978667987, -1.2390043917953708, 0.4672069481240647, 1.7014753136623637, -0.5279990223802564, -0.39162490382241943, -0.23550259779516858, 0.2913840379119788, -0.23528362452735238, 0.41712929386903885, -0.8393462438785326, 0.45414655173794455, 0.3295495327747455, -0.4178229756531817, -0.7185662761449305, 0.2547080145281705, -0.7800799954343723, 1.6208908197100877, -0.12472366532659815, 1.3768125427026123, 0.025633067041241596, 1.2014509834321612, 0.5597559903640666, 0.20773867581652714, -0.6946381185103704, 0.3079191077548796, -0.3308755186198372, -0.14041599548525413, -1.8625381720460532, 0.9997300943289195, 0.7919825195272278, -0.554200154872438, 0.30411179171190633, -0.2637799068113172, -1.105590430637276, -0.29296374986869805, 0.7171759251788568, 1.0201142495169346, -0.7232117317655378, 1.2180757428969105, -0.4587277173521224, 0.7357053360469868], \"yaxis\": \"y13\"}, {\"line\": {\"color\": \"rgba(128, 128, 128, 1.0)\", \"dash\": \"solid\", \"shape\": \"linear\", \"width\": 1.3}, \"marker\": {\"size\": 2, \"symbol\": \"circle\"}, \"mode\": \"markers\", \"name\": \"D\", \"text\": \"\", \"type\": \"scatter\", \"x\": [-0.18562897664789632, 0.2814946331226841, -0.5611496729894913, -0.4024455177000891, -0.5067484326841816, -0.5046831255213409, 0.3071138555381204, 0.5235719311401476, 0.1689123266002498, -0.648541330346596, -0.2781926966218052, 0.5674683584811326, 0.46108742396861463, 0.4081857886915297, 0.8856809194878353, 0.8230987593991649, -0.39330647758921633, 0.3233245409289331, -0.6207219618976456, -2.398805095729414, 1.1216956439427725, -0.5863344522457911, 0.5607494682257044, 0.10914101529479345, -0.10621089901970976, -0.4309016156343589, -0.41156421677297167, -0.11563017368980043, -2.036410216502865, -0.3110822648687047, 0.4256721368775975, -0.7804317607711396, 1.3742457362160845, 1.5447331731436296, -0.7250748089914916, 0.24929992571674361, -1.7794793815328092, 0.24138473009400277, -1.2034168942707761, 1.0414639210199483, -0.5670377462359961, -0.21270823704091296, -0.685999635317336, 1.1247530050048336, 1.188669271627665, -1.8444053144861277, -0.48683583832976574, -1.4150671526928436, -0.7958340475909478, 0.08001675426748367, -0.7821642717145418, -0.5779608466326287, 0.7616839022768124, 0.5873755367983575, 0.7997869163737407, 0.9558533340809422, -0.9061367977781155, -0.43578105334829365, -0.21657032067850326, -0.7972237736675932, 0.5467520310235533, -0.05996238706349433, -1.3103756836643208, -1.2984105754608068, -1.08278714497136, -0.067375476395044, -0.2012741546557389, 0.7301998783153228, 0.7860790647665244, 1.2748168237130528, -0.15838584047247817, -0.7367956174793401, 0.17381865974815355, -0.608882127348547, 0.019790573117705768, -0.5581866426850328, 0.37207449041564766, 2.433253765776426, -0.2519215314634941, 0.7858365678345681, 0.5594533930884258, 0.21976613500776326, -0.6254685895049678, -0.6561891284929092, 2.1213683420326332, 0.12457784109751802, -0.14382087113095818, 0.4394487501767444, -0.744337348321256, -0.3777265856290238, 0.8070672733664923, -0.24328759151350107, -1.7140416474135354, -1.5670830508801825, 1.8234229094828922, 0.5031344290993308, -1.366297613187657, 1.0133773132755128, -0.28092282255864715, -0.16105588035881507], \"xaxis\": \"x14\", \"y\": [-0.6948506396980108, -0.6666428538904786, 0.10977248148330632, -0.34507063852421277, 0.5644738826580985, 0.23698645675986882, -0.27566335461447067, 0.9984136711746818, -0.35453953436057145, -0.7590677342876666, 1.0954715281036402, 0.4432431120527865, -1.2507109626191366, 0.9712441680171693, 0.013203357152381795, 0.18807930342327556, -2.4244030669480163, 0.19642096604822498, 0.4644164832119015, 1.2589962842989606, -0.47824746769953363, 0.4744862784598353, 1.3118766204574364, -0.8680136931356329, -0.10129756529911702, 0.4689138437974007, -1.5339069602700537, -0.10846820881083391, 0.6908985750185441, 0.18350135082338448, -0.5914853780307834, -0.9537198471375213, 0.5703344039692307, 1.429865002978377, 0.5519913738620827, 0.993412636271246, 0.034469811988359855, -0.7472496880871153, 1.4996124512981646, -0.4946386379145436, 1.0399840670841098, 0.12271290218834982, 0.03910713883627607, 1.5392891439270928, -0.5321486686255733, -0.7709776809477752, 0.4228444336143023, 0.4702867223000906, 0.4682790545334142, -0.318220551982597, -0.638691919721894, 0.1338412858354175, -0.8153205614533109, 0.3567584183573207, 0.1176061105063393, 0.4441722883986997, 1.000172564994546, 1.2737790335626429, -1.0390421978667987, -1.2390043917953708, 0.4672069481240647, 1.7014753136623637, -0.5279990223802564, -0.39162490382241943, -0.23550259779516858, 0.2913840379119788, -0.23528362452735238, 0.41712929386903885, -0.8393462438785326, 0.45414655173794455, 0.3295495327747455, -0.4178229756531817, -0.7185662761449305, 0.2547080145281705, -0.7800799954343723, 1.6208908197100877, -0.12472366532659815, 1.3768125427026123, 0.025633067041241596, 1.2014509834321612, 0.5597559903640666, 0.20773867581652714, -0.6946381185103704, 0.3079191077548796, -0.3308755186198372, -0.14041599548525413, -1.8625381720460532, 0.9997300943289195, 0.7919825195272278, -0.554200154872438, 0.30411179171190633, -0.2637799068113172, -1.105590430637276, -0.29296374986869805, 0.7171759251788568, 1.0201142495169346, -0.7232117317655378, 1.2180757428969105, -0.4587277173521224, 0.7357053360469868], \"yaxis\": \"y14\"}, {\"line\": {\"color\": \"rgba(128, 128, 128, 1.0)\", \"dash\": \"solid\", \"shape\": \"linear\", \"width\": 1.3}, \"marker\": {\"size\": 2, \"symbol\": \"circle\"}, \"mode\": \"markers\", \"name\": \"D\", \"text\": \"\", \"type\": \"scatter\", \"x\": [0.28441655846283115, 1.6861245389387827, 0.5649320226659227, -0.006992281741640265, 0.6950104350820111, -2.782161294185466, -1.3929262166412348, 1.1466427563740487, -0.1262468085370894, 0.027610312707100796, 2.0993419772076924, 0.5464592496207633, -0.9650485066377515, 0.350095797866304, 0.4464205586893242, 0.32543348059825544, 0.24250264612773229, 0.8134327473763154, -1.9221574660590977, -0.8515636634477415, -0.8859644188452906, 1.5164945643863925, 1.3057008239245025, -0.5341448824517766, 1.2114568933445147, 1.4805686765043942, -0.9903060622368212, -0.7111921334234341, -0.7705832241561541, 0.1807635333209304, 1.3867801276386518, 1.2096172921326662, 0.41417152434287813, -0.0754038199458381, -1.3353939930941396, 0.7450243963561473, 0.364376944348029, -0.46849590462886515, 0.13246878845688012, 0.9382466543882401, 0.9631623571438938, 0.8678278660229487, -0.5112000717690514, -0.10330510133411867, -0.34431945483637544, 0.4260507406404684, 1.0057291196151519, 1.0365172878615823, -0.8291370209200336, 0.4377030649632805, 0.7017745010682606, -0.7673762052874429, -1.5952663531267484, -0.6793902349244565, 0.9382454148586494, -1.0031684970768282, -0.12622705458301473, -0.1028625649307537, 0.45233888419194995, -0.008531419431794739, -1.2938012749019887, -0.37763963492557423, -0.5552276038742345, -0.43686967873256866, 2.5023643713562427, 0.6273843535101066, -0.6921376835637734, 0.7657233099148385, -0.5140437049580203, -0.14935928451238165, -1.4178162750954013, -0.911541945468432, -2.2484151726652053, -0.3272244929529284, -0.06031464011966538, -1.2198525633118895, -0.9665382189960053, -0.8030204857611252, 0.09008886334577865, -1.5179371449807757, -0.7898385578973032, -0.0758686468454915, -0.49709787644938114, -0.7393226842199646, 1.1175234017610933, 0.25092684424139433, -0.4132636485268327, 0.16020492569879421, -0.626302528337445, 0.23902815107320322, 0.5733871642928374, -1.3476994945261318, 0.017341930072027993, 0.32956392990260047, 1.7254936465727004, 0.0815643997667831, 0.5266073855612576, 0.40311575029138064, 1.6872933351292154, -0.0014924123917553528], \"xaxis\": \"x15\", \"y\": [-0.6948506396980108, -0.6666428538904786, 0.10977248148330632, -0.34507063852421277, 0.5644738826580985, 0.23698645675986882, -0.27566335461447067, 0.9984136711746818, -0.35453953436057145, -0.7590677342876666, 1.0954715281036402, 0.4432431120527865, -1.2507109626191366, 0.9712441680171693, 0.013203357152381795, 0.18807930342327556, -2.4244030669480163, 0.19642096604822498, 0.4644164832119015, 1.2589962842989606, -0.47824746769953363, 0.4744862784598353, 1.3118766204574364, -0.8680136931356329, -0.10129756529911702, 0.4689138437974007, -1.5339069602700537, -0.10846820881083391, 0.6908985750185441, 0.18350135082338448, -0.5914853780307834, -0.9537198471375213, 0.5703344039692307, 1.429865002978377, 0.5519913738620827, 0.993412636271246, 0.034469811988359855, -0.7472496880871153, 1.4996124512981646, -0.4946386379145436, 1.0399840670841098, 0.12271290218834982, 0.03910713883627607, 1.5392891439270928, -0.5321486686255733, -0.7709776809477752, 0.4228444336143023, 0.4702867223000906, 0.4682790545334142, -0.318220551982597, -0.638691919721894, 0.1338412858354175, -0.8153205614533109, 0.3567584183573207, 0.1176061105063393, 0.4441722883986997, 1.000172564994546, 1.2737790335626429, -1.0390421978667987, -1.2390043917953708, 0.4672069481240647, 1.7014753136623637, -0.5279990223802564, -0.39162490382241943, -0.23550259779516858, 0.2913840379119788, -0.23528362452735238, 0.41712929386903885, -0.8393462438785326, 0.45414655173794455, 0.3295495327747455, -0.4178229756531817, -0.7185662761449305, 0.2547080145281705, -0.7800799954343723, 1.6208908197100877, -0.12472366532659815, 1.3768125427026123, 0.025633067041241596, 1.2014509834321612, 0.5597559903640666, 0.20773867581652714, -0.6946381185103704, 0.3079191077548796, -0.3308755186198372, -0.14041599548525413, -1.8625381720460532, 0.9997300943289195, 0.7919825195272278, -0.554200154872438, 0.30411179171190633, -0.2637799068113172, -1.105590430637276, -0.29296374986869805, 0.7171759251788568, 1.0201142495169346, -0.7232117317655378, 1.2180757428969105, -0.4587277173521224, 0.7357053360469868], \"yaxis\": \"y15\"}, {\"histfunc\": \"count\", \"histnorm\": \"\", \"marker\": {\"color\": \"rgba(128, 0, 128, 1.0)\", \"line\": {\"color\": \"#4D5663\", \"width\": 1.3}}, \"name\": \"D\", \"nbinsx\": 10, \"opacity\": 0.8, \"orientation\": \"v\", \"type\": \"histogram\", \"x\": [-0.6948506396980108, -0.6666428538904786, 0.10977248148330632, -0.34507063852421277, 0.5644738826580985, 0.23698645675986882, -0.27566335461447067, 0.9984136711746818, -0.35453953436057145, -0.7590677342876666, 1.0954715281036402, 0.4432431120527865, -1.2507109626191366, 0.9712441680171693, 0.013203357152381795, 0.18807930342327556, -2.4244030669480163, 0.19642096604822498, 0.4644164832119015, 1.2589962842989606, -0.47824746769953363, 0.4744862784598353, 1.3118766204574364, -0.8680136931356329, -0.10129756529911702, 0.4689138437974007, -1.5339069602700537, -0.10846820881083391, 0.6908985750185441, 0.18350135082338448, -0.5914853780307834, -0.9537198471375213, 0.5703344039692307, 1.429865002978377, 0.5519913738620827, 0.993412636271246, 0.034469811988359855, -0.7472496880871153, 1.4996124512981646, -0.4946386379145436, 1.0399840670841098, 0.12271290218834982, 0.03910713883627607, 1.5392891439270928, -0.5321486686255733, -0.7709776809477752, 0.4228444336143023, 0.4702867223000906, 0.4682790545334142, -0.318220551982597, -0.638691919721894, 0.1338412858354175, -0.8153205614533109, 0.3567584183573207, 0.1176061105063393, 0.4441722883986997, 1.000172564994546, 1.2737790335626429, -1.0390421978667987, -1.2390043917953708, 0.4672069481240647, 1.7014753136623637, -0.5279990223802564, -0.39162490382241943, -0.23550259779516858, 0.2913840379119788, -0.23528362452735238, 0.41712929386903885, -0.8393462438785326, 0.45414655173794455, 0.3295495327747455, -0.4178229756531817, -0.7185662761449305, 0.2547080145281705, -0.7800799954343723, 1.6208908197100877, -0.12472366532659815, 1.3768125427026123, 0.025633067041241596, 1.2014509834321612, 0.5597559903640666, 0.20773867581652714, -0.6946381185103704, 0.3079191077548796, -0.3308755186198372, -0.14041599548525413, -1.8625381720460532, 0.9997300943289195, 0.7919825195272278, -0.554200154872438, 0.30411179171190633, -0.2637799068113172, -1.105590430637276, -0.29296374986869805, 0.7171759251788568, 1.0201142495169346, -0.7232117317655378, 1.2180757428969105, -0.4587277173521224, 0.7357053360469868], \"xaxis\": \"x16\", \"yaxis\": \"y16\"}],\n",
       "                        {\"bargap\": 0.02, \"legend\": {\"bgcolor\": \"#F5F6F9\", \"font\": {\"color\": \"#4D5663\"}}, \"paper_bgcolor\": \"#F5F6F9\", \"plot_bgcolor\": \"#F5F6F9\", \"showlegend\": false, \"template\": {\"data\": {\"bar\": [{\"error_x\": {\"color\": \"#2a3f5f\"}, \"error_y\": {\"color\": \"#2a3f5f\"}, \"marker\": {\"line\": {\"color\": \"#E5ECF6\", \"width\": 0.5}}, \"type\": \"bar\"}], \"barpolar\": [{\"marker\": {\"line\": {\"color\": \"#E5ECF6\", \"width\": 0.5}}, \"type\": \"barpolar\"}], \"carpet\": [{\"aaxis\": {\"endlinecolor\": \"#2a3f5f\", \"gridcolor\": \"white\", \"linecolor\": \"white\", \"minorgridcolor\": \"white\", \"startlinecolor\": \"#2a3f5f\"}, \"baxis\": {\"endlinecolor\": \"#2a3f5f\", \"gridcolor\": \"white\", \"linecolor\": \"white\", \"minorgridcolor\": \"white\", \"startlinecolor\": \"#2a3f5f\"}, \"type\": \"carpet\"}], \"choropleth\": [{\"colorbar\": {\"outlinewidth\": 0, \"ticks\": \"\"}, \"type\": \"choropleth\"}], \"contour\": [{\"colorbar\": {\"outlinewidth\": 0, \"ticks\": \"\"}, \"colorscale\": [[0.0, \"#0d0887\"], [0.1111111111111111, \"#46039f\"], [0.2222222222222222, \"#7201a8\"], [0.3333333333333333, \"#9c179e\"], [0.4444444444444444, \"#bd3786\"], [0.5555555555555556, \"#d8576b\"], [0.6666666666666666, \"#ed7953\"], [0.7777777777777778, \"#fb9f3a\"], [0.8888888888888888, \"#fdca26\"], [1.0, \"#f0f921\"]], \"type\": \"contour\"}], \"contourcarpet\": [{\"colorbar\": {\"outlinewidth\": 0, \"ticks\": \"\"}, \"type\": \"contourcarpet\"}], \"heatmap\": [{\"colorbar\": {\"outlinewidth\": 0, \"ticks\": \"\"}, \"colorscale\": [[0.0, \"#0d0887\"], [0.1111111111111111, \"#46039f\"], [0.2222222222222222, \"#7201a8\"], [0.3333333333333333, \"#9c179e\"], [0.4444444444444444, \"#bd3786\"], [0.5555555555555556, \"#d8576b\"], [0.6666666666666666, \"#ed7953\"], [0.7777777777777778, \"#fb9f3a\"], [0.8888888888888888, \"#fdca26\"], [1.0, \"#f0f921\"]], \"type\": \"heatmap\"}], \"heatmapgl\": [{\"colorbar\": {\"outlinewidth\": 0, \"ticks\": \"\"}, \"colorscale\": [[0.0, \"#0d0887\"], [0.1111111111111111, \"#46039f\"], [0.2222222222222222, \"#7201a8\"], [0.3333333333333333, \"#9c179e\"], [0.4444444444444444, \"#bd3786\"], [0.5555555555555556, \"#d8576b\"], [0.6666666666666666, \"#ed7953\"], [0.7777777777777778, \"#fb9f3a\"], [0.8888888888888888, \"#fdca26\"], [1.0, \"#f0f921\"]], \"type\": \"heatmapgl\"}], \"histogram\": [{\"marker\": {\"colorbar\": {\"outlinewidth\": 0, \"ticks\": \"\"}}, \"type\": \"histogram\"}], \"histogram2d\": [{\"colorbar\": {\"outlinewidth\": 0, \"ticks\": \"\"}, \"colorscale\": [[0.0, \"#0d0887\"], [0.1111111111111111, \"#46039f\"], [0.2222222222222222, \"#7201a8\"], [0.3333333333333333, \"#9c179e\"], [0.4444444444444444, \"#bd3786\"], [0.5555555555555556, \"#d8576b\"], [0.6666666666666666, \"#ed7953\"], [0.7777777777777778, \"#fb9f3a\"], [0.8888888888888888, \"#fdca26\"], [1.0, \"#f0f921\"]], \"type\": \"histogram2d\"}], \"histogram2dcontour\": [{\"colorbar\": {\"outlinewidth\": 0, \"ticks\": \"\"}, \"colorscale\": [[0.0, \"#0d0887\"], [0.1111111111111111, \"#46039f\"], [0.2222222222222222, \"#7201a8\"], [0.3333333333333333, \"#9c179e\"], [0.4444444444444444, \"#bd3786\"], [0.5555555555555556, \"#d8576b\"], [0.6666666666666666, \"#ed7953\"], [0.7777777777777778, \"#fb9f3a\"], [0.8888888888888888, \"#fdca26\"], [1.0, \"#f0f921\"]], \"type\": \"histogram2dcontour\"}], \"mesh3d\": [{\"colorbar\": {\"outlinewidth\": 0, \"ticks\": \"\"}, \"type\": \"mesh3d\"}], \"parcoords\": [{\"line\": {\"colorbar\": {\"outlinewidth\": 0, \"ticks\": \"\"}}, \"type\": \"parcoords\"}], \"pie\": [{\"automargin\": true, \"type\": \"pie\"}], \"scatter\": [{\"marker\": {\"colorbar\": {\"outlinewidth\": 0, \"ticks\": \"\"}}, \"type\": \"scatter\"}], \"scatter3d\": [{\"line\": {\"colorbar\": {\"outlinewidth\": 0, \"ticks\": \"\"}}, \"marker\": {\"colorbar\": {\"outlinewidth\": 0, \"ticks\": \"\"}}, \"type\": \"scatter3d\"}], \"scattercarpet\": [{\"marker\": {\"colorbar\": {\"outlinewidth\": 0, \"ticks\": \"\"}}, \"type\": \"scattercarpet\"}], \"scattergeo\": [{\"marker\": {\"colorbar\": {\"outlinewidth\": 0, \"ticks\": \"\"}}, \"type\": \"scattergeo\"}], \"scattergl\": [{\"marker\": {\"colorbar\": {\"outlinewidth\": 0, \"ticks\": \"\"}}, \"type\": \"scattergl\"}], \"scattermapbox\": [{\"marker\": {\"colorbar\": {\"outlinewidth\": 0, \"ticks\": \"\"}}, \"type\": \"scattermapbox\"}], \"scatterpolar\": [{\"marker\": {\"colorbar\": {\"outlinewidth\": 0, \"ticks\": \"\"}}, \"type\": \"scatterpolar\"}], \"scatterpolargl\": [{\"marker\": {\"colorbar\": {\"outlinewidth\": 0, \"ticks\": \"\"}}, \"type\": \"scatterpolargl\"}], \"scatterternary\": [{\"marker\": {\"colorbar\": {\"outlinewidth\": 0, \"ticks\": \"\"}}, \"type\": \"scatterternary\"}], \"surface\": [{\"colorbar\": {\"outlinewidth\": 0, \"ticks\": \"\"}, \"colorscale\": [[0.0, \"#0d0887\"], [0.1111111111111111, \"#46039f\"], [0.2222222222222222, \"#7201a8\"], [0.3333333333333333, \"#9c179e\"], [0.4444444444444444, \"#bd3786\"], [0.5555555555555556, \"#d8576b\"], [0.6666666666666666, \"#ed7953\"], [0.7777777777777778, \"#fb9f3a\"], [0.8888888888888888, \"#fdca26\"], [1.0, \"#f0f921\"]], \"type\": \"surface\"}], \"table\": [{\"cells\": {\"fill\": {\"color\": \"#EBF0F8\"}, \"line\": {\"color\": \"white\"}}, \"header\": {\"fill\": {\"color\": \"#C8D4E3\"}, \"line\": {\"color\": \"white\"}}, \"type\": \"table\"}]}, \"layout\": {\"annotationdefaults\": {\"arrowcolor\": \"#2a3f5f\", \"arrowhead\": 0, \"arrowwidth\": 1}, \"coloraxis\": {\"colorbar\": {\"outlinewidth\": 0, \"ticks\": \"\"}}, \"colorscale\": {\"diverging\": [[0, \"#8e0152\"], [0.1, \"#c51b7d\"], [0.2, \"#de77ae\"], [0.3, \"#f1b6da\"], [0.4, \"#fde0ef\"], [0.5, \"#f7f7f7\"], [0.6, \"#e6f5d0\"], [0.7, \"#b8e186\"], [0.8, \"#7fbc41\"], [0.9, \"#4d9221\"], [1, \"#276419\"]], \"sequential\": [[0.0, \"#0d0887\"], [0.1111111111111111, \"#46039f\"], [0.2222222222222222, \"#7201a8\"], [0.3333333333333333, \"#9c179e\"], [0.4444444444444444, \"#bd3786\"], [0.5555555555555556, \"#d8576b\"], [0.6666666666666666, \"#ed7953\"], [0.7777777777777778, \"#fb9f3a\"], [0.8888888888888888, \"#fdca26\"], [1.0, \"#f0f921\"]], \"sequentialminus\": [[0.0, \"#0d0887\"], [0.1111111111111111, \"#46039f\"], [0.2222222222222222, \"#7201a8\"], [0.3333333333333333, \"#9c179e\"], [0.4444444444444444, \"#bd3786\"], [0.5555555555555556, \"#d8576b\"], [0.6666666666666666, \"#ed7953\"], [0.7777777777777778, \"#fb9f3a\"], [0.8888888888888888, \"#fdca26\"], [1.0, \"#f0f921\"]]}, \"colorway\": [\"#636efa\", \"#EF553B\", \"#00cc96\", \"#ab63fa\", \"#FFA15A\", \"#19d3f3\", \"#FF6692\", \"#B6E880\", \"#FF97FF\", \"#FECB52\"], \"font\": {\"color\": \"#2a3f5f\"}, \"geo\": {\"bgcolor\": \"white\", \"lakecolor\": \"white\", \"landcolor\": \"#E5ECF6\", \"showlakes\": true, \"showland\": true, \"subunitcolor\": \"white\"}, \"hoverlabel\": {\"align\": \"left\"}, \"hovermode\": \"closest\", \"mapbox\": {\"style\": \"light\"}, \"paper_bgcolor\": \"white\", \"plot_bgcolor\": \"#E5ECF6\", \"polar\": {\"angularaxis\": {\"gridcolor\": \"white\", \"linecolor\": \"white\", \"ticks\": \"\"}, \"bgcolor\": \"#E5ECF6\", \"radialaxis\": {\"gridcolor\": \"white\", \"linecolor\": \"white\", \"ticks\": \"\"}}, \"scene\": {\"xaxis\": {\"backgroundcolor\": \"#E5ECF6\", \"gridcolor\": \"white\", \"gridwidth\": 2, \"linecolor\": \"white\", \"showbackground\": true, \"ticks\": \"\", \"zerolinecolor\": \"white\"}, \"yaxis\": {\"backgroundcolor\": \"#E5ECF6\", \"gridcolor\": \"white\", \"gridwidth\": 2, \"linecolor\": \"white\", \"showbackground\": true, \"ticks\": \"\", \"zerolinecolor\": \"white\"}, \"zaxis\": {\"backgroundcolor\": \"#E5ECF6\", \"gridcolor\": \"white\", \"gridwidth\": 2, \"linecolor\": \"white\", \"showbackground\": true, \"ticks\": \"\", \"zerolinecolor\": \"white\"}}, \"shapedefaults\": {\"line\": {\"color\": \"#2a3f5f\"}}, \"ternary\": {\"aaxis\": {\"gridcolor\": \"white\", \"linecolor\": \"white\", \"ticks\": \"\"}, \"baxis\": {\"gridcolor\": \"white\", \"linecolor\": \"white\", \"ticks\": \"\"}, \"bgcolor\": \"#E5ECF6\", \"caxis\": {\"gridcolor\": \"white\", \"linecolor\": \"white\", \"ticks\": \"\"}}, \"title\": {\"x\": 0.05}, \"xaxis\": {\"automargin\": true, \"gridcolor\": \"white\", \"linecolor\": \"white\", \"ticks\": \"\", \"title\": {\"standoff\": 15}, \"zerolinecolor\": \"white\", \"zerolinewidth\": 2}, \"yaxis\": {\"automargin\": true, \"gridcolor\": \"white\", \"linecolor\": \"white\", \"ticks\": \"\", \"title\": {\"standoff\": 15}, \"zerolinecolor\": \"white\", \"zerolinewidth\": 2}}}, \"title\": {\"font\": {\"color\": \"#4D5663\"}}, \"xaxis\": {\"anchor\": \"y\", \"domain\": [0.0, 0.2125], \"gridcolor\": \"#E1E5ED\", \"showgrid\": false, \"tickfont\": {\"color\": \"#4D5663\"}, \"title\": {\"font\": {\"color\": \"#4D5663\"}, \"text\": \"\"}, \"zerolinecolor\": \"#E1E5ED\"}, \"xaxis10\": {\"anchor\": \"y10\", \"domain\": [0.2625, 0.475], \"gridcolor\": \"#E1E5ED\", \"showgrid\": false, \"tickfont\": {\"color\": \"#4D5663\"}, \"title\": {\"font\": {\"color\": \"#4D5663\"}, \"text\": \"\"}, \"zerolinecolor\": \"#E1E5ED\"}, \"xaxis11\": {\"anchor\": \"y11\", \"domain\": [0.525, 0.7375], \"gridcolor\": \"#E1E5ED\", \"showgrid\": false, \"tickfont\": {\"color\": \"#4D5663\"}, \"title\": {\"font\": {\"color\": \"#4D5663\"}, \"text\": \"\"}, \"zerolinecolor\": \"#E1E5ED\"}, \"xaxis12\": {\"anchor\": \"y12\", \"domain\": [0.7875, 1.0], \"gridcolor\": \"#E1E5ED\", \"showgrid\": false, \"tickfont\": {\"color\": \"#4D5663\"}, \"title\": {\"font\": {\"color\": \"#4D5663\"}, \"text\": \"\"}, \"zerolinecolor\": \"#E1E5ED\"}, \"xaxis13\": {\"anchor\": \"y13\", \"domain\": [0.0, 0.2125], \"gridcolor\": \"#E1E5ED\", \"showgrid\": false, \"tickfont\": {\"color\": \"#4D5663\"}, \"title\": {\"font\": {\"color\": \"#4D5663\"}, \"text\": \"\"}, \"zerolinecolor\": \"#E1E5ED\"}, \"xaxis14\": {\"anchor\": \"y14\", \"domain\": [0.2625, 0.475], \"gridcolor\": \"#E1E5ED\", \"showgrid\": false, \"tickfont\": {\"color\": \"#4D5663\"}, \"title\": {\"font\": {\"color\": \"#4D5663\"}, \"text\": \"\"}, \"zerolinecolor\": \"#E1E5ED\"}, \"xaxis15\": {\"anchor\": \"y15\", \"domain\": [0.525, 0.7375], \"gridcolor\": \"#E1E5ED\", \"showgrid\": false, \"tickfont\": {\"color\": \"#4D5663\"}, \"title\": {\"font\": {\"color\": \"#4D5663\"}, \"text\": \"\"}, \"zerolinecolor\": \"#E1E5ED\"}, \"xaxis16\": {\"anchor\": \"y16\", \"domain\": [0.7875, 1.0], \"gridcolor\": \"#E1E5ED\", \"showgrid\": false, \"tickfont\": {\"color\": \"#4D5663\"}, \"title\": {\"font\": {\"color\": \"#4D5663\"}, \"text\": \"\"}, \"zerolinecolor\": \"#E1E5ED\"}, \"xaxis2\": {\"anchor\": \"y2\", \"domain\": [0.2625, 0.475], \"gridcolor\": \"#E1E5ED\", \"showgrid\": false, \"tickfont\": {\"color\": \"#4D5663\"}, \"title\": {\"font\": {\"color\": \"#4D5663\"}, \"text\": \"\"}, \"zerolinecolor\": \"#E1E5ED\"}, \"xaxis3\": {\"anchor\": \"y3\", \"domain\": [0.525, 0.7375], \"gridcolor\": \"#E1E5ED\", \"showgrid\": false, \"tickfont\": {\"color\": \"#4D5663\"}, \"title\": {\"font\": {\"color\": \"#4D5663\"}, \"text\": \"\"}, \"zerolinecolor\": \"#E1E5ED\"}, \"xaxis4\": {\"anchor\": \"y4\", \"domain\": [0.7875, 1.0], \"gridcolor\": \"#E1E5ED\", \"showgrid\": false, \"tickfont\": {\"color\": \"#4D5663\"}, \"title\": {\"font\": {\"color\": \"#4D5663\"}, \"text\": \"\"}, \"zerolinecolor\": \"#E1E5ED\"}, \"xaxis5\": {\"anchor\": \"y5\", \"domain\": [0.0, 0.2125], \"gridcolor\": \"#E1E5ED\", \"showgrid\": false, \"tickfont\": {\"color\": \"#4D5663\"}, \"title\": {\"font\": {\"color\": \"#4D5663\"}, \"text\": \"\"}, \"zerolinecolor\": \"#E1E5ED\"}, \"xaxis6\": {\"anchor\": \"y6\", \"domain\": [0.2625, 0.475], \"gridcolor\": \"#E1E5ED\", \"showgrid\": false, \"tickfont\": {\"color\": \"#4D5663\"}, \"title\": {\"font\": {\"color\": \"#4D5663\"}, \"text\": \"\"}, \"zerolinecolor\": \"#E1E5ED\"}, \"xaxis7\": {\"anchor\": \"y7\", \"domain\": [0.525, 0.7375], \"gridcolor\": \"#E1E5ED\", \"showgrid\": false, \"tickfont\": {\"color\": \"#4D5663\"}, \"title\": {\"font\": {\"color\": \"#4D5663\"}, \"text\": \"\"}, \"zerolinecolor\": \"#E1E5ED\"}, \"xaxis8\": {\"anchor\": \"y8\", \"domain\": [0.7875, 1.0], \"gridcolor\": \"#E1E5ED\", \"showgrid\": false, \"tickfont\": {\"color\": \"#4D5663\"}, \"title\": {\"font\": {\"color\": \"#4D5663\"}, \"text\": \"\"}, \"zerolinecolor\": \"#E1E5ED\"}, \"xaxis9\": {\"anchor\": \"y9\", \"domain\": [0.0, 0.2125], \"gridcolor\": \"#E1E5ED\", \"showgrid\": false, \"tickfont\": {\"color\": \"#4D5663\"}, \"title\": {\"font\": {\"color\": \"#4D5663\"}, \"text\": \"\"}, \"zerolinecolor\": \"#E1E5ED\"}, \"yaxis\": {\"anchor\": \"x\", \"domain\": [0.8025, 1.0], \"gridcolor\": \"#E1E5ED\", \"showgrid\": false, \"tickfont\": {\"color\": \"#4D5663\"}, \"title\": {\"font\": {\"color\": \"#4D5663\"}, \"text\": \"\"}, \"zerolinecolor\": \"#E1E5ED\"}, \"yaxis10\": {\"anchor\": \"x10\", \"domain\": [0.2675, 0.465], \"gridcolor\": \"#E1E5ED\", \"showgrid\": false, \"tickfont\": {\"color\": \"#4D5663\"}, \"title\": {\"font\": {\"color\": \"#4D5663\"}, \"text\": \"\"}, \"zerolinecolor\": \"#E1E5ED\"}, \"yaxis11\": {\"anchor\": \"x11\", \"domain\": [0.2675, 0.465], \"gridcolor\": \"#E1E5ED\", \"showgrid\": false, \"tickfont\": {\"color\": \"#4D5663\"}, \"title\": {\"font\": {\"color\": \"#4D5663\"}, \"text\": \"\"}, \"zerolinecolor\": \"#E1E5ED\"}, \"yaxis12\": {\"anchor\": \"x12\", \"domain\": [0.2675, 0.465], \"gridcolor\": \"#E1E5ED\", \"showgrid\": false, \"tickfont\": {\"color\": \"#4D5663\"}, \"title\": {\"font\": {\"color\": \"#4D5663\"}, \"text\": \"\"}, \"zerolinecolor\": \"#E1E5ED\"}, \"yaxis13\": {\"anchor\": \"x13\", \"domain\": [0.0, 0.1975], \"gridcolor\": \"#E1E5ED\", \"showgrid\": false, \"tickfont\": {\"color\": \"#4D5663\"}, \"title\": {\"font\": {\"color\": \"#4D5663\"}, \"text\": \"\"}, \"zerolinecolor\": \"#E1E5ED\"}, \"yaxis14\": {\"anchor\": \"x14\", \"domain\": [0.0, 0.1975], \"gridcolor\": \"#E1E5ED\", \"showgrid\": false, \"tickfont\": {\"color\": \"#4D5663\"}, \"title\": {\"font\": {\"color\": \"#4D5663\"}, \"text\": \"\"}, \"zerolinecolor\": \"#E1E5ED\"}, \"yaxis15\": {\"anchor\": \"x15\", \"domain\": [0.0, 0.1975], \"gridcolor\": \"#E1E5ED\", \"showgrid\": false, \"tickfont\": {\"color\": \"#4D5663\"}, \"title\": {\"font\": {\"color\": \"#4D5663\"}, \"text\": \"\"}, \"zerolinecolor\": \"#E1E5ED\"}, \"yaxis16\": {\"anchor\": \"x16\", \"domain\": [0.0, 0.1975], \"gridcolor\": \"#E1E5ED\", \"showgrid\": false, \"tickfont\": {\"color\": \"#4D5663\"}, \"title\": {\"font\": {\"color\": \"#4D5663\"}, \"text\": \"\"}, \"zerolinecolor\": \"#E1E5ED\"}, \"yaxis2\": {\"anchor\": \"x2\", \"domain\": [0.8025, 1.0], \"gridcolor\": \"#E1E5ED\", \"showgrid\": false, \"tickfont\": {\"color\": \"#4D5663\"}, \"title\": {\"font\": {\"color\": \"#4D5663\"}, \"text\": \"\"}, \"zerolinecolor\": \"#E1E5ED\"}, \"yaxis3\": {\"anchor\": \"x3\", \"domain\": [0.8025, 1.0], \"gridcolor\": \"#E1E5ED\", \"showgrid\": false, \"tickfont\": {\"color\": \"#4D5663\"}, \"title\": {\"font\": {\"color\": \"#4D5663\"}, \"text\": \"\"}, \"zerolinecolor\": \"#E1E5ED\"}, \"yaxis4\": {\"anchor\": \"x4\", \"domain\": [0.8025, 1.0], \"gridcolor\": \"#E1E5ED\", \"showgrid\": false, \"tickfont\": {\"color\": \"#4D5663\"}, \"title\": {\"font\": {\"color\": \"#4D5663\"}, \"text\": \"\"}, \"zerolinecolor\": \"#E1E5ED\"}, \"yaxis5\": {\"anchor\": \"x5\", \"domain\": [0.535, 0.7325], \"gridcolor\": \"#E1E5ED\", \"showgrid\": false, \"tickfont\": {\"color\": \"#4D5663\"}, \"title\": {\"font\": {\"color\": \"#4D5663\"}, \"text\": \"\"}, \"zerolinecolor\": \"#E1E5ED\"}, \"yaxis6\": {\"anchor\": \"x6\", \"domain\": [0.535, 0.7325], \"gridcolor\": \"#E1E5ED\", \"showgrid\": false, \"tickfont\": {\"color\": \"#4D5663\"}, \"title\": {\"font\": {\"color\": \"#4D5663\"}, \"text\": \"\"}, \"zerolinecolor\": \"#E1E5ED\"}, \"yaxis7\": {\"anchor\": \"x7\", \"domain\": [0.535, 0.7325], \"gridcolor\": \"#E1E5ED\", \"showgrid\": false, \"tickfont\": {\"color\": \"#4D5663\"}, \"title\": {\"font\": {\"color\": \"#4D5663\"}, \"text\": \"\"}, \"zerolinecolor\": \"#E1E5ED\"}, \"yaxis8\": {\"anchor\": \"x8\", \"domain\": [0.535, 0.7325], \"gridcolor\": \"#E1E5ED\", \"showgrid\": false, \"tickfont\": {\"color\": \"#4D5663\"}, \"title\": {\"font\": {\"color\": \"#4D5663\"}, \"text\": \"\"}, \"zerolinecolor\": \"#E1E5ED\"}, \"yaxis9\": {\"anchor\": \"x9\", \"domain\": [0.2675, 0.465], \"gridcolor\": \"#E1E5ED\", \"showgrid\": false, \"tickfont\": {\"color\": \"#4D5663\"}, \"title\": {\"font\": {\"color\": \"#4D5663\"}, \"text\": \"\"}, \"zerolinecolor\": \"#E1E5ED\"}},\n",
       "                        {\"showLink\": true, \"linkText\": \"Export to plot.ly\", \"plotlyServerURL\": \"https://plot.ly\", \"responsive\": true}\n",
       "                    ).then(function(){\n",
       "                            \n",
       "var gd = document.getElementById('63b681eb-b665-4632-8e50-016e6580c04c');\n",
       "var x = new MutationObserver(function (mutations, observer) {{\n",
       "        var display = window.getComputedStyle(gd).display;\n",
       "        if (!display || display === 'none') {{\n",
       "            console.log([gd, 'removed!']);\n",
       "            Plotly.purge(gd);\n",
       "            observer.disconnect();\n",
       "        }}\n",
       "}});\n",
       "\n",
       "// Listen for the removal of the full notebook cells\n",
       "var notebookContainer = gd.closest('#notebook-container');\n",
       "if (notebookContainer) {{\n",
       "    x.observe(notebookContainer, {childList: true});\n",
       "}}\n",
       "\n",
       "// Listen for the clearing of the current output cell\n",
       "var outputEl = gd.closest('.output');\n",
       "if (outputEl) {{\n",
       "    x.observe(outputEl, {childList: true});\n",
       "}}\n",
       "\n",
       "                        })\n",
       "                };\n",
       "                });\n",
       "            </script>\n",
       "        </div>"
      ]
     },
     "metadata": {},
     "output_type": "display_data"
    }
   ],
   "source": [
    "df.scatter_matrix()"
   ]
  }
 ],
 "metadata": {
  "kernelspec": {
   "display_name": "Python 3",
   "language": "python",
   "name": "python3"
  },
  "language_info": {
   "codemirror_mode": {
    "name": "ipython",
    "version": 3
   },
   "file_extension": ".py",
   "mimetype": "text/x-python",
   "name": "python",
   "nbconvert_exporter": "python",
   "pygments_lexer": "ipython3",
   "version": "3.7.6"
  }
 },
 "nbformat": 4,
 "nbformat_minor": 1
}
